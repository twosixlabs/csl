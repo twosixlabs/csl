{
 "cells": [
  {
   "cell_type": "markdown",
   "metadata": {},
   "source": [
    "## RUNS LOCAL"
   ]
  },
  {
   "cell_type": "markdown",
   "metadata": {},
   "source": [
    "### Example 02. Synthetic Dataset Generators\n",
    "\n",
    "This example notebook is intended to serve as a guide for csl data synthesis module and its associated methods.\n",
    "\n",
    "**CSL Modules:**\n",
    "* `synthesizers`   <--   **_main focus_**\n",
    "\n",
    "\n",
    "\n",
    "---\n",
    "\n",
    "**This notebook:** \n",
    "\n",
    "Focuses on the `synthesizers` module and its convenience methods, which include:\n",
    "\n",
    "A. `train_and_synthesize`: train a model and use the checkpoint to synthesize train data\n",
    "\n",
    "B. `synthesize_using_pretrained`: load an existing (pre-trained) model and use it to synthesize validation data\n",
    "\n",
    "**Note:**\n",
    "The argument `tasks` (a list) can be set to process train and val sequentially (i.e., `tasks = [train, val]`) in `train_and_synthesize` to train a model and synthesize train and val datasets as a single call. The order must be preserved as val cannot be generated without a trained model.\n",
    "\n",
    "*The `synthesizers.py` module supports command line arguments*"
   ]
  },
  {
   "cell_type": "code",
   "execution_count": 3,
   "metadata": {},
   "outputs": [],
   "source": [
    "import torch\n",
    "import torchvision\n",
    "\n",
    "import sys\n",
    "sys.path.append(\"/home/carlos-torres/Documents/twosix/projects/clamped/csl/csl\")\n",
    "# sys.path.append(\"../csl/\")\n",
    "\n",
    "import os\n",
    "os.chdir(\"../\")\n",
    "\n",
    "# import csl.datasets as dset\n",
    "# import csl.utils.utils as cutils\n",
    "import csl.synthesizers as syn"
   ]
  },
  {
   "cell_type": "markdown",
   "metadata": {},
   "source": []
  },
  {
   "cell_type": "markdown",
   "metadata": {},
   "source": [
    "**VARIABLES**\n",
    "* `METHOD`: str, synthesis method (architecture). Currently supported methods: vae, cvae, dcgan\n",
    "* `DATASET_NAME`: str, name of the dataset\n",
    "* `MODELS_DIR`: os.pathlike, where \" _to save_ \" and \" _load from_ \" models\n",
    "* `DATA_DIR`: os.pathlike, where to \" _to save_ \" synthesized data\n",
    "* `TASK`: list, what to synthesize train, test (for some datasets), or val"
   ]
  },
  {
   "cell_type": "code",
   "execution_count": 2,
   "metadata": {},
   "outputs": [],
   "source": [
    "METHOD = \"vae\"\n",
    "DATASET_NAME = \"imagenette\"\n",
    "MODELS_DIR = \"/home/carlos-torres/Documents/twosix/models/csl/\"\n",
    "DATA_DIR = \"/home/carlos-torres/Documents/twosix/synthetic_datasets/\"\n",
    "TASK = [\"train\", \"val\"]  # successively mimics the train and validation sets"
   ]
  },
  {
   "cell_type": "markdown",
   "metadata": {},
   "source": [
    "### A. Train and synthesize\n",
    "\n",
    "Trains a new model based on the method and dataset name (i.e., input source) variables and uses the pretrained model to generate a synthetic version of the input source.\n",
    "\n",
    "\n",
    "**inputs:**\n",
    "* method: str, see METHOD\n",
    "* dataset_name: str, see DATASET_NAME\n",
    "* batch_size: int, size of the sample\n",
    "* num_workers: int, number of virtual cores to use to move data and execute non-gpu data operations\n",
    "* class_index: int (or str), \n",
    "    - int: index of the class to sample, train on, and synthesize\n",
    "    - str:= \"all\", means all classess\n",
    "* num_epochs: int, number of total passess to train over\n",
    "* image_dim: int, size of the input/outputs images (images are resized to square tiles)\n",
    "* task: list, see TASK\n",
    "* num_samples: int (or str),\n",
    "    - int: specific number of samples to synthesize (can be any positive number)\n",
    "    - str:= \"all\" looks at the source dataset for the number of sample (mimics the original input dataset label count distribution)\n",
    "* data_save_dir: os.pathlike, see DATA_DIR\n",
    "* model_save_dir: os.pathlike, see MODELS_DIR\n"
   ]
  },
  {
   "cell_type": "code",
   "execution_count": 3,
   "metadata": {},
   "outputs": [
    {
     "name": "stderr",
     "output_type": "stream",
     "text": [
      "2021-01-05 09:25:41 ubu0789 datasets[11614] INFO Processing 'cifar10' torch.vision built-in structure\n"
     ]
    },
    {
     "name": "stdout",
     "output_type": "stream",
     "text": [
      "Files already downloaded and verified\n",
      "Files already downloaded and verified\n"
     ]
    },
    {
     "name": "stderr",
     "output_type": "stream",
     "text": [
      "2021-01-05 09:25:42 ubu0789 datasets[11614] INFO Processing 'cifar10' torch.vision built-in structure\n"
     ]
    },
    {
     "name": "stdout",
     "output_type": "stream",
     "text": [
      "Files already downloaded and verified\n",
      "Files already downloaded and verified\n"
     ]
    },
    {
     "name": "stderr",
     "output_type": "stream",
     "text": [
      "2021-01-05 09:25:43 ubu0789 datasets[11614] INFO  > Extracting all (max) samples for 0 class(es).\n",
      "Train Batch 1: 100%|██████████| 313/313 [00:01<00:00, 189.55it/s]\n",
      "2021-01-05 09:25:47 ubu0789 data_generators.vae.vaes[11614] INFO ====> Epoch: 1 Average Train loss:  240.7128\n",
      "2021-01-05 09:25:48 ubu0789 data_generators.vae.vaes[11614] INFO ====> Test set loss:  227.6436\n",
      "\n",
      "Train Batch 2: 100%|██████████| 313/313 [00:01<00:00, 181.40it/s]\n",
      "2021-01-05 09:25:49 ubu0789 data_generators.vae.vaes[11614] INFO ====> Epoch: 2 Average Train loss:  216.4378\n",
      "2021-01-05 09:25:50 ubu0789 data_generators.vae.vaes[11614] INFO ====> Test set loss:  207.2922\n",
      "\n",
      "Train Batch 3:   0%|          | 0/313 [00:00<?, ?it/s]"
     ]
    },
    {
     "name": "stdout",
     "output_type": "stream",
     "text": [
      "\n",
      "\n",
      " ===> 2-epoch. Updating best (with 207.292), which is less than previous (227.644) best_loss\n"
     ]
    },
    {
     "name": "stderr",
     "output_type": "stream",
     "text": [
      "Train Batch 3: 100%|██████████| 313/313 [00:01<00:00, 188.92it/s]\n",
      "2021-01-05 09:25:51 ubu0789 data_generators.vae.vaes[11614] INFO ====> Epoch: 3 Average Train loss:  196.9162\n",
      "2021-01-05 09:25:52 ubu0789 data_generators.vae.vaes[11614] INFO ====> Test set loss:  188.9127\n",
      "\n",
      "2021-01-05 09:25:52 ubu0789 data_generators.vae.vaes[11614] INFO >>> Completed training and evaluation of 'VAE_ARCHITECTURE(\n",
      "  (fc1): Linear(in_features=784, out_features=512, bias=True)\n",
      "  (fc2): Linear(in_features=512, out_features=256, bias=True)\n",
      "  (fc31): Linear(in_features=256, out_features=784, bias=True)\n",
      "  (fc32): Linear(in_features=256, out_features=784, bias=True)\n",
      "  (fc4): Linear(in_features=784, out_features=256, bias=True)\n",
      "  (fc5): Linear(in_features=256, out_features=512, bias=True)\n",
      "  (fc6): Linear(in_features=512, out_features=784, bias=True)\n",
      ")'. Ready to generate samples.\n",
      "2021-01-05 09:25:52 ubu0789 utils[11614] INFO The directory '/home/carlos-torres/Documents/twosix/models/csl/cifar10_vae/train/0/' exists. Ready to use.\n",
      "2021-01-05 09:25:52 ubu0789 csl.synthesizers[11614] INFO Creating the 0-class data with 5000-samples\n",
      "2021-01-05 09:25:52 ubu0789 utils[11614] INFO The directory '/home/carlos-torres/Documents/twosix/synthetic_datasets/cifar10_vae/train/0/' exists. Ready to use.\n"
     ]
    },
    {
     "name": "stdout",
     "output_type": "stream",
     "text": [
      "\n",
      "\n",
      " ===> 3-epoch. Updating best (with 188.913), which is less than previous (207.292) best_loss\n"
     ]
    },
    {
     "name": "stderr",
     "output_type": "stream",
     "text": [
      "2021-01-05 09:25:53 ubu0789 datasets[11614] INFO Processing 'cifar10' torch.vision built-in structure\n"
     ]
    },
    {
     "name": "stdout",
     "output_type": "stream",
     "text": [
      "Files already downloaded and verified\n",
      "Files already downloaded and verified\n"
     ]
    },
    {
     "name": "stderr",
     "output_type": "stream",
     "text": [
      "2021-01-05 09:25:54 ubu0789 datasets[11614] INFO  > Extracting all (max) samples for 1 class(es).\n",
      "Train Batch 1: 100%|██████████| 313/313 [00:01<00:00, 180.72it/s]\n",
      "2021-01-05 09:25:57 ubu0789 data_generators.vae.vaes[11614] INFO ====> Epoch: 1 Average Train loss:  242.8859\n",
      "2021-01-05 09:25:57 ubu0789 data_generators.vae.vaes[11614] INFO ====> Test set loss:  225.8631\n",
      "\n",
      "Train Batch 2: 100%|██████████| 313/313 [00:01<00:00, 173.42it/s]\n",
      "2021-01-05 09:25:59 ubu0789 data_generators.vae.vaes[11614] INFO ====> Epoch: 2 Average Train loss:  211.8088\n",
      "2021-01-05 09:25:59 ubu0789 data_generators.vae.vaes[11614] INFO ====> Test set loss:  199.5734\n",
      "\n",
      "Train Batch 3:   0%|          | 0/313 [00:00<?, ?it/s]"
     ]
    },
    {
     "name": "stdout",
     "output_type": "stream",
     "text": [
      "\n",
      "\n",
      " ===> 2-epoch. Updating best (with 199.573), which is less than previous (225.863) best_loss\n"
     ]
    },
    {
     "name": "stderr",
     "output_type": "stream",
     "text": [
      "Train Batch 3: 100%|██████████| 313/313 [00:01<00:00, 182.25it/s]\n",
      "2021-01-05 09:26:01 ubu0789 data_generators.vae.vaes[11614] INFO ====> Epoch: 3 Average Train loss:  187.8707\n",
      "2021-01-05 09:26:01 ubu0789 data_generators.vae.vaes[11614] INFO ====> Test set loss:  177.1303\n",
      "\n",
      "2021-01-05 09:26:01 ubu0789 data_generators.vae.vaes[11614] INFO >>> Completed training and evaluation of 'VAE_ARCHITECTURE(\n",
      "  (fc1): Linear(in_features=784, out_features=512, bias=True)\n",
      "  (fc2): Linear(in_features=512, out_features=256, bias=True)\n",
      "  (fc31): Linear(in_features=256, out_features=784, bias=True)\n",
      "  (fc32): Linear(in_features=256, out_features=784, bias=True)\n",
      "  (fc4): Linear(in_features=784, out_features=256, bias=True)\n",
      "  (fc5): Linear(in_features=256, out_features=512, bias=True)\n",
      "  (fc6): Linear(in_features=512, out_features=784, bias=True)\n",
      ")'. Ready to generate samples.\n",
      "2021-01-05 09:26:01 ubu0789 utils[11614] INFO The directory '/home/carlos-torres/Documents/twosix/models/csl/cifar10_vae/train/1/' exists. Ready to use.\n",
      "2021-01-05 09:26:01 ubu0789 csl.synthesizers[11614] INFO Creating the 1-class data with 5000-samples\n",
      "2021-01-05 09:26:01 ubu0789 utils[11614] INFO The given directory '/home/carlos-torres/Documents/twosix/synthetic_datasets/cifar10_vae/train/1/' does not exist. Creating it!\n"
     ]
    },
    {
     "name": "stdout",
     "output_type": "stream",
     "text": [
      "\n",
      "\n",
      " ===> 3-epoch. Updating best (with 177.130), which is less than previous (199.573) best_loss\n"
     ]
    },
    {
     "name": "stderr",
     "output_type": "stream",
     "text": [
      "2021-01-05 09:26:03 ubu0789 datasets[11614] INFO Processing 'cifar10' torch.vision built-in structure\n"
     ]
    },
    {
     "name": "stdout",
     "output_type": "stream",
     "text": [
      "Files already downloaded and verified\n",
      "Files already downloaded and verified\n"
     ]
    },
    {
     "name": "stderr",
     "output_type": "stream",
     "text": [
      "2021-01-05 09:26:04 ubu0789 datasets[11614] INFO  > Extracting all (max) samples for 2 class(es).\n",
      "Train Batch 1: 100%|██████████| 313/313 [00:01<00:00, 186.45it/s]\n",
      "2021-01-05 09:26:06 ubu0789 data_generators.vae.vaes[11614] INFO ====> Epoch: 1 Average Train loss:  233.9216\n",
      "2021-01-05 09:26:06 ubu0789 data_generators.vae.vaes[11614] INFO ====> Test set loss:  217.8701\n",
      "\n",
      "Train Batch 2: 100%|██████████| 313/313 [00:01<00:00, 176.31it/s]\n",
      "2021-01-05 09:26:08 ubu0789 data_generators.vae.vaes[11614] INFO ====> Epoch: 2 Average Train loss:  204.7555\n",
      "2021-01-05 09:26:08 ubu0789 data_generators.vae.vaes[11614] INFO ====> Test set loss:  191.8951\n",
      "\n",
      "Train Batch 3:   0%|          | 0/313 [00:00<?, ?it/s]"
     ]
    },
    {
     "name": "stdout",
     "output_type": "stream",
     "text": [
      "\n",
      "\n",
      " ===> 2-epoch. Updating best (with 191.895), which is less than previous (217.870) best_loss\n"
     ]
    },
    {
     "name": "stderr",
     "output_type": "stream",
     "text": [
      "Train Batch 3: 100%|██████████| 313/313 [00:01<00:00, 161.34it/s]\n",
      "2021-01-05 09:26:10 ubu0789 data_generators.vae.vaes[11614] INFO ====> Epoch: 3 Average Train loss:  181.8769\n",
      "2021-01-05 09:26:10 ubu0789 data_generators.vae.vaes[11614] INFO ====> Test set loss:  171.9548\n",
      "\n",
      "2021-01-05 09:26:10 ubu0789 data_generators.vae.vaes[11614] INFO >>> Completed training and evaluation of 'VAE_ARCHITECTURE(\n",
      "  (fc1): Linear(in_features=784, out_features=512, bias=True)\n",
      "  (fc2): Linear(in_features=512, out_features=256, bias=True)\n",
      "  (fc31): Linear(in_features=256, out_features=784, bias=True)\n",
      "  (fc32): Linear(in_features=256, out_features=784, bias=True)\n",
      "  (fc4): Linear(in_features=784, out_features=256, bias=True)\n",
      "  (fc5): Linear(in_features=256, out_features=512, bias=True)\n",
      "  (fc6): Linear(in_features=512, out_features=784, bias=True)\n",
      ")'. Ready to generate samples.\n",
      "2021-01-05 09:26:10 ubu0789 utils[11614] INFO The directory '/home/carlos-torres/Documents/twosix/models/csl/cifar10_vae/train/2/' exists. Ready to use.\n",
      "2021-01-05 09:26:10 ubu0789 csl.synthesizers[11614] INFO Creating the 2-class data with 5000-samples\n",
      "2021-01-05 09:26:10 ubu0789 utils[11614] INFO The given directory '/home/carlos-torres/Documents/twosix/synthetic_datasets/cifar10_vae/train/2/' does not exist. Creating it!\n"
     ]
    },
    {
     "name": "stdout",
     "output_type": "stream",
     "text": [
      "\n",
      "\n",
      " ===> 3-epoch. Updating best (with 171.955), which is less than previous (191.895) best_loss\n"
     ]
    },
    {
     "name": "stderr",
     "output_type": "stream",
     "text": [
      "2021-01-05 09:26:12 ubu0789 datasets[11614] INFO Processing 'cifar10' torch.vision built-in structure\n"
     ]
    },
    {
     "name": "stdout",
     "output_type": "stream",
     "text": [
      "Files already downloaded and verified\n",
      "Files already downloaded and verified\n"
     ]
    },
    {
     "name": "stderr",
     "output_type": "stream",
     "text": [
      "2021-01-05 09:26:13 ubu0789 datasets[11614] INFO  > Extracting all (max) samples for 3 class(es).\n",
      "Train Batch 1: 100%|██████████| 313/313 [00:01<00:00, 191.83it/s]\n",
      "2021-01-05 09:26:15 ubu0789 data_generators.vae.vaes[11614] INFO ====> Epoch: 1 Average Train loss:  236.0337\n",
      "2021-01-05 09:26:16 ubu0789 data_generators.vae.vaes[11614] INFO ====> Test set loss:  220.2699\n",
      "\n",
      "Train Batch 2: 100%|██████████| 313/313 [00:01<00:00, 193.99it/s]\n",
      "2021-01-05 09:26:17 ubu0789 data_generators.vae.vaes[11614] INFO ====> Epoch: 2 Average Train loss:  207.3668\n",
      "2021-01-05 09:26:18 ubu0789 data_generators.vae.vaes[11614] INFO ====> Test set loss:  193.4264\n",
      "\n",
      "Train Batch 3:   0%|          | 0/313 [00:00<?, ?it/s]"
     ]
    },
    {
     "name": "stdout",
     "output_type": "stream",
     "text": [
      "\n",
      "\n",
      " ===> 2-epoch. Updating best (with 193.426), which is less than previous (220.270) best_loss\n"
     ]
    },
    {
     "name": "stderr",
     "output_type": "stream",
     "text": [
      "Train Batch 3: 100%|██████████| 313/313 [00:01<00:00, 180.05it/s]\n",
      "2021-01-05 09:26:19 ubu0789 data_generators.vae.vaes[11614] INFO ====> Epoch: 3 Average Train loss:  183.2319\n",
      "2021-01-05 09:26:20 ubu0789 data_generators.vae.vaes[11614] INFO ====> Test set loss:  172.3434\n",
      "\n",
      "2021-01-05 09:26:20 ubu0789 data_generators.vae.vaes[11614] INFO >>> Completed training and evaluation of 'VAE_ARCHITECTURE(\n",
      "  (fc1): Linear(in_features=784, out_features=512, bias=True)\n",
      "  (fc2): Linear(in_features=512, out_features=256, bias=True)\n",
      "  (fc31): Linear(in_features=256, out_features=784, bias=True)\n",
      "  (fc32): Linear(in_features=256, out_features=784, bias=True)\n",
      "  (fc4): Linear(in_features=784, out_features=256, bias=True)\n",
      "  (fc5): Linear(in_features=256, out_features=512, bias=True)\n",
      "  (fc6): Linear(in_features=512, out_features=784, bias=True)\n",
      ")'. Ready to generate samples.\n",
      "2021-01-05 09:26:20 ubu0789 utils[11614] INFO The directory '/home/carlos-torres/Documents/twosix/models/csl/cifar10_vae/train/3/' exists. Ready to use.\n",
      "2021-01-05 09:26:20 ubu0789 csl.synthesizers[11614] INFO Creating the 3-class data with 5000-samples\n",
      "2021-01-05 09:26:20 ubu0789 utils[11614] INFO The given directory '/home/carlos-torres/Documents/twosix/synthetic_datasets/cifar10_vae/train/3/' does not exist. Creating it!\n"
     ]
    },
    {
     "name": "stdout",
     "output_type": "stream",
     "text": [
      "\n",
      "\n",
      " ===> 3-epoch. Updating best (with 172.343), which is less than previous (193.426) best_loss\n"
     ]
    },
    {
     "name": "stderr",
     "output_type": "stream",
     "text": [
      "2021-01-05 09:26:21 ubu0789 datasets[11614] INFO Processing 'cifar10' torch.vision built-in structure\n"
     ]
    },
    {
     "name": "stdout",
     "output_type": "stream",
     "text": [
      "Files already downloaded and verified\n",
      "Files already downloaded and verified\n"
     ]
    },
    {
     "name": "stderr",
     "output_type": "stream",
     "text": [
      "2021-01-05 09:26:22 ubu0789 datasets[11614] INFO  > Extracting all (max) samples for 4 class(es).\n",
      "Train Batch 1: 100%|██████████| 313/313 [00:01<00:00, 180.91it/s]\n",
      "2021-01-05 09:26:25 ubu0789 data_generators.vae.vaes[11614] INFO ====> Epoch: 1 Average Train loss:  237.5933\n",
      "2021-01-05 09:26:25 ubu0789 data_generators.vae.vaes[11614] INFO ====> Test set loss:  219.5205\n",
      "\n",
      "Train Batch 2: 100%|██████████| 313/313 [00:01<00:00, 197.84it/s]\n",
      "2021-01-05 09:26:27 ubu0789 data_generators.vae.vaes[11614] INFO ====> Epoch: 2 Average Train loss:  205.5351\n",
      "2021-01-05 09:26:27 ubu0789 data_generators.vae.vaes[11614] INFO ====> Test set loss:  191.4125\n",
      "\n",
      "Train Batch 3:   0%|          | 0/313 [00:00<?, ?it/s]"
     ]
    },
    {
     "name": "stdout",
     "output_type": "stream",
     "text": [
      "\n",
      "\n",
      " ===> 2-epoch. Updating best (with 191.413), which is less than previous (219.520) best_loss\n"
     ]
    },
    {
     "name": "stderr",
     "output_type": "stream",
     "text": [
      "Train Batch 3: 100%|██████████| 313/313 [00:01<00:00, 195.32it/s]\n",
      "2021-01-05 09:26:28 ubu0789 data_generators.vae.vaes[11614] INFO ====> Epoch: 3 Average Train loss:  180.9864\n",
      "2021-01-05 09:26:29 ubu0789 data_generators.vae.vaes[11614] INFO ====> Test set loss:  168.0890\n",
      "\n",
      "2021-01-05 09:26:29 ubu0789 data_generators.vae.vaes[11614] INFO >>> Completed training and evaluation of 'VAE_ARCHITECTURE(\n",
      "  (fc1): Linear(in_features=784, out_features=512, bias=True)\n",
      "  (fc2): Linear(in_features=512, out_features=256, bias=True)\n",
      "  (fc31): Linear(in_features=256, out_features=784, bias=True)\n",
      "  (fc32): Linear(in_features=256, out_features=784, bias=True)\n",
      "  (fc4): Linear(in_features=784, out_features=256, bias=True)\n",
      "  (fc5): Linear(in_features=256, out_features=512, bias=True)\n",
      "  (fc6): Linear(in_features=512, out_features=784, bias=True)\n",
      ")'. Ready to generate samples.\n",
      "2021-01-05 09:26:29 ubu0789 utils[11614] INFO The directory '/home/carlos-torres/Documents/twosix/models/csl/cifar10_vae/train/4/' exists. Ready to use.\n",
      "2021-01-05 09:26:29 ubu0789 csl.synthesizers[11614] INFO Creating the 4-class data with 5000-samples\n",
      "2021-01-05 09:26:29 ubu0789 utils[11614] INFO The given directory '/home/carlos-torres/Documents/twosix/synthetic_datasets/cifar10_vae/train/4/' does not exist. Creating it!\n"
     ]
    },
    {
     "name": "stdout",
     "output_type": "stream",
     "text": [
      "\n",
      "\n",
      " ===> 3-epoch. Updating best (with 168.089), which is less than previous (191.413) best_loss\n"
     ]
    },
    {
     "name": "stderr",
     "output_type": "stream",
     "text": [
      "2021-01-05 09:26:31 ubu0789 datasets[11614] INFO Processing 'cifar10' torch.vision built-in structure\n"
     ]
    },
    {
     "name": "stdout",
     "output_type": "stream",
     "text": [
      "Files already downloaded and verified\n",
      "Files already downloaded and verified\n"
     ]
    },
    {
     "name": "stderr",
     "output_type": "stream",
     "text": [
      "2021-01-05 09:26:32 ubu0789 datasets[11614] INFO  > Extracting all (max) samples for 5 class(es).\n",
      "Train Batch 1: 100%|██████████| 313/313 [00:01<00:00, 198.02it/s]\n",
      "2021-01-05 09:26:34 ubu0789 data_generators.vae.vaes[11614] INFO ====> Epoch: 1 Average Train loss:  223.1230\n",
      "2021-01-05 09:26:34 ubu0789 data_generators.vae.vaes[11614] INFO ====> Test set loss:  210.1974\n",
      "\n",
      "Train Batch 2: 100%|██████████| 313/313 [00:01<00:00, 200.57it/s]\n",
      "2021-01-05 09:26:36 ubu0789 data_generators.vae.vaes[11614] INFO ====> Epoch: 2 Average Train loss:  197.0912\n",
      "2021-01-05 09:26:36 ubu0789 data_generators.vae.vaes[11614] INFO ====> Test set loss:  186.7578\n",
      "\n",
      "Train Batch 3:   0%|          | 0/313 [00:00<?, ?it/s]"
     ]
    },
    {
     "name": "stdout",
     "output_type": "stream",
     "text": [
      "\n",
      "\n",
      " ===> 2-epoch. Updating best (with 186.758), which is less than previous (210.197) best_loss\n"
     ]
    },
    {
     "name": "stderr",
     "output_type": "stream",
     "text": [
      "Train Batch 3: 100%|██████████| 313/313 [00:01<00:00, 182.73it/s]\n",
      "2021-01-05 09:26:38 ubu0789 data_generators.vae.vaes[11614] INFO ====> Epoch: 3 Average Train loss:  176.4812\n",
      "2021-01-05 09:26:38 ubu0789 data_generators.vae.vaes[11614] INFO ====> Test set loss:  169.1165\n",
      "\n",
      "2021-01-05 09:26:38 ubu0789 data_generators.vae.vaes[11614] INFO >>> Completed training and evaluation of 'VAE_ARCHITECTURE(\n",
      "  (fc1): Linear(in_features=784, out_features=512, bias=True)\n",
      "  (fc2): Linear(in_features=512, out_features=256, bias=True)\n",
      "  (fc31): Linear(in_features=256, out_features=784, bias=True)\n",
      "  (fc32): Linear(in_features=256, out_features=784, bias=True)\n",
      "  (fc4): Linear(in_features=784, out_features=256, bias=True)\n",
      "  (fc5): Linear(in_features=256, out_features=512, bias=True)\n",
      "  (fc6): Linear(in_features=512, out_features=784, bias=True)\n",
      ")'. Ready to generate samples.\n",
      "2021-01-05 09:26:38 ubu0789 utils[11614] INFO The directory '/home/carlos-torres/Documents/twosix/models/csl/cifar10_vae/train/5/' exists. Ready to use.\n",
      "2021-01-05 09:26:38 ubu0789 csl.synthesizers[11614] INFO Creating the 5-class data with 5000-samples\n",
      "2021-01-05 09:26:38 ubu0789 utils[11614] INFO The given directory '/home/carlos-torres/Documents/twosix/synthetic_datasets/cifar10_vae/train/5/' does not exist. Creating it!\n"
     ]
    },
    {
     "name": "stdout",
     "output_type": "stream",
     "text": [
      "\n",
      "\n",
      " ===> 3-epoch. Updating best (with 169.116), which is less than previous (186.758) best_loss\n"
     ]
    },
    {
     "name": "stderr",
     "output_type": "stream",
     "text": [
      "2021-01-05 09:26:40 ubu0789 datasets[11614] INFO Processing 'cifar10' torch.vision built-in structure\n"
     ]
    },
    {
     "name": "stdout",
     "output_type": "stream",
     "text": [
      "Files already downloaded and verified\n",
      "Files already downloaded and verified\n"
     ]
    },
    {
     "name": "stderr",
     "output_type": "stream",
     "text": [
      "2021-01-05 09:26:41 ubu0789 datasets[11614] INFO  > Extracting all (max) samples for 6 class(es).\n",
      "Train Batch 1: 100%|██████████| 313/313 [00:02<00:00, 152.87it/s]\n",
      "2021-01-05 09:26:43 ubu0789 data_generators.vae.vaes[11614] INFO ====> Epoch: 1 Average Train loss:  234.7524\n",
      "2021-01-05 09:26:44 ubu0789 data_generators.vae.vaes[11614] INFO ====> Test set loss:  216.9731\n",
      "\n",
      "Train Batch 2: 100%|██████████| 313/313 [00:01<00:00, 196.03it/s]\n",
      "2021-01-05 09:26:45 ubu0789 data_generators.vae.vaes[11614] INFO ====> Epoch: 2 Average Train loss:  201.6185\n",
      "2021-01-05 09:26:45 ubu0789 data_generators.vae.vaes[11614] INFO ====> Test set loss:  187.7961\n",
      "\n",
      "Train Batch 3:   0%|          | 0/313 [00:00<?, ?it/s]"
     ]
    },
    {
     "name": "stdout",
     "output_type": "stream",
     "text": [
      "\n",
      "\n",
      " ===> 2-epoch. Updating best (with 187.796), which is less than previous (216.973) best_loss\n"
     ]
    },
    {
     "name": "stderr",
     "output_type": "stream",
     "text": [
      "Train Batch 3: 100%|██████████| 313/313 [00:01<00:00, 198.75it/s]\n",
      "2021-01-05 09:26:47 ubu0789 data_generators.vae.vaes[11614] INFO ====> Epoch: 3 Average Train loss:  176.0471\n",
      "2021-01-05 09:26:47 ubu0789 data_generators.vae.vaes[11614] INFO ====> Test set loss:  165.1719\n",
      "\n",
      "2021-01-05 09:26:47 ubu0789 data_generators.vae.vaes[11614] INFO >>> Completed training and evaluation of 'VAE_ARCHITECTURE(\n",
      "  (fc1): Linear(in_features=784, out_features=512, bias=True)\n",
      "  (fc2): Linear(in_features=512, out_features=256, bias=True)\n",
      "  (fc31): Linear(in_features=256, out_features=784, bias=True)\n",
      "  (fc32): Linear(in_features=256, out_features=784, bias=True)\n",
      "  (fc4): Linear(in_features=784, out_features=256, bias=True)\n",
      "  (fc5): Linear(in_features=256, out_features=512, bias=True)\n",
      "  (fc6): Linear(in_features=512, out_features=784, bias=True)\n",
      ")'. Ready to generate samples.\n",
      "2021-01-05 09:26:47 ubu0789 utils[11614] INFO The directory '/home/carlos-torres/Documents/twosix/models/csl/cifar10_vae/train/6/' exists. Ready to use.\n",
      "2021-01-05 09:26:47 ubu0789 csl.synthesizers[11614] INFO Creating the 6-class data with 5000-samples\n",
      "2021-01-05 09:26:47 ubu0789 utils[11614] INFO The given directory '/home/carlos-torres/Documents/twosix/synthetic_datasets/cifar10_vae/train/6/' does not exist. Creating it!\n"
     ]
    },
    {
     "name": "stdout",
     "output_type": "stream",
     "text": [
      "\n",
      "\n",
      " ===> 3-epoch. Updating best (with 165.172), which is less than previous (187.796) best_loss\n"
     ]
    },
    {
     "name": "stderr",
     "output_type": "stream",
     "text": [
      "2021-01-05 09:26:49 ubu0789 datasets[11614] INFO Processing 'cifar10' torch.vision built-in structure\n"
     ]
    },
    {
     "name": "stdout",
     "output_type": "stream",
     "text": [
      "Files already downloaded and verified\n",
      "Files already downloaded and verified\n"
     ]
    },
    {
     "name": "stderr",
     "output_type": "stream",
     "text": [
      "2021-01-05 09:26:50 ubu0789 datasets[11614] INFO  > Extracting all (max) samples for 7 class(es).\n",
      "Train Batch 1: 100%|██████████| 313/313 [00:01<00:00, 172.83it/s]\n",
      "2021-01-05 09:26:52 ubu0789 data_generators.vae.vaes[11614] INFO ====> Epoch: 1 Average Train loss:  226.1745\n",
      "2021-01-05 09:26:53 ubu0789 data_generators.vae.vaes[11614] INFO ====> Test set loss:  212.2284\n",
      "\n",
      "Train Batch 2: 100%|██████████| 313/313 [00:01<00:00, 180.12it/s]\n",
      "2021-01-05 09:26:55 ubu0789 data_generators.vae.vaes[11614] INFO ====> Epoch: 2 Average Train loss:  200.4298\n",
      "2021-01-05 09:26:55 ubu0789 data_generators.vae.vaes[11614] INFO ====> Test set loss:  190.0013\n",
      "\n",
      "Train Batch 3:   0%|          | 0/313 [00:00<?, ?it/s]"
     ]
    },
    {
     "name": "stdout",
     "output_type": "stream",
     "text": [
      "\n",
      "\n",
      " ===> 2-epoch. Updating best (with 190.001), which is less than previous (212.228) best_loss\n"
     ]
    },
    {
     "name": "stderr",
     "output_type": "stream",
     "text": [
      "Train Batch 3: 100%|██████████| 313/313 [00:01<00:00, 185.75it/s]\n",
      "2021-01-05 09:26:56 ubu0789 data_generators.vae.vaes[11614] INFO ====> Epoch: 3 Average Train loss:  178.9163\n",
      "2021-01-05 09:26:57 ubu0789 data_generators.vae.vaes[11614] INFO ====> Test set loss:  170.8580\n",
      "\n",
      "2021-01-05 09:26:57 ubu0789 data_generators.vae.vaes[11614] INFO >>> Completed training and evaluation of 'VAE_ARCHITECTURE(\n",
      "  (fc1): Linear(in_features=784, out_features=512, bias=True)\n",
      "  (fc2): Linear(in_features=512, out_features=256, bias=True)\n",
      "  (fc31): Linear(in_features=256, out_features=784, bias=True)\n",
      "  (fc32): Linear(in_features=256, out_features=784, bias=True)\n",
      "  (fc4): Linear(in_features=784, out_features=256, bias=True)\n",
      "  (fc5): Linear(in_features=256, out_features=512, bias=True)\n",
      "  (fc6): Linear(in_features=512, out_features=784, bias=True)\n",
      ")'. Ready to generate samples.\n",
      "2021-01-05 09:26:57 ubu0789 utils[11614] INFO The directory '/home/carlos-torres/Documents/twosix/models/csl/cifar10_vae/train/7/' exists. Ready to use.\n",
      "2021-01-05 09:26:57 ubu0789 csl.synthesizers[11614] INFO Creating the 7-class data with 5000-samples\n",
      "2021-01-05 09:26:57 ubu0789 utils[11614] INFO The given directory '/home/carlos-torres/Documents/twosix/synthetic_datasets/cifar10_vae/train/7/' does not exist. Creating it!\n"
     ]
    },
    {
     "name": "stdout",
     "output_type": "stream",
     "text": [
      "\n",
      "\n",
      " ===> 3-epoch. Updating best (with 170.858), which is less than previous (190.001) best_loss\n"
     ]
    },
    {
     "name": "stderr",
     "output_type": "stream",
     "text": [
      "2021-01-05 09:26:58 ubu0789 datasets[11614] INFO Processing 'cifar10' torch.vision built-in structure\n"
     ]
    },
    {
     "name": "stdout",
     "output_type": "stream",
     "text": [
      "Files already downloaded and verified\n",
      "Files already downloaded and verified\n"
     ]
    },
    {
     "name": "stderr",
     "output_type": "stream",
     "text": [
      "2021-01-05 09:27:00 ubu0789 datasets[11614] INFO  > Extracting all (max) samples for 8 class(es).\n",
      "Train Batch 1: 100%|██████████| 313/313 [00:01<00:00, 185.68it/s]\n",
      "2021-01-05 09:27:02 ubu0789 data_generators.vae.vaes[11614] INFO ====> Epoch: 1 Average Train loss:  228.3833\n",
      "2021-01-05 09:27:02 ubu0789 data_generators.vae.vaes[11614] INFO ====> Test set loss:  214.8663\n",
      "\n",
      "Train Batch 2: 100%|██████████| 313/313 [00:01<00:00, 181.76it/s]\n",
      "2021-01-05 09:27:04 ubu0789 data_generators.vae.vaes[11614] INFO ====> Epoch: 2 Average Train loss:  204.4404\n",
      "2021-01-05 09:27:04 ubu0789 data_generators.vae.vaes[11614] INFO ====> Test set loss:  193.3145\n",
      "\n",
      "Train Batch 3:   0%|          | 0/313 [00:00<?, ?it/s]"
     ]
    },
    {
     "name": "stdout",
     "output_type": "stream",
     "text": [
      "\n",
      "\n",
      " ===> 2-epoch. Updating best (with 193.314), which is less than previous (214.866) best_loss\n"
     ]
    },
    {
     "name": "stderr",
     "output_type": "stream",
     "text": [
      "Train Batch 3: 100%|██████████| 313/313 [00:01<00:00, 186.06it/s]\n",
      "2021-01-05 09:27:06 ubu0789 data_generators.vae.vaes[11614] INFO ====> Epoch: 3 Average Train loss:  184.8320\n",
      "2021-01-05 09:27:06 ubu0789 data_generators.vae.vaes[11614] INFO ====> Test set loss:  176.4240\n",
      "\n",
      "2021-01-05 09:27:06 ubu0789 data_generators.vae.vaes[11614] INFO >>> Completed training and evaluation of 'VAE_ARCHITECTURE(\n",
      "  (fc1): Linear(in_features=784, out_features=512, bias=True)\n",
      "  (fc2): Linear(in_features=512, out_features=256, bias=True)\n",
      "  (fc31): Linear(in_features=256, out_features=784, bias=True)\n",
      "  (fc32): Linear(in_features=256, out_features=784, bias=True)\n",
      "  (fc4): Linear(in_features=784, out_features=256, bias=True)\n",
      "  (fc5): Linear(in_features=256, out_features=512, bias=True)\n",
      "  (fc6): Linear(in_features=512, out_features=784, bias=True)\n",
      ")'. Ready to generate samples.\n",
      "2021-01-05 09:27:06 ubu0789 utils[11614] INFO The directory '/home/carlos-torres/Documents/twosix/models/csl/cifar10_vae/train/8/' exists. Ready to use.\n",
      "2021-01-05 09:27:06 ubu0789 csl.synthesizers[11614] INFO Creating the 8-class data with 5000-samples\n",
      "2021-01-05 09:27:06 ubu0789 utils[11614] INFO The given directory '/home/carlos-torres/Documents/twosix/synthetic_datasets/cifar10_vae/train/8/' does not exist. Creating it!\n"
     ]
    },
    {
     "name": "stdout",
     "output_type": "stream",
     "text": [
      "\n",
      "\n",
      " ===> 3-epoch. Updating best (with 176.424), which is less than previous (193.314) best_loss\n"
     ]
    },
    {
     "name": "stderr",
     "output_type": "stream",
     "text": [
      "2021-01-05 09:27:08 ubu0789 datasets[11614] INFO Processing 'cifar10' torch.vision built-in structure\n"
     ]
    },
    {
     "name": "stdout",
     "output_type": "stream",
     "text": [
      "Files already downloaded and verified\n",
      "Files already downloaded and verified\n"
     ]
    },
    {
     "name": "stderr",
     "output_type": "stream",
     "text": [
      "2021-01-05 09:27:09 ubu0789 datasets[11614] INFO  > Extracting all (max) samples for 9 class(es).\n",
      "Train Batch 1: 100%|██████████| 313/313 [00:01<00:00, 199.93it/s]\n",
      "2021-01-05 09:27:11 ubu0789 data_generators.vae.vaes[11614] INFO ====> Epoch: 1 Average Train loss:  225.3687\n",
      "2021-01-05 09:27:11 ubu0789 data_generators.vae.vaes[11614] INFO ====> Test set loss:  210.8312\n",
      "\n",
      "Train Batch 2: 100%|██████████| 313/313 [00:01<00:00, 197.19it/s]\n",
      "2021-01-05 09:27:13 ubu0789 data_generators.vae.vaes[11614] INFO ====> Epoch: 2 Average Train loss:  199.7442\n",
      "2021-01-05 09:27:13 ubu0789 data_generators.vae.vaes[11614] INFO ====> Test set loss:  189.2223\n",
      "\n",
      "Train Batch 3:   0%|          | 0/313 [00:00<?, ?it/s]"
     ]
    },
    {
     "name": "stdout",
     "output_type": "stream",
     "text": [
      "\n",
      "\n",
      " ===> 2-epoch. Updating best (with 189.222), which is less than previous (210.831) best_loss\n"
     ]
    },
    {
     "name": "stderr",
     "output_type": "stream",
     "text": [
      "Train Batch 3: 100%|██████████| 313/313 [00:01<00:00, 199.00it/s]\n",
      "2021-01-05 09:27:15 ubu0789 data_generators.vae.vaes[11614] INFO ====> Epoch: 3 Average Train loss:  179.3863\n",
      "2021-01-05 09:27:15 ubu0789 data_generators.vae.vaes[11614] INFO ====> Test set loss:  170.4930\n",
      "\n",
      "2021-01-05 09:27:15 ubu0789 data_generators.vae.vaes[11614] INFO >>> Completed training and evaluation of 'VAE_ARCHITECTURE(\n",
      "  (fc1): Linear(in_features=784, out_features=512, bias=True)\n",
      "  (fc2): Linear(in_features=512, out_features=256, bias=True)\n",
      "  (fc31): Linear(in_features=256, out_features=784, bias=True)\n",
      "  (fc32): Linear(in_features=256, out_features=784, bias=True)\n",
      "  (fc4): Linear(in_features=784, out_features=256, bias=True)\n",
      "  (fc5): Linear(in_features=256, out_features=512, bias=True)\n",
      "  (fc6): Linear(in_features=512, out_features=784, bias=True)\n",
      ")'. Ready to generate samples.\n",
      "2021-01-05 09:27:15 ubu0789 utils[11614] INFO The directory '/home/carlos-torres/Documents/twosix/models/csl/cifar10_vae/train/9/' exists. Ready to use.\n",
      "2021-01-05 09:27:15 ubu0789 csl.synthesizers[11614] INFO Creating the 9-class data with 5000-samples\n",
      "2021-01-05 09:27:15 ubu0789 utils[11614] INFO The given directory '/home/carlos-torres/Documents/twosix/synthetic_datasets/cifar10_vae/train/9/' does not exist. Creating it!\n"
     ]
    },
    {
     "name": "stdout",
     "output_type": "stream",
     "text": [
      "\n",
      "\n",
      " ===> 3-epoch. Updating best (with 170.493), which is less than previous (189.222) best_loss\n"
     ]
    }
   ],
   "source": [
    "args = {\n",
    "    \"method\": METHOD,\n",
    "    \"dataset_name\": DATASET_NAME,\n",
    "    \"batch_size\": 16,\n",
    "    \"num_workers\": 4,\n",
    "    \"class_index\": \"all\",\n",
    "    \"num_epochs\": 3,  # 250\n",
    "    \"image_dim\": 28,\n",
    "    \"tasks\": [\"train\"],  # , \"val\"],\n",
    "    \"num_samples\": \"all\",\n",
    "    \"data_save_dir\": DATA_DIR,\n",
    "    \"model_save_dir\": MODELS_DIR,\n",
    "}\n",
    "\n",
    "syn.train_and_synthesize(**args)"
   ]
  },
  {
   "cell_type": "markdown",
   "metadata": {},
   "source": [
    "### B. Synthesize using pretrained\n",
    "\n",
    "Loads a pretrained model and uses it to generate a synthetic version of the input source dataset. Generates all the samples for class index 0. \n",
    "\n",
    "**inputs:**\n",
    "* method: str, see METHOD\n",
    "* dataset_name: str, see DATASET_NAME\n",
    "* num_workers: int, number of virtual cores to use to move data and execute non-gpu data operations\n",
    "* class_index: int (or str), \n",
    "    - int: index of the class to sample, train on, and synthesize\n",
    "    - str:= \"all\", means all classess\n",
    "* task: list, see TASK\n",
    "* num_samples: int (or str),\n",
    "    - int: specific number of samples to synthesize (can be any positive number)\n",
    "    - str:= \"all\" looks at the source dataset for the number of sample (mimics the original input dataset label count distribution)\n",
    "* data_save_dir: os.pathlike, see DATA_DIR\n",
    "\n",
    "**NEW IMPUT**\n",
    "* **load_model_path**: os.pathlike, location where the checkpoint (pretrained model state_dictionary and associated parameters) is stored.\n"
   ]
  },
  {
   "cell_type": "code",
   "execution_count": 5,
   "metadata": {},
   "outputs": [
    {
     "name": "stderr",
     "output_type": "stream",
     "text": [
      "2021-01-05 09:38:36 ubu0789 datasets[11614] INFO Processing 'cifar10' torch.vision built-in structure\n"
     ]
    },
    {
     "name": "stdout",
     "output_type": "stream",
     "text": [
      "Files already downloaded and verified\n",
      "Files already downloaded and verified\n"
     ]
    },
    {
     "name": "stderr",
     "output_type": "stream",
     "text": [
      "2021-01-05 09:38:37 ubu0789 datasets[11614] INFO  > Extracting all (max) samples for 0 class(es).\n",
      "2021-01-05 09:38:37 ubu0789 utils[11614] INFO The given directory '/home/carlos-torres/Documents/twosix/synthetic_datasets/cifar10_vae/val/0/' does not exist. Creating it!\n"
     ]
    }
   ],
   "source": [
    "model_path = \"/home/carlos-torres/Documents/twosix/models/csl/mnist_vae/train/0/\"\n",
    "args = {\n",
    "    \"method\": METHOD,\n",
    "    \"dataset_name\": DATASET_NAME,\n",
    "    \"num_workers\": 4,\n",
    "    \"class_index\": 0,  # \"all\",\n",
    "    \"tasks\": [\"val\"],  # , \"train\"],\n",
    "    \"num_samples\": \"all\",\n",
    "    \"data_save_dir\": DATA_DIR,\n",
    "    \"load_model_path\": model_path,\n",
    "}\n",
    "syn.synthesize_using_pretrained(**args)"
   ]
  }
 ],
 "metadata": {
  "kernelspec": {
   "display_name": "Python 3",
   "language": "python",
   "name": "python3"
  },
  "language_info": {
   "codemirror_mode": {
    "name": "ipython",
    "version": 3
   },
   "file_extension": ".py",
   "mimetype": "text/x-python",
   "name": "python",
   "nbconvert_exporter": "python",
   "pygments_lexer": "ipython3",
   "version": "3.6.9"
  }
 },
 "nbformat": 4,
 "nbformat_minor": 4
}
