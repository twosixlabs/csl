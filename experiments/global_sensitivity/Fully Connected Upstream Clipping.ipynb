{
 "cells": [
  {
   "cell_type": "code",
   "execution_count": 18,
   "metadata": {},
   "outputs": [
    {
     "name": "stdout",
     "output_type": "stream",
     "text": [
      "1.7.1\n"
     ]
    }
   ],
   "source": [
    "import matplotlib.pyplot as plt\n",
    "import matplotlib.cm as cm\n",
    "import numpy as np\n",
    "from sklearn.datasets import make_classification\n",
    "#import pandas as pd\n",
    "#import seaborn as sns\n",
    "import torch\n",
    "import torch.nn as nn\n",
    "import torch.optim as optim\n",
    "from torch.autograd import Variable\n",
    "from IPython import display\n",
    "from sklearn import metrics\n",
    "from sklearn.model_selection import train_test_split\n",
    "from sklearn.preprocessing import StandardScaler\n",
    "from sklearn.utils.class_weight import compute_class_weight\n",
    "from torch.utils.data import TensorDataset\n",
    "from torch.utils.data import DataLoader\n",
    "from collections import defaultdict\n",
    "\n",
    "import sklearn.datasets\n",
    "\n",
    "torch.manual_seed(1)\n",
    "np.random.seed(7)\n",
    "#sns.set(style=\"white\", palette=\"muted\", color_codes=True, context=\"talk\")\n",
    "\n",
    "%matplotlib inline\n",
    "print(torch.__version__) "
   ]
  },
  {
   "cell_type": "code",
   "execution_count": 19,
   "metadata": {},
   "outputs": [],
   "source": [
    "import time"
   ]
  },
  {
   "cell_type": "markdown",
   "metadata": {},
   "source": [
    "# Dataset and Model Definition"
   ]
  },
  {
   "cell_type": "code",
   "execution_count": 20,
   "metadata": {},
   "outputs": [],
   "source": [
    "n_classes = 2\n",
    "\n",
    "X, y = sklearn.datasets.make_classification(n_samples=1000,\n",
    "                                            n_features=20,\n",
    "                                            n_informative=15,\n",
    "                                            n_redundant=0,\n",
    "                                            n_repeated=0,\n",
    "                                            class_sep=5,\n",
    "                                            n_classes=n_classes,\n",
    "                                            random_state = 4)\n",
    "X = X / np.max(X, axis=0)\n",
    "n_features = X.shape[1]"
   ]
  },
  {
   "cell_type": "code",
   "execution_count": 267,
   "metadata": {},
   "outputs": [],
   "source": [
    "from sklearn.datasets import make_moons\n",
    "X, y = make_moons(noise=0.1, random_state=0, n_samples=1000)\n",
    "X = X / np.max(X, axis=0)\n",
    "n_features = X.shape[1]"
   ]
  },
  {
   "cell_type": "code",
   "execution_count": 1269,
   "metadata": {},
   "outputs": [
    {
     "name": "stdout",
     "output_type": "stream",
     "text": [
      "len train: 800\n",
      "len test: 200\n"
     ]
    }
   ],
   "source": [
    "(X_train, X_test, y_train, y_test) = train_test_split(X, y, test_size=0.2, random_state=7)\n",
    "print('len train:', len(X_train))\n",
    "print('len test:', len(X_test))"
   ]
  },
  {
   "cell_type": "code",
   "execution_count": 1313,
   "metadata": {},
   "outputs": [],
   "source": [
    "BATCH_SIZE = 800\n",
    "\n",
    "training_dataset = TensorDataset(torch.from_numpy(X_train).float(), \n",
    "                                 torch.from_numpy(y_train).long())\n",
    "train_loader = DataLoader(training_dataset, batch_size=BATCH_SIZE, shuffle=True, drop_last=True)\n",
    "\n",
    "testing_dataset = TensorDataset(torch.from_numpy(X_test).float(), \n",
    "                                torch.from_numpy(y_test).long())\n",
    "test_loader = DataLoader(testing_dataset, batch_size=BATCH_SIZE, shuffle=True, drop_last=True)"
   ]
  },
  {
   "cell_type": "code",
   "execution_count": 1445,
   "metadata": {},
   "outputs": [],
   "source": [
    "n_hidden = 64\n",
    "class Classifier(nn.Module):\n",
    "    def __init__(self, n_features, n_hidden=n_hidden):\n",
    "        super(Classifier, self).__init__()\n",
    "        self.network = nn.Sequential(\n",
    "            nn.Linear(n_features, n_hidden),\n",
    "            nn.ReLU(),\n",
    "            nn.Linear(n_hidden, n_hidden),\n",
    "            nn.ReLU(),\n",
    "            nn.Linear(n_hidden, n_hidden),\n",
    "            nn.ReLU(),\n",
    "            nn.Linear(n_hidden, 1),\n",
    "            #nn.ReLU(),\n",
    "            #nn.LogSoftmax()\n",
    "        )\n",
    "\n",
    "    def forward(self, x):\n",
    "        return torch.sigmoid(self.network(x))"
   ]
  },
  {
   "cell_type": "code",
   "execution_count": 1446,
   "metadata": {},
   "outputs": [],
   "source": [
    "def accuracy(model, X, y):\n",
    "    Xt = torch.from_numpy(X).float()\n",
    "    yt = torch.from_numpy(y).long()\n",
    "    outputs = model(Xt)\n",
    "    y_hat = [1 if o>.5 else 0 for o in outputs]\n",
    "    accuracy = np.sum(y_hat == y) / len(y)\n",
    "    return accuracy"
   ]
  },
  {
   "cell_type": "markdown",
   "metadata": {},
   "source": [
    "# Training"
   ]
  },
  {
   "cell_type": "code",
   "execution_count": 1447,
   "metadata": {},
   "outputs": [],
   "source": [
    "def make_plot(info, key, title):\n",
    "    plt.plot(info[key]);\n",
    "    plt.title(title)\n",
    "    plt.show()"
   ]
  },
  {
   "cell_type": "code",
   "execution_count": 1512,
   "metadata": {},
   "outputs": [],
   "source": [
    "UPSTREAM_GRAD_BOUND = 0.001\n",
    "INPUT_BOUND = 5."
   ]
  },
  {
   "cell_type": "code",
   "execution_count": 1513,
   "metadata": {},
   "outputs": [],
   "source": [
    "def clamp_grad(self, grad_input, grad_output):\n",
    "    if isinstance(self, nn.Linear):\n",
    "        bias_g, upstream_g, weights_g = grad_input\n",
    "        upstream_g_c = upstream_g.clamp(-UPSTREAM_GRAD_BOUND, UPSTREAM_GRAD_BOUND)\n",
    "        return (bias_g, upstream_g_c, weights_g)\n",
    "    elif isinstance(self, (nn.Tanh, nn.ReLU)):\n",
    "        upstream_g = grad_input[0]\n",
    "        upstream_g_c = upstream_g.clamp(-UPSTREAM_GRAD_BOUND, UPSTREAM_GRAD_BOUND)\n",
    "        return (upstream_g_c,)\n",
    "    else:\n",
    "        print('unknown')"
   ]
  },
  {
   "cell_type": "code",
   "execution_count": 1514,
   "metadata": {},
   "outputs": [],
   "source": [
    "def clamp_grad(self, grad_input, grad_output):\n",
    "    return tuple([x.clamp(-UPSTREAM_GRAD_BOUND, UPSTREAM_GRAD_BOUND) for x in grad_input])"
   ]
  },
  {
   "cell_type": "code",
   "execution_count": 1515,
   "metadata": {},
   "outputs": [],
   "source": [
    "def clamp_input(self, input):\n",
    "    #print('max:', input[0].abs().max(), 'mean:', input[0].abs().mean())\n",
    "    return tuple([x.clamp(-INPUT_BOUND, INPUT_BOUND) for x in input])"
   ]
  },
  {
   "cell_type": "code",
   "execution_count": 1516,
   "metadata": {},
   "outputs": [],
   "source": [
    "def zcdp_eps(rho, delta):\n",
    "    return rho + 2*np.sqrt(rho*np.log(1/delta))"
   ]
  },
  {
   "cell_type": "code",
   "execution_count": 1523,
   "metadata": {},
   "outputs": [],
   "source": [
    "def run_experiment(epsilon, epochs, add_noise=False):\n",
    "    model = Classifier(n_features=n_features)\n",
    "    model_criterion = nn.BCELoss() \n",
    "    model_optimizer = optim.Adam(model.parameters(), lr=0.01)#, weight_decay=0.0001)\n",
    "    rho_i = 0.00001\n",
    "    total_rho = 0\n",
    "    \n",
    "    for x in model.network:\n",
    "        x.register_backward_hook(clamp_grad)\n",
    "        x.register_forward_pre_hook(clamp_input)\n",
    "    \n",
    "    sensitivities = []\n",
    "    norms = []\n",
    "    decays = []\n",
    "    losses = []\n",
    "\n",
    "    for epoch in range(epochs):\n",
    "        for x_batch_train, y_batch_train in train_loader:\n",
    "            model_optimizer.zero_grad()\n",
    "            inp = Variable(x_batch_train, requires_grad=True)\n",
    "            outputs = model.forward(inp)\n",
    "            loss = model_criterion(outputs, y_batch_train.unsqueeze(1).float())\n",
    "            losses.append(loss)\n",
    "            loss.backward()\n",
    "            \n",
    "            for i, layer in enumerate(model.network):\n",
    "                if isinstance(layer, nn.Linear):\n",
    "                    ps = list(layer.parameters())\n",
    "                    weights = ps[0]\n",
    "                    bias = ps[1]\n",
    "                    input_len = weights.shape[1]\n",
    "                    output_len = weights.shape[0]\n",
    "                    fake_inputs = torch.full((1, input_len), INPUT_BOUND)\n",
    "                    fake_upstream_grad = torch.full((1, output_len), UPSTREAM_GRAD_BOUND)\n",
    "                    fake_grad = fake_inputs.T @ fake_upstream_grad\n",
    "                    grad_bound = fake_grad.flatten().norm(p=2)\n",
    "\n",
    "                    actual_grad_bound = weights.grad.flatten().norm(p=2)\n",
    "                    if False and actual_grad_bound > grad_bound:\n",
    "                        print('grad bound norm: ', grad_bound)\n",
    "                        print('actual grad norm:', actual_grad_bound)\n",
    "                    sensitivities.append(grad_bound)\n",
    "                    \n",
    "                    sensitivity = grad_bound / BATCH_SIZE\n",
    "                    sigma = np.sqrt(sensitivity**2 / (2*rho_i))\n",
    "                    with torch.no_grad():\n",
    "                        weights.grad += sigma*torch.randn(weights.shape)\n",
    "                        bias.grad += sigma*torch.randn(bias.shape) # this is more noise than necessary\n",
    "                    total_rho += rho_i\n",
    "            \n",
    "            norms.append(next(model.parameters()).data.norm())\n",
    "\n",
    "            model_optimizer.step()\n",
    "            \n",
    "\n",
    "    total_weights = 0\n",
    "    for p in model.parameters():\n",
    "        total_weights += p.flatten().shape[0]\n",
    "    print('total weights:', total_weights)\n",
    "\n",
    "    info = {'sens': sensitivities,\n",
    "            'norms': norms,\n",
    "            'decays': decays,\n",
    "            'losses': losses,}\n",
    "    print('total rho:', total_rho)\n",
    "    print('total epsilon:', zcdp_eps(total_rho, 1e-5))\n",
    "    return model, info"
   ]
  },
  {
   "cell_type": "code",
   "execution_count": 1526,
   "metadata": {},
   "outputs": [
    {
     "name": "stdout",
     "output_type": "stream",
     "text": [
      "total weights: 8577\n",
      "total rho: 0.004000000000000005\n",
      "total epsilon: 0.43319320525786975\n"
     ]
    },
    {
     "data": {
      "image/png": "[encoded data removed]",
      "text/plain": [
       "<Figure size 432x288 with 1 Axes>"
      ]
     },
     "metadata": {
      "needs_background": "light"
     },
     "output_type": "display_data"
    },
    {
     "data": {
      "image/png": "[encoded data removed]",
      "text/plain": [
       "<Figure size 432x288 with 1 Axes>"
      ]
     },
     "metadata": {
      "needs_background": "light"
     },
     "output_type": "display_data"
    },
    {
     "data": {
      "image/png": "[encoded data removed]",
      "text/plain": [
       "<Figure size 432x288 with 1 Axes>"
      ]
     },
     "metadata": {
      "needs_background": "light"
     },
     "output_type": "display_data"
    },
    {
     "name": "stdout",
     "output_type": "stream",
     "text": [
      "Accuracy: 0.83\n"
     ]
    }
   ],
   "source": [
    "model, info = run_experiment(.001, 100, False)\n",
    "\n",
    "for key, title in [('sens', 'Sensitivity'), \n",
    "                   ('norms', 'L2 Norm of 1st layer weights'),\n",
    "                   #('decays', 'Weight Decay Value'),\n",
    "                   ('losses', 'Loss')\n",
    "                ]:\n",
    "    make_plot(info, key, title)\n",
    "\n",
    "print('Accuracy:', accuracy(model, X_test, y_test))"
   ]
  },
  {
   "cell_type": "code",
   "execution_count": null,
   "metadata": {},
   "outputs": [],
   "source": []
  },
  {
   "cell_type": "code",
   "execution_count": null,
   "metadata": {},
   "outputs": [],
   "source": []
  }
 ],
 "metadata": {
  "kernelspec": {
   "display_name": "Python 3 (ipykernel)",
   "language": "python",
   "name": "python3"
  },
  "language_info": {
   "codemirror_mode": {
    "name": "ipython",
    "version": 3
   },
   "file_extension": ".py",
   "mimetype": "text/x-python",
   "name": "python",
   "nbconvert_exporter": "python",
   "pygments_lexer": "ipython3",
   "version": "3.8.12"
  }
 },
 "nbformat": 4,
 "nbformat_minor": 4
}
