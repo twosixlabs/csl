{
 "cells": [
  {
   "cell_type": "code",
   "execution_count": 2,
   "metadata": {},
   "outputs": [],
   "source": [
    "import pickle\n",
    "import glob\n",
    "import matplotlib.pyplot as plt\n",
    "from scipy import optimize\n",
    "import numpy as np\n",
    "import pandas as pd"
   ]
  },
  {
   "cell_type": "code",
   "execution_count": 6,
   "metadata": {},
   "outputs": [
    {
     "name": "stdout",
     "output_type": "stream",
     "text": [
      "['f', '0', '0', '64.b']\n",
      "['f', '50000', '0', '64.b']\n",
      "['f', '10000', '0', '64.b']\n",
      "['f', '100000', '0', '64.b']\n",
      "['f', '1000', '0', '64.b']\n"
     ]
    }
   ],
   "source": [
    "infos = []\n",
    "idx_tups = []\n",
    "for file in glob.glob(\"../../data/cifar/cifar_f*\"):\n",
    "    fd = pickle.load(open(file, 'rb'))\n",
    "    #print(file, type(infos[-1]))\n",
    "    var = file.split(\"_\")[-4:]\n",
    "    print(var)\n",
    "    a, y, m = max([(a, yt - yf, mt  - mf) for a, yt, yf, mt, mf in zip(fd['acc'], fd['yeom_tpr'], fd['yeom_fpr'], fd['merlin_tpr'], fd['merlin_fpr'])])\n",
    "    fd['accs'] = a\n",
    "    fd['adv'] = y\n",
    "    fd['merlin_adv'] = m\n",
    "\n",
    "    var[-1] = int(var[-1].split(\".\")[0])\n",
    "    var[-3] = int(var[-3])\n",
    "    var[-2] = float(var[-2]) if var[-2] != 'False' else False\n",
    "    # IDX tups follow the format (epsilon, throw out threshold, batch size)\n",
    "    idx_tups.append(var)\n",
    "    infos.append(fd)"
   ]
  },
  {
   "cell_type": "code",
   "execution_count": 7,
   "metadata": {},
   "outputs": [],
   "source": [
    "inf_scalars = [(i[0]['accs'], i[0]['adv'][-1] if type(i[0]['adv']) == list else i[0]['adv'],  i[0]['merlin_adv'][-1][0] if type(i[0]['merlin_adv']) == list else i[0]['merlin_adv'], *i[1]) for i in zip(infos, idx_tups)]\n",
    "ds = pd.DataFrame(inf_scalars)\n",
    "ds.columns = ['acc', 'yeom', 'merlin', 'method', 'epsilon', 'throw out', 'batch_size']"
   ]
  },
  {
   "cell_type": "code",
   "execution_count": 8,
   "metadata": {},
   "outputs": [],
   "source": [
    "def plot_noise_results(df, base=None, title=\"\"):\n",
    "    epsilons = df['epsilon']\n",
    "    acc = df['acc']\n",
    "    adv = df['yeom']\n",
    "    \n",
    "    if base is not None:\n",
    "        base_acc = [float(base['acc']) for i in epsilons]    \n",
    "        base_adv = [float(base['yeom']) for i in epsilons]\n",
    "    plt.figure()\n",
    "\n",
    "    ax1 = plt.gca()\n",
    "    _ = ax1.plot(epsilons, \n",
    "                                       acc,  \n",
    "                                       color='b', \n",
    "                                       alpha=.8)\n",
    "    ax1.set_ylabel('Accuracy', color='b')\n",
    "    ax1.tick_params('x', colors='b')\n",
    "    \n",
    "    if base is not None:\n",
    "            _ = ax1.plot(epsilons, base_acc,  \n",
    "                                       '--',\n",
    "                                       color='b', \n",
    "                                       alpha=.8)\n",
    "\n",
    "    ax2 = ax1.twinx()\n",
    "    _ = ax2.plot(epsilons, \n",
    "                                       adv, \n",
    "                                       color='r')\n",
    "\n",
    "    ax2.set_ylabel('Membership Inference Adv', color='r')\n",
    "    ax2.tick_params('x', colors='r')\n",
    "    \n",
    "    if base is not None:\n",
    "            _ = ax2.plot(epsilons, base_adv, \n",
    "                                       '--',\n",
    "                                       color='r', \n",
    "                                       alpha=.8)\n",
    "\n",
    "\n",
    "    ax1.set_xlabel('Epsilon (delta = 1e-5)')\n",
    "    ax1.set_title(title)\n",
    "    #fig.tight_layout()\n",
    "    \n",
    "    plt.xscale('log')\n",
    "    plt.show() "
   ]
  },
  {
   "cell_type": "code",
   "execution_count": 9,
   "metadata": {},
   "outputs": [],
   "source": [
    "iss = ds[(ds['epsilon'] != 0)].sort_values('epsilon')\n",
    "base = ds[ds['epsilon'] == 0]"
   ]
  },
  {
   "cell_type": "code",
   "execution_count": 10,
   "metadata": {},
   "outputs": [
    {
     "data": {
      "image/png": "[encoded data removed]",
      "text/plain": [
       "<Figure size 432x288 with 2 Axes>"
      ]
     },
     "metadata": {
      "needs_background": "light"
     },
     "output_type": "display_data"
    }
   ],
   "source": [
    "plot_noise_results(iss, base, 'Immediate Sensitivity')"
   ]
  },
  {
   "cell_type": "code",
   "execution_count": null,
   "metadata": {},
   "outputs": [],
   "source": []
  }
 ],
 "metadata": {
  "kernelspec": {
   "display_name": "Python 3",
   "language": "python",
   "name": "python3"
  },
  "language_info": {
   "codemirror_mode": {
    "name": "ipython",
    "version": 3
   },
   "file_extension": ".py",
   "mimetype": "text/x-python",
   "name": "python",
   "nbconvert_exporter": "python",
   "pygments_lexer": "ipython3",
   "version": "3.7.6"
  }
 },
 "nbformat": 4,
 "nbformat_minor": 4
}
