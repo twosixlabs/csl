{
 "cells": [
  {
   "cell_type": "code",
   "execution_count": 3,
   "metadata": {},
   "outputs": [],
   "source": [
    "import pickle\n",
    "import glob\n",
    "import matplotlib.pyplot as plt\n",
    "from scipy import optimize\n",
    "import numpy as np\n",
    "import pandas as pd"
   ]
  },
  {
   "cell_type": "code",
   "execution_count": 4,
   "metadata": {},
   "outputs": [
    {
     "name": "stdout",
     "output_type": "stream",
     "text": [
      "5 ../../data/purchase/purchase_mb_256_100000_0.1_64.b\n",
      "5 ../../data/purchase/purchase_m_256_1000_5_64.b\n",
      "5 ../../data/purchase/purchase_mb_256_100000_0.5_64.b\n",
      "5 ../../data/purchase/purchase_m_256_10000_0_64.b\n",
      "5 ../../data/purchase/purchase_mb_256_1000000_0.5_64.b\n",
      "5 ../../data/purchase/purchase_mb_256_1000000_0.1_64.b\n",
      "5 ../../data/purchase/purchase_m_256_10000_5_64.b\n",
      "5 ../../data/purchase/purchase_m_256_0_0_64.b\n",
      "5 ../../data/purchase/purchase_mb_256_10000_0.1_64.b\n",
      "5 ../../data/purchase/purchase_m_256_100000_5_64.b\n",
      "5 ../../data/purchase/purchase_m_256_10000_10_64.b\n",
      "5 ../../data/purchase/purchase_m_256_50000_10_64.b\n",
      "5 ../../data/purchase/purchase_m_256_1000_0_64.b\n",
      "5 ../../data/purchase/purchase_m_256_1000_10_64.b\n",
      "5 ../../data/purchase/purchase_m_256_50000_0_64.b\n",
      "5 ../../data/purchase/purchase_m_256_100000_10_64.b\n",
      "5 ../../data/purchase/purchase_m_256_100000_0_64.b\n",
      "5 ../../data/purchase/purchase_mb_256_10000_0.5_64.b\n",
      "5 ../../data/purchase/purchase_m_256_50000_5_64.b\n"
     ]
    }
   ],
   "source": [
    "idx_tups = []\n",
    "for file in glob.glob(\"../../data/purchase/purchase_m*\"):\n",
    "    f = pickle.load(open(file, 'rb'))\n",
    "    accs = []\n",
    "    advs = []\n",
    "    merlin_advs = []\n",
    "    print(len(f), file)\n",
    "    for fd in f:\n",
    "        a, y, m =  max([(a, yt - yf, mt  - mf) for a, yt, yf, mt, mf in zip(fd['acc'], fd['yeom_tpr'], fd['yeom_fpr'], fd['merlin_tpr'], fd['merlin_fpr'])]) #[-1]\n",
    "        fd['acc'] = a\n",
    "        fd['adv'] = y\n",
    "        fd['merlin_adv'] = m\n",
    "        accs.append(a)\n",
    "        advs.append(y)\n",
    "        merlin_advs.append(m)\n",
    "\n",
    "    \n",
    "    var = file.split(\"_\")[-5:]\n",
    "    if var[-5] == 'mb':\n",
    "        var[-5] = 'dp'\n",
    "    else:\n",
    "        var[-5] = 'is'\n",
    "    var[-4] = int(var[-4])\n",
    "    var[-1] = int(var[-1].split(\".\")[0])\n",
    "    var[-3] = int(var[-3])\n",
    "    var[-2] = float(var[-2]) if var[-2] != 'False' else False\n",
    "    \n",
    "    var.append(np.mean(accs))\n",
    "    var.append(np.mean(advs))\n",
    "    var.append(np.mean(merlin_advs))\n",
    "    var.append(np.std(accs))\n",
    "    var.append(np.std(advs))\n",
    "    var.append(np.std(merlin_advs))\n",
    "    # IDX tups follow the format (epsilon, throw out threshold, batch size)\n",
    "    idx_tups.append(var)"
   ]
  },
  {
   "cell_type": "code",
   "execution_count": 5,
   "metadata": {},
   "outputs": [],
   "source": [
    "ds = pd.DataFrame(idx_tups)\n",
    "ds.columns = ['method','width', 'epsilon', 'throw out', 'batch_size', 'acc', 'yeom', 'merlin', 'acc_std', 'yeom_std', 'merlin_std']"
   ]
  },
  {
   "cell_type": "code",
   "execution_count": 6,
   "metadata": {},
   "outputs": [],
   "source": [
    "def plot_noise_results(df, base=None, title=\"\", ax1 = None):\n",
    "    epsilons = df['epsilon']\n",
    "    acc = df['acc']\n",
    "    acc_std = df['acc_std']\n",
    "    adv = df['yeom']\n",
    "    adv_std = df['yeom_std']\n",
    "    \n",
    "    if base is not None:\n",
    "        base_acc = [float(base['acc']) for i in epsilons]    \n",
    "        base_acc_std = [float(base['acc_std']) for i in epsilons]\n",
    "        base_adv = [float(base['yeom']) for i in epsilons]\n",
    "        base_adv_std = [float(base['yeom_std']) for i in epsilons]\n",
    "    plt.figure()\n",
    "\n",
    "    if ax1 is None:\n",
    "        ax1 = plt.gca()\n",
    "        \n",
    "    markers, caps, bars = ax1.errorbar(epsilons, \n",
    "                                       acc, \n",
    "                                       acc_std, \n",
    "                                       color='b', \n",
    "                                       alpha=.8)\n",
    "    [bar.set_alpha(0.25) for bar in bars]\n",
    "    [cap.set_alpha(0.25) for cap in caps]\n",
    "    ax1.set_ylabel('Accuracy', color='b')\n",
    "    ax1.tick_params('x', colors='b')\n",
    "    \n",
    "    if base is not None:\n",
    "            markers, caps, bars = ax1.errorbar(epsilons, \n",
    "                                       base_acc, \n",
    "                                       base_acc_std, \n",
    "                                       fmt='--',\n",
    "                                       color='b', \n",
    "                                       alpha=.8)\n",
    "            [bar.set_alpha(0.25) for bar in bars]\n",
    "            [cap.set_alpha(0.25) for cap in caps]\n",
    "\n",
    "    ax2 = ax1.twinx()\n",
    "    markers, caps, bars = ax2.errorbar(epsilons, \n",
    "                                       adv, \n",
    "                                       adv_std, \n",
    "                                       color='r')\n",
    "    [bar.set_alpha(0.25) for bar in bars]\n",
    "    [cap.set_alpha(0.25) for cap in caps]\n",
    "    ax2.set_ylabel('Membership Inference Adv', color='r')\n",
    "    ax2.tick_params('x', colors='r')\n",
    "    \n",
    "    if base is not None:\n",
    "            markers, caps, bars = ax2.errorbar(epsilons, \n",
    "                                       base_adv, \n",
    "                                       base_adv_std,\n",
    "                                       fmt='--',\n",
    "                                       color='r', \n",
    "                                       alpha=.8)\n",
    "            [bar.set_alpha(0.25) for bar in bars]\n",
    "            [cap.set_alpha(0.25) for cap in caps]\n",
    "\n",
    "    ax1.set_xlabel('Epsilon (delta = 1e-5)')\n",
    "    ax1.set_title(title)\n",
    "    #fig.tight_layout()\n",
    "    \n",
    "    plt.xscale('log')\n",
    "    return ax1, ax2\n",
    "    #plt.show() \n",
    "    \n",
    "def plot_against_eps(isd, dpd, arg, base=None, title=\"\", ax1 = None):\n",
    "    is_eps = isd['epsilon']\n",
    "    dp_eps = dpd['epsilon']\n",
    "    is_eps = [i/max(is_eps) for i in is_eps]\n",
    "    dp_eps = [i/max(dp_eps) for i in dp_eps]\n",
    "    is_arg = isd[arg]\n",
    "    dp_arg = dpd[arg]\n",
    "    is_std = isd[f'{arg}_std']\n",
    "    dp_std = dpd[f'{arg}_std']\n",
    "    \n",
    "    if base is not None:\n",
    "        base_arg = [float(base[arg]) for i in is_eps]    \n",
    "        base_std = [float(base[f'{arg}_std']) for i in is_eps]\n",
    "        \n",
    "    markers, caps, bars = ax1.errorbar(is_eps, \n",
    "                                       is_arg, \n",
    "                                       is_std, \n",
    "                                       color='r')\n",
    "    [bar.set_alpha(0.25) for bar in bars]\n",
    "    [cap.set_alpha(0.25) for cap in caps]\n",
    "    \n",
    "    markers, caps, bars = ax1.errorbar(dp_eps, \n",
    "                                       dp_arg, \n",
    "                                       dp_std, \n",
    "                                       color='blue')\n",
    "    [bar.set_alpha(0.25) for bar in bars]\n",
    "    [cap.set_alpha(0.25) for cap in caps]\n",
    "    \n",
    "    if base is not None:\n",
    "        markers, caps, bars = ax1.errorbar(is_eps, \n",
    "                                    base_arg, \n",
    "                                    base_std,\n",
    "                                    fmt='--',\n",
    "                                    color='black', \n",
    "                                    alpha=.8)\n",
    "        [bar.set_alpha(0.25) for bar in bars]\n",
    "        [cap.set_alpha(0.25) for cap in caps]\n",
    "        return ax1\n",
    "\n",
    "    "
   ]
  },
  {
   "cell_type": "code",
   "execution_count": 11,
   "metadata": {},
   "outputs": [],
   "source": [
    "dps = ds[(ds['method'] == 'dp') & (ds['throw out'] == .1)].sort_values('epsilon')\n",
    "i0 = ds[(ds['method'] == 'is') & (ds['epsilon'] != 0) & (ds['throw out'] == 0)].sort_values('epsilon')\n",
    "i5 = ds[(ds['method'] == 'is') & (ds['epsilon'] != 0) & (ds['throw out'] == 0)].sort_values('epsilon')\n",
    "i10 = ds[(ds['method'] == 'is') & (ds['epsilon'] != 0) & (ds['throw out'] == 0)].sort_values('epsilon')\n",
    "base = ds[ds['epsilon'] == 0]\n"
   ]
  },
  {
   "cell_type": "code",
   "execution_count": 8,
   "metadata": {},
   "outputs": [
    {
     "ename": "NameError",
     "evalue": "name 'iss' is not defined",
     "output_type": "error",
     "traceback": [
      "\u001b[0;31m---------------------------------------------------------------------------\u001b[0m",
      "\u001b[0;31mNameError\u001b[0m                                 Traceback (most recent call last)",
      "\u001b[0;32m<ipython-input-8-5c4d7f28c514>\u001b[0m in \u001b[0;36m<module>\u001b[0;34m\u001b[0m\n\u001b[1;32m      1\u001b[0m \u001b[0mfig\u001b[0m\u001b[0;34m,\u001b[0m \u001b[0;34m(\u001b[0m\u001b[0max1\u001b[0m\u001b[0;34m,\u001b[0m \u001b[0max2\u001b[0m\u001b[0;34m)\u001b[0m \u001b[0;34m=\u001b[0m \u001b[0mplt\u001b[0m\u001b[0;34m.\u001b[0m\u001b[0msubplots\u001b[0m\u001b[0;34m(\u001b[0m\u001b[0;36m1\u001b[0m\u001b[0;34m,\u001b[0m \u001b[0;36m2\u001b[0m\u001b[0;34m,\u001b[0m \u001b[0msharey\u001b[0m\u001b[0;34m=\u001b[0m\u001b[0;32mFalse\u001b[0m\u001b[0;34m)\u001b[0m\u001b[0;34m\u001b[0m\u001b[0;34m\u001b[0m\u001b[0m\n\u001b[1;32m      2\u001b[0m \u001b[0mfig\u001b[0m\u001b[0;34m.\u001b[0m\u001b[0mset_size_inches\u001b[0m\u001b[0;34m(\u001b[0m\u001b[0;36m12\u001b[0m\u001b[0;34m,\u001b[0m \u001b[0;36m5\u001b[0m\u001b[0;34m)\u001b[0m\u001b[0;34m\u001b[0m\u001b[0;34m\u001b[0m\u001b[0m\n\u001b[0;32m----> 3\u001b[0;31m \u001b[0mx1\u001b[0m\u001b[0;34m=\u001b[0m \u001b[0mplot_against_eps\u001b[0m\u001b[0;34m(\u001b[0m\u001b[0miss\u001b[0m\u001b[0;34m,\u001b[0m \u001b[0mdps\u001b[0m\u001b[0;34m,\u001b[0m\u001b[0;34m'acc'\u001b[0m\u001b[0;34m,\u001b[0m \u001b[0mbase\u001b[0m\u001b[0;34m=\u001b[0m\u001b[0mbase\u001b[0m\u001b[0;34m,\u001b[0m \u001b[0mtitle\u001b[0m\u001b[0;34m=\u001b[0m\u001b[0;34m'Accuracy'\u001b[0m\u001b[0;34m,\u001b[0m \u001b[0max1\u001b[0m\u001b[0;34m=\u001b[0m\u001b[0max1\u001b[0m\u001b[0;34m)\u001b[0m\u001b[0;34m\u001b[0m\u001b[0;34m\u001b[0m\u001b[0m\n\u001b[0m\u001b[1;32m      4\u001b[0m \u001b[0mx2\u001b[0m \u001b[0;34m=\u001b[0m \u001b[0mplot_against_eps\u001b[0m\u001b[0;34m(\u001b[0m\u001b[0miss\u001b[0m\u001b[0;34m,\u001b[0m \u001b[0mdps\u001b[0m\u001b[0;34m,\u001b[0m\u001b[0;34m'yeom'\u001b[0m\u001b[0;34m,\u001b[0m \u001b[0mbase\u001b[0m\u001b[0;34m=\u001b[0m\u001b[0mbase\u001b[0m\u001b[0;34m,\u001b[0m \u001b[0mtitle\u001b[0m\u001b[0;34m=\u001b[0m\u001b[0;34m'Advantage'\u001b[0m\u001b[0;34m,\u001b[0m \u001b[0max1\u001b[0m\u001b[0;34m=\u001b[0m\u001b[0max2\u001b[0m\u001b[0;34m)\u001b[0m\u001b[0;34m\u001b[0m\u001b[0;34m\u001b[0m\u001b[0m\n",
      "\u001b[0;31mNameError\u001b[0m: name 'iss' is not defined"
     ]
    },
    {
     "data": {
      "image/png": "[encoded data removed]",
      "text/plain": [
       "<Figure size 864x360 with 2 Axes>"
      ]
     },
     "metadata": {
      "needs_background": "light"
     },
     "output_type": "display_data"
    }
   ],
   "source": [
    "fig, (ax1, ax2) = plt.subplots(1, 2, sharey=False)\n",
    "fig.set_size_inches(12, 5)\n",
    "x1= plot_against_eps(iss, dps,'acc', base=base, title='Accuracy', ax1=ax1)\n",
    "x2 = plot_against_eps(iss, dps,'yeom', base=base, title='Advantage', ax1=ax2)\n"
   ]
  },
  {
   "cell_type": "code",
   "execution_count": 9,
   "metadata": {},
   "outputs": [
    {
     "data": {
      "text/plain": [
       "Text(0.5, 1.0, 'Purchase')"
      ]
     },
     "execution_count": 9,
     "metadata": {},
     "output_type": "execute_result"
    },
    {
     "data": {
      "image/png": "[encoded data removed]",
      "text/plain": [
       "<Figure size 432x288 with 1 Axes>"
      ]
     },
     "metadata": {
      "needs_background": "light"
     },
     "output_type": "display_data"
    }
   ],
   "source": [
    "dps = ds[(ds['method'] == 'dp')].sort_values('acc')\n",
    "i0 = ds[(ds['method'] == 'is') & (ds['epsilon'] != 0) & (ds['throw out'] == 0)].sort_values('acc')\n",
    "i5 = ds[(ds['method'] == 'is') & (ds['epsilon'] != 0) & (ds['throw out'] == 5)].sort_values('acc')\n",
    "i10 = ds[(ds['method'] == 'is') & (ds['epsilon'] != 0) & (ds['throw out'] == 10)].sort_values('acc')\n",
    "\n",
    "plt.scatter(dps['acc'], dps['yeom'])\n",
    "plt.scatter(i0['acc'], i0['yeom'])\n",
    "plt.scatter(i5['acc'], i5['yeom'])\n",
    "plt.scatter(i10['acc'], i10['yeom'])\n",
    "plt.scatter(base['acc'], base['yeom'])\n",
    "plt.title('Purchase')"
   ]
  },
  {
   "cell_type": "code",
   "execution_count": 12,
   "metadata": {},
   "outputs": [
    {
     "data": {
      "text/plain": [
       "(0.06, 0.45)"
      ]
     },
     "execution_count": 12,
     "metadata": {},
     "output_type": "execute_result"
    },
    {
     "data": {
      "image/png": "[encoded data removed]",
      "text/plain": [
       "<Figure size 864x360 with 4 Axes>"
      ]
     },
     "metadata": {
      "needs_background": "light"
     },
     "output_type": "display_data"
    },
    {
     "data": {
      "image/png": "[encoded data removed]",
      "text/plain": [
       "<Figure size 432x288 with 1 Axes>"
      ]
     },
     "metadata": {
      "needs_background": "light"
     },
     "output_type": "display_data"
    },
    {
     "data": {
      "image/png": "[encoded data removed]",
      "text/plain": [
       "<Figure size 432x288 with 1 Axes>"
      ]
     },
     "metadata": {
      "needs_background": "light"
     },
     "output_type": "display_data"
    }
   ],
   "source": [
    "fig, (ax1, ax2) = plt.subplots(1, 2, sharey=True)\n",
    "fig.set_size_inches(12, 5)\n",
    "x1, x2 = plot_noise_results(i0, None, 'Immediate Sensitivity', ax1)\n",
    "x3, x4 = plot_noise_results(dps, None, 'Gradient Clipping', ax2)\n",
    "\n",
    "#x1.set_ylim(.35, .62)\n",
    "#x3.set_ylim(.35, .62)\n",
    "x2.set_ylim(.06, .45)\n",
    "x4.set_ylim(.06, .45)"
   ]
  },
  {
   "cell_type": "code",
   "execution_count": null,
   "metadata": {},
   "outputs": [],
   "source": [
    "\n"
   ]
  },
  {
   "cell_type": "code",
   "execution_count": null,
   "metadata": {},
   "outputs": [],
   "source": []
  },
  {
   "cell_type": "code",
   "execution_count": null,
   "metadata": {},
   "outputs": [],
   "source": []
  }
 ],
 "metadata": {
  "kernelspec": {
   "display_name": "Python 3",
   "language": "python",
   "name": "python3"
  },
  "language_info": {
   "codemirror_mode": {
    "name": "ipython",
    "version": 3
   },
   "file_extension": ".py",
   "mimetype": "text/x-python",
   "name": "python",
   "nbconvert_exporter": "python",
   "pygments_lexer": "ipython3",
   "version": "3.7.6"
  }
 },
 "nbformat": 4,
 "nbformat_minor": 4
}
