{
 "cells": [
  {
   "cell_type": "code",
   "execution_count": 655,
   "metadata": {},
   "outputs": [],
   "source": [
    "# Load the data and libraries\n",
    "import pandas as pd\n",
    "import numpy as np\n",
    "from scipy import stats\n",
    "import matplotlib.pyplot as plt\n",
    "plt.style.use('seaborn-whitegrid')\n",
    "\n",
    "# Load data files\n",
    "import numpy as np\n",
    "import urllib.request\n",
    "import io\n",
    "\n"
   ]
  },
  {
   "cell_type": "code",
   "execution_count": 656,
   "metadata": {},
   "outputs": [],
   "source": [
    "import torch\n",
    "import sklearn.datasets"
   ]
  },
  {
   "cell_type": "code",
   "execution_count": 657,
   "metadata": {},
   "outputs": [],
   "source": [
    "from timeit import default_timer as timer"
   ]
  },
  {
   "cell_type": "code",
   "execution_count": 658,
   "metadata": {},
   "outputs": [],
   "source": [
    "def gaussian_mech_zCDP_vec(vec, sensitivity, rho):\n",
    "    sigma = np.sqrt((sensitivity**2) / (2 * rho))\n",
    "    return vec + np.random.normal(loc=0, scale=sigma, size=vec.shape)"
   ]
  },
  {
   "cell_type": "code",
   "execution_count": 659,
   "metadata": {},
   "outputs": [],
   "source": [
    "n_classes = 2\n",
    "\n",
    "X, y = sklearn.datasets.make_classification(n_samples=1000,\n",
    "                                            n_features=5,\n",
    "                                            n_informative=5,\n",
    "                                            n_redundant=0,\n",
    "                                            n_repeated=0,\n",
    "                                            class_sep=0.5,\n",
    "                                            n_classes=n_classes,\n",
    "                                            random_state = 4)\n",
    "\n",
    "n_features = X.shape[1]"
   ]
  },
  {
   "cell_type": "code",
   "execution_count": 660,
   "metadata": {},
   "outputs": [],
   "source": [
    "# transform labels\n",
    "y = np.where(y == 0, -1, y)"
   ]
  },
  {
   "cell_type": "code",
   "execution_count": 661,
   "metadata": {},
   "outputs": [
    {
     "name": "stdout",
     "output_type": "stream",
     "text": [
      "Train and test set sizes: 800 200\n"
     ]
    }
   ],
   "source": [
    "# Split data into training and test sets\n",
    "training_size = int(X.shape[0] * 0.8)\n",
    "\n",
    "X_train = X[:training_size]\n",
    "X_test = X[training_size:]\n",
    "\n",
    "y_train = y[:training_size]\n",
    "y_test = y[training_size:]\n",
    "\n",
    "print('Train and test set sizes:', len(y_train), len(y_test))"
   ]
  },
  {
   "cell_type": "markdown",
   "metadata": {},
   "source": [
    "# Clipping and Gradient definition"
   ]
  },
  {
   "cell_type": "code",
   "execution_count": 662,
   "metadata": {},
   "outputs": [],
   "source": [
    "def L2_clip_array(vs , b):\n",
    "    norms = np.linalg.norm(vs, ord = 2, axis = 1)\n",
    "    ratios = vs/norms[:, None]\n",
    "    results = np.where((norms > b)[:, None], b*ratios, vs)\n",
    "    return results"
   ]
  },
  {
   "cell_type": "code",
   "execution_count": 663,
   "metadata": {},
   "outputs": [],
   "source": [
    "def vgradient(theta_in, x_in, y_in, C):\n",
    "    x = x_in\n",
    "    y = y_in\n",
    "    theta = theta_in\n",
    "    exponent = y * np.dot(x, theta)\n",
    "    rhs = (y/(1+np.exp(exponent)))\n",
    "    gradients = -(x*rhs[:, None])\n",
    "    clipped_grads = L2_clip_array(gradients, C)\n",
    "    return np.sum(clipped_grads, axis = 0)"
   ]
  },
  {
   "cell_type": "code",
   "execution_count": 748,
   "metadata": {},
   "outputs": [],
   "source": [
    "# Prediction: take a model (theta) and a single example (xi) and return its predicted label\n",
    "def predict(xi, theta, bias=0):\n",
    "    label = np.sign(xi @ theta + bias)\n",
    "    return label\n",
    "\n",
    "def accuracy(theta):\n",
    "    return np.sum(predict(X_test, theta) == y_test)/X_test.shape[0]"
   ]
  },
  {
   "cell_type": "markdown",
   "metadata": {},
   "source": [
    "# Baseline (gradient clipping DP-SGD)"
   ]
  },
  {
   "cell_type": "code",
   "execution_count": 749,
   "metadata": {},
   "outputs": [],
   "source": [
    "def dp_gradient_descent(epochs, rho):\n",
    "    rho_i = rho/epochs\n",
    "    theta = np.zeros(X_train.shape[1])  # leaks the number of features, without privacy\n",
    "    clipping_param = 1\n",
    "    num_examples = X_train.shape[0]     # leaks the number of training examples, without privacy\n",
    "\n",
    "    BATCH_SIZE = 256\n",
    "    num_batches = int(num_examples / BATCH_SIZE)\n",
    "    batches_X = np.array_split(X, num_batches)\n",
    "    batches_y = np.array_split(y, num_batches)\n",
    "\n",
    "    for i in range(epochs):\n",
    "\n",
    "        for xs, ys in zip(batches_X, batches_y):\n",
    "            grad_sum        = vgradient(theta, xs, ys, clipping_param)\n",
    "            noisy_grad_sum  = gaussian_mech_zCDP_vec(grad_sum, clipping_param, rho_i)\n",
    "            noisy_avg_grad  = noisy_grad_sum / BATCH_SIZE\n",
    "            theta           = theta - noisy_avg_grad\n",
    "\n",
    "    return theta"
   ]
  },
  {
   "cell_type": "code",
   "execution_count": 750,
   "metadata": {},
   "outputs": [
    {
     "name": "stdout",
     "output_type": "stream",
     "text": [
      "eps: 0.6886140424415113\n",
      "mean: 0.7605000000000001\n",
      "std: 0.009861541461658019\n"
     ]
    }
   ],
   "source": [
    "rho = 0.01\n",
    "epochs = 5\n",
    "print('eps:', zcdp_eps(rho, 1e-5))\n",
    "accs = [accuracy(dp_gradient_descent(epochs, rho)) for _ in range(10)]\n",
    "print('mean:', np.mean(accs))\n",
    "print('std:', np.std(accs))"
   ]
  },
  {
   "cell_type": "markdown",
   "metadata": {},
   "source": [
    "# Calvin's Sensitivity Implementation"
   ]
  },
  {
   "cell_type": "code",
   "execution_count": 923,
   "metadata": {},
   "outputs": [],
   "source": [
    "def compute_sens_torch(many_xs, t, m, a, b, device):\n",
    "    # Clamp and sort all xs's at once, assuming shape is (num_iter, n)\n",
    "    many_xs = many_xs.clamp(a, b).sort(dim=1).values\n",
    "    n = many_xs.size(1)\n",
    "    assert n - 2*m > 0, f'm = {m} and n = {n} means n - 2m = {n-2*m} is negative'\n",
    "\n",
    "    num_iter = many_xs.size(0)\n",
    "\n",
    "    # Concat [b, a] to the end of every xs so that indexing -1 gives a and indexing n gives b, then clamp indices to -1, n\n",
    "    fa = torch.full((num_iter, 1), b, dtype=torch.double, device=device)\n",
    "    fb = torch.full((num_iter, 1), a, dtype=torch.double, device=device)\n",
    "    many_xs = torch.cat((many_xs, fa, fb), dim=1)\n",
    "\n",
    "    # Generate indices now so they don't need to be every time (will be xs[idx1] - xs[idx2]), this doesn't need to be efficient but w/e\n",
    "    ks = torch.arange(0, n+1, device=device) # distances\n",
    "    #ks = torch.arange(0, 5, device=device) # distances\n",
    "    ls = torch.arange(0, n+2, device=device)\n",
    "    # Use all l values then take lower triangular part of matrix plus (with diagonal shifted by one) to remove values where l > k+1\n",
    "    idx1 = torch.tril(n - m + 1 + ks.reshape(-1, 1) - ls, diagonal=1).clamp(-1, n)\n",
    "    idx2 = (m + 1 - ls).clamp(-1, n)\n",
    "\n",
    "    scalar = torch.exp(-1 * ks * t)\n",
    "\n",
    "    out = torch.empty(num_iter)\n",
    "    out2 = torch.empty(num_iter)\n",
    "    for i in range(num_iter):\n",
    "        xs = many_xs[i]\n",
    "\n",
    "        diffs = torch.tril(torch.abs(xs[idx1] - xs[idx2]), diagonal=1)\n",
    "        inner_max = diffs.max(dim=1).values\n",
    "        #print('inner_max:', inner_max[20])\n",
    "        outer_max = (inner_max*scalar).max()\n",
    "        out[i] = outer_max / (n - 2*m)\n",
    "        out2[i] = inner_max[50]\n",
    "\n",
    "    #print('l2:', )\n",
    "    return out, np.linalg.norm(out2.numpy(), ord=2)\n"
   ]
  },
  {
   "cell_type": "markdown",
   "metadata": {},
   "source": [
    "# Smooth Sensitivity DP-SGD"
   ]
  },
  {
   "cell_type": "code",
   "execution_count": 924,
   "metadata": {},
   "outputs": [],
   "source": [
    "def lln(sigma, size):\n",
    "    x = np.random.laplace(size=size)\n",
    "    y = np.random.normal(size=size)\n",
    "    return x * np.exp(sigma * y)"
   ]
  },
  {
   "cell_type": "code",
   "execution_count": 925,
   "metadata": {},
   "outputs": [],
   "source": [
    "def vgradient_per_ex(theta, x, y):\n",
    "    exponent = y * np.dot(x, theta)\n",
    "    rhs = (y/(1+np.exp(exponent)))\n",
    "    gradients = -(x*rhs[:, None])\n",
    "    return gradients\n",
    "\n",
    "def smooth_dp_gradient_descent(epochs, rho, \n",
    "                               upper=1, lower=-1,\n",
    "                               m=30, t=0.001):\n",
    "    rho_i = rho/epochs\n",
    "    theta = np.zeros(X_train.shape[1])  # leaks the number of features, without privacy\n",
    "    num_examples = X_train.shape[0]     # leaks the number of training examples, without privacy\n",
    "    \n",
    "    BATCH_SIZE = 256\n",
    "\n",
    "    rho_weight = rho_i / X_train.shape[1]\n",
    "    #print('target per-weight rho:', rho_weight)\n",
    "\n",
    "    sigma, s = optimize_sigma(rho_weight, t)    \n",
    "    #print('sigma:', sigma, 's:', s)\n",
    "\n",
    "    num_batches = int(num_examples / BATCH_SIZE)\n",
    "    batches_X = np.array_split(X, num_batches)\n",
    "    batches_y = np.array_split(y, num_batches)\n",
    "    batches_X = [X]\n",
    "    batches_y = [y]\n",
    "    \n",
    "    actual_batch_size = len(batches_X[0])\n",
    "    print('actual batch size:', actual_batch_size)\n",
    "    print('global sens:', 1/actual_batch_size)\n",
    "    \n",
    "    for i in range(epochs):\n",
    "        for xs, ys in zip(batches_X, batches_y):\n",
    "            cx = xs#L2_clip_array(xs, epochs/2)\n",
    "            gradients       = vgradient_per_ex(theta, cx, ys)\n",
    "            noisy_avg_grad  = trimmed_mean(gradients, t, m, lower, upper, sigma, s)\n",
    "            theta           = theta - noisy_avg_grad\n",
    "\n",
    "    return theta"
   ]
  },
  {
   "cell_type": "code",
   "execution_count": 933,
   "metadata": {},
   "outputs": [],
   "source": [
    "# Compute the trimmed mean\n",
    "def trimmed_mean(many_xs, t, m, a, b, sigma, s):\n",
    "    clipped_xs = np.sort(many_xs.clip(a, b), axis=0)\n",
    "    n = clipped_xs.shape[0]\n",
    "    trimmed_xs = clipped_xs[m:n-m]\n",
    "    width = clipped_xs.shape[1]\n",
    "    diffs = clipped_xs[n-m] - clipped_xs[m]\n",
    "    #print('diffs:', diffs)\n",
    "    \n",
    "    many_xs_torch = torch.from_numpy(clipped_xs)\n",
    "\n",
    "    sens, l2_sens_20 = compute_sens_torch(many_xs_torch.T, t, m, a, b, 'cpu')\n",
    "    #print('sens:', sens)\n",
    "    #noise = torch.tensor(lln(sigma, width))\n",
    "    delta = 1e-5/10\n",
    "    epsilon = .05\n",
    "    real_sens = l2_sens_20 / (n - 2*m)\n",
    "    print('real sens:', real_sens, 'n:', n, 'prescale:', l2_sens_20)\n",
    "    g_sigma = np.sqrt(2*(real_sens**2)*np.log(1.25/delta) / (epsilon**2))\n",
    "    noise = np.random.normal(loc=0, scale=g_sigma, size=width)\n",
    "    return np.mean(trimmed_xs, axis=0) + noise #((sens/s)*noise).numpy()\n"
   ]
  },
  {
   "cell_type": "code",
   "execution_count": 934,
   "metadata": {},
   "outputs": [],
   "source": [
    "def opt_exp(eps, t, sigma):\n",
    "    return 5 * (eps / t) * sigma**3 - 5 * sigma**2 - 1\n",
    "\n",
    "def optimize_sigma(target_rho, t):\n",
    "    target_eps = np.sqrt(2*target_rho)\n",
    "    sigma_lower = t / target_eps\n",
    "    sigma_upper = max(2*t / target_eps, 1/2)\n",
    "    \n",
    "    loss = opt_exp(target_eps, t, np.mean([sigma_lower, sigma_upper]))\n",
    "    while np.abs(loss) > 0.001:\n",
    "        #print('loss:', loss)\n",
    "        if loss < 0:\n",
    "            sigma_lower = np.mean([sigma_lower, sigma_upper])\n",
    "        else:\n",
    "            sigma_upper = np.mean([sigma_lower, sigma_upper])\n",
    "\n",
    "        loss = opt_exp(target_eps, t, np.mean([sigma_lower, sigma_upper]))\n",
    "\n",
    "    sigma = np.mean([sigma_lower, sigma_upper])\n",
    "    s = np.exp(-(3/2) * sigma**2) * (target_eps - (t / sigma))\n",
    "\n",
    "    return sigma, s"
   ]
  },
  {
   "cell_type": "code",
   "execution_count": 944,
   "metadata": {
    "scrolled": false
   },
   "outputs": [
    {
     "name": "stdout",
     "output_type": "stream",
     "text": [
      "actual batch size: 1000\n",
      "global sens: 0.001\n",
      "real sens: 0.004810291528701782 n: 1000 prescale: 2.886175\n",
      "real sens: 0.004474966526031494 n: 1000 prescale: 2.68498\n",
      "real sens: 0.0040030133724212645 n: 1000 prescale: 2.401808\n",
      "real sens: 0.004029638369878133 n: 1000 prescale: 2.417783\n",
      "real sens: 0.004460937182108562 n: 1000 prescale: 2.6765623\n",
      "real sens: 0.005094389120737712 n: 1000 prescale: 3.0566335\n",
      "real sens: 0.004459748268127442 n: 1000 prescale: 2.675849\n",
      "real sens: 0.004255106449127197 n: 1000 prescale: 2.5530639\n",
      "real sens: 0.003874603509902954 n: 1000 prescale: 2.324762\n",
      "real sens: 0.0038270088036855064 n: 1000 prescale: 2.2962053\n",
      "real sens: 0.004107257127761841 n: 1000 prescale: 2.4643543\n",
      "real sens: 0.0037656656901041666 n: 1000 prescale: 2.2593994\n",
      "real sens: 0.003287147283554077 n: 1000 prescale: 1.9722884\n",
      "real sens: 0.003686331510543823 n: 1000 prescale: 2.211799\n",
      "real sens: 0.0036925212542215985 n: 1000 prescale: 2.2155128\n",
      "real sens: 0.003712547222773234 n: 1000 prescale: 2.2275283\n",
      "real sens: 0.003745080232620239 n: 1000 prescale: 2.2470481\n",
      "real sens: 0.003949663241704305 n: 1000 prescale: 2.369798\n",
      "real sens: 0.003971043030420939 n: 1000 prescale: 2.3826258\n",
      "real sens: 0.0037987228234608967 n: 1000 prescale: 2.2792337\n",
      "CPU times: user 3.14 s, sys: 402 ms, total: 3.54 s\n",
      "Wall time: 936 ms\n"
     ]
    },
    {
     "data": {
      "text/plain": [
       "0.61"
      ]
     },
     "execution_count": 944,
     "metadata": {},
     "output_type": "execute_result"
    }
   ],
   "source": [
    "%%time\n",
    "#np.set_printoptions(threshold=20)\n",
    "accuracy(smooth_dp_gradient_descent(20, 1, t=0.01, m=200))"
   ]
  },
  {
   "cell_type": "code",
   "execution_count": 936,
   "metadata": {},
   "outputs": [
    {
     "data": {
      "text/plain": [
       "0.21559660262893474"
      ]
     },
     "execution_count": 936,
     "metadata": {},
     "output_type": "execute_result"
    }
   ],
   "source": [
    "zcdp_eps(0.001, 1e-5)"
   ]
  },
  {
   "cell_type": "code",
   "execution_count": 496,
   "metadata": {},
   "outputs": [
    {
     "name": "stdout",
     "output_type": "stream",
     "text": [
      "eps: 0.6886140424415113\n",
      "mean: 0.6485000000000001\n",
      "std: 0.06016851336039474\n"
     ]
    }
   ],
   "source": [
    "rho = .01\n",
    "epochs = 5\n",
    "print('eps:', zcdp_eps(rho, 1e-5))\n",
    "accs = [accuracy(smooth_dp_gradient_descent(epochs, rho, t=0.0001)) for _ in range(10)]\n",
    "print('mean:', np.mean(accs))\n",
    "print('std:', np.std(accs))"
   ]
  },
  {
   "cell_type": "code",
   "execution_count": 497,
   "metadata": {},
   "outputs": [],
   "source": [
    "ms = np.linspace(1, 60, 10)\n",
    "rho = 0.1\n",
    "\n",
    "all_accs = []\n",
    "all_stds = []\n",
    "\n",
    "for m in ms:\n",
    "    accs = [accuracy(smooth_dp_gradient_descent(epochs, rho, t=0.01, m=int(m))) for _ in range(40)]\n",
    "    all_accs.append(np.mean(accs))\n",
    "    all_stds.append(np.std(accs))"
   ]
  },
  {
   "cell_type": "code",
   "execution_count": 498,
   "metadata": {},
   "outputs": [
    {
     "data": {
      "text/plain": [
       "<ErrorbarContainer object of 3 artists>"
      ]
     },
     "execution_count": 498,
     "metadata": {},
     "output_type": "execute_result"
    },
    {
     "data": {
      "image/png": "[encoded data removed]",
      "text/plain": [
       "<Figure size 432x288 with 1 Axes>"
      ]
     },
     "metadata": {},
     "output_type": "display_data"
    }
   ],
   "source": [
    "plt.errorbar(ms, all_accs, yerr=all_stds)"
   ]
  },
  {
   "cell_type": "code",
   "execution_count": 501,
   "metadata": {},
   "outputs": [
    {
     "name": "stderr",
     "output_type": "stream",
     "text": [
      "/home/jnear/anaconda3/envs/torch/lib/python3.6/site-packages/ipykernel_launcher.py:3: RuntimeWarning: overflow encountered in exp\n",
      "  This is separate from the ipykernel package so we can avoid doing imports until\n"
     ]
    }
   ],
   "source": [
    "ts = [float(10**-i) for i in range(1, 10)]\n",
    "rho = .1\n",
    "m=30\n",
    "\n",
    "all_accs = []\n",
    "all_stds = []\n",
    "\n",
    "for t in ts:\n",
    "    accs = [accuracy(smooth_dp_gradient_descent(epochs, rho, t=t, m=int(m))) for _ in range(10)]\n",
    "    all_accs.append(np.mean(accs))\n",
    "    all_stds.append(np.std(accs))"
   ]
  },
  {
   "cell_type": "code",
   "execution_count": 502,
   "metadata": {},
   "outputs": [
    {
     "data": {
      "image/png": "[encoded data removed]",
      "text/plain": [
       "<Figure size 432x288 with 1 Axes>"
      ]
     },
     "metadata": {},
     "output_type": "display_data"
    }
   ],
   "source": [
    "plt.errorbar(ts, all_accs, yerr=all_stds)\n",
    "plt.xscale('log');"
   ]
  },
  {
   "cell_type": "code",
   "execution_count": null,
   "metadata": {},
   "outputs": [],
   "source": []
  }
 ],
 "metadata": {
  "kernelspec": {
   "display_name": "Python 3",
   "language": "python",
   "name": "python3"
  },
  "language_info": {
   "codemirror_mode": {
    "name": "ipython",
    "version": 3
   },
   "file_extension": ".py",
   "mimetype": "text/x-python",
   "name": "python",
   "nbconvert_exporter": "python",
   "pygments_lexer": "ipython3",
   "version": "3.6.10"
  }
 },
 "nbformat": 4,
 "nbformat_minor": 5
}
