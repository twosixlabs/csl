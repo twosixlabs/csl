{
 "cells": [
  {
   "cell_type": "code",
   "execution_count": 1,
   "metadata": {},
   "outputs": [
    {
     "name": "stdout",
     "output_type": "stream",
     "text": [
      "1.7.1\n"
     ]
    }
   ],
   "source": [
    "import matplotlib.pyplot as plt\n",
    "import matplotlib.cm as cm\n",
    "import numpy as np\n",
    "from sklearn.datasets import make_classification\n",
    "#import pandas as pd\n",
    "#import seaborn as sns\n",
    "import torch\n",
    "import torch.nn as nn\n",
    "import torch.optim as optim\n",
    "from torch.autograd import Variable\n",
    "from IPython import display\n",
    "from sklearn import metrics\n",
    "from sklearn.model_selection import train_test_split\n",
    "from sklearn.preprocessing import StandardScaler\n",
    "from sklearn.utils.class_weight import compute_class_weight\n",
    "from torch.utils.data import TensorDataset\n",
    "from torch.utils.data import DataLoader\n",
    "from collections import defaultdict\n",
    "\n",
    "import sklearn.datasets\n",
    "\n",
    "torch.manual_seed(1)\n",
    "np.random.seed(7)\n",
    "#sns.set(style=\"white\", palette=\"muted\", color_codes=True, context=\"talk\")\n",
    "\n",
    "%matplotlib inline\n",
    "print(torch.__version__) "
   ]
  },
  {
   "cell_type": "code",
   "execution_count": 2,
   "metadata": {},
   "outputs": [],
   "source": [
    "import time\n",
    "from torchvision import datasets, transforms\n"
   ]
  },
  {
   "cell_type": "markdown",
   "metadata": {},
   "source": [
    "# Dataset and Model Definition"
   ]
  },
  {
   "cell_type": "code",
   "execution_count": 373,
   "metadata": {},
   "outputs": [],
   "source": [
    "BATCH_SIZE=1024"
   ]
  },
  {
   "cell_type": "code",
   "execution_count": 374,
   "metadata": {},
   "outputs": [],
   "source": [
    "transform=transforms.Compose([\n",
    "    transforms.ToTensor(),\n",
    "    #transforms.Lambda(lambda x: torch.flatten(x)),\n",
    "    #transforms.Normalize((0.1307,), (0.3081,))\n",
    "    ])\n",
    "\n",
    "dataset1 = datasets.MNIST('data', train=True, download=True,\n",
    "                   transform=transform)\n",
    "dataset2 = datasets.MNIST('data', train=False,\n",
    "                   transform=transform)\n",
    "\n",
    "train_loader = torch.utils.data.DataLoader(dataset1, batch_size=BATCH_SIZE)\n",
    "test_loader = torch.utils.data.DataLoader(dataset2, batch_size=BATCH_SIZE)\n",
    "n_features = 784\n",
    "n_classes = 10"
   ]
  },
  {
   "cell_type": "code",
   "execution_count": 376,
   "metadata": {},
   "outputs": [],
   "source": [
    "class Classifier(nn.Module):\n",
    "    def __init__(self, n_features):\n",
    "        super(Classifier, self).__init__()\n",
    "        self.network = nn.Sequential(\n",
    "            torch.nn.Conv2d(1, 16, 8, 2, padding=3, bias=False),\n",
    "            torch.nn.ReLU(),\n",
    "            torch.nn.MaxPool2d(2, 1), \n",
    "            torch.nn.Conv2d(16, 32, 4, 2, bias=False), \n",
    "            torch.nn.ReLU(), \n",
    "            torch.nn.MaxPool2d(2, 1), \n",
    "            torch.nn.Flatten(), \n",
    "            torch.nn.Linear(32 * 4 * 4, 32, bias=False), \n",
    "            torch.nn.ReLU(), \n",
    "            torch.nn.Linear(32, 10, bias=False),\n",
    "            nn.LogSoftmax()\n",
    "    )\n",
    "        \n",
    "    def forward(self, x):\n",
    "        return self.network(x)"
   ]
  },
  {
   "cell_type": "code",
   "execution_count": 378,
   "metadata": {},
   "outputs": [],
   "source": [
    "def accuracy(model, X, y):\n",
    "    Xt = torch.from_numpy(X).float()\n",
    "    yt = torch.from_numpy(y).long()\n",
    "    outputs = model(Xt)\n",
    "    y_hat = [1 if o>.5 else 0 for o in outputs]\n",
    "    accuracy = np.sum(y_hat == y) / len(y)\n",
    "    return accuracy"
   ]
  },
  {
   "cell_type": "markdown",
   "metadata": {},
   "source": [
    "# Training"
   ]
  },
  {
   "cell_type": "code",
   "execution_count": 379,
   "metadata": {},
   "outputs": [],
   "source": [
    "def make_plot(info, key, title):\n",
    "    plt.plot(info[key]);\n",
    "    plt.title(title)\n",
    "    plt.show()"
   ]
  },
  {
   "cell_type": "code",
   "execution_count": 380,
   "metadata": {},
   "outputs": [],
   "source": [
    "UPSTREAM_GRAD_BOUND = 0.0001\n",
    "INPUT_BOUND = 1"
   ]
  },
  {
   "cell_type": "code",
   "execution_count": 381,
   "metadata": {},
   "outputs": [],
   "source": [
    "def l2_clip(t, C):\n",
    "    dims = tuple(range(1, len(t.shape)))\n",
    "    norm = t.norm(dim=dims, keepdim=True, p=2).expand(t.shape)\n",
    "    clipped = torch.where(norm > C, C*(t/norm), t)\n",
    "    #t[norm > C] = (C*(t/norm)).flatten()\n",
    "    #new_norms = clipped.norm(dim=dims, p=2)\n",
    "\n",
    "    return clipped"
   ]
  },
  {
   "cell_type": "code",
   "execution_count": 382,
   "metadata": {},
   "outputs": [],
   "source": [
    "def clamp_grad(self, grad_input, grad_output):\n",
    "    if isinstance(self, nn.Linear):\n",
    "        upstream_g, g_weights = grad_input\n",
    "        if upstream_g == None:\n",
    "            return grad_input\n",
    "        else:\n",
    "            self.grad_maxes.append(upstream_g.abs().max().item())\n",
    "\n",
    "            return (l2_clip(upstream_g, UPSTREAM_GRAD_BOUND), g_weights)\n",
    "    elif isinstance(self, nn.ReLU):\n",
    "        self.grad_maxes.append(grad_input[0].abs().max().item())\n",
    "\n",
    "        return (l2_clip(grad_input[0], UPSTREAM_GRAD_BOUND),)\n",
    "    else:\n",
    "        return None"
   ]
  },
  {
   "cell_type": "code",
   "execution_count": 383,
   "metadata": {},
   "outputs": [],
   "source": [
    "def clamp_grad(self, grad_input, grad_output):\n",
    "    # we assume there is always a ReLU or LogSoftMax layer right before something with weights\n",
    "    if isinstance(self, (nn.ReLU, nn.LogSoftmax)):\n",
    "        g = grad_input[0]\n",
    "        self.grad_maxes.append(g.abs().max().item())\n",
    "        return (l2_clip(g, UPSTREAM_GRAD_BOUND),)"
   ]
  },
  {
   "cell_type": "code",
   "execution_count": 384,
   "metadata": {},
   "outputs": [],
   "source": [
    "input_maxes = []\n",
    "def clamp_input(self, input):\n",
    "    self.input_maxes.append(input[0].abs().max().item())\n",
    "    return tuple([l2_clip(x, INPUT_BOUND) for x in input])"
   ]
  },
  {
   "cell_type": "code",
   "execution_count": 385,
   "metadata": {},
   "outputs": [],
   "source": [
    "def zcdp_eps(rho, delta):\n",
    "    return rho + 2*np.sqrt(rho*np.log(1/delta))"
   ]
  },
  {
   "cell_type": "code",
   "execution_count": 406,
   "metadata": {},
   "outputs": [],
   "source": [
    "def run_experiment(epsilon, epochs, add_noise=False):\n",
    "    model = Classifier(n_features=n_features)\n",
    "    model.to('cuda')\n",
    "    model.network.to('cuda')\n",
    "    model_criterion = nn.NLLLoss() \n",
    "    model_optimizer = optim.Adam(model.parameters(), lr=0.01)#, weight_decay=0.0001)\n",
    "    rho_i = 0.0000001\n",
    "    total_rho = 0\n",
    "    \n",
    "    for x in model.network:\n",
    "        x.input_maxes = []\n",
    "        x.grad_maxes = []\n",
    "        x.register_backward_hook(clamp_grad)\n",
    "        x.register_forward_pre_hook(clamp_input)\n",
    "    \n",
    "    sensitivities = []\n",
    "    norms = []\n",
    "    decays = []\n",
    "    losses = []\n",
    "    \n",
    "    model.train()\n",
    "    # sensitivity for everything with weights is just:\n",
    "    sensitivity = INPUT_BOUND * UPSTREAM_GRAD_BOUND / BATCH_SIZE\n",
    "    sigma = np.sqrt(sensitivity**2 / (2*rho_i))\n",
    "    print('sensitivity:', sensitivity)\n",
    "    \n",
    "    for epoch in range(epochs):\n",
    "        for x_batch_train, y_batch_train in train_loader:\n",
    "            xb = x_batch_train.to('cuda')\n",
    "            yb = y_batch_train.to('cuda')\n",
    "            model_optimizer.zero_grad()\n",
    "            outputs = model.forward(xb)\n",
    "            loss = model_criterion(outputs, yb)\n",
    "            losses.append(loss)\n",
    "            loss.backward()\n",
    "            \n",
    "            for p in model.parameters():\n",
    "                with torch.no_grad():\n",
    "                    p.grad += sigma * torch.randn(p.shape).to('cuda')\n",
    "                    total_rho += rho_i\n",
    "\n",
    "            norms.append(next(model.parameters()).data.norm())\n",
    "\n",
    "            model_optimizer.step()\n",
    "            \n",
    "\n",
    "    total_weights = 0\n",
    "    for p in model.parameters():\n",
    "        total_weights += p.flatten().shape[0]\n",
    "    print('total weights:', total_weights)\n",
    "\n",
    "    info = {'sens': sensitivities,\n",
    "            'norms': norms,\n",
    "            'decays': decays,\n",
    "            'losses': losses,}\n",
    "    print('total rho:', total_rho)\n",
    "    print('total epsilon:', zcdp_eps(total_rho, 1e-5))\n",
    "    return model, info"
   ]
  },
  {
   "cell_type": "code",
   "execution_count": 407,
   "metadata": {},
   "outputs": [],
   "source": [
    "def test(model, test_loader):\n",
    "    model.eval()\n",
    "    test_loss = 0\n",
    "    correct = 0\n",
    "    with torch.no_grad():\n",
    "        for data, target in test_loader:\n",
    "            data, target = data.to('cuda'), target.to('cuda')\n",
    "            output = model(data)\n",
    "            test_loss += nn.functional.nll_loss(output, target, reduction='sum').item()  # sum up batch loss\n",
    "            pred = output.argmax(dim=1, keepdim=True)  # get the index of the max log-probability\n",
    "            correct += pred.eq(target.view_as(pred)).sum().item()\n",
    "\n",
    "    test_loss /= len(test_loader.dataset)\n",
    "\n",
    "    print('\\nTest set: Average loss: {:.4f}, Accuracy: {}/{} ({:.2f}%)\\n'.format(\n",
    "        test_loss, correct, len(test_loader.dataset),\n",
    "        100. * correct / len(test_loader.dataset)))"
   ]
  },
  {
   "cell_type": "code",
   "execution_count": 411,
   "metadata": {},
   "outputs": [
    {
     "name": "stdout",
     "output_type": "stream",
     "text": [
      "sensitivity: 9.765625e-08\n",
      "total weights: 25920\n",
      "total rho: 0.0002360000000000049\n",
      "total epsilon: 0.1044866673308719\n"
     ]
    },
    {
     "data": {
      "image/png": "[encoded data removed]",
      "text/plain": [
       "<Figure size 432x288 with 1 Axes>"
      ]
     },
     "metadata": {
      "needs_background": "light"
     },
     "output_type": "display_data"
    },
    {
     "data": {
      "image/png": "[encoded data removed]",
      "text/plain": [
       "<Figure size 432x288 with 1 Axes>"
      ]
     },
     "metadata": {
      "needs_background": "light"
     },
     "output_type": "display_data"
    },
    {
     "name": "stderr",
     "output_type": "stream",
     "text": [
      "/home/ubuntu/anaconda3/lib/python3.7/site-packages/torch/nn/modules/container.py:117: UserWarning: Implicit dimension choice for log_softmax has been deprecated. Change the call to include dim=X as an argument.\n",
      "  input = module(input)\n"
     ]
    },
    {
     "name": "stdout",
     "output_type": "stream",
     "text": [
      "\n",
      "Test set: Average loss: 1.4772, Accuracy: 9620/10000 (96.20%)\n",
      "\n",
      "CPU times: user 59.9 s, sys: 23.8 ms, total: 60 s\n",
      "Wall time: 59.9 s\n"
     ]
    }
   ],
   "source": [
    "%%time\n",
    "\n",
    "model, info = run_experiment(.001, 10, False)\n",
    "\n",
    "for key, title in [#('sens', 'Sensitivity'), \n",
    "                   ('norms', 'L2 Norm of 1st layer weights'),\n",
    "                   #('decays', 'Weight Decay Value'),\n",
    "                   ('losses', 'Loss')\n",
    "                ]:\n",
    "    make_plot(info, key, title)\n",
    "\n",
    "test(model, test_loader)"
   ]
  },
  {
   "cell_type": "code",
   "execution_count": 399,
   "metadata": {},
   "outputs": [
    {
     "name": "stdout",
     "output_type": "stream",
     "text": [
      "Layer: 1 ReLU mean gradient max: nan\n",
      "Layer: 4 ReLU mean gradient max: nan\n",
      "Layer: 8 ReLU mean gradient max: nan\n",
      "Layer: 10 LogSoftmax mean gradient max: nan\n"
     ]
    },
    {
     "data": {
      "image/png": "[encoded data removed]",
      "text/plain": [
       "<Figure size 432x288 with 1 Axes>"
      ]
     },
     "metadata": {
      "needs_background": "light"
     },
     "output_type": "display_data"
    }
   ],
   "source": [
    "for i, layer in enumerate(model.network):\n",
    "    if isinstance(layer, (nn.ReLU, nn.LogSoftmax)):\n",
    "        plt.plot(layer.grad_maxes, label=f'Layer {i} ({type(layer).__name__})')\n",
    "        print('Layer:', i, type(layer).__name__, 'mean gradient max:', torch.tensor(layer.grad_maxes).mean().item())\n",
    "plt.legend();"
   ]
  },
  {
   "cell_type": "code",
   "execution_count": 400,
   "metadata": {},
   "outputs": [
    {
     "name": "stdout",
     "output_type": "stream",
     "text": [
      "Layer: 0 Conv2d mean input max: 1.0\n",
      "Layer: 3 Conv2d mean input max: nan\n",
      "Layer: 7 Linear mean input max: nan\n",
      "Layer: 9 Linear mean input max: nan\n"
     ]
    },
    {
     "data": {
      "image/png": "[encoded data removed]",
      "text/plain": [
       "<Figure size 432x288 with 1 Axes>"
      ]
     },
     "metadata": {
      "needs_background": "light"
     },
     "output_type": "display_data"
    }
   ],
   "source": [
    "for i, layer in enumerate(model.network):\n",
    "    if isinstance(layer, (nn.Linear, nn.Conv2d)):\n",
    "        plt.plot(layer.input_maxes, label=f'Layer {i} ({type(layer).__name__})')\n",
    "        #print(layer.input_maxes[0])\n",
    "        print('Layer:', i, type(layer).__name__, 'mean input max:', torch.tensor(layer.input_maxes).mean().item())\n",
    "\n",
    "plt.legend();"
   ]
  },
  {
   "cell_type": "code",
   "execution_count": 106,
   "metadata": {},
   "outputs": [],
   "source": [
    "import gc\n",
    "\n",
    "gc.collect()\n",
    "\n",
    "torch.cuda.empty_cache()"
   ]
  },
  {
   "cell_type": "code",
   "execution_count": null,
   "metadata": {},
   "outputs": [],
   "source": []
  },
  {
   "cell_type": "code",
   "execution_count": null,
   "metadata": {},
   "outputs": [],
   "source": []
  }
 ],
 "metadata": {
  "kernelspec": {
   "display_name": "Python 3",
   "language": "python",
   "name": "python3"
  },
  "language_info": {
   "codemirror_mode": {
    "name": "ipython",
    "version": 3
   },
   "file_extension": ".py",
   "mimetype": "text/x-python",
   "name": "python",
   "nbconvert_exporter": "python",
   "pygments_lexer": "ipython3",
   "version": "3.7.6"
  }
 },
 "nbformat": 4,
 "nbformat_minor": 4
}
