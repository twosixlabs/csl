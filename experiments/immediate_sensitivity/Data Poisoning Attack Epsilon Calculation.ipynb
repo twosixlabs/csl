{
 "cells": [
  {
   "cell_type": "code",
   "execution_count": null,
   "metadata": {},
   "outputs": [],
   "source": [
    "import numpy as np\n",
    "import matplotlib.pyplot as plt\n",
    "import matplotlib.cm as cm\n",
    "%matplotlib inline"
   ]
  },
  {
   "cell_type": "code",
   "execution_count": null,
   "metadata": {},
   "outputs": [],
   "source": [
    "full_path = '/home/jnear/co/collab/csl/experiments/immediate_sensitivity/results/'\n",
    "filenames = {\n",
    "    10000: '_results_8_10000.0.txt',\n",
    "    1000: '_results_8_1000.0.txt',\n",
    "    100: '_results_8_100.0.txt',\n",
    "    10: '_results_8_10.0.txt',\n",
    "    1: '_results_8_1.0.txt',\n",
    "    0.1: '_results_8_0.1.txt',\n",
    "    0.01: '_results_8_0.01.txt'\n",
    "}\n",
    "\n",
    "all_backdoor_results = {}\n",
    "\n",
    "for epsilon in filenames.keys():\n",
    "    nobkd_filename = full_path + 'nobkd' + filenames[epsilon]\n",
    "    bkd_filename = full_path + 'bkd' + filenames[epsilon]\n",
    "    with open(nobkd_filename) as f:\n",
    "        nobkd_results = [int(x) for x in f]\n",
    "    with open(bkd_filename) as f:\n",
    "        bkd_results = [int(x) for x in f]\n",
    "\n",
    "    all_backdoor_results[epsilon] = (nobkd_results, bkd_results)\n",
    "\n",
    "len(nobkd_results)"
   ]
  },
  {
   "cell_type": "code",
   "execution_count": null,
   "metadata": {},
   "outputs": [],
   "source": [
    "filenames = {\n",
    "    10000: '_results_8_10000.0.txt',\n",
    "    1000: '_results_8_1000.0.txt',\n",
    "    100: '_results_8_100.0.txt',\n",
    "    10: '_results_8_10.0.txt',\n",
    "    1: '_results_8_1.0.txt',\n",
    "}\n",
    "\n",
    "all_backdoor_results_baseline = {}\n",
    "\n",
    "for epsilon in filenames.keys():\n",
    "    nobkd_filename = full_path + 'baseline_nobkd' + filenames[epsilon]\n",
    "    bkd_filename = full_path + 'baseline_bkd' + filenames[epsilon]\n",
    "    with open(nobkd_filename) as f:\n",
    "        nobkd_results = [int(x) for x in f]\n",
    "    with open(bkd_filename) as f:\n",
    "        bkd_results = [int(x) for x in f]\n",
    "\n",
    "    all_backdoor_results_baseline[epsilon] = (nobkd_results, bkd_results)\n",
    "\n",
    "len(nobkd_results)"
   ]
  },
  {
   "cell_type": "code",
   "execution_count": null,
   "metadata": {},
   "outputs": [],
   "source": [
    "from scipy import stats\n",
    "def clopper_pearson(count, trials, conf):\n",
    "    count, trials, conf = np.array(count), np.array(trials), np.array(conf)\n",
    "    q = count / trials\n",
    "    ci_low = stats.beta.ppf(conf / 2., count, trials - count + 1)\n",
    "    ci_upp = stats.beta.isf(conf / 2., count + 1, trials - count)\n",
    "\n",
    "    if np.ndim(ci_low) > 0:\n",
    "        ci_low[q == 0] = 0\n",
    "        ci_upp[q == 1] = 1\n",
    "    else:\n",
    "        ci_low = ci_low if (q != 0) else 0\n",
    "        ci_upp = ci_upp if (q != 1) else 1\n",
    "    return ci_low, ci_upp\n"
   ]
  },
  {
   "cell_type": "code",
   "execution_count": null,
   "metadata": {},
   "outputs": [],
   "source": [
    "def bkd_find_thresh(nobkd_li, bkd_li, use_dkw=False):\n",
    "    # find the biggest ratio\n",
    "    best_threshs = {}\n",
    "    nobkd_arr = nobkd_li\n",
    "    bkd_arr = bkd_li\n",
    "    all_arr = np.concatenate((nobkd_arr, bkd_arr)).ravel()\n",
    "    all_threshs = np.unique(all_arr)\n",
    "    best_plain_thresh = -np.inf, all_threshs[0]\n",
    "    best_corr_thresh = -np.inf, all_threshs[0]\n",
    "    for thresh in all_threshs:\n",
    "        nobkd_ct = (nobkd_arr >= thresh).sum()\n",
    "        bkd_ct = (bkd_arr >= thresh).sum()\n",
    "        bkd_p = bkd_ct/bkd_arr.shape[0]\n",
    "        nobkd_p = nobkd_ct/nobkd_arr.shape[0]\n",
    "        \n",
    "        if use_dkw:\n",
    "            nobkd_ub = nobkd_p + np.sqrt(np.log(2/.05)/nobkd_arr.shape[0])\n",
    "            bkd_lb = bkd_p - np.sqrt(np.log(2/.05)/bkd_arr.shape[0])\n",
    "        else:\n",
    "            _, nobkd_ub = clopper_pearson(nobkd_ct, nobkd_arr.shape[0], .05)\n",
    "            bkd_lb, _ = clopper_pearson(bkd_ct, bkd_arr.shape[0], .05)\n",
    "\n",
    "        if bkd_ct in [bkd_arr.shape[0], 0] or nobkd_ct in [nobkd_arr.shape[0], 0]:\n",
    "            plain_ratio = 1\n",
    "        elif bkd_p + nobkd_p > 1:  # this makes ratio bigger\n",
    "            plain_ratio = (1-nobkd_p)/(1-bkd_p)\n",
    "        else:\n",
    "            plain_ratio = bkd_p/nobkd_p\n",
    "\n",
    "        if nobkd_ub + bkd_lb > 1:\n",
    "            corr_ratio = (1-nobkd_ub)/(1-bkd_lb)\n",
    "        else:\n",
    "            corr_ratio = bkd_lb/nobkd_ub\n",
    "\n",
    "        plain_eps = np.log(plain_ratio)\n",
    "        corr_eps = np.log(corr_ratio)\n",
    "\n",
    "        if best_plain_thresh[0] < plain_eps:\n",
    "            best_plain_thresh = plain_eps, thresh\n",
    "        if best_corr_thresh[0] < corr_eps:\n",
    "            best_corr_thresh = corr_eps, thresh\n",
    "    return best_corr_thresh[1]\n",
    "\n",
    "bkd_find_thresh(np.array(nobkd_results), np.array(bkd_results), use_dkw=True)"
   ]
  },
  {
   "cell_type": "code",
   "execution_count": null,
   "metadata": {},
   "outputs": [],
   "source": [
    "def bkd_get_eps(n_repeat, nobkd_li, bkd_li, thresh, use_dkw=False):\n",
    "    eps = {}\n",
    "\n",
    "    nobkd_arr = nobkd_li\n",
    "    bkd_arr = bkd_li\n",
    "    bkd_ct, nobkd_ct = (bkd_arr >= thresh).sum(), (nobkd_arr >= thresh).sum()\n",
    "    bkd_p = bkd_ct/bkd_arr.shape[0]\n",
    "    nobkd_p = nobkd_ct/nobkd_arr.shape[0]\n",
    "       \n",
    "    if use_dkw:\n",
    "        nobkd_ub = nobkd_p + np.sqrt(np.log(2/.05)/nobkd_arr.shape[0])\n",
    "        bkd_lb = bkd_p - np.sqrt(np.log(2/.05)/bkd_arr.shape[0])\n",
    "    else:\n",
    "        nobkd_lb, nobkd_ub = clopper_pearson(nobkd_ct, nobkd_arr.shape[0], .01)\n",
    "        bkd_lb, bkd_ub = clopper_pearson(bkd_ct, bkd_arr.shape[0], .01)\n",
    "\n",
    "    if bkd_ct in [bkd_arr.shape[0], 0] or nobkd_ct in [nobkd_arr.shape[0], 0]:\n",
    "        plain_ratio = 1\n",
    "    elif bkd_p + nobkd_p > 1:  # this makes ratio bigger\n",
    "        plain_ratio = (1-nobkd_p)/(1-bkd_p)\n",
    "    else:\n",
    "        plain_ratio = bkd_p/nobkd_p\n",
    "\n",
    "    if nobkd_ub + bkd_lb > 1:\n",
    "        corr_ratio = (1-nobkd_ub)/(1-bkd_lb)\n",
    "    else:\n",
    "        corr_ratio = bkd_lb/nobkd_ub\n",
    "\n",
    "    plain_eps = np.log(plain_ratio)/n_repeat\n",
    "    corr_eps = np.log(corr_ratio)/n_repeat\n",
    "\n",
    "    return (corr_eps, plain_eps)\n",
    "\n",
    "[(t, bkd_get_eps(8, np.array(nobkd_results), np.array(bkd_results), t)) for t in np.linspace(2950, 3000, 10)]"
   ]
  },
  {
   "cell_type": "code",
   "execution_count": null,
   "metadata": {
    "scrolled": false
   },
   "outputs": [],
   "source": [
    "def get_eps_thresh(nobkd_arr, bkd_arr, thresh):\n",
    "    poisoning_size = 8\n",
    "    \n",
    "    bkd_ct = (bkd_arr >= thresh).sum()\n",
    "    nobkd_ct = (nobkd_arr >= thresh).sum()\n",
    "    bkd_p = bkd_ct/bkd_arr.shape[0]\n",
    "    nobkd_p = nobkd_ct/nobkd_arr.shape[0]\n",
    "\n",
    "    nobkd_lb, nobkd_ub = clopper_pearson(nobkd_ct, nobkd_arr.shape[0], .01)\n",
    "    bkd_lb, bkd_ub = clopper_pearson(bkd_ct, bkd_arr.shape[0], .01)\n",
    "\n",
    "    if nobkd_ub + bkd_lb > 1:\n",
    "        corr_ratio = (1-nobkd_ub)/(1-bkd_lb)\n",
    "    else:\n",
    "        corr_ratio = bkd_lb/nobkd_ub\n",
    "\n",
    "    corr_eps = np.log(corr_ratio)/poisoning_size\n",
    "\n",
    "    return corr_eps\n",
    "\n",
    "def get_eps(nobkd_arr, bkd_arr):\n",
    "    all_arr = np.concatenate((nobkd_arr, bkd_arr)).ravel()\n",
    "    all_threshs = np.unique(all_arr)\n",
    "    all_threshs = all_threshs[all_threshs > 0]\n",
    "    all_epsilons = [(thresh, bkd_get_eps(8, nobkd_arr, bkd_arr, thresh)[1]) for thresh in all_threshs]\n",
    "    thresh, corr_eps = max(all_epsilons, key = lambda x: x[1])\n",
    "    return thresh, corr_eps\n",
    "get_eps(np.array(nobkd_results), np.array(bkd_results))\n"
   ]
  },
  {
   "cell_type": "code",
   "execution_count": null,
   "metadata": {
    "scrolled": true
   },
   "outputs": [],
   "source": [
    "np.log(np.mean(nobkd_results)/np.mean(bkd_results))"
   ]
  },
  {
   "cell_type": "markdown",
   "metadata": {},
   "source": [
    "# Our Results"
   ]
  },
  {
   "cell_type": "code",
   "execution_count": null,
   "metadata": {},
   "outputs": [],
   "source": [
    "ours_epsilons = []\n",
    "for epsilon in sorted(all_backdoor_results.keys()):\n",
    "    nobkd_results, bkd_results = all_backdoor_results[epsilon]\n",
    "    nobkd_results = np.array(nobkd_results)\n",
    "    bkd_results = np.array(bkd_results)\n",
    "    nobkd_results = nobkd_results[nobkd_results > 1000]\n",
    "    bkd_results = bkd_results[bkd_results > 1000]\n",
    "    thresh, calculated_eps = get_eps(nobkd_results, bkd_results)\n",
    "    print('for epsilon', epsilon, 'calculated epsilon was', calculated_eps)\n",
    "    ours_epsilons.append(calculated_eps)\n",
    "\n",
    "print('ours_measured_eps = ', ours_epsilons)"
   ]
  },
  {
   "cell_type": "markdown",
   "metadata": {},
   "source": [
    "# Baseline Results"
   ]
  },
  {
   "cell_type": "code",
   "execution_count": null,
   "metadata": {},
   "outputs": [],
   "source": [
    "baseline_epsilons = []\n",
    "\n",
    "for epsilon in sorted(all_backdoor_results_baseline.keys()):\n",
    "    nobkd_results, bkd_results = all_backdoor_results_baseline[epsilon]\n",
    "    nobkd_results = np.array(nobkd_results)\n",
    "    bkd_results = np.array(bkd_results)\n",
    "    nobkd_results = nobkd_results[nobkd_results > 1000]\n",
    "    bkd_results = bkd_results[bkd_results > 1000]\n",
    "    thresh, calculated_eps = get_eps(nobkd_results, bkd_results)\n",
    "    print('for epsilon', epsilon, 'calculated epsilon was', calculated_eps)\n",
    "    baseline_epsilons.append(calculated_eps)\n",
    "print('baseline_measured_eps = ', baseline_epsilons)"
   ]
  }
 ],
 "metadata": {
  "kernelspec": {
   "display_name": "Python 3",
   "language": "python",
   "name": "python3"
  },
  "language_info": {
   "codemirror_mode": {
    "name": "ipython",
    "version": 3
   },
   "file_extension": ".py",
   "mimetype": "text/x-python",
   "name": "python",
   "nbconvert_exporter": "python",
   "pygments_lexer": "ipython3",
   "version": "3.7.7"
  }
 },
 "nbformat": 4,
 "nbformat_minor": 4
}
