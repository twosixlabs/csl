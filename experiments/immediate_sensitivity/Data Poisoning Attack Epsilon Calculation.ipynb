{
 "cells": [
  {
   "cell_type": "code",
   "execution_count": 25,
   "metadata": {},
   "outputs": [],
   "source": [
    "import numpy as np\n",
    "import matplotlib.pyplot as plt\n",
    "import matplotlib.cm as cm\n",
    "%matplotlib inline"
   ]
  },
  {
   "cell_type": "code",
   "execution_count": 26,
   "metadata": {},
   "outputs": [
    {
     "data": {
      "text/plain": [
       "1000"
      ]
     },
     "execution_count": 26,
     "metadata": {},
     "output_type": "execute_result"
    }
   ],
   "source": [
    "full_path = '/home/jnear/co/collab/csl/experiments/immediate_sensitivity/results/'\n",
    "filenames = {\n",
    "    10000: '_results_8_10000.0.txt',\n",
    "    1000: '_results_8_1000.0.txt',\n",
    "    100: '_results_8_100.0.txt',\n",
    "    10: '_results_8_10.0.txt',\n",
    "    1: '_results_8_1.0.txt',\n",
    "    0.1: '_results_8_0.1.txt',\n",
    "    0.01: '_results_8_0.01.txt'\n",
    "}\n",
    "\n",
    "all_backdoor_results = {}\n",
    "\n",
    "for epsilon in filenames.keys():\n",
    "    nobkd_filename = full_path + 'nobkd' + filenames[epsilon]\n",
    "    bkd_filename = full_path + 'bkd' + filenames[epsilon]\n",
    "    with open(nobkd_filename) as f:\n",
    "        nobkd_results = [int(x) for x in f]\n",
    "    with open(bkd_filename) as f:\n",
    "        bkd_results = [int(x) for x in f]\n",
    "\n",
    "    all_backdoor_results[epsilon] = (nobkd_results, bkd_results)\n",
    "\n",
    "len(nobkd_results)"
   ]
  },
  {
   "cell_type": "code",
   "execution_count": 27,
   "metadata": {},
   "outputs": [
    {
     "data": {
      "text/plain": [
       "400"
      ]
     },
     "execution_count": 27,
     "metadata": {},
     "output_type": "execute_result"
    }
   ],
   "source": [
    "filenames = {\n",
    "    10000: '_results_8_10000.0.txt',\n",
    "    1000: '_results_8_1000.0.txt',\n",
    "    100: '_results_8_100.0.txt',\n",
    "    10: '_results_8_10.0.txt',\n",
    "    1: '_results_8_1.0.txt',\n",
    "}\n",
    "\n",
    "all_backdoor_results_baseline = {}\n",
    "\n",
    "for epsilon in filenames.keys():\n",
    "    nobkd_filename = full_path + 'baseline_nobkd' + filenames[epsilon]\n",
    "    bkd_filename = full_path + 'baseline_bkd' + filenames[epsilon]\n",
    "    with open(nobkd_filename) as f:\n",
    "        nobkd_results = [int(x) for x in f]\n",
    "    with open(bkd_filename) as f:\n",
    "        bkd_results = [int(x) for x in f]\n",
    "\n",
    "    all_backdoor_results_baseline[epsilon] = (nobkd_results, bkd_results)\n",
    "\n",
    "len(nobkd_results)"
   ]
  },
  {
   "cell_type": "code",
   "execution_count": 28,
   "metadata": {},
   "outputs": [],
   "source": [
    "from scipy import stats\n",
    "def clopper_pearson(count, trials, conf):\n",
    "    count, trials, conf = np.array(count), np.array(trials), np.array(conf)\n",
    "    q = count / trials\n",
    "    ci_low = stats.beta.ppf(conf / 2., count, trials - count + 1)\n",
    "    ci_upp = stats.beta.isf(conf / 2., count + 1, trials - count)\n",
    "\n",
    "    if np.ndim(ci_low) > 0:\n",
    "        ci_low[q == 0] = 0\n",
    "        ci_upp[q == 1] = 1\n",
    "    else:\n",
    "        ci_low = ci_low if (q != 0) else 0\n",
    "        ci_upp = ci_upp if (q != 1) else 1\n",
    "    return ci_low, ci_upp\n"
   ]
  },
  {
   "cell_type": "code",
   "execution_count": 29,
   "metadata": {},
   "outputs": [
    {
     "name": "stderr",
     "output_type": "stream",
     "text": [
      "/home/jnear/anaconda3/envs/torch/lib/python3.6/site-packages/ipykernel_launcher.py:36: RuntimeWarning: invalid value encountered in log\n"
     ]
    },
    {
     "data": {
      "text/plain": [
       "-96"
      ]
     },
     "execution_count": 29,
     "metadata": {},
     "output_type": "execute_result"
    }
   ],
   "source": [
    "def bkd_find_thresh(nobkd_li, bkd_li, use_dkw=False):\n",
    "    # find the biggest ratio\n",
    "    best_threshs = {}\n",
    "    nobkd_arr = nobkd_li\n",
    "    bkd_arr = bkd_li\n",
    "    all_arr = np.concatenate((nobkd_arr, bkd_arr)).ravel()\n",
    "    all_threshs = np.unique(all_arr)\n",
    "    best_plain_thresh = -np.inf, all_threshs[0]\n",
    "    best_corr_thresh = -np.inf, all_threshs[0]\n",
    "    for thresh in all_threshs:\n",
    "        nobkd_ct = (nobkd_arr >= thresh).sum()\n",
    "        bkd_ct = (bkd_arr >= thresh).sum()\n",
    "        bkd_p = bkd_ct/bkd_arr.shape[0]\n",
    "        nobkd_p = nobkd_ct/nobkd_arr.shape[0]\n",
    "        \n",
    "        if use_dkw:\n",
    "            nobkd_ub = nobkd_p + np.sqrt(np.log(2/.05)/nobkd_arr.shape[0])\n",
    "            bkd_lb = bkd_p - np.sqrt(np.log(2/.05)/bkd_arr.shape[0])\n",
    "        else:\n",
    "            _, nobkd_ub = clopper_pearson(nobkd_ct, nobkd_arr.shape[0], .05)\n",
    "            bkd_lb, _ = clopper_pearson(bkd_ct, bkd_arr.shape[0], .05)\n",
    "\n",
    "        if bkd_ct in [bkd_arr.shape[0], 0] or nobkd_ct in [nobkd_arr.shape[0], 0]:\n",
    "            plain_ratio = 1\n",
    "        elif bkd_p + nobkd_p > 1:  # this makes ratio bigger\n",
    "            plain_ratio = (1-nobkd_p)/(1-bkd_p)\n",
    "        else:\n",
    "            plain_ratio = bkd_p/nobkd_p\n",
    "\n",
    "        if nobkd_ub + bkd_lb > 1:\n",
    "            corr_ratio = (1-nobkd_ub)/(1-bkd_lb)\n",
    "        else:\n",
    "            corr_ratio = bkd_lb/nobkd_ub\n",
    "\n",
    "        plain_eps = np.log(plain_ratio)\n",
    "        corr_eps = np.log(corr_ratio)\n",
    "\n",
    "        if best_plain_thresh[0] < plain_eps:\n",
    "            best_plain_thresh = plain_eps, thresh\n",
    "        if best_corr_thresh[0] < corr_eps:\n",
    "            best_corr_thresh = corr_eps, thresh\n",
    "    return best_corr_thresh[1]\n",
    "\n",
    "bkd_find_thresh(np.array(nobkd_results), np.array(bkd_results), use_dkw=True)"
   ]
  },
  {
   "cell_type": "code",
   "execution_count": 30,
   "metadata": {},
   "outputs": [
    {
     "data": {
      "text/plain": [
       "[(2950.0, (-0.09995534963101727, 0.0)),\n",
       " (2955.5555555555557, (-0.09995534963101727, 0.0)),\n",
       " (2961.1111111111113, (-0.09995534963101727, 0.0)),\n",
       " (2966.6666666666665, (-0.09995534963101727, 0.0)),\n",
       " (2972.222222222222, (-0.09995534963101727, 0.0)),\n",
       " (2977.777777777778, (-0.09995534963101727, 0.0)),\n",
       " (2983.3333333333335, (-0.09995534963101727, 0.0)),\n",
       " (2988.8888888888887, (-0.09995534963101727, 0.0)),\n",
       " (2994.4444444444443, (-0.09995534963101727, 0.0)),\n",
       " (3000.0, (-0.09995534963101727, 0.0))]"
      ]
     },
     "execution_count": 30,
     "metadata": {},
     "output_type": "execute_result"
    }
   ],
   "source": [
    "def bkd_get_eps(n_repeat, nobkd_li, bkd_li, thresh, use_dkw=False):\n",
    "    eps = {}\n",
    "\n",
    "    nobkd_arr = nobkd_li\n",
    "    bkd_arr = bkd_li\n",
    "    bkd_ct, nobkd_ct = (bkd_arr >= thresh).sum(), (nobkd_arr >= thresh).sum()\n",
    "    bkd_p = bkd_ct/bkd_arr.shape[0]\n",
    "    nobkd_p = nobkd_ct/nobkd_arr.shape[0]\n",
    "       \n",
    "    if use_dkw:\n",
    "        nobkd_ub = nobkd_p + np.sqrt(np.log(2/.05)/nobkd_arr.shape[0])\n",
    "        bkd_lb = bkd_p - np.sqrt(np.log(2/.05)/bkd_arr.shape[0])\n",
    "    else:\n",
    "        nobkd_lb, nobkd_ub = clopper_pearson(nobkd_ct, nobkd_arr.shape[0], .01)\n",
    "        bkd_lb, bkd_ub = clopper_pearson(bkd_ct, bkd_arr.shape[0], .01)\n",
    "\n",
    "    if bkd_ct in [bkd_arr.shape[0], 0] or nobkd_ct in [nobkd_arr.shape[0], 0]:\n",
    "        plain_ratio = 1\n",
    "    elif bkd_p + nobkd_p > 1:  # this makes ratio bigger\n",
    "        plain_ratio = (1-nobkd_p)/(1-bkd_p)\n",
    "    else:\n",
    "        plain_ratio = bkd_p/nobkd_p\n",
    "\n",
    "    if nobkd_ub + bkd_lb > 1:\n",
    "        corr_ratio = (1-nobkd_ub)/(1-bkd_lb)\n",
    "    else:\n",
    "        corr_ratio = bkd_lb/nobkd_ub\n",
    "\n",
    "    plain_eps = np.log(plain_ratio)/n_repeat\n",
    "    corr_eps = np.log(corr_ratio)/n_repeat\n",
    "\n",
    "    return (corr_eps, plain_eps)\n",
    "\n",
    "[(t, bkd_get_eps(8, np.array(nobkd_results), np.array(bkd_results), t)) for t in np.linspace(2950, 3000, 10)]"
   ]
  },
  {
   "cell_type": "code",
   "execution_count": 31,
   "metadata": {
    "scrolled": false
   },
   "outputs": [
    {
     "data": {
      "text/plain": [
       "(3032, 0.0)"
      ]
     },
     "execution_count": 31,
     "metadata": {},
     "output_type": "execute_result"
    }
   ],
   "source": [
    "def get_eps_thresh(nobkd_arr, bkd_arr, thresh):\n",
    "    #thresh = 2800\n",
    "    poisoning_size = 8\n",
    "    \n",
    "    bkd_ct = (bkd_arr >= thresh).sum()\n",
    "    nobkd_ct = (nobkd_arr >= thresh).sum()\n",
    "    bkd_p = bkd_ct/bkd_arr.shape[0]\n",
    "    nobkd_p = nobkd_ct/nobkd_arr.shape[0]\n",
    "\n",
    "    nobkd_lb, nobkd_ub = clopper_pearson(nobkd_ct, nobkd_arr.shape[0], .01)\n",
    "    bkd_lb, bkd_ub = clopper_pearson(bkd_ct, bkd_arr.shape[0], .01)\n",
    "#     nobkd_ub = nobkd_p + np.sqrt(np.log(2/.05)/nobkd_arr.shape[0])\n",
    "#     bkd_lb = bkd_p - np.sqrt(np.log(2/.05)/bkd_arr.shape[0])\n",
    "\n",
    "\n",
    "    if nobkd_ub + bkd_lb > 1:\n",
    "        corr_ratio = (1-nobkd_ub)/(1-bkd_lb)\n",
    "    else:\n",
    "        corr_ratio = bkd_lb/nobkd_ub\n",
    "\n",
    "    corr_eps = np.log(corr_ratio)/poisoning_size\n",
    "\n",
    "#     print('threshold', thresh)\n",
    "#     #print('  upper and lower bounds, no backdoor:', nobkd_lb, nobkd_ub)\n",
    "#     #print('  upper and lower bounds, with backdoor:', bkd_lb, bkd_ub)\n",
    "#     print('  ratio:', corr_ratio)\n",
    "#     print('  epsilon:', corr_eps)\n",
    "\n",
    "    #print(nobkd_lb, nobkd_ub, bkd_lb, bkd_ub, corr_ratio, corr_eps)\n",
    "    return corr_eps\n",
    "\n",
    "def get_eps(nobkd_arr, bkd_arr):\n",
    "    all_arr = np.concatenate((nobkd_arr, bkd_arr)).ravel()\n",
    "    all_threshs = np.unique(all_arr)\n",
    "    all_threshs = all_threshs[all_threshs > 0]\n",
    "    all_epsilons = [(thresh, bkd_get_eps(8, nobkd_arr, bkd_arr, thresh)[1]) for thresh in all_threshs]\n",
    "    #print(all_epsilons)\n",
    "    thresh, corr_eps = max(all_epsilons, key = lambda x: x[1])\n",
    "    return thresh, corr_eps\n",
    "#     for thresh in all_threshs:\n",
    "#         corr_eps = get_eps_thresh(nobkd_arr, bkd_arr, thresh)\n",
    "#         print(thresh, corr_eps)\n",
    "\n",
    "# for thresh in np.linspace(0, 4000):\n",
    "#     print(thresh, get_eps(np.array(nobkd_results), np.array(bkd_results), thresh))\n",
    "get_eps(np.array(nobkd_results), np.array(bkd_results))\n",
    "#get_eps_thresh(np.array(nobkd_results), np.array(bkd_results), 2953)"
   ]
  },
  {
   "cell_type": "code",
   "execution_count": 32,
   "metadata": {
    "scrolled": true
   },
   "outputs": [
    {
     "data": {
      "text/plain": [
       "0.6145145009058661"
      ]
     },
     "execution_count": 32,
     "metadata": {},
     "output_type": "execute_result"
    }
   ],
   "source": [
    "np.log(np.mean(nobkd_results)/np.mean(bkd_results))"
   ]
  },
  {
   "cell_type": "markdown",
   "metadata": {},
   "source": [
    "# Our Results"
   ]
  },
  {
   "cell_type": "code",
   "execution_count": 45,
   "metadata": {},
   "outputs": [
    {
     "name": "stderr",
     "output_type": "stream",
     "text": [
      "/home/jnear/anaconda3/envs/torch/lib/python3.6/site-packages/ipykernel_launcher.py:30: RuntimeWarning: divide by zero encountered in log\n"
     ]
    },
    {
     "name": "stdout",
     "output_type": "stream",
     "text": [
      "for epsilon 0.01 calculated epsilon was 0.017055395993964495\n",
      "for epsilon 0.1 calculated epsilon was 0.03811740869244331\n",
      "for epsilon 1 calculated epsilon was 0.04342367998149139\n",
      "for epsilon 10 calculated epsilon was 0.17380541639867042\n",
      "for epsilon 100 calculated epsilon was 0.12355785973334968\n",
      "for epsilon 1000 calculated epsilon was 0.40533546519751856\n",
      "for epsilon 10000 calculated epsilon was 0.41445914987243243\n",
      "ours_measured_eps =  [0.017055395993964495, 0.03811740869244331, 0.04342367998149139, 0.17380541639867042, 0.12355785973334968, 0.40533546519751856, 0.41445914987243243]\n"
     ]
    }
   ],
   "source": [
    "ours_epsilons = []\n",
    "for epsilon in sorted(all_backdoor_results.keys()):\n",
    "    nobkd_results, bkd_results = all_backdoor_results[epsilon]\n",
    "    nobkd_results = np.array(nobkd_results)\n",
    "    bkd_results = np.array(bkd_results)\n",
    "    nobkd_results = nobkd_results[nobkd_results > 1000]\n",
    "    bkd_results = bkd_results[bkd_results > 1000]\n",
    "#     plt.boxplot([nobkd_results, bkd_results])\n",
    "#     plt.show();\n",
    "    thresh, calculated_eps = get_eps(nobkd_results, bkd_results)\n",
    "    print('for epsilon', epsilon, 'calculated epsilon was', calculated_eps)\n",
    "    ours_epsilons.append(calculated_eps)\n",
    "#     print(' mean and median count, NOT backdoored:', np.mean(nobkd_results), np.median(nobkd_results))\n",
    "#     print(' mean and median count, backdoored:', np.mean(bkd_results), np.median(bkd_results))\n",
    "#     print(' chosen threshold:', thresh)\n",
    "\n",
    "print('ours_measured_eps = ', ours_epsilons)"
   ]
  },
  {
   "cell_type": "markdown",
   "metadata": {},
   "source": [
    "# Baseline Results"
   ]
  },
  {
   "cell_type": "code",
   "execution_count": 46,
   "metadata": {},
   "outputs": [
    {
     "name": "stdout",
     "output_type": "stream",
     "text": [
      "400\n",
      "for epsilon 1 calculated epsilon was 0.0\n",
      "800\n",
      "for epsilon 10 calculated epsilon was 0.15659537106192106\n",
      "800\n",
      "for epsilon 100 calculated epsilon was 0.08122086061621502\n",
      "400\n",
      "for epsilon 1000 calculated epsilon was 0.16466268620411742\n",
      "400\n",
      "for epsilon 10000 calculated epsilon was 0.25993019270997947\n",
      "baseline_measured_eps =  [0.0, 0.15659537106192106, 0.08122086061621502, 0.16466268620411742, 0.25993019270997947]\n"
     ]
    },
    {
     "name": "stderr",
     "output_type": "stream",
     "text": [
      "/home/jnear/anaconda3/envs/torch/lib/python3.6/site-packages/ipykernel_launcher.py:30: RuntimeWarning: divide by zero encountered in log\n"
     ]
    }
   ],
   "source": [
    "baseline_epsilons = []\n",
    "\n",
    "for epsilon in sorted(all_backdoor_results_baseline.keys()):\n",
    "    nobkd_results, bkd_results = all_backdoor_results_baseline[epsilon]\n",
    "    nobkd_results = np.array(nobkd_results)\n",
    "    print(len(nobkd_results))\n",
    "    bkd_results = np.array(bkd_results)\n",
    "    nobkd_results = nobkd_results[nobkd_results > 1000]\n",
    "    bkd_results = bkd_results[bkd_results > 1000]\n",
    "#     plt.boxplot([nobkd_results, bkd_results])\n",
    "#     plt.show();\n",
    "    thresh, calculated_eps = get_eps(nobkd_results, bkd_results)\n",
    "    print('for epsilon', epsilon, 'calculated epsilon was', calculated_eps)\n",
    "    baseline_epsilons.append(calculated_eps)\n",
    "#     print(' mean and median count, NOT backdoored:', np.mean(nobkd_results), np.median(nobkd_results))\n",
    "#     print(' mean and median count, backdoored:', np.mean(bkd_results), np.median(bkd_results))\n",
    "#     print(' chosen threshold:', thresh)\n",
    "print('baseline_measured_eps = ', baseline_epsilons)"
   ]
  },
  {
   "cell_type": "markdown",
   "metadata": {},
   "source": [
    "# Non-private Training"
   ]
  },
  {
   "cell_type": "code",
   "execution_count": null,
   "metadata": {},
   "outputs": [],
   "source": []
  }
 ],
 "metadata": {
  "kernelspec": {
   "display_name": "Python 3",
   "language": "python",
   "name": "python3"
  },
  "language_info": {
   "codemirror_mode": {
    "name": "ipython",
    "version": 3
   },
   "file_extension": ".py",
   "mimetype": "text/x-python",
   "name": "python",
   "nbconvert_exporter": "python",
   "pygments_lexer": "ipython3",
   "version": "3.6.10"
  }
 },
 "nbformat": 4,
 "nbformat_minor": 4
}
