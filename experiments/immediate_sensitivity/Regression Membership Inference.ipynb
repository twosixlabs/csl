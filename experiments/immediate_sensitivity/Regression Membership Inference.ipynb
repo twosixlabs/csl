{
 "cells": [
  {
   "cell_type": "code",
   "execution_count": 2,
   "metadata": {},
   "outputs": [],
   "source": [
    "import matplotlib.pyplot as plt\n",
    "import matplotlib.cm as cm\n",
    "import numpy as np\n",
    "from sklearn.datasets import make_classification"
   ]
  },
  {
   "cell_type": "code",
   "execution_count": 3,
   "metadata": {},
   "outputs": [
    {
     "name": "stdout",
     "output_type": "stream",
     "text": [
      "1.6.0\n"
     ]
    }
   ],
   "source": [
    "import pandas as pd\n",
    "import seaborn as sns\n",
    "import torch\n",
    "import torch.nn as nn\n",
    "import torch.optim as optim\n",
    "from torch.autograd import Variable\n",
    "from IPython import display\n",
    "from sklearn import metrics\n",
    "from sklearn.model_selection import train_test_split\n",
    "from sklearn.preprocessing import StandardScaler\n",
    "from sklearn.utils.class_weight import compute_class_weight\n",
    "from torch.utils.data import TensorDataset\n",
    "from torch.utils.data import DataLoader\n",
    "\n",
    "torch.manual_seed(1)\n",
    "np.random.seed(7)\n",
    "sns.set(style=\"white\", palette=\"muted\", color_codes=True, context=\"talk\")\n",
    "\n",
    "%matplotlib inline\n",
    "print(torch.__version__) "
   ]
  },
  {
   "cell_type": "code",
   "execution_count": 4,
   "metadata": {},
   "outputs": [],
   "source": [
    "def make_spirals(n_samples, noise=.5):\n",
    "    \"\"\"\n",
    "     Returns the two spirals dataset.\n",
    "    \"\"\"\n",
    "    n = np.sqrt(np.random.rand(n_samples,1)) * 780 * (2*np.pi)/360\n",
    "    d1x = -np.cos(n)*n + np.random.rand(n_samples,1) * noise\n",
    "    d1y = np.sin(n)*n + np.random.rand(n_samples,1) * noise\n",
    "    return (np.vstack((np.hstack((d1x,d1y)),np.hstack((-d1x,-d1y)))), \n",
    "            np.hstack((np.zeros(n_samples),np.ones(n_samples))))"
   ]
  },
  {
   "cell_type": "code",
   "execution_count": 5,
   "metadata": {},
   "outputs": [],
   "source": [
    "from sklearn import datasets\n",
    "noise = 100\n",
    "n_features = 100\n",
    "\n",
    "X, y = datasets.make_regression(n_samples=500, n_features=n_features, noise=noise)\n",
    "#X1, y1 = datasets.make_moons(n_samples=200, noise=no)\n",
    "#X11 = np.array([[x + 2, yy] for x, yy in X1])\n",
    "#X = np.concatenate((X, X11), axis=0)\n",
    "#y = np.concatenate((y, y1), axis=0)\n",
    "#print(X.shape)\n",
    "# plt.plot(X[:, 0][y == 0], X[:, 1][y == 0], 'g^')\n",
    "# plt.plot(X[:, 0][y == 1], X[:, 1][y == 1], 'bs')\n",
    "# plt.show()\n",
    "\n",
    "# plt.scatter(X, y)\n",
    "# plt.show()\n"
   ]
  },
  {
   "cell_type": "code",
   "execution_count": 6,
   "metadata": {},
   "outputs": [
    {
     "name": "stdout",
     "output_type": "stream",
     "text": [
      "len train: 400\n",
      "len test: 100\n"
     ]
    }
   ],
   "source": [
    "(X_train, X_test, y_train, y_test) = train_test_split(X, y, test_size=0.2, random_state=7)\n",
    "print('len train:', len(X_train))\n",
    "print('len test:', len(X_test))\n",
    "# plt.plot(X_train[:, 0][y_train == 0], X_train[:, 1][y_train == 0], 'g^')\n",
    "# plt.plot(X_train[:, 0][y_train == 1], X_train[:, 1][y_train == 1], 'bs')\n",
    "# plt.show()\n",
    "# plt.plot(X_test[:, 0][y_test == 0], X_test[:, 1][y_test == 0], 'g^')\n",
    "# plt.plot(X_test[:, 0][y_test == 1], X_test[:, 1][y_test == 1], 'bs')\n",
    "# plt.show()"
   ]
  },
  {
   "cell_type": "code",
   "execution_count": 7,
   "metadata": {},
   "outputs": [],
   "source": [
    "BATCH_SIZE = 32\n",
    "\n",
    "training_dataset = TensorDataset(torch.from_numpy(X_train).float(), \n",
    "                                 torch.from_numpy(y_train).float())\n",
    "train_loader = DataLoader(training_dataset, batch_size=BATCH_SIZE, shuffle=True, drop_last=True)\n",
    "\n",
    "testing_dataset = TensorDataset(torch.from_numpy(X_test).float(), \n",
    "                                torch.from_numpy(y_test).float())\n",
    "test_loader = DataLoader(testing_dataset, batch_size=BATCH_SIZE, shuffle=True, drop_last=True)"
   ]
  },
  {
   "cell_type": "markdown",
   "metadata": {},
   "source": [
    "# Define accuracy & Model"
   ]
  },
  {
   "cell_type": "code",
   "execution_count": 8,
   "metadata": {},
   "outputs": [],
   "source": [
    "def accuracy(model, test_loader, l=200):\n",
    "#     correct = 0\n",
    "#     losses = []\n",
    "#     for examples, labels in test_loader:\n",
    "#         output = model.forward(examples)\n",
    "#         batch_correct = torch.sum(torch.abs(torch.flatten(output) - labels) < 0.5)\n",
    "#         losses.append(nn.BCELoss()(torch.flatten(output), labels))\n",
    "#         correct += batch_correct\n",
    "\n",
    "#     acc = float(correct)/l\n",
    "#     loss = sum(losses)/len(losses)\n",
    "#     return acc, loss\n",
    "    return 1.0\n",
    "\n",
    "def accuracy_per_data(model, inputs, labels):\n",
    "    inp = Variable(inputs, requires_grad=True)\n",
    "    outputs = model.forward(inp)\n",
    "    loss = nn.BCELoss()(torch.squeeze(outputs), labels)\n",
    "    correct = torch.sum(torch.abs(torch.flatten(outputs) - labels) < 0.5)\n",
    "    return correct//len(inputs), loss"
   ]
  },
  {
   "cell_type": "code",
   "execution_count": 9,
   "metadata": {},
   "outputs": [],
   "source": [
    "class RegressionModel(nn.Module):\n",
    "    def __init__(self, n_features, n_hidden=32, p_dropout=0.2):\n",
    "        super(RegressionModel, self).__init__()\n",
    "        self.network = nn.Sequential(\n",
    "            nn.Linear(n_features, n_hidden),\n",
    "            nn.ReLU(),\n",
    "            nn.Dropout(p_dropout),\n",
    "            nn.Linear(n_hidden, n_hidden),\n",
    "            nn.ReLU(),\n",
    "            nn.Dropout(p_dropout),\n",
    "            nn.Linear(n_hidden, n_hidden),\n",
    "            nn.ReLU(),\n",
    "            nn.Dropout(p_dropout),\n",
    "            nn.Linear(n_hidden, 1),\n",
    "        )\n",
    "\n",
    "    def forward(self, x):\n",
    "        return self.network(x)"
   ]
  },
  {
   "cell_type": "markdown",
   "metadata": {},
   "source": [
    "# The calculation for immediate sensitivity"
   ]
  },
  {
   "cell_type": "code",
   "execution_count": 10,
   "metadata": {},
   "outputs": [],
   "source": [
    "def grad_immediate_sensitivity(model, criterion, inputs, labels, epoch):\n",
    "    inp = Variable(inputs, requires_grad=True)\n",
    "    \n",
    "    outputs = model.forward(inp)\n",
    "    loss = criterion(torch.squeeze(outputs), labels)\n",
    "    \n",
    "    # (1) first-order gradient (wrt parameters)\n",
    "    first_order_grads = torch.autograd.grad(loss, model.parameters(), retain_graph=True, create_graph=True)\n",
    "    \n",
    "    # (2) L2 norm of the gradient from (1)\n",
    "    grad_l2_norm = torch.norm(torch.cat([x.view(-1) for x in first_order_grads]), p = 2)\n",
    "    \n",
    "    # (3) Gradient (wrt inputs) of the L2 norm of the gradient from (2)\n",
    "    sensitivity_vec = torch.autograd.grad(grad_l2_norm, inp, retain_graph=True)[0]\n",
    "    \n",
    "    # (4) L2 norm of (3) - \"immediate sensitivity\"\n",
    "    s = [torch.norm(v, p=2).numpy().item() for v in sensitivity_vec]\n",
    "    \n",
    "    '''\n",
    "    if epoch > 5:\n",
    "        print(f\"inputs: \",inp)\n",
    "        print(f\"outputs: \", outputs)\n",
    "        print(f\"loss: \", loss)\n",
    "        print(f\"first_order_grads: \", first_order_grads)\n",
    "        print(f\"grad_l2_norm:: \", grad_l2_norm)\n",
    "        print(f\"sensitivity_vec: \", sensitivity_vec)\n",
    "        print(f\"sensitivies: \", s)\n",
    "    '''\n",
    "\n",
    "    loss.backward()\n",
    "    return loss, s"
   ]
  },
  {
   "cell_type": "markdown",
   "metadata": {},
   "source": [
    "# Train the model, calculating immediate sensitivities"
   ]
  },
  {
   "cell_type": "code",
   "execution_count": 39,
   "metadata": {},
   "outputs": [],
   "source": [
    "def run_experiment(epsilon, epochs, add_noise=False):\n",
    "    # reset the model\n",
    "    model = RegressionModel(n_features=n_features)\n",
    "    model_criterion = nn.MSELoss() \n",
    "    model_optimizer = optim.Adam(model.parameters(),lr=0.001)\n",
    "\n",
    "    # number of epochs and iterations\n",
    "    #epochs = 100\n",
    "    iters = epochs * BATCH_SIZE\n",
    "\n",
    "    # parameters for Renyi differential privacy\n",
    "    alpha = 25\n",
    "    epsilon_iter = epsilon / iters\n",
    "    \n",
    "    # plotting criteria\n",
    "    train_losses = []\n",
    "    max_sensitivities = []\n",
    "    mean_sensitivities = []\n",
    "    max_sigmas = []\n",
    "    mean_sigmas = []\n",
    "    test_accs = []\n",
    "    train_accs = []\n",
    "    test_losses = []\n",
    "    all_batch_mean_sensitivities = []\n",
    "    all_batch_max_sensitivities = []\n",
    "\n",
    "    for epoch in range(epochs):\n",
    "#         print('Start of epoch %d' % (epoch,))\n",
    "        all_sensitivities = []\n",
    "        sigmas = []\n",
    "\n",
    "        for x_batch_train, y_batch_train in train_loader:\n",
    "            model_optimizer.zero_grad()\n",
    "            loss, batch_sensitivities = grad_immediate_sensitivity(model, model_criterion, x_batch_train, y_batch_train,epoch)\n",
    "            train_losses.append(loss)\n",
    "            \n",
    "            batch_sensitivity = np.max(batch_sensitivities) / BATCH_SIZE\n",
    "            all_sensitivities.extend(batch_sensitivities)\n",
    "            all_batch_mean_sensitivities.append(np.mean(batch_sensitivities) / BATCH_SIZE)\n",
    "            all_batch_max_sensitivities.append(np.max(batch_sensitivities) / BATCH_SIZE)\n",
    "\n",
    "            # this is the scale of the Gaussian noise to be added to the batch gradient\n",
    "            sigma = np.sqrt((batch_sensitivity**2 * alpha) / (2 * epsilon_iter))\n",
    "\n",
    "            sigmas.append(sigma)\n",
    "\n",
    "            if add_noise:\n",
    "                with torch.no_grad():\n",
    "                    for p in model.parameters():\n",
    "                        p.grad += (sigma * torch.randn(1).float())\n",
    "\n",
    "            model_optimizer.step()\n",
    "\n",
    "        max_sensitivities.append(np.max(all_sensitivities))\n",
    "        mean_sensitivities.append(np.mean(all_sensitivities))\n",
    "        max_sigmas.append(np.max(sigmas))        \n",
    "        mean_sigmas.append(np.mean(sigmas))\n",
    "#         train_accs.append(accuracy_per_data(model, torch.from_numpy(X_train).float(), torch.from_numpy(y_train).float()))\n",
    "#         test_accs.append(accuracy_per_data(model, torch.from_numpy(X_test).float(), torch.from_numpy(y_test).float()))\n",
    "        \n",
    "        \n",
    "        #plot_decision_boundary(model, nn.BCELoss(), steps=100, title=f'Epoch {epoch}')\n",
    "        \n",
    "#         print(\"Max batch sensitivity for the epoch:\", max_sensitivities[-1])\n",
    "#         print(\"Mean batch sensitivity for the epoch:\", mean_sensitivities[-1])\n",
    "#         print(\"Max sigma for the epoch:\", max_sigmas[-1])\n",
    "#         print(\"Mean sigma for the epoch:\", mean_sigmas[-1])\n",
    "\n",
    "#         print(\"Accuracy:\", test_accs[-1])\n",
    "    return accuracy(model, test_loader), (train_losses, max_sensitivities, mean_sensitivities, max_sigmas, \n",
    "                                          mean_sigmas, test_accs, train_accs,\n",
    "                                          all_batch_mean_sensitivities, all_batch_max_sensitivities, test_losses), model"
   ]
  },
  {
   "cell_type": "markdown",
   "metadata": {},
   "source": [
    "# Try 1, without noise"
   ]
  },
  {
   "cell_type": "code",
   "execution_count": 70,
   "metadata": {},
   "outputs": [],
   "source": [
    "final_acc, info_tuple, model = run_experiment(1, 100, False)\n",
    "#print(\"Final accuracy:\", final_acc[0])"
   ]
  },
  {
   "cell_type": "code",
   "execution_count": 71,
   "metadata": {},
   "outputs": [
    {
     "data": {
      "text/plain": [
       "[<matplotlib.lines.Line2D at 0x7f47c73dbb70>]"
      ]
     },
     "execution_count": 71,
     "metadata": {},
     "output_type": "execute_result"
    },
    {
     "data": {
      "image/png": "[encoded data removed]",
      "text/plain": [
       "<Figure size 432x288 with 1 Axes>"
      ]
     },
     "metadata": {
      "needs_background": "light"
     },
     "output_type": "display_data"
    }
   ],
   "source": [
    "plt.plot(info_tuple[0])"
   ]
  },
  {
   "cell_type": "markdown",
   "metadata": {},
   "source": [
    "# Sensitivity stats"
   ]
  },
  {
   "cell_type": "code",
   "execution_count": 72,
   "metadata": {},
   "outputs": [
    {
     "name": "stdout",
     "output_type": "stream",
     "text": [
      "1200\n",
      "1200\n"
     ]
    },
    {
     "data": {
      "text/plain": [
       "Text(0, 0.5, 'Mean Sensitivity')"
      ]
     },
     "execution_count": 72,
     "metadata": {},
     "output_type": "execute_result"
    },
    {
     "data": {
      "image/png": "[encoded data removed]",
      "text/plain": [
       "<Figure size 432x288 with 1 Axes>"
      ]
     },
     "metadata": {
      "needs_background": "light"
     },
     "output_type": "display_data"
    }
   ],
   "source": [
    "#the info tuple holds: (train_losses, max_sensitivities, mean_sensitivities, max_sigmas, mean_sigmas, test_accs, all_means)\n",
    "batch_mean_sensitivities = info_tuple[7]\n",
    "batch_max_sensitivities = info_tuple[8]\n",
    "print(len(batch_max_sensitivities))\n",
    "print(len(batch_mean_sensitivities))\n",
    "\n",
    "plt.plot(batch_mean_sensitivities)\n",
    "plt.xlabel(\"Batch\")\n",
    "plt.ylabel(\"Mean Sensitivity\")"
   ]
  },
  {
   "cell_type": "code",
   "execution_count": 73,
   "metadata": {},
   "outputs": [
    {
     "data": {
      "text/plain": [
       "Text(0, 0.5, 'Max Sensitivity')"
      ]
     },
     "execution_count": 73,
     "metadata": {},
     "output_type": "execute_result"
    },
    {
     "data": {
      "image/png": "[encoded data removed]",
      "text/plain": [
       "<Figure size 432x288 with 1 Axes>"
      ]
     },
     "metadata": {
      "needs_background": "light"
     },
     "output_type": "display_data"
    }
   ],
   "source": [
    "plt.plot(batch_max_sensitivities)\n",
    "plt.xlabel(\"Batch\")\n",
    "plt.ylabel(\"Max Sensitivity\")"
   ]
  },
  {
   "cell_type": "markdown",
   "metadata": {},
   "source": [
    "# Membership Inference Attacks"
   ]
  },
  {
   "cell_type": "code",
   "execution_count": 75,
   "metadata": {},
   "outputs": [
    {
     "name": "stdout",
     "output_type": "stream",
     "text": [
      "average test loss: tensor(16528.2891, grad_fn=<MseLossBackward>)\n"
     ]
    }
   ],
   "source": [
    "lossfn = nn.MSELoss()\n",
    "\n",
    "avg_train_l = lossfn(torch.squeeze(model.forward(torch.from_numpy(X_train).float())),\n",
    "                    torch.from_numpy(y_train).float())\n",
    "\n",
    "avg_test_l = lossfn(torch.squeeze(model.forward(torch.from_numpy(X_test).float())),\n",
    "                    torch.from_numpy(y_test).float())\n",
    "\n",
    "print('average test loss:', avg_test_l)"
   ]
  },
  {
   "cell_type": "code",
   "execution_count": 76,
   "metadata": {},
   "outputs": [],
   "source": [
    "def gaussian_pdf(sd, x):\n",
    "    if sd <= 0:\n",
    "        raise ValueError('standard deviation must be positive but is {}'.format(sd))\n",
    "    else: #sd > 0\n",
    "        return np.e ** (-0.5*(x/sd)**2) / sd\n",
    "\n",
    "\n",
    "def membership_inf(model, avg_train_loss, inputs, labels):\n",
    "    inp = Variable(inputs, requires_grad=True)\n",
    "    \n",
    "    outputs = model.forward(inp)\n",
    "    loss = nn.MSELoss(reduction='none')(torch.squeeze(outputs), labels)\n",
    "    pass_inf = [1 if abs(l) < avg_train_loss*.1 else 0 for l in loss]\n",
    "    \n",
    "    return pass_inf, [float(l) for l in loss]"
   ]
  },
  {
   "cell_type": "code",
   "execution_count": 77,
   "metadata": {},
   "outputs": [],
   "source": [
    "def run_membership_inference_attack(model, avg_train_l, X_target, y_target):\n",
    "    _, sensitivities = grad_immediate_sensitivity(model, \n",
    "                                                      nn.MSELoss(), \n",
    "                                                      torch.from_numpy(X_target).float(), \n",
    "                                                      torch.from_numpy(y_target).float(), \n",
    "                                                      None)\n",
    "    max_sen = max(sensitivities)\n",
    "    norm_sen = [s/max_sen for s in sensitivities]\n",
    "    min_exp = min([np.log(s) for s in sensitivities if s != 0])\n",
    "    log_sen = [np.log(s) if s !=0 else min_exp - 1 for s in sensitivities]\n",
    "    paws = [s - (min_exp - 1) for s in log_sen]\n",
    "\n",
    "    pass_inf, train_loss = membership_inf(model, \n",
    "                                          avg_train_l, \n",
    "                                          torch.from_numpy(X_target).float(), \n",
    "                                          torch.from_numpy(y_target).float())\n",
    "    #plt.scatter(paws, pass_inf)\n",
    "    print('positive ratio:',sum(pass_inf)/len(pass_inf))"
   ]
  },
  {
   "cell_type": "code",
   "execution_count": 78,
   "metadata": {},
   "outputs": [
    {
     "name": "stdout",
     "output_type": "stream",
     "text": [
      "positive ratio: 0.3575\n"
     ]
    }
   ],
   "source": [
    "run_membership_inference_attack(model, avg_train_l, X_train, y_train)"
   ]
  },
  {
   "cell_type": "code",
   "execution_count": 79,
   "metadata": {},
   "outputs": [
    {
     "name": "stdout",
     "output_type": "stream",
     "text": [
      "positive ratio: 0.09\n"
     ]
    }
   ],
   "source": [
    "run_membership_inference_attack(model, avg_train_l, X_test, y_test)"
   ]
  },
  {
   "cell_type": "code",
   "execution_count": 80,
   "metadata": {},
   "outputs": [
    {
     "data": {
      "text/plain": [
       "Text(0.5, 0, 'Loss')"
      ]
     },
     "execution_count": 80,
     "metadata": {},
     "output_type": "execute_result"
    },
    {
     "data": {
      "image/png": "[encoded data removed]",
      "text/plain": [
       "<Figure size 432x288 with 2 Axes>"
      ]
     },
     "metadata": {
      "needs_background": "light"
     },
     "output_type": "display_data"
    }
   ],
   "source": [
    "\n",
    "fig, axs = plt.subplots(1, 2, tight_layout=True)\n",
    "axs[0].hist(train_loss, 25)\n",
    "axs[0].title.set_text('Training Data')\n",
    "axs[0].set_xlabel('Loss')\n",
    "axs[0].set_ylabel('Count')\n",
    "axs[1].hist(test_loss, 25, alpha=1)\n",
    "axs[1].title.set_text('Test Data')\n",
    "axs[1].set_xlabel('Loss')"
   ]
  },
  {
   "cell_type": "markdown",
   "metadata": {},
   "source": [
    "# Try 2, with noise"
   ]
  },
  {
   "cell_type": "code",
   "execution_count": 81,
   "metadata": {},
   "outputs": [],
   "source": [
    "final_acc, info_tuple, model = run_experiment(500.0, 100, True)"
   ]
  },
  {
   "cell_type": "code",
   "execution_count": 82,
   "metadata": {},
   "outputs": [
    {
     "data": {
      "text/plain": [
       "[<matplotlib.lines.Line2D at 0x7f47c7429940>]"
      ]
     },
     "execution_count": 82,
     "metadata": {},
     "output_type": "execute_result"
    },
    {
     "data": {
      "image/png": "[encoded data removed]",
      "text/plain": [
       "<Figure size 432x288 with 1 Axes>"
      ]
     },
     "metadata": {
      "needs_background": "light"
     },
     "output_type": "display_data"
    }
   ],
   "source": [
    "plt.plot(info_tuple[0])"
   ]
  },
  {
   "cell_type": "code",
   "execution_count": 107,
   "metadata": {},
   "outputs": [
    {
     "name": "stdout",
     "output_type": "stream",
     "text": [
      "average test loss: tensor(13109.2500, grad_fn=<MseLossBackward>)\n"
     ]
    }
   ],
   "source": [
    "lossfn = nn.MSELoss()\n",
    "\n",
    "avg_train_l = lossfn(torch.squeeze(model.forward(torch.from_numpy(X_train).float())),\n",
    "                    torch.from_numpy(y_train).float())\n",
    "\n",
    "avg_test_l = lossfn(torch.squeeze(model.forward(torch.from_numpy(X_test).float())),\n",
    "                    torch.from_numpy(y_test).float())\n",
    "\n",
    "print('average test loss:', avg_test_l)"
   ]
  },
  {
   "cell_type": "code",
   "execution_count": 108,
   "metadata": {},
   "outputs": [
    {
     "name": "stdout",
     "output_type": "stream",
     "text": [
      "positive ratio: 0.245\n"
     ]
    }
   ],
   "source": [
    "run_membership_inference_attack(model, avg_train_l, X_train, y_train)"
   ]
  },
  {
   "cell_type": "code",
   "execution_count": 109,
   "metadata": {},
   "outputs": [
    {
     "name": "stdout",
     "output_type": "stream",
     "text": [
      "positive ratio: 0.24\n"
     ]
    }
   ],
   "source": [
    "run_membership_inference_attack(model, avg_train_l, X_test, y_test)"
   ]
  },
  {
   "cell_type": "code",
   "execution_count": 110,
   "metadata": {},
   "outputs": [
    {
     "name": "stdout",
     "output_type": "stream",
     "text": [
      "1200\n",
      "1200\n"
     ]
    },
    {
     "data": {
      "text/plain": [
       "Text(0, 0.5, 'Mean Sensitivity')"
      ]
     },
     "execution_count": 110,
     "metadata": {},
     "output_type": "execute_result"
    },
    {
     "data": {
      "image/png": "[encoded data removed]",
      "text/plain": [
       "<Figure size 432x288 with 1 Axes>"
      ]
     },
     "metadata": {
      "needs_background": "light"
     },
     "output_type": "display_data"
    }
   ],
   "source": [
    "#the info tuple holds: (train_losses, max_sensitivities, mean_sensitivities, max_sigmas, mean_sigmas, test_accs, all_means)\n",
    "batch_mean_sensitivities = info_tuple[7]\n",
    "batch_max_sensitivities = info_tuple[8]\n",
    "print(len(batch_max_sensitivities))\n",
    "print(len(batch_mean_sensitivities))\n",
    "\n",
    "plt.plot(batch_mean_sensitivities)\n",
    "plt.xlabel(\"Batch\")\n",
    "plt.ylabel(\"Mean Sensitivity\")"
   ]
  },
  {
   "cell_type": "code",
   "execution_count": null,
   "metadata": {},
   "outputs": [],
   "source": []
  }
 ],
 "metadata": {
  "kernelspec": {
   "display_name": "Python 3",
   "language": "python",
   "name": "python3"
  },
  "language_info": {
   "codemirror_mode": {
    "name": "ipython",
    "version": 3
   },
   "file_extension": ".py",
   "mimetype": "text/x-python",
   "name": "python",
   "nbconvert_exporter": "python",
   "pygments_lexer": "ipython3",
   "version": "3.6.10"
  }
 },
 "nbformat": 4,
 "nbformat_minor": 4
}
