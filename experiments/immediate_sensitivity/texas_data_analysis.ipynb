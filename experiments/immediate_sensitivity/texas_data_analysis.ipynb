{
 "cells": [
  {
   "cell_type": "code",
   "execution_count": 1,
   "metadata": {},
   "outputs": [],
   "source": [
    "import pickle\n",
    "import glob\n",
    "import matplotlib.pyplot as plt\n",
    "import pandas as pd"
   ]
  },
  {
   "cell_type": "code",
   "execution_count": 2,
   "metadata": {},
   "outputs": [],
   "source": [
    "infos = []\n",
    "idx_tups = []\n",
    "for file in glob.glob(\"../../data/*\"):\n",
    "    infos.append(pickle.load(open(file, 'rb')))\n",
    "    var = file.split(\"_\")[1:4]\n",
    "    var[-1] = int(var[-1].split(\".\")[0])\n",
    "    var[0] = int(var[0])\n",
    "    var[1] = float(var[1]) if var[1] != 'False' else False\n",
    "    # IDX tups follow the format (epsilon, throw out threshold, batch size)\n",
    "    idx_tups.append(var)"
   ]
  },
  {
   "cell_type": "code",
   "execution_count": 3,
   "metadata": {},
   "outputs": [
    {
     "data": {
      "text/plain": [
       "(dict_keys(['train_l', 'test_l', 'adv', 'acc', 'merlin_adv']),\n",
       " [20, 20, 20, 20])"
      ]
     },
     "execution_count": 3,
     "metadata": {},
     "output_type": "execute_result"
    }
   ],
   "source": [
    "infos[0].keys(), [len(v) for v in infos[0].values() if type(v) == list]"
   ]
  },
  {
   "cell_type": "code",
   "execution_count": 57,
   "metadata": {},
   "outputs": [],
   "source": [
    "inf_scalars = [(i[0]['acc'], i[0]['adv'][-1],  i[0]['merlin_adv'][-1][0], *i[1]) for i in zip(infos, idx_tups)]\n",
    "ds = pd.DataFrame(inf_scalars)\n",
    "ds.columns = ['acc', 'yeom', 'merlin', 'epsilon', 'throw out', 'batch_size']"
   ]
  },
  {
   "cell_type": "code",
   "execution_count": 69,
   "metadata": {},
   "outputs": [
    {
     "data": {
      "text/html": [
       "<div>\n",
       "<style scoped>\n",
       "    .dataframe tbody tr th:only-of-type {\n",
       "        vertical-align: middle;\n",
       "    }\n",
       "\n",
       "    .dataframe tbody tr th {\n",
       "        vertical-align: top;\n",
       "    }\n",
       "\n",
       "    .dataframe thead th {\n",
       "        text-align: right;\n",
       "    }\n",
       "</style>\n",
       "<table border=\"1\" class=\"dataframe\">\n",
       "  <thead>\n",
       "    <tr style=\"text-align: right;\">\n",
       "      <th></th>\n",
       "      <th>acc</th>\n",
       "      <th>yeom</th>\n",
       "      <th>merlin</th>\n",
       "      <th>epsilon</th>\n",
       "      <th>throw out</th>\n",
       "      <th>batch_size</th>\n",
       "    </tr>\n",
       "  </thead>\n",
       "  <tbody>\n",
       "    <tr>\n",
       "      <th>0</th>\n",
       "      <td>0.605622</td>\n",
       "      <td>0.066532</td>\n",
       "      <td>0.071875</td>\n",
       "      <td>50000</td>\n",
       "      <td>10</td>\n",
       "      <td>16</td>\n",
       "    </tr>\n",
       "    <tr>\n",
       "      <th>1</th>\n",
       "      <td>0.607669</td>\n",
       "      <td>0.095699</td>\n",
       "      <td>0.134375</td>\n",
       "      <td>0</td>\n",
       "      <td>5</td>\n",
       "      <td>16</td>\n",
       "    </tr>\n",
       "    <tr>\n",
       "      <th>2</th>\n",
       "      <td>0.583788</td>\n",
       "      <td>0.050323</td>\n",
       "      <td>0.106250</td>\n",
       "      <td>100000</td>\n",
       "      <td>10</td>\n",
       "      <td>16</td>\n",
       "    </tr>\n",
       "    <tr>\n",
       "      <th>3</th>\n",
       "      <td>0.366812</td>\n",
       "      <td>0.026194</td>\n",
       "      <td>0.050000</td>\n",
       "      <td>100000</td>\n",
       "      <td>2</td>\n",
       "      <td>32</td>\n",
       "    </tr>\n",
       "    <tr>\n",
       "      <th>4</th>\n",
       "      <td>0.594159</td>\n",
       "      <td>0.074883</td>\n",
       "      <td>0.093750</td>\n",
       "      <td>0</td>\n",
       "      <td>2</td>\n",
       "      <td>16</td>\n",
       "    </tr>\n",
       "    <tr>\n",
       "      <th>5</th>\n",
       "      <td>0.539847</td>\n",
       "      <td>0.020368</td>\n",
       "      <td>0.056250</td>\n",
       "      <td>10000</td>\n",
       "      <td>False</td>\n",
       "      <td>16</td>\n",
       "    </tr>\n",
       "    <tr>\n",
       "      <th>6</th>\n",
       "      <td>0.578057</td>\n",
       "      <td>0.469157</td>\n",
       "      <td>0.235938</td>\n",
       "      <td>0</td>\n",
       "      <td>False</td>\n",
       "      <td>32</td>\n",
       "    </tr>\n",
       "    <tr>\n",
       "      <th>7</th>\n",
       "      <td>0.246998</td>\n",
       "      <td>-0.003541</td>\n",
       "      <td>0.032812</td>\n",
       "      <td>1</td>\n",
       "      <td>5</td>\n",
       "      <td>32</td>\n",
       "    </tr>\n",
       "    <tr>\n",
       "      <th>8</th>\n",
       "      <td>0.046261</td>\n",
       "      <td>0.003308</td>\n",
       "      <td>0.128125</td>\n",
       "      <td>0</td>\n",
       "      <td>0.5</td>\n",
       "      <td>16</td>\n",
       "    </tr>\n",
       "    <tr>\n",
       "      <th>9</th>\n",
       "      <td>0.591157</td>\n",
       "      <td>0.393923</td>\n",
       "      <td>0.184375</td>\n",
       "      <td>0</td>\n",
       "      <td>50</td>\n",
       "      <td>16</td>\n",
       "    </tr>\n",
       "    <tr>\n",
       "      <th>10</th>\n",
       "      <td>0.590338</td>\n",
       "      <td>0.059952</td>\n",
       "      <td>0.043750</td>\n",
       "      <td>50000</td>\n",
       "      <td>False</td>\n",
       "      <td>16</td>\n",
       "    </tr>\n",
       "    <tr>\n",
       "      <th>11</th>\n",
       "      <td>0.030704</td>\n",
       "      <td>0.008969</td>\n",
       "      <td>0.000000</td>\n",
       "      <td>10000</td>\n",
       "      <td>2</td>\n",
       "      <td>16</td>\n",
       "    </tr>\n",
       "    <tr>\n",
       "      <th>12</th>\n",
       "      <td>0.554449</td>\n",
       "      <td>0.053953</td>\n",
       "      <td>0.031250</td>\n",
       "      <td>100000</td>\n",
       "      <td>5</td>\n",
       "      <td>16</td>\n",
       "    </tr>\n",
       "  </tbody>\n",
       "</table>\n",
       "</div>"
      ],
      "text/plain": [
       "         acc      yeom    merlin  epsilon throw out  batch_size\n",
       "0   0.605622  0.066532  0.071875    50000        10          16\n",
       "1   0.607669  0.095699  0.134375        0         5          16\n",
       "2   0.583788  0.050323  0.106250   100000        10          16\n",
       "3   0.366812  0.026194  0.050000   100000         2          32\n",
       "4   0.594159  0.074883  0.093750        0         2          16\n",
       "5   0.539847  0.020368  0.056250    10000     False          16\n",
       "6   0.578057  0.469157  0.235938        0     False          32\n",
       "7   0.246998 -0.003541  0.032812        1         5          32\n",
       "8   0.046261  0.003308  0.128125        0       0.5          16\n",
       "9   0.591157  0.393923  0.184375        0        50          16\n",
       "10  0.590338  0.059952  0.043750    50000     False          16\n",
       "11  0.030704  0.008969  0.000000    10000         2          16\n",
       "12  0.554449  0.053953  0.031250   100000         5          16"
      ]
     },
     "execution_count": 69,
     "metadata": {},
     "output_type": "execute_result"
    }
   ],
   "source": [
    "acc_idx = ds.groupby(['epsilon', 'throw out'])['acc'].transform(max) == ds['acc']\n",
    "yeom_idx = ds.groupby(['epsilon', 'throw out'])['yeom'].transform(min) == ds['yeom']\n",
    "merlin_idx = ds.groupby(['epsilon', 'throw out'])['merlin'].transform(min) == ds['merlin']\n",
    "acc_d = ds[acc_idx]\n",
    "yeom_d = ds[yeom_idx]\n",
    "merlin_d = ds[merlin_idx]"
   ]
  },
  {
   "cell_type": "code",
   "execution_count": 75,
   "metadata": {},
   "outputs": [
    {
     "data": {
      "image/png": "[encoded data removed]",
      "text/plain": [
       "<Figure size 432x288 with 2 Axes>"
      ]
     },
     "metadata": {
      "needs_background": "light"
     },
     "output_type": "display_data"
    }
   ],
   "source": [
    "fig = plt.figure()\n",
    "ax1 = fig.add_subplot(111)\n",
    "d = acc_d\n",
    "df = d[(d['throw out'] == False) & (d['epsilon'] > 0)]\n",
    "ax1.scatter(df['epsilon'], df['acc'] , label=\"accuracy\")\n",
    "ax1.set_ylabel('acc')\n",
    "ax1.set_xscale('log')\n",
    "\n",
    "ax2 = ax1.twinx()\n",
    "ax2.scatter(df['epsilon'], df['merlin'],c='red', label='merlin_adv')\n",
    "ax2.scatter(df['epsilon'], df['yeom'],c='orange', label='yeom_adv')\n",
    "ax2.set_ylabel('adv', color='r')\n",
    "ax2.set_xscale('log')\n",
    "fig.legend(loc='upper left')\n",
    "for tl in ax2.get_yticklabels():\n",
    "    tl.set_color('r')\n",
    "#ax2.set_title('epsilon=50000')\n",
    "\n"
   ]
  },
  {
   "cell_type": "code",
   "execution_count": 26,
   "metadata": {},
   "outputs": [
    {
     "data": {
      "image/png": "[encoded data removed]",
      "text/plain": [
       "<Figure size 432x288 with 1 Axes>"
      ]
     },
     "metadata": {
      "needs_background": "light"
     },
     "output_type": "display_data"
    }
   ],
   "source": [
    "plt.scatter(ds['acc'], ds['yeom'], label='Yeom')\n",
    "plt.scatter(ds['acc'], ds['merlin'], label='Merlin')\n",
    "plt.xlabel('Accuracy')\n",
    "plt.ylabel('Advantage')\n",
    "plt.title('Privacy does not Ruin Accuracy')\n",
    "plt.show()"
   ]
  },
  {
   "cell_type": "code",
   "execution_count": null,
   "metadata": {},
   "outputs": [],
   "source": []
  }
 ],
 "metadata": {
  "kernelspec": {
   "display_name": "Python 3",
   "language": "python",
   "name": "python3"
  },
  "language_info": {
   "codemirror_mode": {
    "name": "ipython",
    "version": 3
   },
   "file_extension": ".py",
   "mimetype": "text/x-python",
   "name": "python",
   "nbconvert_exporter": "python",
   "pygments_lexer": "ipython3",
   "version": "3.7.6"
  }
 },
 "nbformat": 4,
 "nbformat_minor": 4
}
