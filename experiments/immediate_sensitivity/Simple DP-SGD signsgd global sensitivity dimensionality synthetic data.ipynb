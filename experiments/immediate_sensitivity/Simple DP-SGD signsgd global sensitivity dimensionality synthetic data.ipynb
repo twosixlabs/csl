{
 "cells": [
  {
   "cell_type": "code",
   "execution_count": 1,
   "id": "596fcb73",
   "metadata": {},
   "outputs": [],
   "source": [
    "# Load the data and libraries\n",
    "import pandas as pd\n",
    "import numpy as np\n",
    "from scipy import stats\n",
    "import matplotlib.pyplot as plt\n",
    "plt.style.use('seaborn-whitegrid')\n",
    "\n",
    "# Load data files\n",
    "import numpy as np\n",
    "import urllib.request\n",
    "import io\n"
   ]
  },
  {
   "cell_type": "code",
   "execution_count": 2,
   "id": "97d8d1c0",
   "metadata": {},
   "outputs": [],
   "source": [
    "import torch"
   ]
  },
  {
   "cell_type": "code",
   "execution_count": 3,
   "id": "c02730e6",
   "metadata": {},
   "outputs": [],
   "source": [
    "from timeit import default_timer as timer\n",
    "import sklearn.datasets"
   ]
  },
  {
   "cell_type": "code",
   "execution_count": 195,
   "id": "a91f1790",
   "metadata": {},
   "outputs": [],
   "source": [
    "n_classes = 2\n",
    "\n",
    "X, y = sklearn.datasets.make_classification(n_samples=1000,\n",
    "                                            n_features=50000,\n",
    "                                            n_informative=5,\n",
    "                                            n_redundant=30000,\n",
    "                                            n_repeated=0,\n",
    "                                            class_sep=0.5,\n",
    "                                            n_classes=n_classes,\n",
    "                                            random_state = 4)\n",
    "\n",
    "n_features = X.shape[1]"
   ]
  },
  {
   "cell_type": "code",
   "execution_count": 196,
   "id": "cf6e0551",
   "metadata": {},
   "outputs": [],
   "source": [
    "# transform labels\n",
    "y = np.where(y == 0, -1, y)"
   ]
  },
  {
   "cell_type": "code",
   "execution_count": 6,
   "id": "cfc03257",
   "metadata": {},
   "outputs": [],
   "source": [
    "# Load the data and libraries\n",
    "import pandas as pd\n",
    "import numpy as np\n",
    "from scipy import stats\n",
    "import matplotlib.pyplot as plt\n",
    "plt.style.use('seaborn-whitegrid')\n",
    "\n",
    "# Load data files\n",
    "import numpy as np\n",
    "import urllib.request\n",
    "import io\n",
    "\n",
    "url_x = 'https://github.com/jnear/cs211-data-privacy/raw/master/slides/adult_processed_x.npy'\n",
    "url_y = 'https://github.com/jnear/cs211-data-privacy/raw/master/slides/adult_processed_y.npy'\n",
    "\n",
    "with urllib.request.urlopen(url_x) as url:\n",
    "    f = io.BytesIO(url.read())\n",
    "X = np.load(f)\n",
    "\n",
    "with urllib.request.urlopen(url_y) as url:\n",
    "    f = io.BytesIO(url.read())\n",
    "y = np.load(f)"
   ]
  },
  {
   "cell_type": "code",
   "execution_count": null,
   "id": "4cd11688",
   "metadata": {},
   "outputs": [],
   "source": []
  },
  {
   "cell_type": "code",
   "execution_count": null,
   "id": "50016b2b",
   "metadata": {},
   "outputs": [],
   "source": []
  },
  {
   "cell_type": "code",
   "execution_count": 179,
   "id": "0ed9738e",
   "metadata": {},
   "outputs": [],
   "source": [
    "def gaussian_mech_zCDP_vec(vec, sensitivity, rho):\n",
    "    sigma = np.sqrt((sensitivity**2) / (2 * rho))\n",
    "    return vec + np.random.normal(loc=0, scale=sigma, size=vec.shape)"
   ]
  },
  {
   "cell_type": "code",
   "execution_count": 180,
   "id": "28bf0947",
   "metadata": {},
   "outputs": [
    {
     "name": "stdout",
     "output_type": "stream",
     "text": [
      "Train and test set sizes: 800 200\n"
     ]
    }
   ],
   "source": [
    "# Split data into training and test sets\n",
    "training_size = int(X.shape[0] * 0.8)\n",
    "\n",
    "X_train = X[:training_size]\n",
    "X_test = X[training_size:]\n",
    "\n",
    "y_train = y[:training_size]\n",
    "y_test = y[training_size:]\n",
    "\n",
    "print('Train and test set sizes:', len(y_train), len(y_test))"
   ]
  },
  {
   "cell_type": "code",
   "execution_count": null,
   "id": "ea815128",
   "metadata": {},
   "outputs": [],
   "source": []
  },
  {
   "cell_type": "markdown",
   "id": "d251c9e4",
   "metadata": {},
   "source": [
    "# Clipping and Gradient definition"
   ]
  },
  {
   "cell_type": "code",
   "execution_count": 181,
   "id": "913522fe",
   "metadata": {},
   "outputs": [],
   "source": [
    "def L2_clip_array(vs , b):\n",
    "    norms = np.linalg.norm(vs, ord = 2, axis = 1)\n",
    "    ratios = vs/norms[:, None]\n",
    "    results = np.where((norms > b)[:, None], b*ratios, vs)\n",
    "    return results"
   ]
  },
  {
   "cell_type": "code",
   "execution_count": 182,
   "id": "647f1a03",
   "metadata": {},
   "outputs": [],
   "source": [
    "def vgradient(theta_in, x_in, y_in, C):\n",
    "    x = x_in\n",
    "    y = y_in\n",
    "    theta = theta_in\n",
    "    exponent = y * np.dot(x, theta)\n",
    "    rhs = (y/(1+np.exp(exponent)))\n",
    "    gradients = -(x*rhs[:, None])\n",
    "    return gradients\n",
    "#     clipped_grads = L2_clip_array(gradients, C)\n",
    "#     return np.sum(clipped_grads, axis = 0)"
   ]
  },
  {
   "cell_type": "code",
   "execution_count": 183,
   "id": "ec80a395",
   "metadata": {},
   "outputs": [],
   "source": [
    "# Prediction: take a model (theta) and a single example (xi) and return its predicted label\n",
    "def predict(xi, theta, bias=0):\n",
    "    label = np.sign(xi @ theta + bias)\n",
    "    return label\n",
    "\n",
    "def accuracy(theta):\n",
    "    return np.sum(predict(X_test, theta) == y_test)/X_test.shape[0]"
   ]
  },
  {
   "cell_type": "markdown",
   "id": "48e9de62",
   "metadata": {},
   "source": [
    "# Baseline (gradient clipping DP-SGD)"
   ]
  },
  {
   "cell_type": "code",
   "execution_count": 197,
   "id": "e2d8814f",
   "metadata": {},
   "outputs": [],
   "source": [
    "def dp_gradient_descent(epochs, rho):\n",
    "    rho_i = rho/epochs\n",
    "    theta = np.zeros(X_train.shape[1])  # leaks the number of features, without privacy\n",
    "    clipping_param = 1\n",
    "    num_examples = X_train.shape[0]     # leaks the number of training examples, without privacy\n",
    "\n",
    "    BATCH_SIZE = 256\n",
    "    num_batches = int(num_examples / BATCH_SIZE)\n",
    "    batches_X = np.array_split(X, num_batches)\n",
    "    batches_y = np.array_split(y, num_batches)\n",
    "\n",
    "    for i in range(epochs):\n",
    "\n",
    "        for xs, ys in zip(batches_X, batches_y):\n",
    "            grads           = vgradient(theta, xs, ys, clipping_param)\n",
    "            norms           = np.linalg.norm(grads, ord=2, axis=1)\n",
    "            print('avg norm:', np.mean(norms, axis=0))\n",
    "            \n",
    "            clipped_grads   = L2_clip_array(grads, clipping_param)\n",
    "            avg_grad        = np.mean(clipped_grads, axis=0)\n",
    "            noisy_grad      = gaussian_mech_zCDP_vec(avg_grad, clipping_param/len(xs), rho_i)\n",
    "            theta           = theta - noisy_grad\n",
    "\n",
    "    return theta"
   ]
  },
  {
   "cell_type": "code",
   "execution_count": 198,
   "id": "cbb41f9e",
   "metadata": {},
   "outputs": [
    {
     "name": "stdout",
     "output_type": "stream",
     "text": [
      "avg norm: 165.76830408426738\n",
      "avg norm: 90.88449542628645\n",
      "avg norm: 109.54410138452893\n",
      "avg norm: 96.85951237930549\n",
      "avg norm: 81.01347696041167\n",
      "avg norm: 80.06845349203269\n",
      "avg norm: 84.98295801483356\n",
      "avg norm: 108.97922393263642\n",
      "avg norm: 145.506743419262\n",
      "avg norm: 104.61269940152182\n",
      "avg norm: 72.387532799153\n",
      "avg norm: 76.12812766780584\n",
      "avg norm: 79.72880173176249\n",
      "avg norm: 81.26744833946174\n",
      "avg norm: 91.28986438527032\n",
      "avg norm: 165.76830408426738\n",
      "avg norm: 90.66983439731025\n",
      "avg norm: 95.07896181444829\n",
      "avg norm: 88.1440773422198\n",
      "avg norm: 80.78207109879898\n",
      "avg norm: 79.86185761004967\n",
      "avg norm: 90.37859844732678\n",
      "avg norm: 111.60490772843438\n",
      "avg norm: 136.36616411943393\n",
      "avg norm: 99.71995620735629\n",
      "avg norm: 77.90439401191327\n",
      "avg norm: 82.15980226725206\n",
      "avg norm: 94.3916940335519\n",
      "avg norm: 111.12666613781177\n",
      "avg norm: 122.45116709342793\n",
      "avg norm: 165.76830408426738\n",
      "avg norm: 96.4643048059498\n",
      "avg norm: 105.29608996153434\n",
      "avg norm: 93.10052395220217\n",
      "avg norm: 80.04018544032965\n",
      "avg norm: 83.03277950312912\n",
      "avg norm: 96.13207349934584\n",
      "avg norm: 110.32080906882001\n",
      "avg norm: 128.03046662438769\n",
      "avg norm: 106.72645029169426\n",
      "avg norm: 78.1003802695522\n",
      "avg norm: 77.91180321129639\n",
      "avg norm: 81.73167915823747\n",
      "avg norm: 82.24147115185342\n",
      "avg norm: 86.5445234216968\n",
      "avg norm: 165.76830408426738\n",
      "avg norm: 89.58258919269318\n",
      "avg norm: 104.619041936175\n",
      "avg norm: 91.7367255392467\n",
      "avg norm: 89.58623788518027\n",
      "avg norm: 82.01072339683279\n",
      "avg norm: 91.74817496514532\n",
      "avg norm: 103.55757987455586\n",
      "avg norm: 135.87801848344472\n",
      "avg norm: 104.6768546301547\n",
      "avg norm: 73.32024792823728\n",
      "avg norm: 81.14059396219864\n",
      "avg norm: 84.7832313934388\n",
      "avg norm: 101.88179978565317\n",
      "avg norm: 138.58429259919066\n",
      "avg norm: 165.76830408426738\n",
      "avg norm: 93.31993144124553\n",
      "avg norm: 103.14054871633033\n",
      "avg norm: 94.00057817461672\n",
      "avg norm: 79.13815767206331\n",
      "avg norm: 80.98418638329017\n",
      "avg norm: 92.57530681355318\n",
      "avg norm: 112.56749074663857\n",
      "avg norm: 133.02512850580496\n",
      "avg norm: 102.43882663378672\n",
      "avg norm: 81.91583846150199\n",
      "avg norm: 79.72073575185237\n",
      "avg norm: 95.82385194609587\n",
      "avg norm: 107.68369677504664\n",
      "avg norm: 128.98518239525794\n",
      "mean: 0.497\n",
      "std: 0.029257477676655597\n"
     ]
    }
   ],
   "source": [
    "rho = 1\n",
    "epochs = 5\n",
    "#print('eps:', zcdp_eps(rho, 1e-5))\n",
    "accs = [accuracy(dp_gradient_descent(epochs, rho)) for _ in range(5)]\n",
    "print('mean:', np.mean(accs))\n",
    "print('std:', np.std(accs))"
   ]
  },
  {
   "cell_type": "code",
   "execution_count": null,
   "id": "6b6b70b1",
   "metadata": {},
   "outputs": [],
   "source": []
  },
  {
   "cell_type": "markdown",
   "id": "2f55f8b3",
   "metadata": {},
   "source": [
    "# SignSGD + dimensionality reduction"
   ]
  },
  {
   "cell_type": "code",
   "execution_count": 22,
   "id": "271c7167",
   "metadata": {},
   "outputs": [],
   "source": [
    "# exponential mechanism, k times\n",
    "# sat rho-zCDP\n",
    "def top_k(grads, C, k, rho):\n",
    "    rho_i = rho / k\n",
    "    clipped_grads = np.clip(grads, -C, C)\n",
    "    avg_grad = np.mean(clipped_grads, axis=0)\n",
    "    sens = C / len(grads)\n",
    "    noise = np.random.gumbel(loc=0, scale=sens/np.sqrt(8*rho_i), size=len(avg_grad))\n",
    "    noisy_scores = avg_grad + noise\n",
    "    k_ind = np.argpartition(noisy_scores, -k)[-k:]\n",
    "    return k_ind"
   ]
  },
  {
   "cell_type": "code",
   "execution_count": 23,
   "id": "ba955ab0",
   "metadata": {},
   "outputs": [],
   "source": [
    "def dp_gradient_descent(epochs, rho, k=20, clipping_param=.3):\n",
    "    rho_i = rho/epochs\n",
    "    d = X_train.shape[1]\n",
    "    theta = np.zeros(d)                 # leaks the number of features, without privacy\n",
    "    num_examples = X_train.shape[0]     # leaks the number of training examples, without privacy\n",
    "\n",
    "    BATCH_SIZE = 256\n",
    "    num_batches = int(num_examples / BATCH_SIZE)\n",
    "    batches_X = np.array_split(X, num_batches)\n",
    "    batches_y = np.array_split(y, num_batches)\n",
    "\n",
    "    for i in range(epochs):\n",
    "\n",
    "        for xs, ys in zip(batches_X, batches_y):\n",
    "            grads           = vgradient(theta, xs, ys, clipping_param)\n",
    "            \n",
    "            # this is not private yet\n",
    "            k_ind_old       = np.argpartition(np.abs(np.mean(grads, axis=0)), -k)[-k:]\n",
    "            k_ind           = top_k(grads, clipping_param, k, .1*rho_i)\n",
    "            k_grads         = grads[:, k_ind]\n",
    "            #print('old k_ind:', k_ind_old, 'new k_ind:', k_ind)\n",
    "            \n",
    "            # clip just the chosen parameters\n",
    "            clipped_grads   = L2_clip_array(k_grads, clipping_param)\n",
    "            avg_grad        = np.mean(clipped_grads, axis=0) # sensitivity is clipping_param / len(xs)\n",
    "            noisy_grad      = gaussian_mech_zCDP_vec(avg_grad, clipping_param/len(xs), .9*rho_i)\n",
    "            full_grad       = np.zeros(d)\n",
    "            full_grad[k_ind]= noisy_grad\n",
    "            #print(full_grad)\n",
    "            theta           = theta - full_grad       # regular version\n",
    "            #theta            = theta - (.5/(i+5))*np.sign(full_grad)     # sign version\n",
    "\n",
    "    return theta"
   ]
  },
  {
   "cell_type": "code",
   "execution_count": 24,
   "id": "4c20b7bb",
   "metadata": {},
   "outputs": [],
   "source": [
    "def dp_gradient_descent(epochs, rho, k=20, clipping_param=.3):\n",
    "    rho_i = rho/epochs\n",
    "    d = X_train.shape[1]\n",
    "    theta = np.zeros(d)                 # leaks the number of features, without privacy\n",
    "    num_examples = X_train.shape[0]     # leaks the number of training examples, without privacy\n",
    "\n",
    "    BATCH_SIZE = 256\n",
    "    num_batches = int(num_examples / BATCH_SIZE)\n",
    "    batches_X = np.array_split(X, num_batches)\n",
    "    batches_y = np.array_split(y, num_batches)\n",
    "\n",
    "    for i in range(epochs):\n",
    "        eta = (.5/(i+10))\n",
    "        #print('rate:', eta)\n",
    "\n",
    "        for xs, ys in zip(batches_X, batches_y):\n",
    "            grads           = vgradient(theta, xs, ys, clipping_param)\n",
    "            k_ind_pos       = top_k(grads, clipping_param, k, .5*rho_i)\n",
    "            k_ind_neg       = top_k(-grads, clipping_param, k, .5*rho_i)\n",
    "            full_grad       = np.zeros(d)\n",
    "            \n",
    "#             print('num rate', .01*rate)\n",
    "#             print('analytic rate', (.5 / (i+5)))\n",
    "\n",
    "            full_grad[k_ind_pos] = 1\n",
    "            full_grad[k_ind_neg] = -1\n",
    "\n",
    "            theta            = theta - eta*full_grad     # sign version\n",
    "            #theta            = theta - *rate*full_grad     # sign version\n",
    "    return theta"
   ]
  },
  {
   "cell_type": "code",
   "execution_count": 199,
   "id": "f37fc58e",
   "metadata": {},
   "outputs": [],
   "source": [
    "def dp_gradient_descent(epochs, rho, k=100, clipping_param=.3):\n",
    "    rho_i = rho/epochs\n",
    "    d = X_train.shape[1]\n",
    "    theta = np.zeros(d)                 # leaks the number of features, without privacy\n",
    "    num_examples = X_train.shape[0]     # leaks the number of training examples, without privacy\n",
    "\n",
    "    BATCH_SIZE = 256\n",
    "    num_batches = int(num_examples / BATCH_SIZE)\n",
    "    batches_X = np.array_split(X, num_batches)\n",
    "    batches_y = np.array_split(y, num_batches)\n",
    "\n",
    "    for i in range(epochs):\n",
    "        eta = (.5/(i+10))\n",
    "        #print('rate:', eta)\n",
    "\n",
    "        for xs, ys in zip(batches_X, batches_y):\n",
    "            grads           = vgradient(theta, xs, ys, clipping_param)\n",
    "            top_k           = np.argpartition(np.abs(grads), -k, axis=1)[:, -k:]\n",
    "            full_grad       = np.zeros(grads.shape)\n",
    "            important_grads = np.take_along_axis(grads, top_k, 1)\n",
    "            \n",
    "            np.put_along_axis(full_grad, top_k, important_grads, 1)\n",
    "            norms           = np.linalg.norm(full_grad, ord=2, axis=1)\n",
    "            print('avg norm:', np.mean(norms, axis=0))\n",
    "            \n",
    "            clipped_grad    = L2_clip_array(full_grad, clipping_param)\n",
    "            avg_grad        = np.mean(clipped_grad, axis=0)\n",
    "            noisy_grad      = gaussian_mech_zCDP_vec(avg_grad, clipping_param/len(xs), rho_i)\n",
    "\n",
    "            theta            = theta - noisy_grad     # sign version\n",
    "            #theta            = theta - *rate*full_grad     # sign version\n",
    "    return theta"
   ]
  },
  {
   "cell_type": "code",
   "execution_count": 201,
   "id": "5bb08475",
   "metadata": {},
   "outputs": [
    {
     "name": "stdout",
     "output_type": "stream",
     "text": [
      "eps: 7.786140424415112\n",
      "avg norm: 47.25118814241032\n",
      "avg norm: 26.458637732419607\n",
      "avg norm: 28.617925991307857\n",
      "avg norm: 29.961640377792964\n",
      "avg norm: 24.577146272866436\n",
      "avg norm: 25.357136968362962\n",
      "avg norm: 24.064754685601137\n",
      "avg norm: 25.492538329521217\n",
      "avg norm: 28.14994021986853\n",
      "avg norm: 27.942097066054007\n",
      "avg norm: 26.4306785467896\n",
      "avg norm: 27.728974290880373\n",
      "avg norm: 24.30832776235286\n",
      "avg norm: 23.947667707551542\n",
      "avg norm: 27.085705315150335\n",
      "avg norm: 47.25118814241032\n",
      "avg norm: 33.64293930306714\n",
      "avg norm: 25.503273105951802\n",
      "avg norm: 25.42005519752407\n",
      "avg norm: 22.803101231252455\n",
      "avg norm: 26.915299275115604\n",
      "avg norm: 25.645136292241087\n",
      "avg norm: 23.74085421612362\n",
      "avg norm: 24.8305830638454\n",
      "avg norm: 24.46930674211356\n",
      "avg norm: 24.832370654104253\n",
      "avg norm: 26.70195239917906\n",
      "avg norm: 28.64481757351941\n",
      "avg norm: 27.50754779976543\n",
      "avg norm: 24.424315931676873\n",
      "avg norm: 47.25118814241032\n",
      "avg norm: 32.83984444076289\n",
      "avg norm: 25.77006777465066\n",
      "avg norm: 26.743111994913246\n",
      "avg norm: 22.057378599126917\n",
      "avg norm: 26.999371913632814\n",
      "avg norm: 23.484385224247504\n",
      "avg norm: 24.80029812274774\n",
      "avg norm: 25.773503223775645\n",
      "avg norm: 24.346427069163145\n",
      "avg norm: 22.693631972428086\n",
      "avg norm: 24.46536660356727\n",
      "avg norm: 25.24952381944335\n",
      "avg norm: 21.779826448093857\n",
      "avg norm: 27.230640137490216\n",
      "avg norm: 47.25118814241032\n",
      "avg norm: 32.220241756379245\n",
      "avg norm: 26.5266928725176\n",
      "avg norm: 24.206480408759752\n",
      "avg norm: 23.304384740482092\n",
      "avg norm: 26.066470016628884\n",
      "avg norm: 24.243589795015644\n",
      "avg norm: 26.289411866512868\n",
      "avg norm: 25.62400412954585\n",
      "avg norm: 25.701746356908952\n",
      "avg norm: 26.630696791318037\n",
      "avg norm: 24.635345273510275\n",
      "avg norm: 25.23079127907603\n",
      "avg norm: 25.215461486837565\n",
      "avg norm: 27.50693799102937\n",
      "avg norm: 47.25118814241032\n",
      "avg norm: 32.50936127424949\n",
      "avg norm: 30.032043900359433\n",
      "avg norm: 28.068943841769784\n",
      "avg norm: 24.3984644825979\n",
      "avg norm: 25.57822555090405\n",
      "avg norm: 23.540485564970535\n",
      "avg norm: 22.22669265103955\n",
      "avg norm: 23.876048541749128\n",
      "avg norm: 24.667190691486663\n",
      "avg norm: 25.89796910005894\n",
      "avg norm: 27.13742462511489\n",
      "avg norm: 23.674405601183572\n",
      "avg norm: 21.058184732456134\n",
      "avg norm: 23.411465397584024\n",
      "mean: 0.5\n",
      "std: 0.027748873851023242\n"
     ]
    }
   ],
   "source": [
    "rho = 1\n",
    "epochs = 5\n",
    "print('eps:', zcdp_eps(rho, 1e-5))\n",
    "accs = [accuracy(dp_gradient_descent(epochs, rho, k=500, clipping_param=1)) for _ in range(5)]\n",
    "print('mean:', np.mean(accs))\n",
    "print('std:', np.std(accs))"
   ]
  },
  {
   "cell_type": "code",
   "execution_count": 99,
   "id": "9a7f51f3",
   "metadata": {},
   "outputs": [
    {
     "name": "stdout",
     "output_type": "stream",
     "text": [
      "eps: 2.2459660262893473\n",
      "grad shape: (334, 10000)\n",
      "top_k shape: (334, 50)\n",
      "trimmed grads shape: (334, 10000)\n",
      "shape of indx: (334, 50)\n",
      "(334, 10000)\n"
     ]
    },
    {
     "ename": "ZeroDivisionError",
     "evalue": "division by zero",
     "output_type": "error",
     "traceback": [
      "\u001b[0;31m---------------------------------------------------------------------------\u001b[0m",
      "\u001b[0;31mZeroDivisionError\u001b[0m                         Traceback (most recent call last)",
      "\u001b[0;32m/tmp/ipykernel_765160/4003056095.py\u001b[0m in \u001b[0;36m<module>\u001b[0;34m\u001b[0m\n\u001b[1;32m      2\u001b[0m \u001b[0mepochs\u001b[0m \u001b[0;34m=\u001b[0m \u001b[0;36m5\u001b[0m\u001b[0;34m\u001b[0m\u001b[0;34m\u001b[0m\u001b[0m\n\u001b[1;32m      3\u001b[0m \u001b[0mprint\u001b[0m\u001b[0;34m(\u001b[0m\u001b[0;34m'eps:'\u001b[0m\u001b[0;34m,\u001b[0m \u001b[0mzcdp_eps\u001b[0m\u001b[0;34m(\u001b[0m\u001b[0mrho\u001b[0m\u001b[0;34m,\u001b[0m \u001b[0;36m1e-5\u001b[0m\u001b[0;34m)\u001b[0m\u001b[0;34m)\u001b[0m\u001b[0;34m\u001b[0m\u001b[0;34m\u001b[0m\u001b[0m\n\u001b[0;32m----> 4\u001b[0;31m \u001b[0maccs\u001b[0m \u001b[0;34m=\u001b[0m \u001b[0;34m[\u001b[0m\u001b[0maccuracy\u001b[0m\u001b[0;34m(\u001b[0m\u001b[0mdp_gradient_descent\u001b[0m\u001b[0;34m(\u001b[0m\u001b[0mepochs\u001b[0m\u001b[0;34m,\u001b[0m \u001b[0mrho\u001b[0m\u001b[0;34m,\u001b[0m \u001b[0mk\u001b[0m\u001b[0;34m=\u001b[0m\u001b[0;36m50\u001b[0m\u001b[0;34m,\u001b[0m \u001b[0mclipping_param\u001b[0m\u001b[0;34m=\u001b[0m\u001b[0;36m.1\u001b[0m\u001b[0;34m)\u001b[0m\u001b[0;34m)\u001b[0m \u001b[0;32mfor\u001b[0m \u001b[0m_\u001b[0m \u001b[0;32min\u001b[0m \u001b[0mrange\u001b[0m\u001b[0;34m(\u001b[0m\u001b[0;36m5\u001b[0m\u001b[0;34m)\u001b[0m\u001b[0;34m]\u001b[0m\u001b[0;34m\u001b[0m\u001b[0;34m\u001b[0m\u001b[0m\n\u001b[0m\u001b[1;32m      5\u001b[0m \u001b[0mprint\u001b[0m\u001b[0;34m(\u001b[0m\u001b[0;34m'mean:'\u001b[0m\u001b[0;34m,\u001b[0m \u001b[0mnp\u001b[0m\u001b[0;34m.\u001b[0m\u001b[0mmean\u001b[0m\u001b[0;34m(\u001b[0m\u001b[0maccs\u001b[0m\u001b[0;34m)\u001b[0m\u001b[0;34m)\u001b[0m\u001b[0;34m\u001b[0m\u001b[0;34m\u001b[0m\u001b[0m\n\u001b[1;32m      6\u001b[0m \u001b[0mprint\u001b[0m\u001b[0;34m(\u001b[0m\u001b[0;34m'std:'\u001b[0m\u001b[0;34m,\u001b[0m \u001b[0mnp\u001b[0m\u001b[0;34m.\u001b[0m\u001b[0mstd\u001b[0m\u001b[0;34m(\u001b[0m\u001b[0maccs\u001b[0m\u001b[0;34m)\u001b[0m\u001b[0;34m)\u001b[0m\u001b[0;34m\u001b[0m\u001b[0;34m\u001b[0m\u001b[0m\n",
      "\u001b[0;32m/tmp/ipykernel_765160/4003056095.py\u001b[0m in \u001b[0;36m<listcomp>\u001b[0;34m(.0)\u001b[0m\n\u001b[1;32m      2\u001b[0m \u001b[0mepochs\u001b[0m \u001b[0;34m=\u001b[0m \u001b[0;36m5\u001b[0m\u001b[0;34m\u001b[0m\u001b[0;34m\u001b[0m\u001b[0m\n\u001b[1;32m      3\u001b[0m \u001b[0mprint\u001b[0m\u001b[0;34m(\u001b[0m\u001b[0;34m'eps:'\u001b[0m\u001b[0;34m,\u001b[0m \u001b[0mzcdp_eps\u001b[0m\u001b[0;34m(\u001b[0m\u001b[0mrho\u001b[0m\u001b[0;34m,\u001b[0m \u001b[0;36m1e-5\u001b[0m\u001b[0;34m)\u001b[0m\u001b[0;34m)\u001b[0m\u001b[0;34m\u001b[0m\u001b[0;34m\u001b[0m\u001b[0m\n\u001b[0;32m----> 4\u001b[0;31m \u001b[0maccs\u001b[0m \u001b[0;34m=\u001b[0m \u001b[0;34m[\u001b[0m\u001b[0maccuracy\u001b[0m\u001b[0;34m(\u001b[0m\u001b[0mdp_gradient_descent\u001b[0m\u001b[0;34m(\u001b[0m\u001b[0mepochs\u001b[0m\u001b[0;34m,\u001b[0m \u001b[0mrho\u001b[0m\u001b[0;34m,\u001b[0m \u001b[0mk\u001b[0m\u001b[0;34m=\u001b[0m\u001b[0;36m50\u001b[0m\u001b[0;34m,\u001b[0m \u001b[0mclipping_param\u001b[0m\u001b[0;34m=\u001b[0m\u001b[0;36m.1\u001b[0m\u001b[0;34m)\u001b[0m\u001b[0;34m)\u001b[0m \u001b[0;32mfor\u001b[0m \u001b[0m_\u001b[0m \u001b[0;32min\u001b[0m \u001b[0mrange\u001b[0m\u001b[0;34m(\u001b[0m\u001b[0;36m5\u001b[0m\u001b[0;34m)\u001b[0m\u001b[0;34m]\u001b[0m\u001b[0;34m\u001b[0m\u001b[0;34m\u001b[0m\u001b[0m\n\u001b[0m\u001b[1;32m      5\u001b[0m \u001b[0mprint\u001b[0m\u001b[0;34m(\u001b[0m\u001b[0;34m'mean:'\u001b[0m\u001b[0;34m,\u001b[0m \u001b[0mnp\u001b[0m\u001b[0;34m.\u001b[0m\u001b[0mmean\u001b[0m\u001b[0;34m(\u001b[0m\u001b[0maccs\u001b[0m\u001b[0;34m)\u001b[0m\u001b[0;34m)\u001b[0m\u001b[0;34m\u001b[0m\u001b[0;34m\u001b[0m\u001b[0m\n\u001b[1;32m      6\u001b[0m \u001b[0mprint\u001b[0m\u001b[0;34m(\u001b[0m\u001b[0;34m'std:'\u001b[0m\u001b[0;34m,\u001b[0m \u001b[0mnp\u001b[0m\u001b[0;34m.\u001b[0m\u001b[0mstd\u001b[0m\u001b[0;34m(\u001b[0m\u001b[0maccs\u001b[0m\u001b[0;34m)\u001b[0m\u001b[0;34m)\u001b[0m\u001b[0;34m\u001b[0m\u001b[0;34m\u001b[0m\u001b[0m\n",
      "\u001b[0;32m/tmp/ipykernel_765160/2847128086.py\u001b[0m in \u001b[0;36mdp_gradient_descent\u001b[0;34m(epochs, rho, k, clipping_param)\u001b[0m\n\u001b[1;32m     26\u001b[0m             \u001b[0mnp\u001b[0m\u001b[0;34m.\u001b[0m\u001b[0mput_along_axis\u001b[0m\u001b[0;34m(\u001b[0m\u001b[0mtrimmed_grads\u001b[0m\u001b[0;34m,\u001b[0m \u001b[0mtop_k\u001b[0m\u001b[0;34m,\u001b[0m \u001b[0mimportant_grads\u001b[0m\u001b[0;34m,\u001b[0m \u001b[0;36m1\u001b[0m\u001b[0;34m)\u001b[0m\u001b[0;34m\u001b[0m\u001b[0;34m\u001b[0m\u001b[0m\n\u001b[1;32m     27\u001b[0m             \u001b[0mprint\u001b[0m\u001b[0;34m(\u001b[0m\u001b[0mtrimmed_grads\u001b[0m\u001b[0;34m.\u001b[0m\u001b[0mshape\u001b[0m\u001b[0;34m)\u001b[0m\u001b[0;34m\u001b[0m\u001b[0;34m\u001b[0m\u001b[0m\n\u001b[0;32m---> 28\u001b[0;31m             \u001b[0;36m1\u001b[0m\u001b[0;34m/\u001b[0m\u001b[0;36m0\u001b[0m\u001b[0;34m\u001b[0m\u001b[0;34m\u001b[0m\u001b[0m\n\u001b[0m\u001b[1;32m     29\u001b[0m             \u001b[0mk_ind_pos\u001b[0m       \u001b[0;34m=\u001b[0m \u001b[0mtop_k\u001b[0m\u001b[0;34m(\u001b[0m\u001b[0mgrads\u001b[0m\u001b[0;34m,\u001b[0m \u001b[0mclipping_param\u001b[0m\u001b[0;34m,\u001b[0m \u001b[0mk\u001b[0m\u001b[0;34m,\u001b[0m \u001b[0;36m.5\u001b[0m\u001b[0;34m*\u001b[0m\u001b[0mrho_i\u001b[0m\u001b[0;34m)\u001b[0m\u001b[0;34m\u001b[0m\u001b[0;34m\u001b[0m\u001b[0m\n\u001b[1;32m     30\u001b[0m             \u001b[0mk_ind_neg\u001b[0m       \u001b[0;34m=\u001b[0m \u001b[0mtop_k\u001b[0m\u001b[0;34m(\u001b[0m\u001b[0;34m-\u001b[0m\u001b[0mgrads\u001b[0m\u001b[0;34m,\u001b[0m \u001b[0mclipping_param\u001b[0m\u001b[0;34m,\u001b[0m \u001b[0mk\u001b[0m\u001b[0;34m,\u001b[0m \u001b[0;36m.5\u001b[0m\u001b[0;34m*\u001b[0m\u001b[0mrho_i\u001b[0m\u001b[0;34m)\u001b[0m\u001b[0;34m\u001b[0m\u001b[0;34m\u001b[0m\u001b[0m\n",
      "\u001b[0;31mZeroDivisionError\u001b[0m: division by zero"
     ]
    }
   ],
   "source": [
    "rho = .1\n",
    "epochs = 5\n",
    "print('eps:', zcdp_eps(rho, 1e-5))\n",
    "accs = [accuracy(dp_gradient_descent(epochs, rho, k=50, clipping_param=.1)) for _ in range(5)]\n",
    "print('mean:', np.mean(accs))\n",
    "print('std:', np.std(accs))"
   ]
  },
  {
   "cell_type": "code",
   "execution_count": null,
   "id": "069a619b",
   "metadata": {},
   "outputs": [],
   "source": []
  },
  {
   "cell_type": "code",
   "execution_count": null,
   "id": "6457b0ad",
   "metadata": {},
   "outputs": [],
   "source": [
    "ks = [1, 10, 20, 50, 70, 100]\n",
    "ks = np.linspace(10, 80, 40)\n",
    "runs = 20\n",
    "means = []\n",
    "stds = []\n",
    "for k in ks:\n",
    "    print(k)\n",
    "    accs = [accuracy(dp_gradient_descent(epochs, rho)) for _ in range(runs)]\n",
    "    means.append(np.mean(accs))\n",
    "    stds.append(np.std(accs))"
   ]
  },
  {
   "cell_type": "code",
   "execution_count": 211,
   "id": "31bb5469",
   "metadata": {},
   "outputs": [
    {
     "data": {
      "text/plain": [
       "<ErrorbarContainer object of 3 artists>"
      ]
     },
     "execution_count": 211,
     "metadata": {},
     "output_type": "execute_result"
    },
    {
     "data": {
      "image/png": "[encoded data removed]",
      "text/plain": [
       "<Figure size 432x288 with 1 Axes>"
      ]
     },
     "metadata": {},
     "output_type": "display_data"
    }
   ],
   "source": [
    "plt.errorbar(ks, means, yerr=stds)"
   ]
  },
  {
   "cell_type": "code",
   "execution_count": null,
   "id": "01f192dd",
   "metadata": {},
   "outputs": [],
   "source": []
  }
 ],
 "metadata": {
  "kernelspec": {
   "display_name": "Python 3 (ipykernel)",
   "language": "python",
   "name": "python3"
  },
  "language_info": {
   "codemirror_mode": {
    "name": "ipython",
    "version": 3
   },
   "file_extension": ".py",
   "mimetype": "text/x-python",
   "name": "python",
   "nbconvert_exporter": "python",
   "pygments_lexer": "ipython3",
   "version": "3.9.7"
  }
 },
 "nbformat": 4,
 "nbformat_minor": 5
}
