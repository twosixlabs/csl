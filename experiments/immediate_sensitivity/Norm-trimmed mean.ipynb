{
 "cells": [
  {
   "cell_type": "code",
   "execution_count": 1,
   "metadata": {},
   "outputs": [],
   "source": [
    "import numpy as np\n",
    "import matplotlib.pyplot as plt"
   ]
  },
  {
   "cell_type": "code",
   "execution_count": 82,
   "metadata": {},
   "outputs": [],
   "source": [
    "test_array = np.random.normal(size=(50,30))"
   ]
  },
  {
   "cell_type": "code",
   "execution_count": 83,
   "metadata": {},
   "outputs": [
    {
     "name": "stdout",
     "output_type": "stream",
     "text": [
      "mean: 5.406462608598791\n",
      "std: 0.7256566375000405\n"
     ]
    }
   ],
   "source": [
    "norms = np.linalg.norm(test_array, ord=2, axis=1)\n",
    "print('mean:', np.mean(norms))\n",
    "print('std:', np.std(norms))"
   ]
  },
  {
   "cell_type": "code",
   "execution_count": 84,
   "metadata": {},
   "outputs": [],
   "source": [
    "def norm_trimmed_mean(many_xs, m=5):\n",
    "    assert len(many_xs) - 2*m > 0\n",
    "\n",
    "    # L2 norm for every example's gradient\n",
    "    norms = np.linalg.norm(many_xs, ord=2, axis=1)\n",
    "    \n",
    "    # sort the norms\n",
    "    sort_idx = np.argsort(norms, axis=0)\n",
    "\n",
    "    # order the gradients according to each one's norm\n",
    "    sorted_many_xs = many_xs[sort_idx]\n",
    "    \n",
    "    # trim the sorted gradients\n",
    "    trimmed_many_xs = sorted_many_xs[m:len(many_xs)-m]\n",
    "    \n",
    "    # take the mean of the trimmed gradients\n",
    "    trimmed_mean = np.mean(trimmed_many_xs, axis=0)\n",
    "\n",
    "    return trimmed_mean"
   ]
  },
  {
   "cell_type": "code",
   "execution_count": 87,
   "metadata": {},
   "outputs": [
    {
     "data": {
      "text/plain": [
       "array([-0.04468667,  0.04394536,  0.26378485, -0.08165101,  0.13413545,\n",
       "        0.00456526, -0.04252463, -0.08077135,  0.02205539, -0.01216704,\n",
       "        0.01730828, -0.12193256,  0.00899569, -0.29133551, -0.1142489 ,\n",
       "       -0.11942199, -0.23164954, -0.04643173, -0.05123815, -0.13863331,\n",
       "       -0.06135808, -0.1107803 ,  0.32086259,  0.07583486, -0.00675312,\n",
       "        0.03318276, -0.00941961, -0.28188386,  0.2839815 ,  0.06127742])"
      ]
     },
     "execution_count": 87,
     "metadata": {},
     "output_type": "execute_result"
    }
   ],
   "source": [
    "norm_trimmed_mean(test_array)"
   ]
  }
 ],
 "metadata": {
  "kernelspec": {
   "display_name": "Python 3",
   "language": "python",
   "name": "python3"
  },
  "language_info": {
   "codemirror_mode": {
    "name": "ipython",
    "version": 3
   },
   "file_extension": ".py",
   "mimetype": "text/x-python",
   "name": "python",
   "nbconvert_exporter": "python",
   "pygments_lexer": "ipython3",
   "version": "3.6.10"
  }
 },
 "nbformat": 4,
 "nbformat_minor": 4
}
