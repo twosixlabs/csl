{
 "cells": [
  {
   "cell_type": "code",
   "execution_count": 1,
   "metadata": {},
   "outputs": [],
   "source": [
    "import pickle\n",
    "import glob\n",
    "from collections import defaultdict"
   ]
  },
  {
   "cell_type": "code",
   "execution_count": 5,
   "metadata": {},
   "outputs": [
    {
     "name": "stdout",
     "output_type": "stream",
     "text": [
      "../../data/purchase/purchase_std_b_256_1000_0.1_32.b\n",
      "../../data/purchase/purchase_std_b_256_1000000_0.1_64.b\n",
      "../../data/purchase/purchase_std_b_256_10000_0.5_32.b\n",
      "../../data/purchase/purchase_std_b_256_1000000_0.5_128.b\n",
      "../../data/purchase/purchase_std_b_256_10000_0.1_32.b\n",
      "../../data/purchase/purchase_std_b_256_1000000_1_32.b\n",
      "../../data/purchase/purchase_std_b_256_1000000_0.5_64.b\n",
      "../../data/purchase/purchase_std_b_256_100000_1_64.b\n",
      "../../data/purchase/purchase_std_b_256_100000_0.1_64.b\n",
      "../../data/purchase/purchase_std_b_256_10000_1_64.b\n",
      "../../data/purchase/purchase_std_b_256_10000_5_32.b\n",
      "../../data/purchase/purchase_std_b_256_1000000_5_128.b\n",
      "../../data/purchase/purchase_std_b_256_1000_1_32.b\n",
      "../../data/purchase/purchase_std_b_256_1000_1_128.b\n",
      "../../data/purchase/purchase_std_b_256_1000000_0.1_32.b\n",
      "../../data/purchase/purchase_std_b_256_1000_5_128.b\n",
      "../../data/purchase/purchase_std_b_256_100000_1_32.b\n",
      "../../data/purchase/purchase_std_b_256_1000_0.5_32.b\n",
      "../../data/purchase/purchase_std_b_256_10000_1_32.b\n",
      "../../data/purchase/purchase_std_b_256_10000_1_128.b\n",
      "../../data/purchase/purchase_std_b_256_1000000_5_32.b\n",
      "../../data/purchase/purchase_std_b_256_100000_1_128.b\n",
      "../../data/purchase/purchase_std_b_256_100000_5_64.b\n",
      "../../data/purchase/purchase_std_b_256_1000_0.1_128.b\n",
      "../../data/purchase/purchase_std_b_256_100000_0.1_32.b\n",
      "../../data/purchase/purchase_std_b_256_1000_5_32.b\n",
      "../../data/purchase/purchase_std_b_256_100000_5_128.b\n",
      "../../data/purchase/purchase_std_b_256_10000_0.5_128.b\n",
      "../../data/purchase/purchase_std_b_256_100000_0.5_32.b\n",
      "../../data/purchase/purchase_std_b_256_10000_5_64.b\n",
      "../../data/purchase/purchase_std_b_256_1000_0.5_128.b\n",
      "../../data/purchase/purchase_std_b_256_10000_0.1_64.b\n",
      "../../data/purchase/purchase_std_b_256_1000_1_64.b\n",
      "../../data/purchase/purchase_std_b_256_100000_0.5_128.b\n",
      "../../data/purchase/purchase_std_b_256_100000_5_32.b\n",
      "../../data/purchase/purchase_std_b_256_10000_0.5_64.b\n",
      "../../data/purchase/purchase_std_b_256_1000_5_64.b\n",
      "../../data/purchase/purchase_std_b_256_1000000_1_64.b\n",
      "../../data/purchase/purchase_std_b_256_1000000_0.5_32.b\n",
      "../../data/purchase/purchase_std_b_256_1000_0.5_64.b\n",
      "../../data/purchase/purchase_std_b_256_1000000_5_64.b\n",
      "../../data/purchase/purchase_std_b_256_1000000_0.1_128.b\n",
      "../../data/purchase/purchase_std_b_256_10000_5_128.b\n",
      "../../data/purchase/purchase_std_b_256_100000_0.5_64.b\n",
      "../../data/purchase/purchase_std_b_256_1000000_1_128.b\n",
      "../../data/purchase/purchase_std_b_256_100000_0.1_128.b\n",
      "../../data/purchase/purchase_std_b_256_1000_0.1_64.b\n",
      "../../data/purchase/purchase_std_b_256_10000_0.1_128.b\n"
     ]
    }
   ],
   "source": [
    "for file in glob.glob(\"../../data/purchase/purchase_std_b*.b\"):\n",
    "    fd = pickle.load(open(file, 'rb'))\n",
    "    nfd = defaultdict(list)\n",
    "    for k, v in fd.items():\n",
    "        if k != 'max_norms':\n",
    "            nfd[k] = v\n",
    "    print(file)\n",
    "    pickle.dump(nfd, open(file, 'wb'))"
   ]
  },
  {
   "cell_type": "code",
   "execution_count": null,
   "metadata": {},
   "outputs": [],
   "source": []
  }
 ],
 "metadata": {
  "kernelspec": {
   "display_name": "Python 3",
   "language": "python",
   "name": "python3"
  },
  "language_info": {
   "codemirror_mode": {
    "name": "ipython",
    "version": 3
   },
   "file_extension": ".py",
   "mimetype": "text/x-python",
   "name": "python",
   "nbconvert_exporter": "python",
   "pygments_lexer": "ipython3",
   "version": "3.7.6"
  }
 },
 "nbformat": 4,
 "nbformat_minor": 4
}
