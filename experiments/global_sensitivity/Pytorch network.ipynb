{
 "cells": [
  {
   "cell_type": "code",
   "execution_count": 1,
   "metadata": {},
   "outputs": [],
   "source": [
    "import torch"
   ]
  },
  {
   "cell_type": "code",
   "execution_count": 834,
   "metadata": {},
   "outputs": [],
   "source": [
    "n_inputs = 100\n",
    "n_hidden = 64\n",
    "inputs = torch.randn((5, n_inputs))"
   ]
  },
  {
   "cell_type": "code",
   "execution_count": 1050,
   "metadata": {},
   "outputs": [],
   "source": [
    "class TanhLayer:\n",
    "    def forward(self, inputs):\n",
    "        self.output = torch.tanh(inputs)\n",
    "        return self.output\n",
    "    \n",
    "    def backward(self, upstream_grad):\n",
    "        return upstream_grad * (1 - self.output**2)\n",
    "    \n",
    "    def int_analysis_forward(self, center, radius):\n",
    "        lower = torch.tanh(center - radius)\n",
    "        upper = torch.tanh(center + radius)\n",
    "        self.output_center = (lower+upper)/2\n",
    "        self.output_radius = upper - self.output_center\n",
    "\n",
    "        return self.output_center, self.output_radius\n",
    "    \n",
    "    def int_analysis_backward(self, upstream_center, upstream_radius):\n",
    "        grad_center = upstream_center * (1 - self.output_center**2)\n",
    "        grad_radius = upstream_radius * 2 * self.output_radius\n",
    "        return grad_center, grad_radius"
   ]
  },
  {
   "cell_type": "code",
   "execution_count": 1081,
   "metadata": {},
   "outputs": [],
   "source": [
    "class LinearLayer:\n",
    "    def __init__(self, input_width, output_width):\n",
    "        self.weights = 0.1*torch.randn((input_width, output_width))\n",
    "        \n",
    "    def forward(self, inputs):\n",
    "        self.input = inputs\n",
    "        self.output = inputs@self.weights\n",
    "        return self.output\n",
    "    \n",
    "    def backward(self, upstream_grad):\n",
    "        self.grad = self.input.T @ upstream_grad\n",
    "        return upstream_grad @ self.weights.T\n",
    "    \n",
    "    def int_analysis_forward(self, center, radius):\n",
    "        #print('center:', center.shape, 'radius:', radius.shape, 'weights:', self.weights.shape)\n",
    "        self.input_center = center\n",
    "        self.input_radius = radius\n",
    "        new_center = center@self.weights\n",
    "        new_radius = radius@self.weights.abs() # beta is all zeros\n",
    "        \n",
    "        self.output_center = new_center\n",
    "        return new_center, new_radius\n",
    "    \n",
    "    def int_analysis_backward(self, upstream_center, upstream_radius):\n",
    "        grad_center = upstream_center @ self.weights.T\n",
    "        grad_radius = upstream_radius @ self.weights.T.abs() # beta is all zeros\n",
    "        \n",
    "        self.grad_center = self.input_center.T @ upstream_center\n",
    "        #print('needed dim:', self.grad_center.shape)\n",
    "        ur = torch.nn.functional.normalize(upstream_radius)\n",
    "        #ur = upstream_radius\n",
    "        #print(ur)\n",
    "        self.grad_radius = self.input_center.T.abs() @ ur +\\\n",
    "                           self.input_radius.T @ ur.abs() +\\\n",
    "                           self.input_radius.T @ ur\n",
    "        #self.grad_radius = self.input_radius\n",
    "        return grad_center, grad_radius"
   ]
  },
  {
   "cell_type": "code",
   "execution_count": 1082,
   "metadata": {},
   "outputs": [],
   "source": [
    "class Classifier:\n",
    "    def __init__(self, n_features, n_hidden=10):\n",
    "        self.layers = [\n",
    "            LinearLayer(n_features, n_hidden),\n",
    "            TanhLayer(),\n",
    "            LinearLayer(n_hidden, n_hidden),\n",
    "            TanhLayer(),\n",
    "            LinearLayer(n_hidden, n_hidden),\n",
    "            TanhLayer(),\n",
    "            LinearLayer(n_hidden, 1),\n",
    "            TanhLayer(),\n",
    "        ]\n",
    "\n",
    "    def forward(self, inputs):\n",
    "        output = inputs\n",
    "        \n",
    "        for l in self.layers:\n",
    "            output = l.forward(output)\n",
    "        \n",
    "        return output\n",
    "    \n",
    "    def backward(self):\n",
    "        last_layer = self.layers[-1]\n",
    "        output_shape = last_layer.output.shape\n",
    "        # dL / dY\n",
    "        upstream_grad = torch.ones(output_shape)\n",
    "        #upstream_grad = last_layer.output\n",
    "        \n",
    "        for layer in reversed(self.layers):\n",
    "            downstream_grad = layer.backward(upstream_grad)          \n",
    "            upstream_grad = downstream_grad\n",
    "\n",
    "        return upstream_grad\n",
    "    \n",
    "    def int_analysis_forward(self, center, radius):\n",
    "        for layer in self.layers:\n",
    "            #print(layer)\n",
    "            center, radius = layer.int_analysis_forward(center, radius)\n",
    "            \n",
    "        return center, radius\n",
    "    \n",
    "    def int_analysis_backward(self):\n",
    "        last_layer = self.layers[-1]\n",
    "        output_shape = last_layer.output_center.shape\n",
    "        # dL / dY\n",
    "        upstream_grad_center = torch.zeros(output_shape)\n",
    "        upstream_grad_radius = torch.ones(output_shape)\n",
    "        \n",
    "        for layer in reversed(self.layers):\n",
    "            d_center, d_radius = layer.int_analysis_backward(upstream_grad_center, upstream_grad_radius)\n",
    "\n",
    "            upstream_grad_center = d_center\n",
    "            upstream_grad_radius = d_radius\n",
    "\n",
    "        return upstream_grad_center, upstream_grad_radius"
   ]
  },
  {
   "cell_type": "code",
   "execution_count": 1083,
   "metadata": {},
   "outputs": [],
   "source": [
    "c = Classifier(n_inputs, n_hidden)"
   ]
  },
  {
   "cell_type": "code",
   "execution_count": 1084,
   "metadata": {},
   "outputs": [
    {
     "name": "stdout",
     "output_type": "stream",
     "text": [
      "CPU times: user 1.17 ms, sys: 654 µs, total: 1.83 ms\n",
      "Wall time: 1.33 ms\n"
     ]
    }
   ],
   "source": [
    "%%time\n",
    "x = c.forward(inputs)"
   ]
  },
  {
   "cell_type": "code",
   "execution_count": 1085,
   "metadata": {},
   "outputs": [
    {
     "data": {
      "text/plain": [
       "torch.Size([5, 100])"
      ]
     },
     "execution_count": 1085,
     "metadata": {},
     "output_type": "execute_result"
    }
   ],
   "source": [
    "c.backward().shape"
   ]
  },
  {
   "cell_type": "code",
   "execution_count": 1086,
   "metadata": {},
   "outputs": [],
   "source": [
    "if False:\n",
    "    for layer in c.layers:\n",
    "        if isinstance(layer, LinearLayer):\n",
    "            print('weights shape:', layer.weights.shape)\n",
    "            print('grad shape:', layer.grad.shape)"
   ]
  },
  {
   "cell_type": "code",
   "execution_count": 1087,
   "metadata": {},
   "outputs": [],
   "source": [
    "center = torch.zeros((1, n_inputs))\n",
    "radius = torch.full((1, n_inputs), 1.)"
   ]
  },
  {
   "cell_type": "code",
   "execution_count": 1088,
   "metadata": {},
   "outputs": [
    {
     "name": "stdout",
     "output_type": "stream",
     "text": [
      "CPU times: user 1.5 ms, sys: 1.08 ms, total: 2.58 ms\n",
      "Wall time: 1.46 ms\n"
     ]
    },
    {
     "data": {
      "text/plain": [
       "(tensor([[0.]]), tensor([[1.0000]]))"
      ]
     },
     "execution_count": 1088,
     "metadata": {},
     "output_type": "execute_result"
    }
   ],
   "source": [
    "%%time\n",
    "c.int_analysis_forward(center, radius)"
   ]
  },
  {
   "cell_type": "code",
   "execution_count": 1089,
   "metadata": {},
   "outputs": [
    {
     "name": "stdout",
     "output_type": "stream",
     "text": [
      "CPU times: user 3.73 ms, sys: 1.78 ms, total: 5.51 ms\n",
      "Wall time: 3.7 ms\n"
     ]
    }
   ],
   "source": [
    "%%time\n",
    "center, radius = c.int_analysis_backward()"
   ]
  },
  {
   "cell_type": "code",
   "execution_count": 1090,
   "metadata": {},
   "outputs": [
    {
     "data": {
      "text/plain": [
       "tensor(2007.8702)"
      ]
     },
     "execution_count": 1090,
     "metadata": {},
     "output_type": "execute_result"
    }
   ],
   "source": [
    "radius.norm()"
   ]
  },
  {
   "cell_type": "code",
   "execution_count": 1091,
   "metadata": {},
   "outputs": [
    {
     "name": "stdout",
     "output_type": "stream",
     "text": [
      "tensor(20.0000)\n",
      "tensor(16.0000)\n",
      "tensor(15.9981)\n",
      "tensor(15.9982)\n"
     ]
    }
   ],
   "source": [
    "for layer in c.layers:\n",
    "    if isinstance(layer, LinearLayer):\n",
    "        #print(layer.grad_center)\n",
    "        print(layer.grad_radius.norm())"
   ]
  },
  {
   "cell_type": "code",
   "execution_count": null,
   "metadata": {},
   "outputs": [],
   "source": []
  },
  {
   "cell_type": "code",
   "execution_count": null,
   "metadata": {},
   "outputs": [],
   "source": []
  }
 ],
 "metadata": {
  "kernelspec": {
   "display_name": "Python 3 (ipykernel)",
   "language": "python",
   "name": "python3"
  },
  "language_info": {
   "codemirror_mode": {
    "name": "ipython",
    "version": 3
   },
   "file_extension": ".py",
   "mimetype": "text/x-python",
   "name": "python",
   "nbconvert_exporter": "python",
   "pygments_lexer": "ipython3",
   "version": "3.8.12"
  }
 },
 "nbformat": 4,
 "nbformat_minor": 4
}
