{
 "cells": [
  {
   "cell_type": "code",
   "execution_count": 131,
   "metadata": {},
   "outputs": [],
   "source": [
    "# Load the data and libraries\n",
    "import pandas as pd\n",
    "import numpy as np\n",
    "from scipy import stats\n",
    "import matplotlib.pyplot as plt\n",
    "plt.style.use('seaborn-whitegrid')\n",
    "from numba import njit\n",
    "\n",
    "# Load data files\n",
    "import numpy as np\n",
    "import urllib.request\n",
    "import io\n",
    "\n",
    "url_x = 'https://github.com/jnear/cs211-data-privacy/raw/master/slides/adult_processed_x.npy'\n",
    "url_y = 'https://github.com/jnear/cs211-data-privacy/raw/master/slides/adult_processed_y.npy'\n",
    "\n",
    "with urllib.request.urlopen(url_x) as url:\n",
    "    f = io.BytesIO(url.read())\n",
    "X = np.load(f)\n",
    "\n",
    "with urllib.request.urlopen(url_y) as url:\n",
    "    f = io.BytesIO(url.read())\n",
    "y = np.load(f)"
   ]
  },
  {
   "cell_type": "code",
   "execution_count": 91,
   "metadata": {},
   "outputs": [],
   "source": [
    "def gaussian_mech_vec(vec, sensitivity, epsilon, delta):\n",
    "    return vec + np.random.normal(loc=0, scale=sensitivity * np.sqrt(2*np.log(1.25/delta)) / epsilon, size=vec.shape)"
   ]
  },
  {
   "cell_type": "code",
   "execution_count": 92,
   "metadata": {},
   "outputs": [],
   "source": [
    "def gaussian_mech_zCDP_vec(vec, sensitivity, rho):\n",
    "    sigma = np.sqrt((sensitivity**2) / (2 * rho))\n",
    "    return vec + np.random.normal(loc=0, scale=sigma, size=vec.shape)"
   ]
  },
  {
   "cell_type": "code",
   "execution_count": 520,
   "metadata": {},
   "outputs": [
    {
     "name": "stdout",
     "output_type": "stream",
     "text": [
      "Train and test set sizes: 36176 9044\n"
     ]
    }
   ],
   "source": [
    "# Split data into training and test sets\n",
    "training_size = int(X.shape[0] * 0.8)\n",
    "\n",
    "X_train = X[:training_size]\n",
    "X_test = X[training_size:]\n",
    "\n",
    "y_train = y[:training_size]\n",
    "y_test = y[training_size:]\n",
    "\n",
    "print('Train and test set sizes:', len(y_train), len(y_test))"
   ]
  },
  {
   "cell_type": "markdown",
   "metadata": {},
   "source": [
    "# Clipping and Gradient definition"
   ]
  },
  {
   "cell_type": "code",
   "execution_count": 94,
   "metadata": {},
   "outputs": [],
   "source": [
    "def L2_clip_array(vs , b):\n",
    "    norms = np.linalg.norm(vs, ord = 2, axis = 1)\n",
    "    ratios = vs/norms[:, None]\n",
    "    results = np.where((norms > b)[:, None], b*ratios, vs)\n",
    "    return results"
   ]
  },
  {
   "cell_type": "code",
   "execution_count": 95,
   "metadata": {},
   "outputs": [],
   "source": [
    "def vgradient(theta_in, x_in, y_in, C):\n",
    "    x = x_in\n",
    "    y = y_in\n",
    "    theta = theta_in\n",
    "    exponent = y * np.dot(x, theta)\n",
    "    rhs = (y/(1+np.exp(exponent)))\n",
    "    gradients = -(x*rhs[:, None])\n",
    "    clipped_grads = L2_clip_array(gradients, C)\n",
    "    return np.sum(clipped_grads, axis = 0)"
   ]
  },
  {
   "cell_type": "code",
   "execution_count": 96,
   "metadata": {},
   "outputs": [],
   "source": [
    "# Prediction: take a model (theta) and a single example (xi) and return its predicted label\n",
    "def predict(xi, theta, bias=0):\n",
    "    label = np.sign(xi @ theta + bias)\n",
    "    return label\n",
    "\n",
    "def accuracy(theta):\n",
    "    return np.sum(predict(X_test, theta) == y_test)/X_test.shape[0]"
   ]
  },
  {
   "cell_type": "code",
   "execution_count": 97,
   "metadata": {},
   "outputs": [],
   "source": [
    "def dp_gradient_descent(iterations, alpha, epsilon):\n",
    "    eps_i = epsilon/iterations\n",
    "    theta = np.zeros(X_train.shape[1])  # leaks the number of features, without privacy\n",
    "    clipping_param = 5\n",
    "    num_examples = X_train.shape[0]     # leaks the number of training examples, without privacy\n",
    "    for i in range(iterations):\n",
    "        grad_sum        = vgradient(theta, X_train, y_train, clipping_param)\n",
    "        noisy_grad_sum  = gaussian_mech_vec(grad_sum, clipping_param, 1, 1e-5)\n",
    "        noisy_avg_grad  = noisy_grad_sum / num_examples\n",
    "        theta           = theta - noisy_avg_grad\n",
    "\n",
    "    return theta"
   ]
  },
  {
   "cell_type": "markdown",
   "metadata": {},
   "source": [
    "# Baseline (gradient clipping DP-SGD)"
   ]
  },
  {
   "cell_type": "code",
   "execution_count": 98,
   "metadata": {},
   "outputs": [],
   "source": [
    "def gaussian_mech_RDP_vec(vec, sensitivity, alpha, epsilon):\n",
    "    sigma = np.sqrt((sensitivity**2 * alpha) / (2 * epsilon))\n",
    "    return vec + np.random.normal(loc=0, scale=sigma, size=vec.shape)"
   ]
  },
  {
   "cell_type": "code",
   "execution_count": 163,
   "metadata": {},
   "outputs": [],
   "source": [
    "def dp_gradient_descent(epochs, rho):\n",
    "    rho_i = rho/epochs\n",
    "    theta = np.zeros(X_train.shape[1])  # leaks the number of features, without privacy\n",
    "    clipping_param = 1\n",
    "    num_examples = X_train.shape[0]     # leaks the number of training examples, without privacy\n",
    "\n",
    "    BATCH_SIZE = 256\n",
    "    num_batches = int(num_examples / BATCH_SIZE)\n",
    "    batches_X = np.array_split(X, num_batches)\n",
    "    batches_y = np.array_split(y, num_batches)\n",
    "\n",
    "    for i in range(epochs):\n",
    "\n",
    "        for xs, ys in zip(batches_X, batches_y):\n",
    "            grad_sum        = vgradient(theta, xs, ys, clipping_param)\n",
    "            noisy_grad_sum  = gaussian_mech_zCDP_vec(grad_sum, clipping_param, rho_i)\n",
    "            noisy_avg_grad  = noisy_grad_sum / BATCH_SIZE\n",
    "            theta           = theta - noisy_avg_grad\n",
    "\n",
    "    return theta"
   ]
  },
  {
   "cell_type": "code",
   "execution_count": 100,
   "metadata": {},
   "outputs": [],
   "source": [
    "def get_eps(epsilon, alpha, delta):\n",
    "    ed_eps = epsilon + np.log(1/delta)/(alpha - 1)\n",
    "    print(f'Total epsilon = {ed_eps}, delta = {delta}')\n",
    "    return ed_eps"
   ]
  },
  {
   "cell_type": "code",
   "execution_count": 101,
   "metadata": {},
   "outputs": [
    {
     "name": "stdout",
     "output_type": "stream",
     "text": [
      "Total epsilon = 0.033071994919780016, delta = 1e-05\n"
     ]
    },
    {
     "data": {
      "text/plain": [
       "0.033071994919780016"
      ]
     },
     "execution_count": 101,
     "metadata": {},
     "output_type": "execute_result"
    }
   ],
   "source": [
    "get_eps(.01, 500, 1e-5)"
   ]
  },
  {
   "cell_type": "code",
   "execution_count": 133,
   "metadata": {},
   "outputs": [
    {
     "data": {
      "text/plain": [
       "0.21559660262893474"
      ]
     },
     "execution_count": 133,
     "metadata": {},
     "output_type": "execute_result"
    }
   ],
   "source": [
    "@njit()\n",
    "def zcdp_eps(rho, delta):\n",
    "    return rho + 2*np.sqrt(rho * np.log(1/delta))\n",
    "zcdp_eps(0.001, 1e-5)"
   ]
  },
  {
   "cell_type": "code",
   "execution_count": 103,
   "metadata": {},
   "outputs": [
    {
     "name": "stdout",
     "output_type": "stream",
     "text": [
      "eps: 0.21559660262893474\n",
      "mean: 0.7586134453781512\n",
      "std: 0.012517000702642996\n"
     ]
    }
   ],
   "source": [
    "rho = .001\n",
    "epochs = 5\n",
    "print('eps:', zcdp_eps(rho, 1e-5))\n",
    "accs = [accuracy(dp_gradient_descent(epochs, rho)) for _ in range(10)]\n",
    "print('mean:', np.mean(accs))\n",
    "print('std:', np.std(accs))"
   ]
  },
  {
   "cell_type": "markdown",
   "metadata": {},
   "source": [
    "# Smooth Sensitivity Trimmed Mean"
   ]
  },
  {
   "cell_type": "code",
   "execution_count": 462,
   "metadata": {},
   "outputs": [],
   "source": [
    "@njit()\n",
    "def get_with_default(values, indexes, lower, upper):\n",
    "    vals = np.zeros(len(values) + 2, dtype=np.float64)\n",
    "    vals[0] = lower\n",
    "    vals[-1] = upper\n",
    "    vals[1:-1] = values\n",
    "    idxes = np.maximum(np.minimum(indexes, len(values)), -1) + 1\n",
    "    idxes = idxes % len(values)\n",
    "    return values[idxes]"
   ]
  },
  {
   "cell_type": "code",
   "execution_count": 191,
   "metadata": {},
   "outputs": [],
   "source": [
    "def build_indices(n, m, k_range):\n",
    "    lhs_indices = []\n",
    "    rhs_indices = []\n",
    "    for k in range(0, k_range):\n",
    "        lhs_indices.append(np.array([n-m+1+k-l for l in range(0, k+2)]))\n",
    "        rhs_indices.append(np.array([m+1-l for l in range(0, k+2)]))\n",
    "    return (lhs_indices, rhs_indices)"
   ]
  },
  {
   "cell_type": "code",
   "execution_count": 192,
   "metadata": {},
   "outputs": [],
   "source": [
    "n = 20\n",
    "m = 2\n",
    "a = 0\n",
    "b = 10\n",
    "lhs_indices, rhs_indices = build_indices(n, m, 128)"
   ]
  },
  {
   "cell_type": "code",
   "execution_count": 491,
   "metadata": {},
   "outputs": [],
   "source": [
    "@njit()\n",
    "def compute_sens(xs, t, n, m, a, b):\n",
    "    sorted_xs = np.sort(xs)\n",
    "\n",
    "    # calculate the smooth sensitivity\n",
    "    num_senses = 5\n",
    "    scaled_sensitivity_at_distances = np.zeros(num_senses)\n",
    "\n",
    "    #for k in range(0, n+1):\n",
    "    for k in range(0, num_senses): # TODO: loop over k (but this is slow)\n",
    "        scaling = np.exp(- k * t)\n",
    "        \n",
    "        lhs_i = np.array([n-m+1+k-l for l in range(0, k+2)])\n",
    "        rhs_i = np.array([m+1-l for l in range(0, k+2)])\n",
    "        lhs = get_with_default(sorted_xs, lhs_i, a, b)\n",
    "        rhs = get_with_default(sorted_xs, rhs_i, a, b)\n",
    "        inner = np.abs(lhs - rhs)\n",
    "        #print('new inner:', new_inner)\n",
    "        #print('indices:', lhs_indices)\n",
    "        #inner = np.array([abs(get(n-m+1+k-l) - get(m+1-l)) for l in range(0, k+2)])\n",
    "        #print('inner:', inner)\n",
    "        inner_max = np.max(inner)\n",
    "        scaled_inner = scaling * inner_max\n",
    "        if scaled_inner > 1e30:\n",
    "            print(scaled_inner, inner_max, scaling, lhs, rhs)\n",
    "        #print('k:', k, 'scaled sens:', scaled_inner)\n",
    "        scaled_sensitivity_at_distances[k] = scaled_inner\n",
    "\n",
    "    return (1/(n - 2*m)) * np.max(scaled_sensitivity_at_distances)"
   ]
  },
  {
   "cell_type": "markdown",
   "metadata": {},
   "source": [
    "### Smooth gaussian sens"
   ]
  },
  {
   "cell_type": "code",
   "execution_count": 528,
   "metadata": {},
   "outputs": [],
   "source": [
    "#@njit()\n",
    "def smooth_gaussian_noise(vec, sens, eps, delta=1e-5):\n",
    "    alpha = eps/(5*np.sqrt(np.log(2/delta)))\n",
    "    \n",
    "    d  = len(vec)\n",
    "    nv = np.random.normal(size=d)\n",
    "    # unsure if this multiplication is right. It makes the results dope\n",
    "    hz = nv #*(2*np.pi)**(-(d/2 - 1))\n",
    "    return vec + hz*sens/alpha\n",
    "\n",
    "@njit()\n",
    "def gaussian_beta(d, eps, delta=1e-5):\n",
    "    return eps/(4*(d + np.log(2/delta)))\n",
    "\n",
    "#@njit()\n",
    "def compute_gauss_senses(xs, m, a, b, eps, delta=1e-5):\n",
    "    clipped_xs = xs.clip(a, b)\n",
    "    n = len(clipped_xs)\n",
    "    \n",
    "    t = gaussian_beta(len(xs), eps, delta)\n",
    "    sens = compute_sens(clipped_xs, t, n, m, a, b)\n",
    "    return np.mean(clipped_xs), sens\n",
    "    "
   ]
  },
  {
   "cell_type": "code",
   "execution_count": 492,
   "metadata": {},
   "outputs": [
    {
     "data": {
      "text/plain": [
       "0.0176637008478168"
      ]
     },
     "execution_count": 492,
     "metadata": {},
     "output_type": "execute_result"
    }
   ],
   "source": [
    "eps = .01\n",
    "delta=1e-5\n",
    "test_array = np.random.normal(loc=5, scale=1, size=20).clip(a, b)\n",
    "t = gaussian_beta(len(test_array), eps, delta)\n",
    "compute_sens(test_array, t, n, m, a, b)"
   ]
  },
  {
   "cell_type": "code",
   "execution_count": 493,
   "metadata": {},
   "outputs": [
    {
     "data": {
      "text/plain": [
       "0.0176637008478168"
      ]
     },
     "execution_count": 493,
     "metadata": {},
     "output_type": "execute_result"
    }
   ],
   "source": [
    "t = .01\n",
    "#test_array = np.random.normal(loc=5, scale=1, size=20).clip(a, b)\n",
    "compute_sens(test_array, t, n, m, a, b)"
   ]
  },
  {
   "cell_type": "code",
   "execution_count": 494,
   "metadata": {},
   "outputs": [],
   "source": [
    "a = 0\n",
    "b = 10\n",
    "t = 5\n",
    "\n",
    "m = 10\n",
    "n = 104\n",
    "lhs_indices, rhs_indices = build_indices(n, m, 100)\n",
    "\n",
    "def test_sens(t):\n",
    "    test_array = np.random.normal(loc=5, scale=1, size=104).clip(a, b)\n",
    "    n = len(test_array)\n",
    "    #lhs_indices, rhs_indices = build_indices(n, m, 3)\n",
    "    return compute_sens(test_array, t, n, m, a, b)"
   ]
  },
  {
   "cell_type": "code",
   "execution_count": 169,
   "metadata": {},
   "outputs": [
    {
     "data": {
      "text/plain": [
       "0.09615384615384616"
      ]
     },
     "execution_count": 169,
     "metadata": {},
     "output_type": "execute_result"
    }
   ],
   "source": [
    "10/104"
   ]
  },
  {
   "cell_type": "code",
   "execution_count": 496,
   "metadata": {},
   "outputs": [
    {
     "name": "stdout",
     "output_type": "stream",
     "text": [
      "CPU times: user 203 ms, sys: 3.37 ms, total: 206 ms\n",
      "Wall time: 204 ms\n"
     ]
    }
   ],
   "source": [
    "%%time\n",
    "ts = np.linspace(0.0001, 0.1, 100)\n",
    "results = [np.mean([test_sens(t) for _ in range(50)]) for t in ts]"
   ]
  },
  {
   "cell_type": "code",
   "execution_count": 497,
   "metadata": {},
   "outputs": [
    {
     "data": {
      "image/png": "[encoded data removed]",
      "text/plain": [
       "<Figure size 432x288 with 1 Axes>"
      ]
     },
     "metadata": {},
     "output_type": "display_data"
    }
   ],
   "source": [
    "plt.plot(ts,results)\n",
    "plt.xscale('log');"
   ]
  },
  {
   "cell_type": "markdown",
   "metadata": {},
   "source": [
    "# Smooth Sensitivity DP-SGD"
   ]
  },
  {
   "cell_type": "code",
   "execution_count": 526,
   "metadata": {},
   "outputs": [],
   "source": [
    "def vgradient_per_ex(theta_in, x_in, y_in):\n",
    "    x = x_in\n",
    "    y = y_in\n",
    "    theta = theta_in\n",
    "    exponent = y * np.dot(x, theta)\n",
    "    rhs = (y/(1+np.exp(exponent)))\n",
    "    gradients = -(x*rhs[:, None])\n",
    "    return gradients\n",
    "\n",
    "def smooth_dp_gradient_descent(epochs, rho):\n",
    "    rho_i = rho/epochs\n",
    "    theta = np.zeros(X_train.shape[1])  # leaks the number of features, without privacy\n",
    "    clipping_param = 1\n",
    "    num_examples = X_train.shape[0]     # leaks the number of training examples, without privacy\n",
    "\n",
    "    upper = 1\n",
    "    lower = -1\n",
    "    m = 100\n",
    "    #t = 80\n",
    "\n",
    "    #alpha = 100\n",
    "    t = .01\n",
    "    \n",
    "    BATCH_SIZE = 256\n",
    "    lhs_indices, rhs_indices = build_indices(BATCH_SIZE, m, BATCH_SIZE)\n",
    "    \n",
    "    rho_weight = rho_i / X_train.shape[1]\n",
    "    print('target per-weight rho:', rho_weight)\n",
    "    target_eps_weight = np.sqrt(2*rho_weight)\n",
    "    sigma = opt_sigma(target_eps_weight, t)\n",
    "    #sigma = 1\n",
    "    s = np.exp(-(3/2) * sigma**2) * (target_eps_weight - (t / sigma))\n",
    "    print('sigma:', sigma, 's:', s)\n",
    "    #1/0\n",
    "\n",
    "    #assert 1/(1-np.exp(-t)) > alpha\n",
    "    #gamma = alpha*(np.exp(t) - 1) + 1\n",
    "    #print('gamma:', gamma)\n",
    "    #epsilon = rho\n",
    "    #epsilon_epoch = epsilon / epochs\n",
    "    #epsilon_iter = epsilon_epoch / X_train.shape[1]\n",
    "    #print('epsilon per weight:', epsilon_iter)\n",
    "\n",
    "    def compute_eps(sens, alpha, t, sigma_sq):\n",
    "        alpha_upper_bound = 1/(1-np.exp(-t))\n",
    "        if alpha >= alpha_upper_bound:\n",
    "            raise RuntimeError('alpha too high!!! t:', t, 'alpha:', alpha, 'req alpha <', 1/(1-np.exp(-t)))\n",
    "        gamma = 1 - alpha*(1-np.exp(-t))\n",
    "        return alpha * ((sens**2 / (2*gamma*sigma_sq)) + (t**2 / (4*gamma**2)))\n",
    "\n",
    "    def compute_sigma_sq(sens):\n",
    "        gamma = 1 - alpha*(1-np.exp(-t))\n",
    "        #print('gamma:', gamma)\n",
    "\n",
    "        top = (alpha * (sens**2))\n",
    "        bottom_lhs = (2 * gamma * epsilon_iter)\n",
    "        bottom_rhs = ((alpha * t**2) / (2 * gamma))\n",
    "        #print('bottom lhs:', bottom_lhs)\n",
    "        #print('bottom rhs:', bottom_rhs)\n",
    "        return (top / (bottom_lhs - bottom_rhs))\n",
    "\n",
    "    def spec_trimmed_mean(xs):\n",
    "        return trimmed_mean(xs, t, m, lower, upper, lhs_indices, rhs_indices, compute_sigma_sq, sigma, s)\n",
    "    \n",
    "    \n",
    "    num_batches = int(num_examples / BATCH_SIZE)\n",
    "    batches_X = np.array_split(X, num_batches)\n",
    "    batches_y = np.array_split(y, num_batches)\n",
    "    \n",
    "    #spec_trimmed_mean = lambda xs: trimmed_mean(xs, t, m, a, b, lhs_indices, rhs_indices, sigma, s)\n",
    "\n",
    "    for i in range(epochs):\n",
    "\n",
    "        for xs, ys in zip(batches_X, batches_y):\n",
    "            gradients       = vgradient_per_ex(theta, xs, ys)\n",
    "            noisy_avg_grad  = np.apply_along_axis(spec_trimmed_mean, 0, gradients)\n",
    "            theta           = theta - noisy_avg_grad\n",
    "\n",
    "    return theta\n",
    "\n",
    "\n",
    "def smooth_gaussian_dp_gradient_descent(epochs, rho):\n",
    "    rho_i = rho/epochs\n",
    "    theta = np.zeros(X_train.shape[1])  # leaks the number of features, without privacy\n",
    "    clipping_param = 1\n",
    "    num_examples = X_train.shape[0]     # leaks the number of training examples, without privacy\n",
    "    \n",
    "    delta = 1e-5\n",
    "    \n",
    "    eps_i = zcdp_eps(rho_i, delta)\n",
    "\n",
    "    upper = 1\n",
    "    lower = -1\n",
    "    m = 100\n",
    "    #t = 80\n",
    "\n",
    "    #alpha = 100\n",
    "    t = .01\n",
    "    \n",
    "    BATCH_SIZE = 256\n",
    "    lhs_indices, rhs_indices = build_indices(BATCH_SIZE, m, BATCH_SIZE)\n",
    "    \n",
    "    \n",
    "\n",
    "    def sens_calc(xs):\n",
    "        return compute_gauss_senses(xs, m, lower, upper, eps_i, delta)\n",
    "    \n",
    "    \n",
    "    num_batches = int(num_examples / BATCH_SIZE)\n",
    "    batches_X = np.array_split(X, num_batches)\n",
    "    batches_y = np.array_split(y, num_batches)\n",
    "    \n",
    "    #spec_trimmed_mean = lambda xs: trimmed_mean(xs, t, m, a, b, lhs_indices, rhs_indices, sigma, s)\n",
    "\n",
    "    for i in range(epochs):\n",
    "\n",
    "        for xs, ys in zip(batches_X, batches_y):\n",
    "            gradients       = vgradient_per_ex(theta, xs, ys)\n",
    "            tm, senses      = np.apply_along_axis(sens_calc, 0, gradients)\n",
    "            total_sens      = np.linalg.norm(senses)\n",
    "            noisy_avg_grad  = smooth_gaussian_noise(tm, total_sens, eps_i, delta)\n",
    "            theta           = theta - noisy_avg_grad\n",
    "\n",
    "    return theta"
   ]
  },
  {
   "cell_type": "code",
   "execution_count": 516,
   "metadata": {},
   "outputs": [],
   "source": [
    "def opt_exp(eps, t, sigma):\n",
    "    return 5 * (eps / t) * sigma**3 - 5 * sigma**2 - 1\n",
    "\n",
    "def opt_sigma(target_eps, t):\n",
    "    sigma_lower = t / target_eps\n",
    "    sigma_upper = max(2*t / target_eps, 1/2)\n",
    "    \n",
    "    loss = opt_exp(target_eps, t, np.mean([sigma_lower, sigma_upper]))\n",
    "    while np.abs(loss) > 0.001:\n",
    "        #print('loss:', loss)\n",
    "        if loss < 0:\n",
    "            sigma_lower = np.mean([sigma_lower, sigma_upper])\n",
    "        else:\n",
    "            sigma_upper = np.mean([sigma_lower, sigma_upper])\n",
    "\n",
    "        loss = opt_exp(target_eps, t, np.mean([sigma_lower, sigma_upper]))\n",
    "\n",
    "    return np.mean([sigma_lower, sigma_upper])\n",
    "\n",
    "def trimmed_mean(xs, t, m, a, b, lhs_indices, rhs_indices, compute_sigma_sq, lln_sigma, s):\n",
    "    clipped_xs = xs.clip(a, b)\n",
    "    n = len(clipped_xs)\n",
    "    #print('actual mean', np.mean(xs))\n",
    "    sens = compute_sens(clipped_xs, t, n, m, a, b, lhs_indices, rhs_indices)\n",
    "    noise = one_lln(lln_sigma)\n",
    "    #print('scaling:', sens/s)\n",
    "    return np.mean(clipped_xs) + (sens/s)*noise\n",
    "    #print('sens:', sens)\n",
    "    #sigma_sq = compute_sigma_sq(sens)\n",
    "    #print('sigma_sq:', sigma_sq)\n",
    "    #print(sigma_sq)\n",
    "    # return np.mean(xs) + np.random.normal(loc=0, scale=np.sqrt(sigma_sq))\n",
    "    \n",
    "    #rho = (t**2/sigma**2) + (np.exp(3*sigma**2)*s**2)\n",
    "    #print('actual rho:', rho)\n",
    "    #print('noise scale:', (sens / s))\n",
    "    return np.mean(xs)\n",
    "\n",
    "\n",
    "    \n",
    "    \n",
    "    \n",
    "    "
   ]
  },
  {
   "cell_type": "code",
   "execution_count": 527,
   "metadata": {},
   "outputs": [
    {
     "name": "stdout",
     "output_type": "stream",
     "text": [
      "0.010401609844141534\n",
      "0.005081720477223145\n",
      "0.00413137801015278\n",
      "0.004304122995529389\n",
      "0.0034987009976430337\n",
      "0.003610840846589972\n",
      "0.003309020994027781\n",
      "0.003294600934787414\n",
      "0.007133159400216091\n",
      "0.0038345714549512955\n",
      "0.002971387081685827\n",
      "0.0030036086295448547\n",
      "0.004529648201983705\n",
      "0.0021128918606528714\n",
      "0.0023666866853531174\n",
      "0.0028962032227053225\n",
      "0.0025398564419781893\n",
      "0.0023281592728201296\n",
      "0.002900409731303801\n",
      "0.0019098902125592439\n",
      "0.0024624682830733146\n",
      "0.0027159016681987335\n",
      "0.0021898412004317854\n",
      "0.002019092924460956\n",
      "0.0024012312061913255\n",
      "0.002024978808972626\n",
      "0.0020508883123008395\n",
      "0.001777689716191981\n",
      "0.0025630553549119274\n",
      "0.0020383292380428664\n",
      "0.0022424053374551505\n",
      "0.0019448986539966622\n",
      "0.001959583551372252\n",
      "0.002450263217183588\n",
      "0.001852026345254764\n",
      "0.002117745641188883\n",
      "0.002264695999998907\n",
      "0.002014333059626626\n",
      "0.002341880955459582\n",
      "0.0019138262708738685\n",
      "0.0022533456205967796\n",
      "0.0026441526164620423\n",
      "0.0022126261791611795\n",
      "0.0017925943098247071\n",
      "0.0032903678956398667\n",
      "0.002113608583160019\n",
      "0.0015022471075362876\n",
      "0.002376829516169501\n",
      "0.0017313890252665207\n",
      "0.0018042384173170575\n",
      "0.0026103034312627824\n",
      "0.003744086112801413\n",
      "0.0017802347415370792\n",
      "0.0018727741789909501\n",
      "0.003651869027482565\n",
      "0.002284111681786421\n",
      "0.0025806390494070852\n",
      "0.0017046554442207167\n",
      "0.003156922153250596\n",
      "0.002021850940825212\n",
      "0.0016902190254584615\n",
      "0.002119067508804427\n",
      "0.0023043058636137517\n",
      "0.0015634991577313862\n",
      "0.0023741062134897558\n",
      "0.0016890662518926393\n",
      "0.0018715860435866264\n",
      "0.0014781748053826103\n",
      "0.0016002749050256894\n",
      "0.002178123186821\n",
      "0.0023881551409364646\n",
      "0.001695331707757578\n",
      "0.002291848420210472\n",
      "0.0014438567226065001\n",
      "0.0014575402055546842\n",
      "0.0016333121699307683\n",
      "0.002656389297668205\n",
      "0.0017531356418608278\n",
      "0.0018158966872473317\n",
      "0.003687922962034546\n",
      "0.002352627171018527\n",
      "0.0016891934209210479\n",
      "0.0032767732928183266\n",
      "0.0014556916953705294\n",
      "0.0015741781889190786\n",
      "0.002512133716253186\n",
      "0.0015924342806492987\n",
      "0.00196851366154161\n",
      "0.0021122685151892806\n",
      "0.0018939703161054485\n",
      "0.0025776018787791065\n",
      "0.002823825085516942\n",
      "0.002065079427699045\n",
      "0.0015055336110158253\n",
      "0.0023077193431497445\n",
      "0.0018185435444719885\n",
      "0.00376956645409092\n",
      "0.0021483622699718916\n",
      "0.0016512210261491439\n",
      "0.0019216796571282148\n",
      "0.0015864579896129858\n",
      "0.0025773306986700104\n",
      "0.002719091063619519\n",
      "0.0018516887761693337\n",
      "0.002078802066393762\n",
      "0.0029136153419735164\n",
      "0.0018771871880724335\n",
      "0.002015906224869118\n",
      "0.0027245074591721783\n",
      "0.0033934990005355533\n",
      "0.003212126312769419\n",
      "0.0017286087288587869\n",
      "0.0020928634899892865\n",
      "0.0017684238744126893\n",
      "0.0017561488036239887\n",
      "0.002061260838780386\n",
      "0.001615910175453979\n",
      "0.002753367274441093\n",
      "0.0018017031468202246\n",
      "0.0041526816311171335\n",
      "0.001514746426198613\n",
      "0.0024118317271974612\n",
      "0.0023404848135414073\n",
      "0.0022180759587239244\n",
      "0.00129686311097471\n",
      "0.002304644940560607\n",
      "0.0017347743750848962\n",
      "0.0019436282035061557\n",
      "0.00255282161218701\n",
      "0.0022430532828652413\n",
      "0.0026921958562974363\n",
      "0.003144362450794949\n",
      "0.0017401022607961235\n",
      "0.0015380069798390647\n",
      "0.0030987561645027333\n",
      "0.002107504777363554\n",
      "0.0015508940480371855\n",
      "0.0019523773741732624\n",
      "0.0015879889479198522\n",
      "0.0020757382541318264\n",
      "0.0016654551276412335\n"
     ]
    },
    {
     "data": {
      "text/plain": [
       "0.8240822644847413"
      ]
     },
     "execution_count": 527,
     "metadata": {},
     "output_type": "execute_result"
    }
   ],
   "source": [
    "accuracy(smooth_gaussian_dp_gradient_descent(1, .001))"
   ]
  },
  {
   "cell_type": "code",
   "execution_count": 46,
   "metadata": {},
   "outputs": [
    {
     "data": {
      "text/plain": [
       "0.21559660262893474"
      ]
     },
     "execution_count": 46,
     "metadata": {},
     "output_type": "execute_result"
    }
   ],
   "source": [
    "zcdp_eps(0.001, 1e-5)"
   ]
  },
  {
   "cell_type": "markdown",
   "metadata": {},
   "source": [
    "# Ours Experiments"
   ]
  },
  {
   "cell_type": "code",
   "execution_count": 124,
   "metadata": {},
   "outputs": [
    {
     "ename": "NameError",
     "evalue": "name 'means' is not defined",
     "output_type": "error",
     "traceback": [
      "\u001b[0;31m---------------------------------------------------------------------------\u001b[0m",
      "\u001b[0;31mNameError\u001b[0m                                 Traceback (most recent call last)",
      "\u001b[0;32m<ipython-input-124-a8e9fbc9a8a2>\u001b[0m in \u001b[0;36m<module>\u001b[0;34m\u001b[0m\n\u001b[0;32m----> 1\u001b[0;31m \u001b[0mour_means\u001b[0m \u001b[0;34m=\u001b[0m \u001b[0mmeans\u001b[0m\u001b[0;34m[\u001b[0m\u001b[0;36m3\u001b[0m\u001b[0;34m:\u001b[0m\u001b[0;34m]\u001b[0m\u001b[0;34m\u001b[0m\u001b[0;34m\u001b[0m\u001b[0m\n\u001b[0m\u001b[1;32m      2\u001b[0m \u001b[0mour_stds\u001b[0m \u001b[0;34m=\u001b[0m \u001b[0mstds\u001b[0m\u001b[0;34m[\u001b[0m\u001b[0;36m3\u001b[0m\u001b[0;34m:\u001b[0m\u001b[0;34m]\u001b[0m\u001b[0;34m\u001b[0m\u001b[0;34m\u001b[0m\u001b[0m\n",
      "\u001b[0;31mNameError\u001b[0m: name 'means' is not defined"
     ]
    }
   ],
   "source": [
    "our_means = means[3:]\n",
    "our_stds = stds[3:]"
   ]
  },
  {
   "cell_type": "code",
   "execution_count": 519,
   "metadata": {},
   "outputs": [
    {
     "name": "stdout",
     "output_type": "stream",
     "text": [
      "0.8296107916850951\n",
      "0.8296107916850951\n",
      "0.8296107916850951\n",
      "0.8296107916850951\n",
      "0.8296107916850951\n",
      "0.8296107916850951\n",
      "0.8296107916850951\n",
      "0.8296107916850951\n",
      "0.8296107916850951\n",
      "0.8296107916850951\n",
      "0.8296107916850951\n",
      "0.8296107916850951\n",
      "0.8296107916850951\n",
      "0.8296107916850951\n",
      "0.8296107916850951\n",
      "0.8296107916850951\n",
      "0.8296107916850951\n",
      "0.8296107916850951\n",
      "0.8296107916850951\n",
      "0.8296107916850951\n"
     ]
    }
   ],
   "source": [
    "rhos = [0.01, 0.001, 0.0001,.00001,.0000001]\n",
    "our_epsilons = [zcdp_eps(rho, 1e-5) for rho in rhos]\n",
    "\n",
    "our_means = []\n",
    "our_stds = []\n",
    "for rho in rhos:\n",
    "    accs = []\n",
    "    for _ in range(3):\n",
    "        accs.append(accuracy(smooth_gaussian_dp_gradient_descent(5, rho)))\n",
    "        print(accs[-1])\n",
    "    our_means.append(np.mean(accs))\n",
    "    our_stds.append(np.std(accs))\n",
    "    print(np.mean(accs))"
   ]
  },
  {
   "cell_type": "code",
   "execution_count": 414,
   "metadata": {},
   "outputs": [
    {
     "data": {
      "image/png": "[encoded data removed]",
      "text/plain": [
       "<Figure size 432x288 with 1 Axes>"
      ]
     },
     "metadata": {},
     "output_type": "display_data"
    }
   ],
   "source": [
    "plt.errorbar(our_epsilons, our_means, yerr=our_stds)\n",
    "plt.xscale('log')"
   ]
  },
  {
   "cell_type": "markdown",
   "metadata": {},
   "source": [
    "# Experiments Baseline"
   ]
  },
  {
   "cell_type": "code",
   "execution_count": 415,
   "metadata": {},
   "outputs": [
    {
     "name": "stdout",
     "output_type": "stream",
     "text": [
      "eps: 0.21559660262893474\n",
      "mean: 0.760515258735073\n",
      "std: 0.014456729703378076\n"
     ]
    }
   ],
   "source": [
    "rho = .001\n",
    "epochs = 5\n",
    "print('eps:', zcdp_eps(rho, 1e-5))\n",
    "accs = [accuracy(dp_gradient_descent(epochs, rho)) for _ in range(10)]\n",
    "print('mean:', np.mean(accs))\n",
    "print('std:', np.std(accs))"
   ]
  },
  {
   "cell_type": "code",
   "execution_count": 416,
   "metadata": {},
   "outputs": [
    {
     "name": "stdout",
     "output_type": "stream",
     "text": [
      "0.8254091110128262\n",
      "0.8246351172047767\n",
      "0.8252985404688191\n",
      "0.8087129588677576\n",
      "0.8099292348518354\n",
      "0.8104820875718709\n",
      "0.7167182662538699\n",
      "0.7603936311366651\n",
      "0.7710084033613446\n",
      "0.671937195931004\n",
      "0.7119637328615657\n",
      "0.732640424590889\n"
     ]
    }
   ],
   "source": [
    "rhos = [0.1, 0.01, 0.001, 0.0001]\n",
    "baseline_epsilons = [zcdp_eps(rho, 1e-5) for rho in rhos]\n",
    "baseline_means = []\n",
    "baseline_stds = []\n",
    "for rho in rhos:\n",
    "    accs = []\n",
    "    for _ in range(3):\n",
    "        accs.append(accuracy(dp_gradient_descent(5, rho)))\n",
    "        print(accs[-1])\n",
    "    baseline_means.append(np.mean(accs))\n",
    "    baseline_stds.append(np.std(accs))  \n"
   ]
  },
  {
   "cell_type": "code",
   "execution_count": 418,
   "metadata": {},
   "outputs": [
    {
     "data": {
      "text/plain": [
       "<matplotlib.legend.Legend at 0x7ff274d88b90>"
      ]
     },
     "execution_count": 418,
     "metadata": {},
     "output_type": "execute_result"
    },
    {
     "data": {
      "image/png": "[encoded data removed]",
      "text/plain": [
       "<Figure size 432x288 with 1 Axes>"
      ]
     },
     "metadata": {},
     "output_type": "display_data"
    }
   ],
   "source": [
    "plt.errorbar(our_epsilons, our_means, yerr=our_stds, label='Ours')\n",
    "plt.errorbar(baseline_epsilons, baseline_means, yerr=baseline_stds, label='Baseline')\n",
    "plt.xscale('log')\n",
    "plt.xlabel('$\\epsilon$ ($\\delta=10^{-5}$)')\n",
    "plt.ylabel('Accuracy')\n",
    "plt.legend()"
   ]
  },
  {
   "cell_type": "code",
   "execution_count": null,
   "metadata": {},
   "outputs": [],
   "source": [
    "[(eps, acc) for eps, acc in zip(baseline_epsilons, baseline_means)]"
   ]
  },
  {
   "cell_type": "markdown",
   "metadata": {},
   "source": [
    "# Laplace Log Normal"
   ]
  },
  {
   "cell_type": "code",
   "execution_count": 30,
   "metadata": {},
   "outputs": [],
   "source": [
    "def one_lln(sigma):\n",
    "    x = np.random.laplace()\n",
    "    y = np.random.normal()\n",
    "    return x * np.exp(sigma * y)"
   ]
  },
  {
   "cell_type": "code",
   "execution_count": 31,
   "metadata": {},
   "outputs": [],
   "source": [
    "def lln(size):\n",
    "    sigma = 1\n",
    "    x = np.random.laplace(size=size)\n",
    "    y = np.random.normal(size=size)\n",
    "    return x * np.exp(sigma * y)"
   ]
  },
  {
   "cell_type": "code",
   "execution_count": 32,
   "metadata": {},
   "outputs": [
    {
     "data": {
      "text/plain": [
       "-0.0022373986857509285"
      ]
     },
     "execution_count": 32,
     "metadata": {},
     "output_type": "execute_result"
    }
   ],
   "source": [
    "np.mean(lln(500000))"
   ]
  },
  {
   "cell_type": "code",
   "execution_count": null,
   "metadata": {},
   "outputs": [],
   "source": []
  }
 ],
 "metadata": {
  "kernelspec": {
   "display_name": "Python 3",
   "language": "python",
   "name": "python3"
  },
  "language_info": {
   "codemirror_mode": {
    "name": "ipython",
    "version": 3
   },
   "file_extension": ".py",
   "mimetype": "text/x-python",
   "name": "python",
   "nbconvert_exporter": "python",
   "pygments_lexer": "ipython3",
   "version": "3.7.6"
  }
 },
 "nbformat": 4,
 "nbformat_minor": 5
}
