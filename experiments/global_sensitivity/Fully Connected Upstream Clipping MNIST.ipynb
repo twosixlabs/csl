{
 "cells": [
  {
   "cell_type": "code",
   "execution_count": 1,
   "metadata": {},
   "outputs": [
    {
     "name": "stdout",
     "output_type": "stream",
     "text": [
      "1.7.1\n"
     ]
    }
   ],
   "source": [
    "import matplotlib.pyplot as plt\n",
    "import matplotlib.cm as cm\n",
    "import numpy as np\n",
    "from sklearn.datasets import make_classification\n",
    "#import pandas as pd\n",
    "#import seaborn as sns\n",
    "import torch\n",
    "import torch.nn as nn\n",
    "import torch.optim as optim\n",
    "from torch.autograd import Variable\n",
    "from IPython import display\n",
    "from sklearn import metrics\n",
    "from sklearn.model_selection import train_test_split\n",
    "from sklearn.preprocessing import StandardScaler\n",
    "from sklearn.utils.class_weight import compute_class_weight\n",
    "from torch.utils.data import TensorDataset\n",
    "from torch.utils.data import DataLoader\n",
    "from collections import defaultdict\n",
    "\n",
    "import sklearn.datasets\n",
    "\n",
    "torch.manual_seed(1)\n",
    "np.random.seed(7)\n",
    "#sns.set(style=\"white\", palette=\"muted\", color_codes=True, context=\"talk\")\n",
    "\n",
    "%matplotlib inline\n",
    "print(torch.__version__) "
   ]
  },
  {
   "cell_type": "code",
   "execution_count": 2,
   "metadata": {},
   "outputs": [],
   "source": [
    "import time\n",
    "from torchvision import datasets, transforms\n"
   ]
  },
  {
   "cell_type": "markdown",
   "metadata": {},
   "source": [
    "# Dataset and Model Definition"
   ]
  },
  {
   "cell_type": "code",
   "execution_count": 3,
   "metadata": {},
   "outputs": [],
   "source": [
    "BATCH_SIZE=512"
   ]
  },
  {
   "cell_type": "code",
   "execution_count": 4,
   "metadata": {},
   "outputs": [],
   "source": [
    "transform=transforms.Compose([\n",
    "    transforms.ToTensor(),\n",
    "    transforms.Lambda(lambda x: torch.flatten(x)),\n",
    "    #transforms.Normalize((0.1307,), (0.3081,))\n",
    "    ])\n",
    "\n",
    "dataset1 = datasets.MNIST('data', train=True, download=True,\n",
    "                   transform=transform)\n",
    "dataset2 = datasets.MNIST('data', train=False,\n",
    "                   transform=transform)\n",
    "\n",
    "train_loader = torch.utils.data.DataLoader(dataset1, batch_size=BATCH_SIZE)\n",
    "test_loader = torch.utils.data.DataLoader(dataset2, batch_size=BATCH_SIZE)\n",
    "n_features = 784\n",
    "n_classes = 10"
   ]
  },
  {
   "cell_type": "code",
   "execution_count": 5,
   "metadata": {},
   "outputs": [],
   "source": [
    "n_hidden = 256\n",
    "class Classifier(nn.Module):\n",
    "    def __init__(self, n_features, n_hidden=n_hidden):\n",
    "        super(Classifier, self).__init__()\n",
    "        self.network = nn.Sequential(\n",
    "            nn.Linear(n_features, 400, bias=False),\n",
    "            nn.ReLU(),\n",
    "            nn.Linear(400, 400, bias=False),\n",
    "            nn.ReLU(),\n",
    "            nn.Linear(400, 10, bias=False),\n",
    "            nn.ReLU(),\n",
    "            nn.LogSoftmax()\n",
    "        )\n",
    "\n",
    "    def forward(self, x):\n",
    "        return self.network(x)"
   ]
  },
  {
   "cell_type": "code",
   "execution_count": 6,
   "metadata": {},
   "outputs": [],
   "source": [
    "def accuracy(model, X, y):\n",
    "    Xt = torch.from_numpy(X).float()\n",
    "    yt = torch.from_numpy(y).long()\n",
    "    outputs = model(Xt)\n",
    "    y_hat = [1 if o>.5 else 0 for o in outputs]\n",
    "    accuracy = np.sum(y_hat == y) / len(y)\n",
    "    return accuracy"
   ]
  },
  {
   "cell_type": "markdown",
   "metadata": {},
   "source": [
    "# Training"
   ]
  },
  {
   "cell_type": "code",
   "execution_count": 7,
   "metadata": {},
   "outputs": [],
   "source": [
    "def make_plot(info, key, title):\n",
    "    plt.plot(info[key]);\n",
    "    plt.title(title)\n",
    "    plt.show()"
   ]
  },
  {
   "cell_type": "code",
   "execution_count": 8,
   "metadata": {},
   "outputs": [],
   "source": [
    "UPSTREAM_GRAD_BOUND = 0.00001\n",
    "INPUT_BOUND = 0.5"
   ]
  },
  {
   "cell_type": "code",
   "execution_count": 9,
   "metadata": {},
   "outputs": [],
   "source": [
    "def l2_clip(t, C):\n",
    "    dims = tuple(range(1, len(t.shape)))\n",
    "    norm = t.norm(dim=dims, keepdim=True).expand(t.shape)\n",
    "    clipped = torch.where(norm > C, C*(t/norm), t)\n",
    "    new_norms = clipped.norm(dim=dims)\n",
    "\n",
    "    return clipped"
   ]
  },
  {
   "cell_type": "code",
   "execution_count": 10,
   "metadata": {},
   "outputs": [],
   "source": [
    "grad_maxes = []\n",
    "def clamp_grad(self, grad_input, grad_output):\n",
    "    if isinstance(self, nn.Linear):\n",
    "        upstream_g, g_weights = grad_input\n",
    "        if upstream_g == None:\n",
    "            return grad_input\n",
    "        else:\n",
    "            grad_maxes.append(upstream_g.abs().max())\n",
    "\n",
    "            return (l2_clip(upstream_g, UPSTREAM_GRAD_BOUND), g_weights)\n",
    "    elif isinstance(self, nn.ReLU):\n",
    "        grad_maxes.append(grad_input[0].abs().max())\n",
    "\n",
    "        return (l2_clip(grad_input[0], UPSTREAM_GRAD_BOUND),)\n",
    "    else:\n",
    "        return None"
   ]
  },
  {
   "cell_type": "code",
   "execution_count": 11,
   "metadata": {},
   "outputs": [],
   "source": [
    "input_maxes = []\n",
    "def clamp_input(self, input):\n",
    "    input_maxes.append(input[0].abs().max())\n",
    "    return tuple([l2_clip(x, INPUT_BOUND) for x in input])"
   ]
  },
  {
   "cell_type": "code",
   "execution_count": 12,
   "metadata": {},
   "outputs": [],
   "source": [
    "def zcdp_eps(rho, delta):\n",
    "    return rho + 2*np.sqrt(rho*np.log(1/delta))"
   ]
  },
  {
   "cell_type": "code",
   "execution_count": 13,
   "metadata": {},
   "outputs": [],
   "source": [
    "def run_experiment(epsilon, epochs, add_noise=False):\n",
    "    model = Classifier(n_features=n_features)\n",
    "    model_criterion = nn.NLLLoss() \n",
    "    model_optimizer = optim.Adam(model.parameters(), lr=0.01)#, weight_decay=0.0001)\n",
    "    rho_i = 0.000001\n",
    "    total_rho = 0\n",
    "    \n",
    "    for x in model.network:\n",
    "        x.register_backward_hook(clamp_grad)\n",
    "        x.register_forward_pre_hook(clamp_input)\n",
    "    \n",
    "    sensitivities = []\n",
    "    norms = []\n",
    "    decays = []\n",
    "    losses = []\n",
    "\n",
    "    for epoch in range(epochs):\n",
    "        for x_batch_train, y_batch_train in train_loader:\n",
    "            model_optimizer.zero_grad()\n",
    "            #inp = Variable(x_batch_train, requires_grad=True)\n",
    "            outputs = model.forward(x_batch_train)\n",
    "            loss = model_criterion(outputs, y_batch_train)\n",
    "            losses.append(loss)\n",
    "            loss.backward()\n",
    "            \n",
    "            for i, layer in enumerate(model.network):\n",
    "                if isinstance(layer, nn.Linear):\n",
    "                    ps = list(layer.parameters())\n",
    "                    weights = ps[0]\n",
    "                    #bias = ps[1]\n",
    "                    grad_bound = INPUT_BOUND * UPSTREAM_GRAD_BOUND\n",
    "                    grad_bound_bias = INPUT_BOUND\n",
    "\n",
    "                    actual_grad_bound = weights.grad.flatten().norm(p=2)\n",
    "                    if False and actual_grad_bound > grad_bound:\n",
    "                        print(type(layer))\n",
    "                        print(weights.shape)\n",
    "                        print('grad bound norm: ', grad_bound)\n",
    "                        print('actual grad norm:', actual_grad_bound)\n",
    "                    sensitivities.append(grad_bound)\n",
    "                    \n",
    "                    sensitivity = grad_bound / BATCH_SIZE\n",
    "                    sensitivity_bias = grad_bound_bias / BATCH_SIZE\n",
    "                    sigma = np.sqrt(sensitivity**2 / (2*rho_i))\n",
    "                    sigma_bias = np.sqrt(sensitivity_bias**2 / (2*rho_i))\n",
    "                    with torch.no_grad():\n",
    "                        weights.grad += sigma*torch.randn(weights.shape)\n",
    "                        #bias.grad += sigma_bias*torch.randn(bias.shape)\n",
    "                    total_rho += (rho_i)\n",
    "            \n",
    "            norms.append(next(model.parameters()).data.norm())\n",
    "\n",
    "            model_optimizer.step()\n",
    "            \n",
    "\n",
    "    total_weights = 0\n",
    "    for p in model.parameters():\n",
    "        total_weights += p.flatten().shape[0]\n",
    "    print('total weights:', total_weights)\n",
    "\n",
    "    info = {'sens': sensitivities,\n",
    "            'norms': norms,\n",
    "            'decays': decays,\n",
    "            'losses': losses,}\n",
    "    print('total rho:', total_rho)\n",
    "    print('total epsilon:', zcdp_eps(total_rho, 1e-5))\n",
    "    return model, info"
   ]
  },
  {
   "cell_type": "code",
   "execution_count": 14,
   "metadata": {},
   "outputs": [],
   "source": [
    "def test(model, test_loader):\n",
    "    model.eval()\n",
    "    test_loss = 0\n",
    "    correct = 0\n",
    "    with torch.no_grad():\n",
    "        for data, target in test_loader:\n",
    "            data, target = data, target\n",
    "            output = model(data)\n",
    "            test_loss += nn.functional.nll_loss(output, target, reduction='sum').item()  # sum up batch loss\n",
    "            pred = output.argmax(dim=1, keepdim=True)  # get the index of the max log-probability\n",
    "            correct += pred.eq(target.view_as(pred)).sum().item()\n",
    "\n",
    "    test_loss /= len(test_loader.dataset)\n",
    "\n",
    "    print('\\nTest set: Average loss: {:.4f}, Accuracy: {}/{} ({:.0f}%)\\n'.format(\n",
    "        test_loss, correct, len(test_loader.dataset),\n",
    "        100. * correct / len(test_loader.dataset)))"
   ]
  },
  {
   "cell_type": "code",
   "execution_count": 15,
   "metadata": {},
   "outputs": [
    {
     "name": "stderr",
     "output_type": "stream",
     "text": [
      "/anaconda3/envs/torch/lib/python3.8/site-packages/torch/nn/modules/container.py:117: UserWarning: Implicit dimension choice for log_softmax has been deprecated. Change the call to include dim=X as an argument.\n",
      "  input = module(input)\n"
     ]
    },
    {
     "name": "stdout",
     "output_type": "stream",
     "text": [
      "total weights: 477600\n",
      "total rho: 0.0017699999999999504\n",
      "total epsilon: 0.28727221066042014\n"
     ]
    },
    {
     "data": {
      "image/png": "[encoded data removed]",
      "text/plain": [
       "<Figure size 432x288 with 1 Axes>"
      ]
     },
     "metadata": {
      "needs_background": "light"
     },
     "output_type": "display_data"
    },
    {
     "data": {
      "image/png": "[encoded data removed]",
      "text/plain": [
       "<Figure size 432x288 with 1 Axes>"
      ]
     },
     "metadata": {
      "needs_background": "light"
     },
     "output_type": "display_data"
    },
    {
     "data": {
      "image/png": "[encoded data removed]",
      "text/plain": [
       "<Figure size 432x288 with 1 Axes>"
      ]
     },
     "metadata": {
      "needs_background": "light"
     },
     "output_type": "display_data"
    },
    {
     "name": "stdout",
     "output_type": "stream",
     "text": [
      "\n",
      "Test set: Average loss: 1.9733, Accuracy: 8768/10000 (88%)\n",
      "\n"
     ]
    }
   ],
   "source": [
    "model, info = run_experiment(.001, 5, False)\n",
    "\n",
    "for key, title in [('sens', 'Sensitivity'), \n",
    "                   ('norms', 'L2 Norm of 1st layer weights'),\n",
    "                   #('decays', 'Weight Decay Value'),\n",
    "                   ('losses', 'Loss')\n",
    "                ]:\n",
    "    make_plot(info, key, title)\n",
    "\n",
    "test(model, test_loader)"
   ]
  },
  {
   "cell_type": "code",
   "execution_count": 16,
   "metadata": {},
   "outputs": [
    {
     "data": {
      "image/png": "[encoded data removed]",
      "text/plain": [
       "<Figure size 432x288 with 1 Axes>"
      ]
     },
     "metadata": {
      "needs_background": "light"
     },
     "output_type": "display_data"
    },
    {
     "data": {
      "image/png": "[encoded data removed]",
      "text/plain": [
       "<Figure size 432x288 with 1 Axes>"
      ]
     },
     "metadata": {
      "needs_background": "light"
     },
     "output_type": "display_data"
    }
   ],
   "source": [
    "plt.plot(grad_maxes)\n",
    "plt.title('Grad maxes')\n",
    "plt.show()\n",
    "\n",
    "plt.plot(input_maxes)\n",
    "plt.title('Input maxes')\n",
    "plt.show()"
   ]
  },
  {
   "cell_type": "code",
   "execution_count": null,
   "metadata": {},
   "outputs": [],
   "source": []
  },
  {
   "cell_type": "code",
   "execution_count": null,
   "metadata": {},
   "outputs": [],
   "source": []
  }
 ],
 "metadata": {
  "kernelspec": {
   "display_name": "Python 3 (ipykernel)",
   "language": "python",
   "name": "python3"
  },
  "language_info": {
   "codemirror_mode": {
    "name": "ipython",
    "version": 3
   },
   "file_extension": ".py",
   "mimetype": "text/x-python",
   "name": "python",
   "nbconvert_exporter": "python",
   "pygments_lexer": "ipython3",
   "version": "3.8.12"
  }
 },
 "nbformat": 4,
 "nbformat_minor": 4
}
