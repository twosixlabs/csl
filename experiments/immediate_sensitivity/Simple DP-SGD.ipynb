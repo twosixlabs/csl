{
 "cells": [
  {
   "cell_type": "code",
   "execution_count": 1,
   "metadata": {},
   "outputs": [],
   "source": [
    "# Load the data and libraries\n",
    "import pandas as pd\n",
    "import numpy as np\n",
    "from scipy import stats\n",
    "import matplotlib.pyplot as plt\n",
    "plt.style.use('seaborn-whitegrid')\n",
    "\n",
    "# Load data files\n",
    "import numpy as np\n",
    "import urllib.request\n",
    "import io\n",
    "\n",
    "url_x = 'https://github.com/jnear/cs211-data-privacy/raw/master/slides/adult_processed_x.npy'\n",
    "url_y = 'https://github.com/jnear/cs211-data-privacy/raw/master/slides/adult_processed_y.npy'\n",
    "\n",
    "with urllib.request.urlopen(url_x) as url:\n",
    "    f = io.BytesIO(url.read())\n",
    "X = np.load(f)\n",
    "\n",
    "with urllib.request.urlopen(url_y) as url:\n",
    "    f = io.BytesIO(url.read())\n",
    "y = np.load(f)"
   ]
  },
  {
   "cell_type": "code",
   "execution_count": 3,
   "metadata": {},
   "outputs": [],
   "source": [
    "def gaussian_mech_vec(vec, sensitivity, epsilon, delta):\n",
    "    return vec + np.random.normal(loc=0, scale=sensitivity * np.sqrt(2*np.log(1.25/delta)) / epsilon, size=vec.shape)"
   ]
  },
  {
   "cell_type": "code",
   "execution_count": 4,
   "metadata": {},
   "outputs": [],
   "source": [
    "def gaussian_mech_zCDP_vec(vec, sensitivity, rho):\n",
    "    sigma = np.sqrt((sensitivity**2) / (2 * rho))\n",
    "    return vec + np.random.normal(loc=0, scale=sigma, size=vec.shape)"
   ]
  },
  {
   "cell_type": "code",
   "execution_count": 5,
   "metadata": {},
   "outputs": [
    {
     "name": "stdout",
     "output_type": "stream",
     "text": [
      "Train and test set sizes: 36176 9044\n"
     ]
    }
   ],
   "source": [
    "# Split data into training and test sets\n",
    "training_size = int(X.shape[0] * 0.8)\n",
    "\n",
    "X_train = X[:training_size]\n",
    "X_test = X[training_size:]\n",
    "\n",
    "y_train = y[:training_size]\n",
    "y_test = y[training_size:]\n",
    "\n",
    "print('Train and test set sizes:', len(y_train), len(y_test))"
   ]
  },
  {
   "cell_type": "markdown",
   "metadata": {},
   "source": [
    "# Clipping and Gradient definition"
   ]
  },
  {
   "cell_type": "code",
   "execution_count": 6,
   "metadata": {},
   "outputs": [],
   "source": [
    "def L2_clip_array(vs , b):\n",
    "    norms = np.linalg.norm(vs, ord = 2, axis = 1)\n",
    "    ratios = vs/norms[:, None]\n",
    "    results = np.where((norms > b)[:, None], b*ratios, vs)\n",
    "    return results"
   ]
  },
  {
   "cell_type": "code",
   "execution_count": 7,
   "metadata": {},
   "outputs": [],
   "source": [
    "def vgradient(theta_in, x_in, y_in, C):\n",
    "    x = x_in\n",
    "    y = y_in\n",
    "    theta = theta_in\n",
    "    exponent = y * np.dot(x, theta)\n",
    "    rhs = (y/(1+np.exp(exponent)))\n",
    "    gradients = -(x*rhs[:, None])\n",
    "    clipped_grads = L2_clip_array(gradients, C)\n",
    "    return np.sum(clipped_grads, axis = 0)"
   ]
  },
  {
   "cell_type": "code",
   "execution_count": 8,
   "metadata": {},
   "outputs": [],
   "source": [
    "# Prediction: take a model (theta) and a single example (xi) and return its predicted label\n",
    "def predict(xi, theta, bias=0):\n",
    "    label = np.sign(xi @ theta + bias)\n",
    "    return label\n",
    "\n",
    "def accuracy(theta):\n",
    "    return np.sum(predict(X_test, theta) == y_test)/X_test.shape[0]"
   ]
  },
  {
   "cell_type": "code",
   "execution_count": 9,
   "metadata": {},
   "outputs": [],
   "source": [
    "def dp_gradient_descent(iterations, alpha, epsilon):\n",
    "    eps_i = epsilon/iterations\n",
    "    theta = np.zeros(X_train.shape[1])  # leaks the number of features, without privacy\n",
    "    clipping_param = 5\n",
    "    num_examples = X_train.shape[0]     # leaks the number of training examples, without privacy\n",
    "    for i in range(iterations):\n",
    "        grad_sum        = vgradient(theta, X_train, y_train, clipping_param)\n",
    "        noisy_grad_sum  = gaussian_mech_vec(grad_sum, clipping_param, 1, 1e-5)\n",
    "        noisy_avg_grad  = noisy_grad_sum / num_examples\n",
    "        theta           = theta - noisy_avg_grad\n",
    "\n",
    "    return theta"
   ]
  },
  {
   "cell_type": "markdown",
   "metadata": {},
   "source": [
    "# Baseline (gradient clipping DP-SGD)"
   ]
  },
  {
   "cell_type": "code",
   "execution_count": 10,
   "metadata": {},
   "outputs": [],
   "source": [
    "def gaussian_mech_RDP_vec(vec, sensitivity, alpha, epsilon):\n",
    "    sigma = np.sqrt((sensitivity**2 * alpha) / (2 * epsilon))\n",
    "    return vec + np.random.normal(loc=0, scale=sigma, size=vec.shape)"
   ]
  },
  {
   "cell_type": "code",
   "execution_count": 11,
   "metadata": {},
   "outputs": [],
   "source": [
    "def dp_gradient_descent(epochs, rho):\n",
    "    rho_i = rho/epochs\n",
    "    theta = np.zeros(X_train.shape[1])  # leaks the number of features, without privacy\n",
    "    clipping_param = 1\n",
    "    num_examples = X_train.shape[0]     # leaks the number of training examples, without privacy\n",
    "\n",
    "    BATCH_SIZE = 256\n",
    "    num_batches = int(num_examples / BATCH_SIZE)\n",
    "    batches_X = np.array_split(X, num_batches)\n",
    "    batches_y = np.array_split(y, num_batches)\n",
    "\n",
    "    for i in range(epochs):\n",
    "\n",
    "        for xs, ys in zip(batches_X, batches_y):\n",
    "            grad_sum        = vgradient(theta, xs, ys, clipping_param)\n",
    "            noisy_grad_sum  = gaussian_mech_zCDP_vec(grad_sum, clipping_param, rho_i)\n",
    "            noisy_avg_grad  = noisy_grad_sum / BATCH_SIZE\n",
    "            theta           = theta - noisy_avg_grad\n",
    "\n",
    "    return theta"
   ]
  },
  {
   "cell_type": "code",
   "execution_count": 12,
   "metadata": {},
   "outputs": [],
   "source": [
    "def get_eps(epsilon, alpha, delta):\n",
    "    ed_eps = epsilon + np.log(1/delta)/(alpha - 1)\n",
    "    print(f'Total epsilon = {ed_eps}, delta = {delta}')\n",
    "    return ed_eps"
   ]
  },
  {
   "cell_type": "code",
   "execution_count": 13,
   "metadata": {},
   "outputs": [
    {
     "name": "stdout",
     "output_type": "stream",
     "text": [
      "Total epsilon = 0.033071994919780016, delta = 1e-05\n"
     ]
    },
    {
     "data": {
      "text/plain": [
       "0.033071994919780016"
      ]
     },
     "execution_count": 13,
     "metadata": {},
     "output_type": "execute_result"
    }
   ],
   "source": [
    "get_eps(.01, 500, 1e-5)"
   ]
  },
  {
   "cell_type": "code",
   "execution_count": 14,
   "metadata": {},
   "outputs": [
    {
     "data": {
      "text/plain": [
       "0.21559660262893474"
      ]
     },
     "execution_count": 14,
     "metadata": {},
     "output_type": "execute_result"
    }
   ],
   "source": [
    "def zcdp_eps(rho, delta):\n",
    "    return rho + 2*np.sqrt(rho * np.log(1/delta))\n",
    "zcdp_eps(0.001, 1e-5)"
   ]
  },
  {
   "cell_type": "code",
   "execution_count": 15,
   "metadata": {},
   "outputs": [
    {
     "name": "stdout",
     "output_type": "stream",
     "text": [
      "eps: 0.21559660262893474\n",
      "mean: 0.7616099071207432\n",
      "std: 0.020437492776487078\n"
     ]
    }
   ],
   "source": [
    "rho = .001\n",
    "epochs = 5\n",
    "print('eps:', zcdp_eps(rho, 1e-5))\n",
    "accs = [accuracy(dp_gradient_descent(epochs, rho)) for _ in range(10)]\n",
    "print('mean:', np.mean(accs))\n",
    "print('std:', np.std(accs))"
   ]
  },
  {
   "cell_type": "markdown",
   "metadata": {},
   "source": [
    "# Smooth Sensitivity Trimmed Mean"
   ]
  },
  {
   "cell_type": "code",
   "execution_count": 20,
   "metadata": {},
   "outputs": [],
   "source": [
    "def get_with_default(values, indexes, lower, upper):\n",
    "    return np.concatenate(([lower], values, [upper]))[\n",
    "        np.maximum(np.minimum(indexes, len(values)), -1) + 1]"
   ]
  },
  {
   "cell_type": "code",
   "execution_count": 21,
   "metadata": {},
   "outputs": [],
   "source": [
    "def build_indices(n, m, k_range):\n",
    "    lhs_indices = []\n",
    "    rhs_indices = []\n",
    "    for k in range(0, k_range):\n",
    "        lhs_indices.append(np.array([n-m+1+k-l for l in range(0, k+2)]))\n",
    "        rhs_indices.append(np.array([m+1-l for l in range(0, k+2)]))\n",
    "    return (lhs_indices, rhs_indices)"
   ]
  },
  {
   "cell_type": "code",
   "execution_count": 22,
   "metadata": {},
   "outputs": [],
   "source": [
    "n = 20\n",
    "m = 2\n",
    "a = 0\n",
    "b = 10\n",
    "lhs_indices, rhs_indices = build_indices(n, m, 128)"
   ]
  },
  {
   "cell_type": "code",
   "execution_count": 37,
   "metadata": {},
   "outputs": [],
   "source": [
    "def compute_sens(xs, t, n, m, a, b, lhs_indices, rhs_indices):\n",
    "    sorted_xs = np.sort(xs)\n",
    "\n",
    "    # calculate the smooth sensitivity\n",
    "    scaled_sensitivity_at_distances = []\n",
    "\n",
    "    #for k in range(0, n+1):\n",
    "    for k in range(0, 3): # TODO: loop over k (but this is slow)\n",
    "        scaling = np.exp(- k * t)\n",
    "        \n",
    "        lhs = get_with_default(sorted_xs, lhs_indices[k], a, b)\n",
    "        rhs = get_with_default(sorted_xs, rhs_indices[k], a, b)\n",
    "        inner = np.abs(lhs - rhs)\n",
    "        #print('new inner:', new_inner)\n",
    "        #print('indices:', lhs_indices)\n",
    "        #inner = np.array([abs(get(n-m+1+k-l) - get(m+1-l)) for l in range(0, k+2)])\n",
    "        #print('inner:', inner)\n",
    "        inner_max = np.max(inner)\n",
    "        scaled_inner = scaling * inner_max\n",
    "        #print('k:', k, 'scaled sens:', scaled_inner)\n",
    "        scaled_sensitivity_at_distances.append(scaled_inner)\n",
    "\n",
    "    return (1/(n - 2*m)) * np.max(np.array(scaled_sensitivity_at_distances))"
   ]
  },
  {
   "cell_type": "code",
   "execution_count": 38,
   "metadata": {},
   "outputs": [
    {
     "data": {
      "text/plain": [
       "0.05546686611310261"
      ]
     },
     "execution_count": 38,
     "metadata": {},
     "output_type": "execute_result"
    }
   ],
   "source": [
    "t = 5\n",
    "test_array = np.random.normal(loc=5, scale=1, size=20).clip(a, b)\n",
    "compute_sens(test_array, t, n, m, a, b, lhs_indices, rhs_indices)"
   ]
  },
  {
   "cell_type": "code",
   "execution_count": 39,
   "metadata": {},
   "outputs": [],
   "source": [
    "a = 0\n",
    "b = 10\n",
    "t = 5\n",
    "\n",
    "m = 5\n",
    "n = 104\n",
    "lhs_indices, rhs_indices = build_indices(n, m, 30)\n",
    "\n",
    "def test_sens(t):\n",
    "    test_array = np.random.normal(loc=5, scale=1, size=104).clip(a, b)\n",
    "    n = len(test_array)\n",
    "    #lhs_indices, rhs_indices = build_indices(n, m, 3)\n",
    "    return compute_sens(test_array, t, n, m, a, b, lhs_indices, rhs_indices)"
   ]
  },
  {
   "cell_type": "code",
   "execution_count": 40,
   "metadata": {},
   "outputs": [
    {
     "name": "stdout",
     "output_type": "stream",
     "text": [
      "CPU times: user 2.1 s, sys: 0 ns, total: 2.1 s\n",
      "Wall time: 2.1 s\n"
     ]
    }
   ],
   "source": [
    "%%time\n",
    "results = [np.mean([test_sens(m) for _ in range(500)]) for m in range(1, 40)]"
   ]
  },
  {
   "cell_type": "code",
   "execution_count": 41,
   "metadata": {},
   "outputs": [
    {
     "data": {
      "image/png": "[encoded data removed]",
      "text/plain": [
       "<Figure size 432x288 with 1 Axes>"
      ]
     },
     "metadata": {},
     "output_type": "display_data"
    }
   ],
   "source": [
    "plt.plot(results);"
   ]
  },
  {
   "cell_type": "markdown",
   "metadata": {},
   "source": [
    "# Smooth Sensitivity DP-SGD"
   ]
  },
  {
   "cell_type": "code",
   "execution_count": 76,
   "metadata": {},
   "outputs": [],
   "source": [
    "def vgradient_per_ex(theta_in, x_in, y_in):\n",
    "    x = x_in\n",
    "    y = y_in\n",
    "    theta = theta_in\n",
    "    exponent = y * np.dot(x, theta)\n",
    "    rhs = (y/(1+np.exp(exponent)))\n",
    "    gradients = -(x*rhs[:, None])\n",
    "    return gradients\n",
    "\n",
    "def smooth_dp_gradient_descent(epochs, rho):\n",
    "    rho_i = rho/epochs\n",
    "    theta = np.zeros(X_train.shape[1])  # leaks the number of features, without privacy\n",
    "    clipping_param = 1\n",
    "    num_examples = X_train.shape[0]     # leaks the number of training examples, without privacy\n",
    "\n",
    "    upper = 10\n",
    "    lower = -10\n",
    "    m = 4\n",
    "    #t = 80\n",
    "\n",
    "    alpha = 100\n",
    "    t = .001\n",
    "    \n",
    "    BATCH_SIZE = 256\n",
    "    lhs_indices, rhs_indices = build_indices(BATCH_SIZE, m, 3)\n",
    "    \n",
    "    rho_weight = rho_i / X_train.shape[1]\n",
    "    print('target per-weight rho:', rho_weight)\n",
    "    target_eps_weight = np.sqrt(2*rho)\n",
    "    sigma = opt_sigma(target_eps_weight, t)\n",
    "    s = np.exp(-(3/2) * sigma**2) * (target_eps_weight - (t / sigma))\n",
    "    print('sigma:', sigma, 's:', s)\n",
    "    #1/0\n",
    "\n",
    "    #assert 1/(1-np.exp(-t)) > alpha\n",
    "    #gamma = alpha*(np.exp(t) - 1) + 1\n",
    "    #print('gamma:', gamma)\n",
    "    #epsilon = rho\n",
    "    #epsilon_epoch = epsilon / epochs\n",
    "    #epsilon_iter = epsilon_epoch / X_train.shape[1]\n",
    "    #print('epsilon per weight:', epsilon_iter)\n",
    "\n",
    "    def compute_eps(sens, alpha, t, sigma_sq):\n",
    "        alpha_upper_bound = 1/(1-np.exp(-t))\n",
    "        if alpha >= alpha_upper_bound:\n",
    "            raise RuntimeError('alpha too high!!! t:', t, 'alpha:', alpha, 'req alpha <', 1/(1-np.exp(-t)))\n",
    "        gamma = 1 - alpha*(1-np.exp(-t))\n",
    "        return alpha * ((sens**2 / (2*gamma*sigma_sq)) + (t**2 / (4*gamma**2)))\n",
    "\n",
    "    def compute_sigma_sq(sens):\n",
    "        gamma = 1 - alpha*(1-np.exp(-t))\n",
    "        #print('gamma:', gamma)\n",
    "\n",
    "        top = (alpha * (sens**2))\n",
    "        bottom_lhs = (2 * gamma * epsilon_iter)\n",
    "        bottom_rhs = ((alpha * t**2) / (2 * gamma))\n",
    "        #print('bottom lhs:', bottom_lhs)\n",
    "        #print('bottom rhs:', bottom_rhs)\n",
    "        return (top / (bottom_lhs - bottom_rhs))\n",
    "\n",
    "    def spec_trimmed_mean(xs):\n",
    "        return trimmed_mean(xs, t, m, lower, upper, lhs_indices, rhs_indices, compute_sigma_sq, sigma, s)\n",
    "    \n",
    "    num_batches = int(num_examples / BATCH_SIZE)\n",
    "    batches_X = np.array_split(X, num_batches)\n",
    "    batches_y = np.array_split(y, num_batches)\n",
    "    \n",
    "    #spec_trimmed_mean = lambda xs: trimmed_mean(xs, t, m, a, b, lhs_indices, rhs_indices, sigma, s)\n",
    "\n",
    "    for i in range(epochs):\n",
    "\n",
    "        for xs, ys in zip(batches_X, batches_y):\n",
    "            gradients       = vgradient_per_ex(theta, xs, ys)\n",
    "            noisy_avg_grad  = np.apply_along_axis(spec_trimmed_mean, 0, gradients)\n",
    "            theta           = theta - noisy_avg_grad\n",
    "\n",
    "    return theta"
   ]
  },
  {
   "cell_type": "code",
   "execution_count": 77,
   "metadata": {},
   "outputs": [],
   "source": [
    "def opt_exp(eps, t, sigma):\n",
    "    return 5 * (eps / t) * sigma**3 - 5 * sigma**2 - 1\n",
    "\n",
    "def opt_sigma(target_eps, t):\n",
    "    sigma_lower = t / target_eps\n",
    "    sigma_upper = max(2*t / target_eps, 1/2)\n",
    "    \n",
    "    loss = opt_exp(target_eps, t, np.mean([sigma_lower, sigma_upper]))\n",
    "    while np.abs(loss) > 0.001:\n",
    "        #print('loss:', loss)\n",
    "        if loss < 0:\n",
    "            sigma_lower = np.mean([sigma_lower, sigma_upper])\n",
    "        else:\n",
    "            sigma_upper = np.mean([sigma_lower, sigma_upper])\n",
    "\n",
    "        loss = opt_exp(target_eps, t, np.mean([sigma_lower, sigma_upper]))\n",
    "\n",
    "    return np.mean([sigma_lower, sigma_upper])\n",
    "\n",
    "def trimmed_mean(xs, t, m, a, b, lhs_indices, rhs_indices, compute_sigma_sq, lln_sigma, s):\n",
    "    n = len(xs)\n",
    "    sens = compute_sens(xs, t, n, m, a, b, lhs_indices, rhs_indices)\n",
    "    noise = one_lln(lln_sigma)\n",
    "    #print('scaling:', sens/s)\n",
    "    return np.mean(xs) + (sens/s)*noise\n",
    "    #print('sens:', sens)\n",
    "    #sigma_sq = compute_sigma_sq(sens)\n",
    "    #print('sigma_sq:', sigma_sq)\n",
    "    #print(sigma_sq)\n",
    "    # return np.mean(xs) + np.random.normal(loc=0, scale=np.sqrt(sigma_sq))\n",
    "    \n",
    "    #rho = (t**2/sigma**2) + (np.exp(3*sigma**2)*s**2)\n",
    "    #print('actual rho:', rho)\n",
    "    #print('noise scale:', (sens / s))\n",
    "    return np.mean(xs)"
   ]
  },
  {
   "cell_type": "code",
   "execution_count": 80,
   "metadata": {},
   "outputs": [
    {
     "name": "stdout",
     "output_type": "stream",
     "text": [
      "target per-weight rho: 1.923076923076923e-06\n",
      "sigma: 0.17255585664262552 s: 0.03722581904987749\n"
     ]
    },
    {
     "data": {
      "text/plain": [
       "0.8022998673153472"
      ]
     },
     "execution_count": 80,
     "metadata": {},
     "output_type": "execute_result"
    }
   ],
   "source": [
    "accuracy(smooth_dp_gradient_descent(5, .001))"
   ]
  },
  {
   "cell_type": "code",
   "execution_count": 74,
   "metadata": {},
   "outputs": [
    {
     "data": {
      "text/plain": [
       "0.21559660262893474"
      ]
     },
     "execution_count": 74,
     "metadata": {},
     "output_type": "execute_result"
    }
   ],
   "source": [
    "zcdp_eps(0.001, 1e-5)"
   ]
  },
  {
   "cell_type": "markdown",
   "metadata": {},
   "source": [
    "# Ours Experiments"
   ]
  },
  {
   "cell_type": "code",
   "execution_count": 375,
   "metadata": {},
   "outputs": [],
   "source": [
    "our_means = means[3:]\n",
    "our_stds = stds[3:]"
   ]
  },
  {
   "cell_type": "code",
   "execution_count": 85,
   "metadata": {},
   "outputs": [
    {
     "name": "stdout",
     "output_type": "stream",
     "text": [
      "target per-weight rho: 1.923076923076923e-05\n",
      "sigma: 0.1146585837728499 s: 0.130108619015224\n",
      "target per-weight rho: 1.923076923076923e-05\n",
      "sigma: 0.1146585837728499 s: 0.130108619015224\n",
      "target per-weight rho: 1.923076923076923e-05\n",
      "sigma: 0.1146585837728499 s: 0.130108619015224\n",
      "target per-weight rho: 1.923076923076923e-05\n",
      "sigma: 0.1146585837728499 s: 0.130108619015224\n",
      "target per-weight rho: 1.923076923076923e-05\n",
      "sigma: 0.1146585837728499 s: 0.130108619015224\n",
      "target per-weight rho: 1.923076923076923e-05\n",
      "sigma: 0.1146585837728499 s: 0.130108619015224\n",
      "target per-weight rho: 1.923076923076923e-05\n",
      "sigma: 0.1146585837728499 s: 0.130108619015224\n",
      "target per-weight rho: 1.923076923076923e-05\n",
      "sigma: 0.1146585837728499 s: 0.130108619015224\n",
      "target per-weight rho: 1.923076923076923e-05\n",
      "sigma: 0.1146585837728499 s: 0.130108619015224\n",
      "target per-weight rho: 1.923076923076923e-05\n",
      "sigma: 0.1146585837728499 s: 0.130108619015224\n",
      "target per-weight rho: 1.923076923076923e-06\n",
      "sigma: 0.17255585664262552 s: 0.03722581904987749\n",
      "target per-weight rho: 1.923076923076923e-06\n",
      "sigma: 0.17255585664262552 s: 0.03722581904987749\n",
      "target per-weight rho: 1.923076923076923e-06\n",
      "sigma: 0.17255585664262552 s: 0.03722581904987749\n",
      "target per-weight rho: 1.923076923076923e-06\n",
      "sigma: 0.17255585664262552 s: 0.03722581904987749\n",
      "target per-weight rho: 1.923076923076923e-06\n",
      "sigma: 0.17255585664262552 s: 0.03722581904987749\n",
      "target per-weight rho: 1.923076923076923e-06\n",
      "sigma: 0.17255585664262552 s: 0.03722581904987749\n",
      "target per-weight rho: 1.923076923076923e-06\n",
      "sigma: 0.17255585664262552 s: 0.03722581904987749\n",
      "target per-weight rho: 1.923076923076923e-06\n",
      "sigma: 0.17255585664262552 s: 0.03722581904987749\n",
      "target per-weight rho: 1.923076923076923e-06\n",
      "sigma: 0.17255585664262552 s: 0.03722581904987749\n",
      "target per-weight rho: 1.923076923076923e-06\n",
      "sigma: 0.17255585664262552 s: 0.03722581904987749\n",
      "target per-weight rho: 1.9230769230769231e-07\n",
      "sigma: 0.26785257617988767 s: 0.009346745457793989\n",
      "target per-weight rho: 1.9230769230769231e-07\n",
      "sigma: 0.26785257617988767 s: 0.009346745457793989\n",
      "target per-weight rho: 1.9230769230769231e-07\n",
      "sigma: 0.26785257617988767 s: 0.009346745457793989\n",
      "target per-weight rho: 1.9230769230769231e-07\n",
      "sigma: 0.26785257617988767 s: 0.009346745457793989\n",
      "target per-weight rho: 1.9230769230769231e-07\n",
      "sigma: 0.26785257617988767 s: 0.009346745457793989\n",
      "target per-weight rho: 1.9230769230769231e-07\n",
      "sigma: 0.26785257617988767 s: 0.009346745457793989\n",
      "target per-weight rho: 1.9230769230769231e-07\n",
      "sigma: 0.26785257617988767 s: 0.009346745457793989\n",
      "target per-weight rho: 1.9230769230769231e-07\n",
      "sigma: 0.26785257617988767 s: 0.009346745457793989\n",
      "target per-weight rho: 1.9230769230769231e-07\n",
      "sigma: 0.26785257617988767 s: 0.009346745457793989\n",
      "target per-weight rho: 1.9230769230769231e-07\n",
      "sigma: 0.26785257617988767 s: 0.009346745457793989\n"
     ]
    }
   ],
   "source": [
    "rhos = [0.01, 0.001, 0.0001]\n",
    "our_epsilons = [zcdp_eps(rho, 1e-5) for rho in rhos]\n",
    "\n",
    "our_means = []\n",
    "our_stds = []\n",
    "for rho in rhos:\n",
    "    accs = [accuracy(smooth_dp_gradient_descent(5, rho)) for _ in range(10)]\n",
    "    our_means.append(np.mean(accs))\n",
    "    our_stds.append(np.std(accs))    "
   ]
  },
  {
   "cell_type": "code",
   "execution_count": 87,
   "metadata": {},
   "outputs": [
    {
     "data": {
      "image/png": "[encoded data removed]",
      "text/plain": [
       "<Figure size 432x288 with 1 Axes>"
      ]
     },
     "metadata": {},
     "output_type": "display_data"
    }
   ],
   "source": [
    "plt.errorbar(our_epsilons, our_means, yerr=our_stds)\n",
    "plt.xscale('log')"
   ]
  },
  {
   "cell_type": "markdown",
   "metadata": {},
   "source": [
    "# Experiments Baseline"
   ]
  },
  {
   "cell_type": "code",
   "execution_count": 81,
   "metadata": {},
   "outputs": [
    {
     "name": "stdout",
     "output_type": "stream",
     "text": [
      "eps: 0.21559660262893474\n",
      "mean: 0.757220256523662\n",
      "std: 0.01260000229023049\n"
     ]
    }
   ],
   "source": [
    "rho = .001\n",
    "epochs = 5\n",
    "print('eps:', zcdp_eps(rho, 1e-5))\n",
    "accs = [accuracy(dp_gradient_descent(epochs, rho)) for _ in range(10)]\n",
    "print('mean:', np.mean(accs))\n",
    "print('std:', np.std(accs))"
   ]
  },
  {
   "cell_type": "code",
   "execution_count": 82,
   "metadata": {},
   "outputs": [],
   "source": [
    "rhos = [0.1, 0.01, 0.001, 0.0001]\n",
    "baseline_epsilons = [zcdp_eps(rho, 1e-5) for rho in rhos]\n",
    "baseline_means = []\n",
    "baseline_stds = []\n",
    "for rho in rhos:\n",
    "    accs = [accuracy(dp_gradient_descent(5, rho)) for _ in range(10)]\n",
    "    baseline_means.append(np.mean(accs))\n",
    "    baseline_stds.append(np.std(accs))  \n"
   ]
  },
  {
   "cell_type": "code",
   "execution_count": 88,
   "metadata": {},
   "outputs": [
    {
     "data": {
      "text/plain": [
       "<matplotlib.legend.Legend at 0x7f5e4c946be0>"
      ]
     },
     "execution_count": 88,
     "metadata": {},
     "output_type": "execute_result"
    },
    {
     "data": {
      "image/png": "[encoded data removed]",
      "text/plain": [
       "<Figure size 432x288 with 1 Axes>"
      ]
     },
     "metadata": {},
     "output_type": "display_data"
    }
   ],
   "source": [
    "plt.errorbar(our_epsilons, our_means, yerr=our_stds, label='Ours')\n",
    "plt.errorbar(baseline_epsilons, baseline_means, yerr=baseline_stds, label='Baseline')\n",
    "plt.xscale('log')\n",
    "plt.xlabel('Epsilon (delta=10^-5)')\n",
    "plt.ylabel('Accuracy')\n",
    "plt.legend()"
   ]
  },
  {
   "cell_type": "code",
   "execution_count": 570,
   "metadata": {},
   "outputs": [
    {
     "data": {
      "text/plain": [
       "[(2.2459660262893473, 0.8268686421937197),\n",
       " (0.6886140424415113, 0.8101282618310481),\n",
       " (0.21559660262893474, 0.7718819106590005),\n",
       " (0.06796140424415112, 0.69640645731977)]"
      ]
     },
     "execution_count": 570,
     "metadata": {},
     "output_type": "execute_result"
    }
   ],
   "source": [
    "[(eps, acc) for eps, acc in zip(baseline_epsilons, baseline_means)]"
   ]
  },
  {
   "cell_type": "markdown",
   "metadata": {},
   "source": [
    "# Laplace Log Normal"
   ]
  },
  {
   "cell_type": "code",
   "execution_count": 45,
   "metadata": {},
   "outputs": [],
   "source": [
    "def one_lln(sigma):\n",
    "    x = np.random.laplace()\n",
    "    y = np.random.normal()\n",
    "    return x * np.exp(sigma * y)"
   ]
  },
  {
   "cell_type": "code",
   "execution_count": 46,
   "metadata": {},
   "outputs": [],
   "source": [
    "def lln(size):\n",
    "    sigma = 1\n",
    "    x = np.random.laplace(size=size)\n",
    "    y = np.random.normal(size=size)\n",
    "    return x * np.exp(sigma * y)"
   ]
  },
  {
   "cell_type": "code",
   "execution_count": 47,
   "metadata": {},
   "outputs": [
    {
     "data": {
      "text/plain": [
       "-0.0045931651363306574"
      ]
     },
     "execution_count": 47,
     "metadata": {},
     "output_type": "execute_result"
    }
   ],
   "source": [
    "np.mean(lln(500000))"
   ]
  },
  {
   "cell_type": "code",
   "execution_count": null,
   "metadata": {},
   "outputs": [],
   "source": []
  }
 ],
 "metadata": {
  "kernelspec": {
   "display_name": "Python 3",
   "language": "python",
   "name": "python3"
  },
  "language_info": {
   "codemirror_mode": {
    "name": "ipython",
    "version": 3
   },
   "file_extension": ".py",
   "mimetype": "text/x-python",
   "name": "python",
   "nbconvert_exporter": "python",
   "pygments_lexer": "ipython3",
   "version": "3.6.10"
  }
 },
 "nbformat": 4,
 "nbformat_minor": 5
}
