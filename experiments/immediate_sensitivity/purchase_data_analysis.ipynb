{
 "cells": [
  {
   "cell_type": "code",
   "execution_count": 4,
   "metadata": {},
   "outputs": [],
   "source": [
    "import pickle\n",
    "import glob\n",
    "import matplotlib.pyplot as plt\n",
    "import pandas as pd"
   ]
  },
  {
   "cell_type": "code",
   "execution_count": 5,
   "metadata": {},
   "outputs": [
    {
     "name": "stdout",
     "output_type": "stream",
     "text": [
      "['b', '256', '1000', '0.1', '32.b']\n",
      "['std', '256', '100000', '1', '128.b']\n",
      "['b', '256', '1000000', '0.1', '64.b']\n",
      "['b', '256', '10000', '0.5', '32.b']\n",
      "['b', '256', '1000000', '0.5', '128.b']\n",
      "['std', '256', '1000', '3', '64.b']\n",
      "['b', '256', '10000', '0.1', '32.b']\n",
      "['std', '256', '50000', '1', '128.b']\n",
      "['std', '256', '50000', '0', '128.b']\n",
      "['b', '256', '1000000', '1', '32.b']\n",
      "['b', '256', '1000000', '0.5', '64.b']\n",
      "['b', '256', '100000', '1', '64.b']\n",
      "['std', '256', '10000', '1.5', '64.b']\n",
      "['std', '256', '0', '1.5', '32.b']\n",
      "['b', '256', '100000', '0.1', '64.b']\n",
      "['b', '256', '10000', '1', '64.b']\n",
      "['std', '256', '50000', '2.5', '64.b']\n",
      "['b', '256', '10000', '5', '32.b']\n",
      "['std', '256', '100000', '0', '64.b']\n",
      "['b', '256', '1000000', '5', '128.b']\n",
      "['b', '256', '1000', '1', '32.b']\n",
      "['b', '256', '1000', '1', '128.b']\n",
      "['b', '256', '1000000', '0.1', '32.b']\n",
      "['b', '256', '1000', '5', '128.b']\n",
      "['b', '256', '100000', '1', '32.b']\n",
      "['std', '256', '100000', '0', '32.b']\n",
      "['std', '256', '10000', '2', '128.b']\n",
      "['std', '256', '10000', '0', '128.b']\n",
      "['b', '256', '1000', '0.5', '32.b']\n",
      "['std', '256', '1000', '1', '32.b']\n",
      "['std', '256', '10000', '2.5', '64.b']\n",
      "['b', '256', '10000', '1', '32.b']\n",
      "['std', '256', '100000', '3', '64.b']\n",
      "['std', '256', '0', '1', '128.b']\n",
      "['std', '256', '10000', '3', '64.b']\n",
      "['std', '256', '50000', '1.5', '32.b']\n",
      "['b', '256', '10000', '1', '128.b']\n",
      "['std', '256', '0', '2', '32.b']\n",
      "['std', '256', '10000', '1', '64.b']\n",
      "['b', '256', '1000000', '5', '32.b']\n",
      "['std', '256', '0', '2', '64.b']\n",
      "['b', '256', '100000', '1', '128.b']\n",
      "['std', '256', '0', '0', '64.b']\n",
      "['std', '256', '0', '0', '128.b']\n",
      "['b', '256', '100000', '5', '64.b']\n",
      "['std', '256', '1000', '1.5', '128.b']\n",
      "['std', '256', '1000', '2', '64.b']\n",
      "['b', '256', '1000', '0.1', '128.b']\n",
      "['b', '256', '100000', '0.1', '32.b']\n",
      "['std', '256', '10000', '1', '128.b']\n",
      "['b', '256', '1000', '5', '32.b']\n",
      "['std', '256', '1000', '1', '64.b']\n",
      "['std', '256', '100000', '2.5', '64.b']\n",
      "['std', '256', '1000', '1', '128.b']\n",
      "['std', '256', '1000', '1.25', '64.b']\n",
      "['b', '256', '100000', '5', '128.b']\n",
      "['std', '256', '1000', '0', '64.b']\n",
      "['std', '256', '0', '1', '64.b']\n",
      "['std', '256', '100000', '1.5', '32.b']\n",
      "['std', '256', '100000', '2', '128.b']\n",
      "['std', '256', '10000', '0', '64.b']\n",
      "['std', '256', '10000', '1.25', '64.b']\n",
      "['std', '256', '10000', '2', '64.b']\n",
      "['b', '256', '10000', '0.5', '128.b']\n",
      "['std', '256', '0', '1.25', '64.b']\n",
      "['std', '256', '100000', '1.25', '64.b']\n",
      "['std', '256', '50000', '1', '64.b']\n",
      "['std', '256', '50000', '1.5', '64.b']\n",
      "['std', '256', '50000', '0', '32.b']\n",
      "['std', '256', '0', '1.5', '128.b']\n",
      "['std', '256', '100000', '2', '64.b']\n",
      "['std', '256', '1000', '0', '128.b']\n",
      "['b', '256', '100000', '0.5', '32.b']\n",
      "['b', '256', '10000', '5', '64.b']\n",
      "['std', '256', '50000', '1', '32.b']\n",
      "['std', '256', '0', '0', '32.b']\n",
      "['b', '256', '1000', '0.5', '128.b']\n",
      "['std', '256', '50000', '3', '64.b']\n",
      "['std', '256', '100000', '1', '32.b']\n",
      "['std', '256', '10000', '1.5', '128.b']\n",
      "['b', '256', '10000', '0.1', '64.b']\n",
      "['std', '256', '50000', '1.25', '64.b']\n",
      "['std', '256', '1000', '2', '32.b']\n",
      "['std', '256', '0', '1.5', '64.b']\n",
      "['b', '256', '1000', '1', '64.b']\n",
      "['std', '256', '50000', '0', '64.b']\n",
      "['b', '256', '100000', '0.5', '128.b']\n",
      "['b', '256', '100000', '5', '32.b']\n",
      "['std', '256', '10000', '2', '32.b']\n",
      "['std', '256', '1000', '2.5', '64.b']\n",
      "['b', '256', '10000', '0.5', '64.b']\n",
      "['std', '256', '100000', '1.5', '64.b']\n",
      "['std', '256', '10000', '0', '32.b']\n",
      "['b', '256', '1000', '5', '64.b']\n",
      "['std', '256', '50000', '2', '128.b']\n",
      "['std', '256', '100000', '0', '128.b']\n",
      "['std', '256', '1000', '2', '128.b']\n",
      "['std', '256', '0', '2', '128.b']\n",
      "['std', '256', '50000', '1.5', '128.b']\n",
      "['std', '256', '0', '1', '32.b']\n",
      "['std', '256', '1000', '1.5', '64.b']\n",
      "['std', '256', '100000', '2', '32.b']\n",
      "['std', '256', '100000', '1', '64.b']\n",
      "['std', '256', '0', '3', '64.b']\n",
      "['b', '256', '1000000', '1', '64.b']\n",
      "['b', '256', '1000000', '0.5', '32.b']\n",
      "['std', '256', '1000', '0', '32.b']\n",
      "['std', '256', '1000', '1.5', '32.b']\n",
      "['std', '256', '10000', '1', '32.b']\n",
      "['b', '256', '1000', '0.5', '64.b']\n",
      "['b', '256', '1000000', '5', '64.b']\n",
      "['b', '256', '1000000', '0.1', '128.b']\n",
      "['std', '256', '10000', '1.5', '32.b']\n",
      "['b', '256', '10000', '5', '128.b']\n",
      "['b', '256', '100000', '0.5', '64.b']\n",
      "['b', '256', '1000000', '1', '128.b']\n",
      "['b', '256', '100000', '0.1', '128.b']\n",
      "['std', '256', '100000', '1.5', '128.b']\n",
      "['b', '256', '1000', '0.1', '64.b']\n",
      "['b', '256', '10000', '0.1', '128.b']\n",
      "['std', '256', '50000', '2', '32.b']\n",
      "['std', '256', '0', '2.5', '64.b']\n",
      "['std', '256', '50000', '2', '64.b']\n"
     ]
    }
   ],
   "source": [
    "infos = []\n",
    "idx_tups = []\n",
    "for file in glob.glob(\"../../data/purchase/purchase_std*\"):\n",
    "    fd = pickle.load(open(file, 'rb'))\n",
    "    #print(file, type(infos[-1]))\n",
    "    var = file.split(\"_\")[-5:]\n",
    "    print(var)\n",
    "    a, y, m = max([(a, yt - yf, mt  - mf) for a, yt, yf, mt, mf in zip(fd['acc'], fd['yeom_tpr'], fd['yeom_fpr'], fd['merlin_tpr'], fd['merlin_fpr'])])\n",
    "    fd['acc'] = a\n",
    "    fd['adv'] = y\n",
    "    fd['merlin_adv'] = m\n",
    "    if var[-5] == 'b':\n",
    "        var[-5] = 'dp'\n",
    "    else:\n",
    "        var[-5] = 'std'\n",
    "    var[-4] = int(var[-4])\n",
    "    var[-1] = int(var[-1].split(\".\")[0])\n",
    "    var[-3] = int(var[-3])\n",
    "    var[-2] = float(var[-2]) if var[-2] != 'False' else False\n",
    "    # IDX tups follow the format (epsilon, throw out threshold, batch size)\n",
    "    idx_tups.append(var)\n",
    "    infos.append(fd)"
   ]
  },
  {
   "cell_type": "code",
   "execution_count": 6,
   "metadata": {},
   "outputs": [],
   "source": [
    "inf_scalars = [(i[0]['acc'], i[0]['adv'][-1] if type(i[0]['adv']) == list else i[0]['adv'],  i[0]['merlin_adv'][-1][0] if type(i[0]['merlin_adv']) == list else i[0]['merlin_adv'], *i[1]) for i in zip(infos, idx_tups)]\n",
    "ds = pd.DataFrame(inf_scalars)\n",
    "ds.columns = ['acc', 'yeom', 'merlin', 'method','width', 'epsilon', 'throw out', 'batch_size']"
   ]
  },
  {
   "cell_type": "code",
   "execution_count": null,
   "metadata": {},
   "outputs": [],
   "source": []
  },
  {
   "cell_type": "code",
   "execution_count": 7,
   "metadata": {},
   "outputs": [
    {
     "data": {
      "text/plain": [
       "<matplotlib.legend.Legend at 0x7f9b39960890>"
      ]
     },
     "execution_count": 7,
     "metadata": {},
     "output_type": "execute_result"
    },
    {
     "data": {
      "image/png": "[encoded data removed]",
      "text/plain": [
       "<Figure size 432x288 with 1 Axes>"
      ]
     },
     "metadata": {
      "needs_background": "light"
     },
     "output_type": "display_data"
    }
   ],
   "source": [
    "dp = ds[(ds['method'] == 'dp') & (ds['acc'] > .2)].sort_values('acc')\n",
    "sd = ds[ds['method'] == 'std']\n",
    "plt.plot(dp['acc'], dp['yeom'],label='Gradient Clipping', alpha=.5)\n",
    "plt.scatter(sd['acc'], sd['yeom'],c='tab:orange', label='Immediate Sensitivity', alpha=.5)\n",
    "plt.xlabel('accuracy')\n",
    "plt.ylabel('advantage')\n",
    "plt.title('Purchase-100')\n",
    "plt.legend()"
   ]
  },
  {
   "cell_type": "code",
   "execution_count": 8,
   "metadata": {},
   "outputs": [
    {
     "data": {
      "text/plain": [
       "<matplotlib.legend.Legend at 0x7f9b218c2c90>"
      ]
     },
     "execution_count": 8,
     "metadata": {},
     "output_type": "execute_result"
    },
    {
     "data": {
      "image/png": "[encoded data removed]",
      "text/plain": [
       "<Figure size 432x288 with 1 Axes>"
      ]
     },
     "metadata": {
      "needs_background": "light"
     },
     "output_type": "display_data"
    }
   ],
   "source": [
    "throws = ds['throw out'].unique()\n",
    "for t in throws:\n",
    "    db = ds[ds['throw out'] == t].sort_values('acc')\n",
    "    plt.plot(db['acc'], db['yeom'],alpha=.5, label=f'{t}')\n",
    "plt.legend()"
   ]
  },
  {
   "cell_type": "code",
   "execution_count": 9,
   "metadata": {},
   "outputs": [
    {
     "data": {
      "text/html": [
       "<div>\n",
       "<style scoped>\n",
       "    .dataframe tbody tr th:only-of-type {\n",
       "        vertical-align: middle;\n",
       "    }\n",
       "\n",
       "    .dataframe tbody tr th {\n",
       "        vertical-align: top;\n",
       "    }\n",
       "\n",
       "    .dataframe thead th {\n",
       "        text-align: right;\n",
       "    }\n",
       "</style>\n",
       "<table border=\"1\" class=\"dataframe\">\n",
       "  <thead>\n",
       "    <tr style=\"text-align: right;\">\n",
       "      <th></th>\n",
       "      <th>acc</th>\n",
       "      <th>yeom</th>\n",
       "      <th>merlin</th>\n",
       "      <th>method</th>\n",
       "      <th>width</th>\n",
       "      <th>epsilon</th>\n",
       "      <th>throw out</th>\n",
       "      <th>batch_size</th>\n",
       "    </tr>\n",
       "  </thead>\n",
       "  <tbody>\n",
       "    <tr>\n",
       "      <th>54</th>\n",
       "      <td>0.651693</td>\n",
       "      <td>0.102620</td>\n",
       "      <td>0.055469</td>\n",
       "      <td>std</td>\n",
       "      <td>256</td>\n",
       "      <td>1000</td>\n",
       "      <td>1.25</td>\n",
       "      <td>64</td>\n",
       "    </tr>\n",
       "    <tr>\n",
       "      <th>12</th>\n",
       "      <td>0.668294</td>\n",
       "      <td>0.111684</td>\n",
       "      <td>0.039062</td>\n",
       "      <td>std</td>\n",
       "      <td>256</td>\n",
       "      <td>10000</td>\n",
       "      <td>1.50</td>\n",
       "      <td>64</td>\n",
       "    </tr>\n",
       "    <tr>\n",
       "      <th>30</th>\n",
       "      <td>0.691406</td>\n",
       "      <td>0.118969</td>\n",
       "      <td>0.019531</td>\n",
       "      <td>std</td>\n",
       "      <td>256</td>\n",
       "      <td>10000</td>\n",
       "      <td>2.50</td>\n",
       "      <td>64</td>\n",
       "    </tr>\n",
       "    <tr>\n",
       "      <th>85</th>\n",
       "      <td>0.665365</td>\n",
       "      <td>0.123127</td>\n",
       "      <td>0.050781</td>\n",
       "      <td>std</td>\n",
       "      <td>256</td>\n",
       "      <td>50000</td>\n",
       "      <td>0.00</td>\n",
       "      <td>64</td>\n",
       "    </tr>\n",
       "    <tr>\n",
       "      <th>68</th>\n",
       "      <td>0.675258</td>\n",
       "      <td>0.123932</td>\n",
       "      <td>0.059375</td>\n",
       "      <td>std</td>\n",
       "      <td>256</td>\n",
       "      <td>50000</td>\n",
       "      <td>0.00</td>\n",
       "      <td>32</td>\n",
       "    </tr>\n",
       "    <tr>\n",
       "      <th>...</th>\n",
       "      <td>...</td>\n",
       "      <td>...</td>\n",
       "      <td>...</td>\n",
       "      <td>...</td>\n",
       "      <td>...</td>\n",
       "      <td>...</td>\n",
       "      <td>...</td>\n",
       "      <td>...</td>\n",
       "    </tr>\n",
       "    <tr>\n",
       "      <th>70</th>\n",
       "      <td>0.687174</td>\n",
       "      <td>0.206420</td>\n",
       "      <td>0.057813</td>\n",
       "      <td>std</td>\n",
       "      <td>256</td>\n",
       "      <td>100000</td>\n",
       "      <td>2.00</td>\n",
       "      <td>64</td>\n",
       "    </tr>\n",
       "    <tr>\n",
       "      <th>13</th>\n",
       "      <td>0.669137</td>\n",
       "      <td>0.233864</td>\n",
       "      <td>0.106250</td>\n",
       "      <td>std</td>\n",
       "      <td>256</td>\n",
       "      <td>0</td>\n",
       "      <td>1.50</td>\n",
       "      <td>32</td>\n",
       "    </tr>\n",
       "    <tr>\n",
       "      <th>37</th>\n",
       "      <td>0.675258</td>\n",
       "      <td>0.262427</td>\n",
       "      <td>0.076563</td>\n",
       "      <td>std</td>\n",
       "      <td>256</td>\n",
       "      <td>0</td>\n",
       "      <td>2.00</td>\n",
       "      <td>32</td>\n",
       "    </tr>\n",
       "    <tr>\n",
       "      <th>22</th>\n",
       "      <td>0.690722</td>\n",
       "      <td>0.287191</td>\n",
       "      <td>0.117188</td>\n",
       "      <td>dp</td>\n",
       "      <td>256</td>\n",
       "      <td>1000000</td>\n",
       "      <td>0.10</td>\n",
       "      <td>32</td>\n",
       "    </tr>\n",
       "    <tr>\n",
       "      <th>75</th>\n",
       "      <td>0.682668</td>\n",
       "      <td>0.309210</td>\n",
       "      <td>0.100000</td>\n",
       "      <td>std</td>\n",
       "      <td>256</td>\n",
       "      <td>0</td>\n",
       "      <td>0.00</td>\n",
       "      <td>32</td>\n",
       "    </tr>\n",
       "  </tbody>\n",
       "</table>\n",
       "<p>63 rows × 8 columns</p>\n",
       "</div>"
      ],
      "text/plain": [
       "         acc      yeom    merlin method  width  epsilon  throw out  batch_size\n",
       "54  0.651693  0.102620  0.055469    std    256     1000       1.25          64\n",
       "12  0.668294  0.111684  0.039062    std    256    10000       1.50          64\n",
       "30  0.691406  0.118969  0.019531    std    256    10000       2.50          64\n",
       "85  0.665365  0.123127  0.050781    std    256    50000       0.00          64\n",
       "68  0.675258  0.123932  0.059375    std    256    50000       0.00          32\n",
       "..       ...       ...       ...    ...    ...      ...        ...         ...\n",
       "70  0.687174  0.206420  0.057813    std    256   100000       2.00          64\n",
       "13  0.669137  0.233864  0.106250    std    256        0       1.50          32\n",
       "37  0.675258  0.262427  0.076563    std    256        0       2.00          32\n",
       "22  0.690722  0.287191  0.117188     dp    256  1000000       0.10          32\n",
       "75  0.682668  0.309210  0.100000    std    256        0       0.00          32\n",
       "\n",
       "[63 rows x 8 columns]"
      ]
     },
     "execution_count": 9,
     "metadata": {},
     "output_type": "execute_result"
    }
   ],
   "source": [
    "da = ds[ds['acc'] > .65]\n",
    "da.sort_values('yeom')"
   ]
  },
  {
   "cell_type": "code",
   "execution_count": 6,
   "metadata": {},
   "outputs": [],
   "source": [
    "import torchvision.datasets as datasets\n",
    "import torchvision\n",
    "from torch.utils.data import DataLoader\n",
    "\n",
    "\n",
    "cifar_trainset = datasets.MNIST(root='./data', train=True, download=True, transform=torchvision.transforms.ToTensor()) #target_transform=one_hot_label)\n",
    "cifar_testset = datasets.MNIST(root='./data', train=False, download=True, transform=torchvision.transforms.ToTensor())"
   ]
  },
  {
   "cell_type": "code",
   "execution_count": 2,
   "metadata": {},
   "outputs": [],
   "source": [
    "from sklearn.model_selection import train_test_split"
   ]
  },
  {
   "cell_type": "code",
   "execution_count": 12,
   "metadata": {},
   "outputs": [],
   "source": [
    "_, training = train_test_split(cifar_trainset,test_size=.18, shuffle=True)"
   ]
  },
  {
   "cell_type": "code",
   "execution_count": 4,
   "metadata": {},
   "outputs": [],
   "source": [
    "#training, testing = train_test_split(training, test_size=.3, shuffle=True)"
   ]
  },
  {
   "cell_type": "code",
   "execution_count": 8,
   "metadata": {},
   "outputs": [],
   "source": [
    "train_loader = DataLoader(training, batch_size=64, shuffle=True, drop_last=True)"
   ]
  },
  {
   "cell_type": "code",
   "execution_count": 13,
   "metadata": {},
   "outputs": [
    {
     "data": {
      "text/plain": [
       "10800"
      ]
     },
     "execution_count": 13,
     "metadata": {},
     "output_type": "execute_result"
    }
   ],
   "source": [
    "len(training)"
   ]
  },
  {
   "cell_type": "code",
   "execution_count": null,
   "metadata": {},
   "outputs": [],
   "source": []
  }
 ],
 "metadata": {
  "kernelspec": {
   "display_name": "Python 3",
   "language": "python",
   "name": "python3"
  },
  "language_info": {
   "codemirror_mode": {
    "name": "ipython",
    "version": 3
   },
   "file_extension": ".py",
   "mimetype": "text/x-python",
   "name": "python",
   "nbconvert_exporter": "python",
   "pygments_lexer": "ipython3",
   "version": "3.7.6"
  }
 },
 "nbformat": 4,
 "nbformat_minor": 4
}
