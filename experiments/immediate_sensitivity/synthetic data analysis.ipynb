{
 "cells": [
  {
   "cell_type": "code",
   "execution_count": 1,
   "metadata": {},
   "outputs": [],
   "source": [
    "import pickle\n",
    "import glob\n",
    "import matplotlib.pyplot as plt\n",
    "import pandas as pd\n",
    "import numpy as np"
   ]
  },
  {
   "cell_type": "code",
   "execution_count": 2,
   "metadata": {},
   "outputs": [
    {
     "name": "stdout",
     "output_type": "stream",
     "text": [
      "../../data/synth_b_10_1_64.p <class 'collections.defaultdict'>\n",
      "../../data/synth_b_100_0.03_64.p <class 'collections.defaultdict'>\n",
      "../../data/synth_100_1.5_64.p <class 'collections.defaultdict'>\n",
      "../../data/synth_b_100000_0.03_64.p <class 'collections.defaultdict'>\n",
      "../../data/synth_b_1_1_64.p <class 'collections.defaultdict'>\n",
      "../../data/synth_100_0.03_64.p <class 'collections.defaultdict'>\n",
      "../../data/synth_1_1.25_64.p <class 'collections.defaultdict'>\n",
      "../../data/synth_10000_0.07_64.p <class 'collections.defaultdict'>\n",
      "../../data/synth_1_2_64.p <class 'collections.defaultdict'>\n",
      "../../data/synth_10000_1_64.p <class 'collections.defaultdict'>\n",
      "../../data/synth_5_0.1_64.p <class 'collections.defaultdict'>\n",
      "../../data/synth_50000_2_64.p <class 'collections.defaultdict'>\n",
      "../../data/synth_5_0.2_64.p <class 'collections.defaultdict'>\n",
      "../../data/synth_100000_2_64.p <class 'collections.defaultdict'>\n",
      "../../data/synth_b_5_0.1_64.p <class 'collections.defaultdict'>\n",
      "../../data/synth_10_1.25_64.p <class 'collections.defaultdict'>\n",
      "../../data/synth_1000_0.5_64.p <class 'collections.defaultdict'>\n",
      "../../data/synth_50000_0.1_64.p <class 'collections.defaultdict'>\n",
      "../../data/synth_b_0_0.7_64.p <class 'collections.defaultdict'>\n",
      "../../data/synth_b_0_0.1_64.p <class 'collections.defaultdict'>\n",
      "../../data/synth_100000_False_64.p <class 'collections.defaultdict'>\n",
      "../../data/synth_100000_0.1_64.p <class 'collections.defaultdict'>\n",
      "../../data/synth_10000_0.2_64.p <class 'collections.defaultdict'>\n",
      "../../data/synth_10_0.2_64.p <class 'collections.defaultdict'>\n",
      "../../data/synth_100000_1.5_64.p <class 'collections.defaultdict'>\n",
      "../../data/synth_10_0.1_64.p <class 'collections.defaultdict'>\n",
      "../../data/synth_0_0.1_64.p <class 'collections.defaultdict'>\n",
      "../../data/synth_b_10_0.1_64.p <class 'collections.defaultdict'>\n",
      "../../data/synth_1000_5_64.p <class 'collections.defaultdict'>\n",
      "../../data/synth_b_1000_0.2_64.p <class 'collections.defaultdict'>\n",
      "../../data/synth_0_0.2_64.p <class 'collections.defaultdict'>\n",
      "../../data/synth_b_5_0.7_64.p <class 'collections.defaultdict'>\n",
      "../../data/synth_1000_False_64.p <class 'collections.defaultdict'>\n",
      "../../data/synth_50000_False_64.p <class 'collections.defaultdict'>\n",
      "../../data/synth_b_50000_0.7_64.p <class 'collections.defaultdict'>\n",
      "../../data/synth_1_0.03_64.p <class 'collections.defaultdict'>\n",
      "../../data/synth_5_False_64.p <class 'collections.defaultdict'>\n",
      "../../data/synth_10_False_64.p <class 'collections.defaultdict'>\n",
      "../../data/synth_b_1000_1_64.p <class 'collections.defaultdict'>\n",
      "../../data/synth_50000_5_64.p <class 'collections.defaultdict'>\n",
      "../../data/synth_50000_0.2_64.p <class 'collections.defaultdict'>\n",
      "../../data/synth_100_3_64.p <class 'collections.defaultdict'>\n",
      "../../data/synth_b_50000_0.03_64.p <class 'collections.defaultdict'>\n",
      "../../data/synth_b_1_0.2_64.p <class 'collections.defaultdict'>\n",
      "../../data/synth_b_50000_1_64.p <class 'collections.defaultdict'>\n",
      "../../data/synth_b_5_1_64.p <class 'collections.defaultdict'>\n",
      "../../data/synth_b_1_False_64.p <class 'collections.defaultdict'>\n",
      "../../data/synth_b_10000_False_64.p <class 'collections.defaultdict'>\n",
      "../../data/synth_100_5_64.p <class 'collections.defaultdict'>\n",
      "../../data/synth_100_False_64.p <class 'collections.defaultdict'>\n",
      "../../data/synth_100_2_64.p <class 'collections.defaultdict'>\n",
      "../../data/synth_10_1_64.p <class 'collections.defaultdict'>\n",
      "../../data/synth_b_50000_0.5_64.p <class 'collections.defaultdict'>\n",
      "../../data/synth_1_0.1_64.p <class 'collections.defaultdict'>\n",
      "../../data/synth_b_10000_1_64.p <class 'collections.defaultdict'>\n",
      "../../data/synth_b_10000_0.1_64.p <class 'collections.defaultdict'>\n",
      "../../data/synth_1_1_64.p <class 'collections.defaultdict'>\n",
      "../../data/synth_10_3_64.p <class 'collections.defaultdict'>\n",
      "../../data/synth_5_1_64.p <class 'collections.defaultdict'>\n",
      "../../data/synth_25000_1.25_64.p <class 'collections.defaultdict'>\n",
      "../../data/synth_b_10000_0.2_64.p <class 'collections.defaultdict'>\n",
      "../../data/synth_b_10000_0.03_64.p <class 'collections.defaultdict'>\n",
      "../../data/synth_1_0.5_64.p <class 'collections.defaultdict'>\n",
      "../../data/synth_b_5_0.5_64.p <class 'collections.defaultdict'>\n",
      "../../data/synth_10000_0.5_64.p <class 'collections.defaultdict'>\n",
      "../../data/synth_0_0.5_64.p <class 'collections.defaultdict'>\n",
      "../../data/synth_10000_0.03_64.p <class 'collections.defaultdict'>\n",
      "../../data/synth_5000_0.03_64.p <class 'collections.defaultdict'>\n",
      "../../data/synth_50000_0.5_64.p <class 'collections.defaultdict'>\n",
      "../../data/synth_100_0.75_64.p <class 'collections.defaultdict'>\n",
      "../../data/synth_b_100_0.1_64.p <class 'collections.defaultdict'>\n",
      "../../data/synth_b_100_0.2_64.p <class 'collections.defaultdict'>\n",
      "../../data/synth_b_1000_False_64.p <class 'collections.defaultdict'>\n",
      "../../data/synth_10_0.07_64.p <class 'collections.defaultdict'>\n",
      "../../data/synth_100000_1_64.p <class 'collections.defaultdict'>\n",
      "../../data/synth_b_1000_0.5_64.p <class 'collections.defaultdict'>\n",
      "../../data/synth_5000_2_64.p <class 'collections.defaultdict'>\n",
      "../../data/synth_5000_0.2_64.p <class 'collections.defaultdict'>\n",
      "../../data/synth_b_50000_False_64.p <class 'collections.defaultdict'>\n",
      "../../data/synth_5000_1.5_64.p <class 'collections.defaultdict'>\n",
      "../../data/synth_5_2_64.p <class 'collections.defaultdict'>\n",
      "../../data/synth_5000_0.1_64.p <class 'collections.defaultdict'>\n",
      "../../data/synth_b_100000_0.7_64.p <class 'collections.defaultdict'>\n",
      "../../data/synth_1_0.2_64.p <class 'collections.defaultdict'>\n",
      "../../data/synth_b_1000_0.03_64.p <class 'collections.defaultdict'>\n",
      "../../data/synth_b_100000_0.5_64.p <class 'collections.defaultdict'>\n",
      "../../data/synth_100000_3_64.p <class 'collections.defaultdict'>\n",
      "../../data/synth_10000_0.75_64.p <class 'collections.defaultdict'>\n",
      "../../data/synth_b_1_0.5_64.p <class 'collections.defaultdict'>\n",
      "../../data/synth_5_3_64.p <class 'collections.defaultdict'>\n",
      "../../data/synth_100_1.25_64.p <class 'collections.defaultdict'>\n",
      "../../data/synth_b_10_0.7_64.p <class 'collections.defaultdict'>\n",
      "../../data/synth_b_0_0.03_64.p <class 'collections.defaultdict'>\n",
      "../../data/synth_10_1.5_64.p <class 'collections.defaultdict'>\n",
      "../../data/synth_10_5_64.p <class 'collections.defaultdict'>\n",
      "../../data/synth_b_1_0.03_64.p <class 'collections.defaultdict'>\n",
      "../../data/synth_b_100_0.7_64.p <class 'collections.defaultdict'>\n",
      "../../data/synth_10_0.75_64.p <class 'collections.defaultdict'>\n",
      "../../data/synth_1_0.75_64.p <class 'collections.defaultdict'>\n",
      "../../data/synth_50000_0.07_64.p <class 'collections.defaultdict'>\n",
      "../../data/synth_5000_1_64.p <class 'collections.defaultdict'>\n",
      "../../data/synth_b_10_0.2_64.p <class 'collections.defaultdict'>\n",
      "../../data/synth_100_0.1_64.p <class 'collections.defaultdict'>\n",
      "../../data/synth_1_0.07_64.p <class 'collections.defaultdict'>\n",
      "../../data/synth_10000_5_64.p <class 'collections.defaultdict'>\n",
      "../../data/synth_b_10000_0.5_64.p <class 'collections.defaultdict'>\n",
      "../../data/synth_100000_0.2_64.p <class 'collections.defaultdict'>\n",
      "../../data/synth_b_1000_0.1_64.p <class 'collections.defaultdict'>\n",
      "../../data/synth_10000_2_64.p <class 'collections.defaultdict'>\n",
      "../../data/synth_5_1.25_64.p <class 'collections.defaultdict'>\n",
      "../../data/synth_10_2_64.p <class 'collections.defaultdict'>\n",
      "../../data/synth_1_3_64.p <class 'collections.defaultdict'>\n",
      "../../data/synth_1_False_64.p <class 'collections.defaultdict'>\n",
      "../../data/synth_b_100000_1_64.p <class 'collections.defaultdict'>\n",
      "../../data/synth_100000_0.5_64.p <class 'collections.defaultdict'>\n",
      "../../data/synth_1000_1_64.p <class 'collections.defaultdict'>\n",
      "../../data/synth_b_0_1_64.p <class 'collections.defaultdict'>\n",
      "../../data/synth_b_1000_0.7_64.p <class 'collections.defaultdict'>\n",
      "../../data/synth_100000_5_64.p <class 'collections.defaultdict'>\n",
      "../../data/synth_10_0.03_64.p <class 'collections.defaultdict'>\n",
      "../../data/synth_b_10_0.03_64.p <class 'collections.defaultdict'>\n",
      "../../data/synth_1000_3_64.p <class 'collections.defaultdict'>\n",
      "../../data/synth_100000_0.03_64.p <class 'collections.defaultdict'>\n",
      "../../data/synth_0_0.03_64.p <class 'collections.defaultdict'>\n",
      "../../data/synth_1000_0.07_64.p <class 'collections.defaultdict'>\n",
      "../../data/synth_b_10_0.5_64.p <class 'collections.defaultdict'>\n",
      "../../data/synth_5_0.5_64.p <class 'collections.defaultdict'>\n",
      "../../data/synth_b_100000_0.1_64.p <class 'collections.defaultdict'>\n",
      "../../data/synth_b_5_0.03_64.p <class 'collections.defaultdict'>\n",
      "../../data/synth_1000_0.1_64.p <class 'collections.defaultdict'>\n",
      "../../data/synth_0_1_64.p <class 'collections.defaultdict'>\n",
      "../../data/synth_50000_1.5_64.p <class 'collections.defaultdict'>\n",
      "../../data/synth_b_100000_0.2_64.p <class 'collections.defaultdict'>\n",
      "../../data/synth_50000_1_64.p <class 'collections.defaultdict'>\n",
      "../../data/synth_b_0_0.2_64.p <class 'collections.defaultdict'>\n",
      "../../data/synth_b_10000_0.7_64.p <class 'collections.defaultdict'>\n",
      "../../data/synth_b_5_False_64.p <class 'collections.defaultdict'>\n",
      "../../data/synth_1000_0.75_64.p <class 'collections.defaultdict'>\n",
      "../../data/synth_10_0.5_64.p <class 'collections.defaultdict'>\n",
      "../../data/synth_25000_0.75_64.p <class 'collections.defaultdict'>\n",
      "../../data/synth_50000_3_64.p <class 'collections.defaultdict'>\n",
      "../../data/synth_100_0.07_64.p <class 'collections.defaultdict'>\n",
      "../../data/synth_5000_5_64.p <class 'collections.defaultdict'>\n",
      "../../data/synth_100_1_64.p <class 'collections.defaultdict'>\n",
      "../../data/synth_1000_2_64.p <class 'collections.defaultdict'>\n",
      "../../data/synth_1000_1.25_64.p <class 'collections.defaultdict'>\n",
      "../../data/synth_25000_1.5_64.p <class 'collections.defaultdict'>\n",
      "../../data/synth_5_0.75_64.p <class 'collections.defaultdict'>\n",
      "../../data/synth_b_100_False_64.p <class 'collections.defaultdict'>\n",
      "../../data/synth_10000_False_64.p <class 'collections.defaultdict'>\n",
      "../../data/synth_1000_0.03_64.p <class 'collections.defaultdict'>\n",
      "../../data/synth_10000_0.1_64.p <class 'collections.defaultdict'>\n",
      "../../data/synth_1_1.5_64.p <class 'collections.defaultdict'>\n",
      "../../data/synth_5000_0.5_64.p <class 'collections.defaultdict'>\n",
      "../../data/synth_b_100_0.5_64.p <class 'collections.defaultdict'>\n",
      "../../data/synth_5_1.5_64.p <class 'collections.defaultdict'>\n",
      "../../data/synth_b_100000_False_64.p <class 'collections.defaultdict'>\n",
      "../../data/synth_1_5_64.p <class 'collections.defaultdict'>\n",
      "../../data/synth_b_1_0.7_64.p <class 'collections.defaultdict'>\n",
      "../../data/synth_0_False_64.p <class 'collections.defaultdict'>\n",
      "../../data/synth_b_0_False_64.p <class 'collections.defaultdict'>\n",
      "../../data/synth_b_50000_0.2_64.p <class 'collections.defaultdict'>\n",
      "../../data/synth_5000_0.75_64.p <class 'collections.defaultdict'>\n",
      "../../data/synth_5000_1.25_64.p <class 'collections.defaultdict'>\n",
      "../../data/synth_10000_1.25_64.p <class 'collections.defaultdict'>\n",
      "../../data/synth_b_10_False_64.p <class 'collections.defaultdict'>\n",
      "../../data/synth_b_100_1_64.p <class 'collections.defaultdict'>\n",
      "../../data/synth_10000_3_64.p <class 'collections.defaultdict'>\n",
      "../../data/synth_b_5_0.2_64.p <class 'collections.defaultdict'>\n",
      "../../data/synth_0_3_64.p <class 'collections.defaultdict'>\n",
      "../../data/synth_100_0.5_64.p <class 'collections.defaultdict'>\n",
      "../../data/synth_1000_0.2_64.p <class 'collections.defaultdict'>\n",
      "../../data/synth_1000_1.5_64.p <class 'collections.defaultdict'>\n",
      "../../data/synth_100_0.2_64.p <class 'collections.defaultdict'>\n",
      "../../data/synth_100000_0.07_64.p <class 'collections.defaultdict'>\n",
      "../../data/synth_10000_1.5_64.p <class 'collections.defaultdict'>\n",
      "../../data/synth_b_50000_0.1_64.p <class 'collections.defaultdict'>\n",
      "../../data/synth_5_0.03_64.p <class 'collections.defaultdict'>\n",
      "../../data/synth_5000_0.07_64.p <class 'collections.defaultdict'>\n",
      "../../data/synth_25000_2_64.p <class 'collections.defaultdict'>\n",
      "../../data/synth_b_0_0.5_64.p <class 'collections.defaultdict'>\n",
      "../../data/synth_b_1_0.1_64.p <class 'collections.defaultdict'>\n",
      "../../data/synth_50000_0.03_64.p <class 'collections.defaultdict'>\n"
     ]
    }
   ],
   "source": [
    "infos = []\n",
    "idx_tups = []\n",
    "for file in glob.glob(\"../../data/syn*\"):\n",
    "    infos.append(pickle.load(open(file, 'rb')))\n",
    "    print(file, type(infos[-1]))\n",
    "    var = file.split(\"_\")[-4:]\n",
    "    if var[-4] == 'baseline' or var[-4] == 'b':\n",
    "        var[-4] = 'dp'\n",
    "    else:\n",
    "        var[-4] = 'is'\n",
    "    var[-1] = int(var[-1].split(\".\")[0])\n",
    "    var[-3] = int(var[-3])\n",
    "    var[-2] = float(var[-2]) if var[-2] != 'False' else False\n",
    "    # IDX tups follow the format (epsilon, throw out threshold, batch size)\n",
    "    idx_tups.append(var)"
   ]
  },
  {
   "cell_type": "code",
   "execution_count": 3,
   "metadata": {},
   "outputs": [],
   "source": [
    "inf_scalars = [(*max([(a, yt - yf, mt  - mf) for a, yt, yf, mt, mf in zip(i[0]['acc'], i[0]['yeom_tpr'], i[0]['yeom_fpr'], i[0]['merlin_tpr'], i[0]['merlin_fpr'])]), *i[1]) for i in zip(infos, idx_tups)]\n",
    "ds = pd.DataFrame(inf_scalars)\n",
    "ds.columns = ['acc', 'yeom', 'merlin', 'method', 'epsilon', 'throw out', 'batch_size']\n"
   ]
  },
  {
   "cell_type": "code",
   "execution_count": 7,
   "metadata": {},
   "outputs": [
    {
     "data": {
      "text/plain": [
       "Text(0.5, 1.0, 'Synthetic Classification')"
      ]
     },
     "execution_count": 7,
     "metadata": {},
     "output_type": "execute_result"
    },
    {
     "data": {
      "image/png": "[encoded data removed]",
      "text/plain": [
       "<Figure size 432x288 with 1 Axes>"
      ]
     },
     "metadata": {
      "needs_background": "light"
     },
     "output_type": "display_data"
    }
   ],
   "source": [
    "de = ds[ds['epsilon'] > 0]\n",
    "dp = de[de['method'] == 'dp']\n",
    "dp = dp[dp['throw out'] != False]\n",
    "ls = de[de['method'] == 'is']\n",
    "plt.scatter(dp['acc'], dp['yeom'])\n",
    "plt.scatter(ls['acc'], ls['yeom'])\n",
    "plt.xlabel('Accuracy')\n",
    "plt.ylabel('Yeom Advantage')\n",
    "plt.title('Synthetic Classification')\n"
   ]
  },
  {
   "cell_type": "code",
   "execution_count": 9,
   "metadata": {},
   "outputs": [
    {
     "data": {
      "text/plain": [
       "Text(0.5, 1.0, 'Synthetic Classification')"
      ]
     },
     "execution_count": 9,
     "metadata": {},
     "output_type": "execute_result"
    },
    {
     "data": {
      "image/png": "[encoded data removed]",
      "text/plain": [
       "<Figure size 432x288 with 1 Axes>"
      ]
     },
     "metadata": {
      "needs_background": "light"
     },
     "output_type": "display_data"
    }
   ],
   "source": [
    "de = ds[(ds['epsilon'] > 0) & (ds['acc'] > .5) & ( ds['yeom'] < .3)]\n",
    "dp = de[de['method'] == 'dp']\n",
    "dp = dp[dp['throw out'] != False]\n",
    "ls = de[de['method'] == 'is']\n",
    "plt.scatter(dp['acc'], dp['yeom'])\n",
    "plt.scatter(ls['acc'], ls['yeom'])\n",
    "plt.xlabel('Accuracy')\n",
    "plt.ylabel('Yeom Advantage')\n",
    "plt.title('Synthetic Classification')"
   ]
  },
  {
   "cell_type": "code",
   "execution_count": 5,
   "metadata": {},
   "outputs": [
    {
     "data": {
      "text/html": [
       "<div>\n",
       "<style scoped>\n",
       "    .dataframe tbody tr th:only-of-type {\n",
       "        vertical-align: middle;\n",
       "    }\n",
       "\n",
       "    .dataframe tbody tr th {\n",
       "        vertical-align: top;\n",
       "    }\n",
       "\n",
       "    .dataframe thead th {\n",
       "        text-align: right;\n",
       "    }\n",
       "</style>\n",
       "<table border=\"1\" class=\"dataframe\">\n",
       "  <thead>\n",
       "    <tr style=\"text-align: right;\">\n",
       "      <th></th>\n",
       "      <th>acc</th>\n",
       "      <th>yeom</th>\n",
       "      <th>merlin</th>\n",
       "      <th>method</th>\n",
       "      <th>epsilon</th>\n",
       "      <th>throw out</th>\n",
       "      <th>batch_size</th>\n",
       "    </tr>\n",
       "  </thead>\n",
       "  <tbody>\n",
       "    <tr>\n",
       "      <th>124</th>\n",
       "      <td>0.619792</td>\n",
       "      <td>0.087240</td>\n",
       "      <td>0.451563</td>\n",
       "      <td>is</td>\n",
       "      <td>1000</td>\n",
       "      <td>0.07</td>\n",
       "      <td>64</td>\n",
       "    </tr>\n",
       "    <tr>\n",
       "      <th>152</th>\n",
       "      <td>0.604167</td>\n",
       "      <td>0.071615</td>\n",
       "      <td>0.449219</td>\n",
       "      <td>is</td>\n",
       "      <td>1</td>\n",
       "      <td>1.5</td>\n",
       "      <td>64</td>\n",
       "    </tr>\n",
       "  </tbody>\n",
       "</table>\n",
       "</div>"
      ],
      "text/plain": [
       "          acc      yeom    merlin method  epsilon throw out  batch_size\n",
       "124  0.619792  0.087240  0.451563     is     1000      0.07          64\n",
       "152  0.604167  0.071615  0.449219     is        1       1.5          64"
      ]
     },
     "execution_count": 5,
     "metadata": {},
     "output_type": "execute_result"
    }
   ],
   "source": [
    "ls[(ls['acc'] > .6) & (ls['yeom'] < .1)]"
   ]
  },
  {
   "cell_type": "code",
   "execution_count": 7,
   "metadata": {},
   "outputs": [
    {
     "data": {
      "text/html": [
       "<div>\n",
       "<style scoped>\n",
       "    .dataframe tbody tr th:only-of-type {\n",
       "        vertical-align: middle;\n",
       "    }\n",
       "\n",
       "    .dataframe tbody tr th {\n",
       "        vertical-align: top;\n",
       "    }\n",
       "\n",
       "    .dataframe thead th {\n",
       "        text-align: right;\n",
       "    }\n",
       "</style>\n",
       "<table border=\"1\" class=\"dataframe\">\n",
       "  <thead>\n",
       "    <tr style=\"text-align: right;\">\n",
       "      <th></th>\n",
       "      <th>acc</th>\n",
       "      <th>yeom</th>\n",
       "      <th>merlin</th>\n",
       "      <th>method</th>\n",
       "      <th>epsilon</th>\n",
       "      <th>throw out</th>\n",
       "      <th>batch_size</th>\n",
       "    </tr>\n",
       "  </thead>\n",
       "  <tbody>\n",
       "    <tr>\n",
       "      <th>131</th>\n",
       "      <td>0.651042</td>\n",
       "      <td>0.160156</td>\n",
       "      <td>0.450781</td>\n",
       "      <td>is</td>\n",
       "      <td>50000</td>\n",
       "      <td>1.5</td>\n",
       "      <td>64</td>\n",
       "    </tr>\n",
       "    <tr>\n",
       "      <th>138</th>\n",
       "      <td>0.645833</td>\n",
       "      <td>0.187500</td>\n",
       "      <td>0.450781</td>\n",
       "      <td>is</td>\n",
       "      <td>10</td>\n",
       "      <td>0.5</td>\n",
       "      <td>64</td>\n",
       "    </tr>\n",
       "    <tr>\n",
       "      <th>172</th>\n",
       "      <td>0.635417</td>\n",
       "      <td>0.177083</td>\n",
       "      <td>0.471094</td>\n",
       "      <td>is</td>\n",
       "      <td>1000</td>\n",
       "      <td>1.5</td>\n",
       "      <td>64</td>\n",
       "    </tr>\n",
       "    <tr>\n",
       "      <th>108</th>\n",
       "      <td>0.635417</td>\n",
       "      <td>0.285156</td>\n",
       "      <td>0.450781</td>\n",
       "      <td>is</td>\n",
       "      <td>10000</td>\n",
       "      <td>2</td>\n",
       "      <td>64</td>\n",
       "    </tr>\n",
       "    <tr>\n",
       "      <th>143</th>\n",
       "      <td>0.635417</td>\n",
       "      <td>0.214844</td>\n",
       "      <td>0.450000</td>\n",
       "      <td>is</td>\n",
       "      <td>100</td>\n",
       "      <td>1</td>\n",
       "      <td>64</td>\n",
       "    </tr>\n",
       "    <tr>\n",
       "      <th>...</th>\n",
       "      <td>...</td>\n",
       "      <td>...</td>\n",
       "      <td>...</td>\n",
       "      <td>...</td>\n",
       "      <td>...</td>\n",
       "      <td>...</td>\n",
       "      <td>...</td>\n",
       "    </tr>\n",
       "    <tr>\n",
       "      <th>157</th>\n",
       "      <td>0.447917</td>\n",
       "      <td>0.104167</td>\n",
       "      <td>0.450000</td>\n",
       "      <td>is</td>\n",
       "      <td>1</td>\n",
       "      <td>5</td>\n",
       "      <td>64</td>\n",
       "    </tr>\n",
       "    <tr>\n",
       "      <th>66</th>\n",
       "      <td>0.442708</td>\n",
       "      <td>0.061198</td>\n",
       "      <td>0.480469</td>\n",
       "      <td>is</td>\n",
       "      <td>10000</td>\n",
       "      <td>0.03</td>\n",
       "      <td>64</td>\n",
       "    </tr>\n",
       "    <tr>\n",
       "      <th>35</th>\n",
       "      <td>0.427083</td>\n",
       "      <td>0.072917</td>\n",
       "      <td>0.450000</td>\n",
       "      <td>is</td>\n",
       "      <td>1</td>\n",
       "      <td>0.03</td>\n",
       "      <td>64</td>\n",
       "    </tr>\n",
       "    <tr>\n",
       "      <th>126</th>\n",
       "      <td>0.421875</td>\n",
       "      <td>0.097656</td>\n",
       "      <td>0.000000</td>\n",
       "      <td>is</td>\n",
       "      <td>5</td>\n",
       "      <td>0.5</td>\n",
       "      <td>64</td>\n",
       "    </tr>\n",
       "    <tr>\n",
       "      <th>73</th>\n",
       "      <td>0.385417</td>\n",
       "      <td>0.018229</td>\n",
       "      <td>0.450000</td>\n",
       "      <td>is</td>\n",
       "      <td>10</td>\n",
       "      <td>0.07</td>\n",
       "      <td>64</td>\n",
       "    </tr>\n",
       "  </tbody>\n",
       "</table>\n",
       "<p>65 rows × 7 columns</p>\n",
       "</div>"
      ],
      "text/plain": [
       "          acc      yeom    merlin method  epsilon throw out  batch_size\n",
       "131  0.651042  0.160156  0.450781     is    50000       1.5          64\n",
       "138  0.645833  0.187500  0.450781     is       10       0.5          64\n",
       "172  0.635417  0.177083  0.471094     is     1000       1.5          64\n",
       "108  0.635417  0.285156  0.450781     is    10000         2          64\n",
       "143  0.635417  0.214844  0.450000     is      100         1          64\n",
       "..        ...       ...       ...    ...      ...       ...         ...\n",
       "157  0.447917  0.104167  0.450000     is        1         5          64\n",
       "66   0.442708  0.061198  0.480469     is    10000      0.03          64\n",
       "35   0.427083  0.072917  0.450000     is        1      0.03          64\n",
       "126  0.421875  0.097656  0.000000     is        5       0.5          64\n",
       "73   0.385417  0.018229  0.450000     is       10      0.07          64\n",
       "\n",
       "[65 rows x 7 columns]"
      ]
     },
     "execution_count": 7,
     "metadata": {},
     "output_type": "execute_result"
    }
   ],
   "source": [
    "ls[ls['yeom'] < .3].sort_values(['acc'], ascending=False)"
   ]
  },
  {
   "cell_type": "code",
   "execution_count": 22,
   "metadata": {},
   "outputs": [
    {
     "data": {
      "text/plain": [
       "Text(0.5, 1.0, 'synthetic classification')"
      ]
     },
     "execution_count": 22,
     "metadata": {},
     "output_type": "execute_result"
    },
    {
     "data": {
      "image/png": "[encoded data removed]",
      "text/plain": [
       "<Figure size 432x288 with 1 Axes>"
      ]
     },
     "metadata": {
      "needs_background": "light"
     },
     "output_type": "display_data"
    }
   ],
   "source": [
    "\n",
    "plt.scatter(ls['acc'], (ls['throw out'] * np.log(ls['epsilon'])))\n",
    "plt.xlabel('accuracy')\n",
    "plt.yscale('log')\n",
    "plt.ylabel('yeom advantage')\n",
    "plt.title('synthetic classification')"
   ]
  },
  {
   "cell_type": "code",
   "execution_count": 21,
   "metadata": {},
   "outputs": [
    {
     "data": {
      "text/plain": [
       "2        6.90776\n",
       "5       0.138155\n",
       "6              0\n",
       "7       0.644724\n",
       "8              0\n",
       "         ...    \n",
       "175      13.8155\n",
       "177    0.0482831\n",
       "178     0.596204\n",
       "179      20.2533\n",
       "182     0.324593\n",
       "Length: 113, dtype: object"
      ]
     },
     "execution_count": 21,
     "metadata": {},
     "output_type": "execute_result"
    }
   ],
   "source": [
    "(ls['throw out'] * np.log(ls['epsilon']))"
   ]
  },
  {
   "cell_type": "code",
   "execution_count": null,
   "metadata": {},
   "outputs": [],
   "source": []
  }
 ],
 "metadata": {
  "kernelspec": {
   "display_name": "Python 3",
   "language": "python",
   "name": "python3"
  },
  "language_info": {
   "codemirror_mode": {
    "name": "ipython",
    "version": 3
   },
   "file_extension": ".py",
   "mimetype": "text/x-python",
   "name": "python",
   "nbconvert_exporter": "python",
   "pygments_lexer": "ipython3",
   "version": "3.7.6"
  }
 },
 "nbformat": 4,
 "nbformat_minor": 4
}
