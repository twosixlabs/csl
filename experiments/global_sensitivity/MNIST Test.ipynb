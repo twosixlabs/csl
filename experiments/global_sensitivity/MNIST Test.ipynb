{
 "cells": [
  {
   "cell_type": "code",
   "execution_count": 2,
   "id": "16cdd3ab",
   "metadata": {},
   "outputs": [],
   "source": [
    "from __future__ import print_function\n",
    "import argparse\n",
    "import torch\n",
    "import torch.nn as nn\n",
    "import torch.nn.functional as F\n",
    "import torch.optim as optim\n",
    "from torchvision import datasets, transforms\n",
    "from torch.optim.lr_scheduler import StepLR\n",
    "\n"
   ]
  },
  {
   "cell_type": "code",
   "execution_count": 28,
   "id": "43f96c44",
   "metadata": {},
   "outputs": [],
   "source": [
    "class Net(nn.Module):\n",
    "    def __init__(self):\n",
    "        super(Net, self).__init__()\n",
    "        self.conv1 = nn.Conv2d(1, 32, 3, 1)\n",
    "        self.conv2 = nn.Conv2d(32, 64, 3, 1)\n",
    "        self.dropout1 = nn.Dropout(0.25)\n",
    "        self.dropout2 = nn.Dropout(0.5)\n",
    "        self.fc1 = nn.Linear(9216, 128)\n",
    "        self.fc2 = nn.Linear(128, 10)\n",
    "        \n",
    "        for x in [\n",
    "            self.conv1,\n",
    "            self.conv2,\n",
    "            self.fc1,\n",
    "            self.fc2,\n",
    "        ]:\n",
    "            x.register_backward_hook(clamp_grad)\n",
    "            x.register_forward_pre_hook(clamp_input)\n",
    "\n",
    "    def forward(self, x):\n",
    "        x = self.conv1(x)\n",
    "        x = F.relu(x)\n",
    "        x = self.conv2(x)\n",
    "        x = F.relu(x)\n",
    "        x = F.max_pool2d(x, 2)\n",
    "        x = self.dropout1(x)\n",
    "        x = torch.flatten(x, 1)\n",
    "        x = self.fc1(x)\n",
    "        x = F.relu(x)\n",
    "        x = self.dropout2(x)\n",
    "        x = self.fc2(x)\n",
    "        output = F.log_softmax(x, dim=1)\n",
    "        return output"
   ]
  },
  {
   "cell_type": "code",
   "execution_count": 133,
   "id": "deff3f77",
   "metadata": {},
   "outputs": [],
   "source": [
    "UPSTREAM_GRAD_BOUND = 0.001\n",
    "INPUT_BOUND = 5.\n",
    "BATCH_SIZE=256"
   ]
  },
  {
   "cell_type": "code",
   "execution_count": 134,
   "id": "ba6b5502",
   "metadata": {},
   "outputs": [],
   "source": [
    "def clamp_grad(self, grad_input, grad_output):\n",
    "#     if grad_input[0] != None:\n",
    "#         print('max:', grad_input[0].abs().max(), 'mean:', grad_input[0].abs().mean())\n",
    "\n",
    "    return tuple([None if x == None else x.clamp(-UPSTREAM_GRAD_BOUND, UPSTREAM_GRAD_BOUND) for x in grad_input])"
   ]
  },
  {
   "cell_type": "code",
   "execution_count": 135,
   "id": "2a3122cd",
   "metadata": {},
   "outputs": [],
   "source": [
    "def clamp_input(self, input):\n",
    "    #print('max:', input[0].abs().max(), 'mean:', input[0].abs().mean())\n",
    "    return tuple([x.clamp(-INPUT_BOUND, INPUT_BOUND) for x in input])"
   ]
  },
  {
   "cell_type": "code",
   "execution_count": 136,
   "id": "93089435",
   "metadata": {},
   "outputs": [],
   "source": [
    "def train(model, train_loader, optimizer, epoch):\n",
    "    total_rho = 0\n",
    "    model.train()\n",
    "    for batch_idx, (data, target) in enumerate(train_loader):\n",
    "        data, target = data, target\n",
    "        optimizer.zero_grad()\n",
    "        output = model(data)\n",
    "        loss = F.nll_loss(output, target)\n",
    "        loss.backward()\n",
    "        \n",
    "        #total_rho += add_noise(model)\n",
    "        \n",
    "        optimizer.step()\n",
    "        if batch_idx % 50 == 0:\n",
    "            print('Train Epoch: {} [{}/{} ({:.0f}%)]\\tLoss: {:.6f}\\tRho: {:.6f}'.format(\n",
    "                epoch, batch_idx * len(data), len(train_loader.dataset),\n",
    "                100. * batch_idx / len(train_loader), loss.item(), total_rho))\n",
    "    print('Final rho:', total_rho)"
   ]
  },
  {
   "cell_type": "code",
   "execution_count": 137,
   "id": "03473fa0",
   "metadata": {},
   "outputs": [],
   "source": [
    "def add_noise(model):\n",
    "    rho_i = 0.0001\n",
    "    total_rho = 0\n",
    "\n",
    "    for p in model.parameters():\n",
    "        print(p.shape)\n",
    "        output_len, input_len = p.shape\n",
    "        fake_inputs = torch.full((1, input_len), INPUT_BOUND)\n",
    "        fake_upstream_grad = torch.full((1, output_len), UPSTREAM_GRAD_BOUND)\n",
    "        fake_grad = fake_inputs.T @ fake_upstream_grad\n",
    "        grad_bound = fake_grad.flatten().norm(p=2)\n",
    "        \n",
    "        sensitivity = grad_bound / BATCH_SIZE\n",
    "        sigma = np.sqrt(sensitivity**2 / (2*rho_i))\n",
    "        \n",
    "        with torch.no_grad():\n",
    "            p.grad += sigma*torch.randn(p.shape)\n",
    "        total_rho += rho_i\n",
    "\n",
    "    return total_rho"
   ]
  },
  {
   "cell_type": "code",
   "execution_count": 138,
   "id": "b09824f7",
   "metadata": {},
   "outputs": [],
   "source": [
    "def test(model, test_loader):\n",
    "    model.eval()\n",
    "    test_loss = 0\n",
    "    correct = 0\n",
    "    with torch.no_grad():\n",
    "        for data, target in test_loader:\n",
    "            data, target = data, target\n",
    "            output = model(data)\n",
    "            test_loss += F.nll_loss(output, target, reduction='sum').item()  # sum up batch loss\n",
    "            pred = output.argmax(dim=1, keepdim=True)  # get the index of the max log-probability\n",
    "            correct += pred.eq(target.view_as(pred)).sum().item()\n",
    "\n",
    "    test_loss /= len(test_loader.dataset)\n",
    "\n",
    "    print('\\nTest set: Average loss: {:.4f}, Accuracy: {}/{} ({:.0f}%)\\n'.format(\n",
    "        test_loss, correct, len(test_loader.dataset),\n",
    "        100. * correct / len(test_loader.dataset)))"
   ]
  },
  {
   "cell_type": "code",
   "execution_count": 139,
   "id": "077b3da0",
   "metadata": {},
   "outputs": [],
   "source": [
    "transform=transforms.Compose([\n",
    "    transforms.ToTensor(),\n",
    "    transforms.Normalize((0.1307,), (0.3081,))\n",
    "    ])\n",
    "\n",
    "dataset1 = datasets.MNIST('data', train=True, download=True,\n",
    "                   transform=transform)\n",
    "dataset2 = datasets.MNIST('data', train=False,\n",
    "                   transform=transform)\n",
    "\n",
    "train_loader = torch.utils.data.DataLoader(dataset1, batch_size=BATCH_SIZE)\n",
    "test_loader = torch.utils.data.DataLoader(dataset2, batch_size=BATCH_SIZE)\n",
    "\n",
    "model = Net()\n",
    "optimizer = optim.Adadelta(model.parameters())#, lr=args.lr)"
   ]
  },
  {
   "cell_type": "code",
   "execution_count": 140,
   "id": "47af94e2",
   "metadata": {},
   "outputs": [
    {
     "name": "stdout",
     "output_type": "stream",
     "text": [
      "Train Epoch: 1 [0/60000 (0%)]\tLoss: 2.299549\tRho: 0.000000\n",
      "Train Epoch: 1 [12800/60000 (21%)]\tLoss: 0.367003\tRho: 0.000000\n",
      "Train Epoch: 1 [25600/60000 (43%)]\tLoss: 0.205521\tRho: 0.000000\n",
      "Train Epoch: 1 [38400/60000 (64%)]\tLoss: 0.184803\tRho: 0.000000\n",
      "Train Epoch: 1 [51200/60000 (85%)]\tLoss: 0.126595\tRho: 0.000000\n",
      "Final rho: 0\n",
      "\n",
      "Test set: Average loss: 0.0626, Accuracy: 9800/10000 (98%)\n",
      "\n"
     ]
    }
   ],
   "source": [
    "scheduler = StepLR(optimizer, step_size=1)#, gamma=args.gamma)\n",
    "for epoch in range(1, 2):\n",
    "    train(model, train_loader, optimizer, epoch)\n",
    "    test(model, test_loader)\n",
    "    scheduler.step()"
   ]
  },
  {
   "cell_type": "code",
   "execution_count": 122,
   "id": "7f69ad71",
   "metadata": {},
   "outputs": [
    {
     "data": {
      "text/plain": [
       "torch.Size([32, 1, 3, 3])"
      ]
     },
     "execution_count": 122,
     "metadata": {},
     "output_type": "execute_result"
    }
   ],
   "source": [
    "t = nn.Conv2d(1, 32, 3, 1)\n",
    "t(torch.ones((1, 1, 28, 28))).shape\n",
    "t.weight.shape"
   ]
  },
  {
   "cell_type": "code",
   "execution_count": null,
   "id": "a6396aab",
   "metadata": {},
   "outputs": [],
   "source": []
  }
 ],
 "metadata": {
  "kernelspec": {
   "display_name": "Python 3 (ipykernel)",
   "language": "python",
   "name": "python3"
  },
  "language_info": {
   "codemirror_mode": {
    "name": "ipython",
    "version": 3
   },
   "file_extension": ".py",
   "mimetype": "text/x-python",
   "name": "python",
   "nbconvert_exporter": "python",
   "pygments_lexer": "ipython3",
   "version": "3.8.12"
  }
 },
 "nbformat": 4,
 "nbformat_minor": 5
}
