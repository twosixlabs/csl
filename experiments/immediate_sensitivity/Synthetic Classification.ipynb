{
 "cells": [
  {
   "cell_type": "code",
   "execution_count": 337,
   "metadata": {},
   "outputs": [
    {
     "name": "stdout",
     "output_type": "stream",
     "text": [
      "1.6.0\n"
     ]
    }
   ],
   "source": [
    "import matplotlib.pyplot as plt\n",
    "import matplotlib.cm as cm\n",
    "import numpy as np\n",
    "from sklearn.datasets import make_classification\n",
    "import pandas as pd\n",
    "import seaborn as sns\n",
    "import torch\n",
    "import torch.nn as nn\n",
    "import torch.optim as optim\n",
    "from torch.autograd import Variable\n",
    "from IPython import display\n",
    "from sklearn import metrics\n",
    "from sklearn.model_selection import train_test_split\n",
    "from sklearn.preprocessing import StandardScaler\n",
    "from sklearn.utils.class_weight import compute_class_weight\n",
    "from torch.utils.data import TensorDataset\n",
    "from torch.utils.data import DataLoader\n",
    "from collections import defaultdict\n",
    "\n",
    "import sklearn.datasets\n",
    "\n",
    "torch.manual_seed(1)\n",
    "np.random.seed(7)\n",
    "sns.set(style=\"white\", palette=\"muted\", color_codes=True, context=\"talk\")\n",
    "\n",
    "%matplotlib inline\n",
    "print(torch.__version__) "
   ]
  },
  {
   "cell_type": "code",
   "execution_count": 378,
   "metadata": {},
   "outputs": [],
   "source": [
    "n_classes = 100\n",
    "\n",
    "X, y = sklearn.datasets.make_classification(n_samples=10000,\n",
    "                                            n_features=200,\n",
    "                                            n_informative=100,\n",
    "                                            n_redundant=50,\n",
    "                                            n_repeated=0,\n",
    "                                            class_sep=2.0,\n",
    "                                            n_classes=n_classes)\n",
    "\n",
    "n_features = X.shape[1]"
   ]
  },
  {
   "cell_type": "code",
   "execution_count": 379,
   "metadata": {},
   "outputs": [
    {
     "name": "stdout",
     "output_type": "stream",
     "text": [
      "len train: 8000\n",
      "len test: 2000\n"
     ]
    }
   ],
   "source": [
    "(X_train, X_test, y_train, y_test) = train_test_split(X, y, test_size=0.2, random_state=7)\n",
    "print('len train:', len(X_train))\n",
    "print('len test:', len(X_test))"
   ]
  },
  {
   "cell_type": "code",
   "execution_count": 380,
   "metadata": {},
   "outputs": [],
   "source": [
    "BATCH_SIZE = 32\n",
    "\n",
    "training_dataset = TensorDataset(torch.from_numpy(X_train).float(), \n",
    "                                 torch.from_numpy(y_train).long())\n",
    "train_loader = DataLoader(training_dataset, batch_size=BATCH_SIZE, shuffle=True, drop_last=True)\n",
    "\n",
    "testing_dataset = TensorDataset(torch.from_numpy(X_test).float(), \n",
    "                                torch.from_numpy(y_test).long())\n",
    "test_loader = DataLoader(testing_dataset, batch_size=BATCH_SIZE, shuffle=True, drop_last=True)"
   ]
  },
  {
   "cell_type": "code",
   "execution_count": 381,
   "metadata": {},
   "outputs": [],
   "source": [
    "class Classifier(nn.Module):\n",
    "    def __init__(self, n_features, n_hidden=128):\n",
    "        super(Classifier, self).__init__()\n",
    "        self.network = nn.Sequential(\n",
    "            nn.Linear(n_features, n_hidden),\n",
    "            nn.ReLU(),\n",
    "            nn.Linear(n_hidden, n_hidden),\n",
    "            nn.ReLU(),\n",
    "#             nn.Linear(n_hidden, n_hidden),\n",
    "#             nn.ReLU(),\n",
    "            nn.Linear(n_hidden, n_classes),\n",
    "            nn.LogSoftmax()\n",
    "        )\n",
    "\n",
    "    def forward(self, x):\n",
    "        return self.network(x)"
   ]
  },
  {
   "cell_type": "code",
   "execution_count": 382,
   "metadata": {},
   "outputs": [],
   "source": [
    "def grad_immediate_sensitivity(model, criterion, inputs, labels, epoch):\n",
    "    inp = Variable(inputs, requires_grad=True)\n",
    "    \n",
    "    outputs = model.forward(inp)\n",
    "#     print('outputs', outputs)\n",
    "#     print('labels', labels)\n",
    "    loss = criterion(torch.squeeze(outputs), labels)\n",
    "#     print(loss)\n",
    "    \n",
    "    # (1) first-order gradient (wrt parameters)\n",
    "    first_order_grads = torch.autograd.grad(loss, model.parameters(), retain_graph=True, create_graph=True)\n",
    "    \n",
    "    # (2) L2 norm of the gradient from (1)\n",
    "    grad_l2_norm = torch.norm(torch.cat([x.view(-1) for x in first_order_grads]), p = 2)\n",
    "    \n",
    "    # (3) Gradient (wrt inputs) of the L2 norm of the gradient from (2)\n",
    "    sensitivity_vec = torch.autograd.grad(grad_l2_norm, inp, retain_graph=True)[0]\n",
    "    \n",
    "    # (4) L2 norm of (3) - \"immediate sensitivity\"\n",
    "    s = [torch.norm(v, p=2).numpy().item() for v in sensitivity_vec]\n",
    "\n",
    "    loss.backward()\n",
    "    return loss, s"
   ]
  },
  {
   "cell_type": "code",
   "execution_count": null,
   "metadata": {},
   "outputs": [],
   "source": []
  },
  {
   "cell_type": "code",
   "execution_count": 383,
   "metadata": {},
   "outputs": [],
   "source": [
    "def gaussian_pdf(sd, x):\n",
    "    if sd <= 0:\n",
    "        raise ValueError('standard deviation must be positive but is {}'.format(sd))\n",
    "    else: #sd > 0\n",
    "        return np.e ** (-0.5*(x/sd)**2) / sd\n",
    "\n",
    "\n",
    "def membership_inf(model, avg_train_loss, inputs, labels):\n",
    "    inp = Variable(inputs, requires_grad=True)\n",
    "    \n",
    "    outputs = model.forward(inp)\n",
    "    loss = nn.NLLLoss(reduction='none')(torch.squeeze(outputs), labels)\n",
    "    pass_inf = [1 if abs(l) < avg_train_loss else 0 for l in loss]\n",
    "    \n",
    "    return pass_inf, [float(l) for l in loss]"
   ]
  },
  {
   "cell_type": "code",
   "execution_count": 384,
   "metadata": {},
   "outputs": [],
   "source": [
    "def run_membership_inference_attack(model, avg_train_l, X_target, y_target):\n",
    "    _, sensitivities = grad_immediate_sensitivity(model, \n",
    "                                                      nn.NLLLoss(), \n",
    "                                                      torch.from_numpy(X_target).float(), \n",
    "                                                      torch.from_numpy(y_target).long(), \n",
    "                                                      None)\n",
    "    max_sen = max(sensitivities)\n",
    "    norm_sen = [s/max_sen for s in sensitivities]\n",
    "    min_exp = min([np.log(s) for s in sensitivities if s != 0])\n",
    "    log_sen = [np.log(s) if s !=0 else min_exp - 1 for s in sensitivities]\n",
    "    paws = [s - (min_exp - 1) for s in log_sen]\n",
    "\n",
    "    pass_inf, train_loss = membership_inf(model, \n",
    "                                          avg_train_l, \n",
    "                                          torch.from_numpy(X_target).float(), \n",
    "                                          torch.from_numpy(y_target).long())\n",
    "    #plt.scatter(paws, pass_inf)\n",
    "    #print('positive ratio:',sum(pass_inf)/len(pass_inf))\n",
    "    return sum(pass_inf)/len(pass_inf)"
   ]
  },
  {
   "cell_type": "code",
   "execution_count": null,
   "metadata": {},
   "outputs": [],
   "source": []
  },
  {
   "cell_type": "code",
   "execution_count": 385,
   "metadata": {},
   "outputs": [],
   "source": [
    "def run_experiment(epsilon, epochs, add_noise=False):\n",
    "    # reset the model\n",
    "    model = Classifier(n_features=n_features)\n",
    "    model_criterion = nn.NLLLoss() \n",
    "    model_optimizer = optim.Adam(model.parameters(),lr=0.001)\n",
    "    alpha = 25\n",
    "    epsilon_iter = epsilon / epochs\n",
    "\n",
    "    info = defaultdict(lambda: [])\n",
    "    train_accs = []\n",
    "    test_accs = []\n",
    "    advs = []\n",
    "    \n",
    "    local_X_train = torch.from_numpy(X_train).float()\n",
    "    local_X_test = torch.from_numpy(X_test).float()\n",
    "    local_y_train = torch.from_numpy(y_train).long()\n",
    "    local_y_test = torch.from_numpy(y_test).long()\n",
    "    \n",
    "    for epoch in range(epochs):\n",
    "        for x_batch_train, y_batch_train in train_loader:\n",
    "            model_optimizer.zero_grad()\n",
    "            loss, batch_sensitivities = grad_immediate_sensitivity(model, model_criterion, x_batch_train, y_batch_train,epoch)\n",
    "            batch_sensitivity = np.max(batch_sensitivities) / BATCH_SIZE\n",
    "\n",
    "            sigma = np.sqrt((batch_sensitivity**2 * alpha) / (2 * epsilon_iter))\n",
    "\n",
    "            if add_noise:\n",
    "                with torch.no_grad():\n",
    "                    for p in model.parameters():\n",
    "                        p.grad += (sigma * torch.randn(1).float())\n",
    "\n",
    "            model_optimizer.step()\n",
    "\n",
    "        lossfn = model_criterion\n",
    "        avg_train_l = lossfn(torch.squeeze(model.forward(local_X_train)), local_y_train)\n",
    "        avg_test_l = lossfn(torch.squeeze(model.forward(local_X_test)), local_y_test)\n",
    "        \n",
    "        tpr = run_membership_inference_attack(model, avg_train_l, X_train, y_train)\n",
    "        fpr = run_membership_inference_attack(model, avg_train_l, X_test, y_test)\n",
    "        adv = tpr-fpr\n",
    "\n",
    "        info['train_l'].append(avg_train_l.item())\n",
    "        info['test_l'].append(avg_test_l.item())\n",
    "        info['adv'].append(adv)\n",
    "        \n",
    "        if epoch % 10 == 0:\n",
    "            print(f'Epoch {epoch}: train loss {avg_train_l}, test loss {avg_test_l}, adv {adv}')\n",
    "\n",
    "    return info, model"
   ]
  },
  {
   "cell_type": "code",
   "execution_count": 391,
   "metadata": {},
   "outputs": [
    {
     "name": "stdout",
     "output_type": "stream",
     "text": [
      "Epoch 0: train loss 3.808565855026245, test loss 4.309018611907959, adv 0.18412499999999998\n",
      "Epoch 10: train loss 0.35211360454559326, test loss 5.523171424865723, adv 0.618625\n",
      "Epoch 20: train loss 0.18572363257408142, test loss 8.843608856201172, adv 0.7206250000000001\n",
      "Epoch 30: train loss 0.11147620528936386, test loss 11.3535795211792, adv 0.7495\n",
      "Epoch 40: train loss 0.19346505403518677, test loss 13.992877960205078, adv 0.730375\n"
     ]
    }
   ],
   "source": [
    "info, model = run_experiment(1.0, 50, add_noise=False)"
   ]
  },
  {
   "cell_type": "code",
   "execution_count": 392,
   "metadata": {},
   "outputs": [
    {
     "data": {
      "text/plain": [
       "0.21"
      ]
     },
     "execution_count": 392,
     "metadata": {},
     "output_type": "execute_result"
    }
   ],
   "source": [
    "def accuracy(model, X, y):\n",
    "    Xt = torch.from_numpy(X).float()\n",
    "    yt = torch.from_numpy(y).long()\n",
    "    outputs = model(Xt)\n",
    "    values, indices = outputs.max(dim=1)\n",
    "    y_hat = indices.detach().numpy()\n",
    "    accuracy = np.sum(y_hat == y) / len(y)\n",
    "    return accuracy\n",
    "\n",
    "accuracy(model, X_test, y_test)"
   ]
  },
  {
   "cell_type": "code",
   "execution_count": 393,
   "metadata": {},
   "outputs": [
    {
     "name": "stdout",
     "output_type": "stream",
     "text": [
      "average train loss: tensor(0.1413, grad_fn=<NllLossBackward>)\n",
      "average test loss: tensor(15.3300, grad_fn=<NllLossBackward>)\n"
     ]
    }
   ],
   "source": [
    "lossfn = nn.NLLLoss()\n",
    "\n",
    "avg_train_l = lossfn(torch.squeeze(model.forward(torch.from_numpy(X_train).float())),\n",
    "                    torch.from_numpy(y_train).long())\n",
    "\n",
    "avg_test_l = lossfn(torch.squeeze(model.forward(torch.from_numpy(X_test).float())),\n",
    "                    torch.from_numpy(y_test).long())\n",
    "\n",
    "print('average train loss:', avg_train_l)\n",
    "print('average test loss:', avg_test_l)"
   ]
  },
  {
   "cell_type": "code",
   "execution_count": 394,
   "metadata": {},
   "outputs": [
    {
     "name": "stdout",
     "output_type": "stream",
     "text": [
      "Adv: 0.7485\n"
     ]
    }
   ],
   "source": [
    "tpr = run_membership_inference_attack(model, avg_train_l, X_train, y_train)\n",
    "fpr = run_membership_inference_attack(model, avg_train_l, X_test, y_test)\n",
    "print('Adv:', tpr - fpr)"
   ]
  },
  {
   "cell_type": "code",
   "execution_count": 395,
   "metadata": {},
   "outputs": [
    {
     "data": {
      "image/png": "[encoded data removed]",
      "text/plain": [
       "<Figure size 432x288 with 2 Axes>"
      ]
     },
     "metadata": {
      "needs_background": "light"
     },
     "output_type": "display_data"
    }
   ],
   "source": [
    "plt.figure()\n",
    "\n",
    "ax1 = plt.gca()\n",
    "ax1.plot(info['train_l'], color='b', label='Training Loss')\n",
    "ax1.plot(info['test_l'], color='r', label='Test Loss')\n",
    "ax1.legend(loc='center right')\n",
    "ax1.set_ylabel('Loss', color='b')\n",
    "\n",
    "ax2 = ax1.twinx()\n",
    "ax2.plot(info['adv'], color='g')\n",
    "ax2.set_ylabel('Membership Inference Adv', color='g')\n",
    "\n",
    "#fig.tight_layout()\n",
    "ax1.set_xlabel('Epoch')\n",
    "plt.show() "
   ]
  },
  {
   "cell_type": "code",
   "execution_count": null,
   "metadata": {},
   "outputs": [],
   "source": []
  }
 ],
 "metadata": {
  "kernelspec": {
   "display_name": "Python 3",
   "language": "python",
   "name": "python3"
  },
  "language_info": {
   "codemirror_mode": {
    "name": "ipython",
    "version": 3
   },
   "file_extension": ".py",
   "mimetype": "text/x-python",
   "name": "python",
   "nbconvert_exporter": "python",
   "pygments_lexer": "ipython3",
   "version": "3.6.10"
  }
 },
 "nbformat": 4,
 "nbformat_minor": 4
}
