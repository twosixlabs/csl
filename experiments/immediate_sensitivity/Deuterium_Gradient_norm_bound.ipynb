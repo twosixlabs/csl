{
 "cells": [
  {
   "cell_type": "markdown",
   "id": "265391f1",
   "metadata": {},
   "source": [
    "# Use Deuterium to bound the Gradient Norm"
   ]
  },
  {
   "cell_type": "code",
   "execution_count": 21,
   "id": "0578d7a9-e41b-48c6-aafd-d76b02f79e7c",
   "metadata": {},
   "outputs": [],
   "source": [
    "import matplotlib.pyplot as plt\n",
    "import seaborn as sns\n",
    "import numpy as np\n",
    "from deuterium import Variable, to_vec, random_symbols, get_gradients\n",
    "from sympy import sympify\n",
    "from scipy.optimize import shgo\n",
    "\n",
    "\n",
    "import symengine as se\n",
    "from sklearn.metrics import accuracy_score\n",
    "import sys\n",
    "sys.setrecursionlimit(1_000_000)\n",
    "import warnings\n",
    "warnings.filterwarnings(\"ignore\")"
   ]
  },
  {
   "cell_type": "markdown",
   "id": "3a5bf6a8",
   "metadata": {},
   "source": [
    "Define some utility functions, notably the loss functions and tempered sigmoid activation functions."
   ]
  },
  {
   "cell_type": "code",
   "execution_count": 22,
   "id": "e2bb4db8",
   "metadata": {},
   "outputs": [],
   "source": [
    "to_data = np.vectorize(lambda x: x.data)\n",
    "\n",
    "def sigmoid(x, s=1, T=1, o=0):\n",
    "        return (s/(1+np.exp(-T*x)))-o\n",
    "\n",
    "def tanh(x):\n",
    "    return sigmoid(x, 2, 2, 1)\n",
    "\n",
    "bce_loss = lambda y_pred, y_true: -np.mean(np.multiply(y_true, np.log(y_pred)) + np.multiply((1 - y_true), np.log(1 - y_pred)))\n",
    "normalize = lambda x: (x-x.min())/(x.max()-x.min())\n",
    "\n",
    "mse_loss = lambda y_pred, y_true: 1"
   ]
  },
  {
   "cell_type": "markdown",
   "id": "257e70aa",
   "metadata": {},
   "source": [
    "Define the network architecture"
   ]
  },
  {
   "cell_type": "code",
   "execution_count": 139,
   "id": "a2204290-0606-4cbc-be65-a411b7b0f297",
   "metadata": {},
   "outputs": [],
   "source": [
    "IN=100\n",
    "INTERMEDIATE=100"
   ]
  },
  {
   "cell_type": "code",
   "execution_count": 140,
   "id": "12062985-1289-4617-95e4-b31b8b5e1e41",
   "metadata": {},
   "outputs": [],
   "source": [
    "# This creates symbolic representations for all the layers\n",
    "x = to_vec(np.array(random_symbols(IN, \"x\")).reshape((1,IN))) \n",
    "y = to_vec(np.array(random_symbols(1, \"y\")))\n",
    "\n",
    "w1 = to_vec(np.array(random_symbols(IN*INTERMEDIATE, \"w1\")).reshape(IN, INTERMEDIATE))\n",
    "b = to_vec(np.array(random_symbols(INTERMEDIATE, \"b\")).reshape(1, INTERMEDIATE))\n",
    "w2 = to_vec(np.array(random_symbols(INTERMEDIATE, \"w2\")).reshape(INTERMEDIATE,1))"
   ]
  },
  {
   "cell_type": "code",
   "execution_count": 141,
   "id": "5ddbd573",
   "metadata": {},
   "outputs": [],
   "source": [
    "# This replaces some of the variables with *values*\n",
    "# w1 (weights layer 1)\n",
    "# w2 (weights layer 2)\n",
    "# b (bias terms)\n",
    "# y (label)\n",
    "\n",
    "w1 = to_vec(np.random.normal(size=IN*INTERMEDIATE).reshape(IN, INTERMEDIATE))\n",
    "b = to_vec(np.random.normal(size=INTERMEDIATE).reshape(1, INTERMEDIATE))\n",
    "w2 = to_vec(np.random.normal(size=INTERMEDIATE).reshape(INTERMEDIATE,1))\n",
    "y = to_vec(np.array(1))\n"
   ]
  },
  {
   "cell_type": "markdown",
   "id": "fed8e79c",
   "metadata": {},
   "source": [
    "Symbolically calculate the network output"
   ]
  },
  {
   "cell_type": "code",
   "execution_count": 142,
   "id": "8ca12457-4d87-406e-bcb7-702b8f1d9f8d",
   "metadata": {},
   "outputs": [],
   "source": [
    "layer_1 = (x@w1)+b\n",
    "y_pred = (layer_1@w2)\n",
    "loss = bce_loss(y_pred, y)"
   ]
  },
  {
   "cell_type": "markdown",
   "id": "875cd7fc",
   "metadata": {},
   "source": [
    "Obtain the gradients w.r.t all inputs"
   ]
  },
  {
   "cell_type": "code",
   "execution_count": 143,
   "id": "57520b42-d718-4676-a870-3113e7e9320c",
   "metadata": {},
   "outputs": [],
   "source": [
    "loss.backward()"
   ]
  },
  {
   "cell_type": "code",
   "execution_count": 144,
   "id": "611de348-7329-40d1-8c67-847dcc8b3f1e",
   "metadata": {},
   "outputs": [],
   "source": [
    "x_grad = np.array([i.grad for i in x.flatten().tolist()])\n",
    "y_grad = np.array([i.grad for i in y.flatten().tolist()])\n",
    "w1_grad = np.array([i.grad for i in w1.flatten().tolist()])\n",
    "b_grad = np.array([i.grad for i in b.flatten().tolist()])\n",
    "w2_grad = np.array([i.grad for i in w2.flatten().tolist()])\n",
    "\n",
    "full_grad = to_vec(np.concatenate((x_grad, y_grad, w1_grad, b_grad, w2_grad)))\n"
   ]
  },
  {
   "cell_type": "code",
   "execution_count": 145,
   "id": "396489c2",
   "metadata": {},
   "outputs": [
    {
     "data": {
      "text/plain": [
       "10200"
      ]
     },
     "execution_count": 145,
     "metadata": {},
     "output_type": "execute_result"
    }
   ],
   "source": [
    "# the gradient we care about is just wrt the weights\n",
    "\n",
    "my_grad = to_vec(np.concatenate((w1_grad, b_grad, w2_grad)))\n",
    "len(my_grad)\n",
    "#sympify(my_grad)"
   ]
  },
  {
   "cell_type": "code",
   "execution_count": 146,
   "id": "a1b5920e",
   "metadata": {},
   "outputs": [],
   "source": [
    "import symengine.lib.symengine_wrapper as sew\n",
    "\n",
    "def op(e, depth):\n",
    "    if isinstance(e, sew.RealDouble):\n",
    "        print(' '* depth, 'found double:', e)\n",
    "    elif isinstance(e, sew.Symbol):\n",
    "        print(' '* depth, 'found symbol:', e)\n",
    "    elif isinstance(e, sew.Mul):\n",
    "        print(' '* depth, 'found Mul\\t # args:', len(e.args))\n",
    "        for a in e.args:\n",
    "            op(a, depth+1)\n",
    "    elif isinstance(e, sew.Pow):\n",
    "        print(' '* depth, 'found Pow\\t # args:', len(e.args))\n",
    "        for a in e.args:\n",
    "            op(a, depth+1)\n",
    "    elif isinstance(e, sew.Add):\n",
    "        print(' '* depth, 'found Add\\t # args:', len(e.args))\n",
    "        for a in e.args:\n",
    "            op(a, depth+1)\n",
    "    else:\n",
    "        print('fail:', type(e))\n",
    "    "
   ]
  },
  {
   "cell_type": "code",
   "execution_count": 147,
   "id": "b02e51f4",
   "metadata": {},
   "outputs": [],
   "source": [
    "def int_analysis(e):\n",
    "    if isinstance(e, sew.RealDouble):\n",
    "        return (float(e), float(e))\n",
    "    elif isinstance(e, sew.Integer):\n",
    "        return (float(e), float(e))\n",
    "    elif isinstance(e, sew.Symbol):\n",
    "        return (-1, 1)\n",
    "    elif isinstance(e, sew.Mul):\n",
    "        results = [int_analysis(a) for a in e.args]\n",
    "        lowers = [r[0] for r in results]\n",
    "        uppers = [r[1] for r in results]\n",
    "        \n",
    "        out_lower = lowers[0]\n",
    "        out_upper = uppers[0]\n",
    "\n",
    "        for i in range(1, len(e.args)):\n",
    "            options = [out_lower*lowers[i],\n",
    "                       out_lower*uppers[i],\n",
    "                       out_upper*lowers[i],\n",
    "                       out_upper*uppers[i]]\n",
    "            out_lower = np.min(options)\n",
    "            out_upper = np.max(options)\n",
    "\n",
    "        return out_lower, out_upper\n",
    "    elif isinstance(e, sew.Pow):\n",
    "        a, b = e.args\n",
    "        a_lower, a_upper = int_analysis(a)\n",
    "        b_lower, b_upper = int_analysis(b)\n",
    "        options = [a_lower**b_lower,\n",
    "                   a_upper**b_lower,\n",
    "                   a_lower**b_upper,\n",
    "                   a_upper**b_upper]\n",
    "        return (np.min(options), np.max(options))\n",
    "    elif isinstance(e, sew.Add):\n",
    "        results = [int_analysis(a) for a in e.args]\n",
    "        lowers = [r[0] for r in results]\n",
    "        uppers = [r[1] for r in results]\n",
    "        return np.sum(lowers), np.sum(uppers)\n",
    "    else:\n",
    "        print('fail:', type(e))"
   ]
  },
  {
   "cell_type": "code",
   "execution_count": 148,
   "id": "0fdb46a0",
   "metadata": {},
   "outputs": [
    {
     "name": "stdout",
     "output_type": "stream",
     "text": [
      "CPU times: user 27.7 s, sys: 20 ms, total: 27.7 s\n",
      "Wall time: 27.8 s\n"
     ]
    },
    {
     "data": {
      "text/plain": [
       "0.0037524471764013856"
      ]
     },
     "execution_count": 148,
     "metadata": {},
     "output_type": "execute_result"
    }
   ],
   "source": [
    "%%time\n",
    "lower, upper = int_analysis(np.linalg.norm(my_grad, ord=2).data)\n",
    "upper - lower"
   ]
  },
  {
   "cell_type": "markdown",
   "id": "96b53d1b",
   "metadata": {},
   "source": [
    "# Optimize the Gradient Norm one Element at a Time"
   ]
  },
  {
   "cell_type": "code",
   "execution_count": 379,
   "id": "2b57e406",
   "metadata": {},
   "outputs": [
    {
     "name": "stdout",
     "output_type": "stream",
     "text": [
      "{x_1, x_0}\n",
      "[0.0, 0.0, 0.0, 0.0, 0.037232887245820745, 0.1297134117750557, 3.3288945997629245e-13, 4.543889776067925e-16]\n",
      "CPU times: user 20.4 ms, sys: 34 µs, total: 20.4 ms\n",
      "Wall time: 28.9 ms\n"
     ]
    },
    {
     "data": {
      "text/plain": [
       "0.4085906252243311"
      ]
     },
     "execution_count": 379,
     "metadata": {},
     "output_type": "execute_result"
    }
   ],
   "source": [
    "%%time\n",
    "\n",
    "print(my_grad_norm.data.free_symbols)\n",
    "intervals = [(-1, 1) for _ in np.sum(my_grad).data.free_symbols]\n",
    "\n",
    "elems = []\n",
    "for g in my_grad:\n",
    "    gp = g**2\n",
    "    f = se.Lambdify(list(gp.data.free_symbols), gp.data)\n",
    "    sol = shgo(f, intervals)\n",
    "    elems.append(sol.fun)\n",
    "\n",
    "print(elems)\n",
    "np.sqrt(np.sum(elems))"
   ]
  },
  {
   "cell_type": "markdown",
   "id": "72e79d43",
   "metadata": {},
   "source": [
    "# Optimize the Gradient Norm all at once"
   ]
  },
  {
   "cell_type": "code",
   "execution_count": 380,
   "id": "ab477519",
   "metadata": {},
   "outputs": [],
   "source": [
    "my_grad_norm = np.linalg.norm(my_grad, ord=2)\n",
    "my_grad_norm.data.free_symbols\n",
    "my_grad_norm_func = se.Lambdify(list(my_grad_norm.data.free_symbols), my_grad_norm.data)"
   ]
  },
  {
   "cell_type": "code",
   "execution_count": 340,
   "id": "24c4f872",
   "metadata": {},
   "outputs": [
    {
     "name": "stdout",
     "output_type": "stream",
     "text": [
      "{x_1, x_0}\n",
      "CPU times: user 6.76 ms, sys: 0 ns, total: 6.76 ms\n",
      "Wall time: 6.66 ms\n"
     ]
    },
    {
     "data": {
      "text/plain": [
       "0.5778750969544236"
      ]
     },
     "execution_count": 340,
     "metadata": {},
     "output_type": "execute_result"
    }
   ],
   "source": [
    "%%time\n",
    "\n",
    "print(my_grad_norm.data.free_symbols)\n",
    "intervals = [(-1, 1) for _ in my_grad_norm.data.free_symbols]\n",
    "sol = shgo(my_grad_norm_func, intervals)\n",
    "sol.fun"
   ]
  },
  {
   "cell_type": "code",
   "execution_count": null,
   "id": "e0a7f7eb",
   "metadata": {},
   "outputs": [],
   "source": []
  }
 ],
 "metadata": {
  "kernelspec": {
   "display_name": "Python 3 (ipykernel)",
   "language": "python",
   "name": "python3"
  },
  "language_info": {
   "codemirror_mode": {
    "name": "ipython",
    "version": 3
   },
   "file_extension": ".py",
   "mimetype": "text/x-python",
   "name": "python",
   "nbconvert_exporter": "python",
   "pygments_lexer": "ipython3",
   "version": "3.9.7"
  }
 },
 "nbformat": 4,
 "nbformat_minor": 5
}
