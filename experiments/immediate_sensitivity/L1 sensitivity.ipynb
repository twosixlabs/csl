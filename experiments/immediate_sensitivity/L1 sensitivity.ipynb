{
 "cells": [
  {
   "cell_type": "code",
   "execution_count": 60,
   "metadata": {},
   "outputs": [],
   "source": [
    "import matplotlib.pyplot as plt\n",
    "import numpy as np\n",
    "from sklearn.datasets import make_classification"
   ]
  },
  {
   "cell_type": "code",
   "execution_count": 61,
   "metadata": {},
   "outputs": [
    {
     "name": "stdout",
     "output_type": "stream",
     "text": [
      "1.9.1.post3\n"
     ]
    }
   ],
   "source": [
    "import pandas as pd\n",
    "import seaborn as sns\n",
    "import torch\n",
    "import torch.nn as nn\n",
    "import torch.optim as optim\n",
    "from torch.autograd import Variable\n",
    "from IPython import display\n",
    "from sklearn import metrics\n",
    "from sklearn.model_selection import train_test_split\n",
    "from sklearn.preprocessing import StandardScaler\n",
    "from sklearn.utils.class_weight import compute_class_weight\n",
    "from torch.utils.data import TensorDataset\n",
    "from torch.utils.data import DataLoader\n",
    "import pickle\n",
    "\n",
    "torch.manual_seed(1)\n",
    "np.random.seed(7)\n",
    "sns.set(style=\"white\", palette=\"muted\", color_codes=True, context=\"talk\")\n",
    "\n",
    "%matplotlib inline\n",
    "print(torch.__version__) "
   ]
  },
  {
   "cell_type": "code",
   "execution_count": 62,
   "metadata": {},
   "outputs": [
    {
     "data": {
      "image/png": "[encoded data removed]",
      "text/plain": [
       "<Figure size 432x288 with 1 Axes>"
      ]
     },
     "metadata": {
      "needs_background": "light"
     },
     "output_type": "display_data"
    }
   ],
   "source": [
    "from sklearn import datasets\n",
    "\n",
    "X, y = datasets.make_blobs(n_samples=1000, centers=2, n_features=2, center_box=(0, 20))\n",
    "plt.plot(X[:, 0][y == 0], X[:, 1][y == 0], 'g^')\n",
    "plt.plot(X[:, 0][y == 1], X[:, 1][y == 1], 'bs')\n",
    "plt.show()"
   ]
  },
  {
   "cell_type": "code",
   "execution_count": 63,
   "metadata": {},
   "outputs": [
    {
     "name": "stdout",
     "output_type": "stream",
     "text": [
      "len train: 800\n",
      "len test: 200\n"
     ]
    }
   ],
   "source": [
    "(X_train, X_test, y_train, y_test) = train_test_split(X, y, test_size=0.2, stratify=y, random_state=7)\n",
    "print('len train:', len(X_train))\n",
    "print('len test:', len(X_test))"
   ]
  },
  {
   "cell_type": "code",
   "execution_count": 64,
   "metadata": {},
   "outputs": [],
   "source": [
    "BATCH_SIZE = 32\n",
    "n_features = 2\n",
    "training_dataset = TensorDataset(torch.from_numpy(X_train).float(), \n",
    "                                 torch.from_numpy(y_train).float())\n",
    "train_loader = DataLoader(training_dataset, batch_size=BATCH_SIZE, shuffle=True, drop_last=True)\n",
    "\n",
    "testing_dataset = TensorDataset(torch.from_numpy(X_test).float(), \n",
    "                                torch.from_numpy(y_test).float())\n",
    "test_loader = DataLoader(testing_dataset, batch_size=BATCH_SIZE, shuffle=True, drop_last=True)"
   ]
  },
  {
   "cell_type": "code",
   "execution_count": 65,
   "metadata": {},
   "outputs": [],
   "source": [
    "def accuracy(model, test_loader):\n",
    "    correct = 0\n",
    "\n",
    "    for examples, labels in test_loader:\n",
    "        output = model.forward(examples)\n",
    "        batch_correct = torch.sum(torch.abs(torch.flatten(output) - labels) < 0.5)\n",
    "        correct += batch_correct\n",
    "\n",
    "    acc = float(correct)/len(testing_dataset)\n",
    "    \n",
    "    return acc"
   ]
  },
  {
   "cell_type": "code",
   "execution_count": 66,
   "metadata": {},
   "outputs": [],
   "source": [
    "class Classifier(nn.Module):\n",
    "    def __init__(self, n_features, n_hidden=5, p_dropout=0.2):\n",
    "        super(Classifier, self).__init__()\n",
    "        self.network = nn.Sequential(\n",
    "            nn.Linear(n_features, n_hidden, bias=False),\n",
    "#             nn.ReLU(),\n",
    "#             nn.Dropout(p_dropout),\n",
    "            nn.Linear(n_hidden, n_hidden, bias=False),\n",
    "#             nn.ReLU(),\n",
    "#             nn.Dropout(p_dropout),\n",
    "#             nn.Linear(n_hidden, n_hidden),\n",
    "#             nn.ReLU(),\n",
    "#            nn.Dropout(p_dropout),\n",
    "            nn.Linear(n_hidden, 1, bias=False),\n",
    "        )\n",
    "\n",
    "    def forward(self, x):\n",
    "        return torch.sigmoid(self.network(x))"
   ]
  },
  {
   "cell_type": "code",
   "execution_count": 187,
   "metadata": {},
   "outputs": [],
   "source": [
    "n_classes = 1\n",
    "class Classifier(nn.Module):\n",
    "    def __init__(self, n_features, n_hidden=256):\n",
    "        super(Classifier, self).__init__()\n",
    "        self.network = nn.Sequential(\n",
    "            nn.Linear(n_features, n_hidden),\n",
    "            nn.ReLU(),\n",
    "            nn.Linear(n_hidden, n_hidden),\n",
    "            nn.ReLU(),\n",
    "            nn.Linear(n_hidden, n_hidden),\n",
    "            nn.ReLU(),\n",
    "            nn.Linear(n_hidden, n_hidden),\n",
    "            nn.ReLU(),\n",
    "            nn.Linear(n_hidden, n_hidden),\n",
    "            nn.ReLU(),\n",
    "            nn.Linear(n_hidden, n_classes)\n",
    "        )\n",
    "\n",
    "    def forward(self, x):\n",
    "        return torch.sigmoid(self.network(x))"
   ]
  },
  {
   "cell_type": "code",
   "execution_count": 188,
   "metadata": {},
   "outputs": [],
   "source": [
    "def grad_immediate_sensitivity(model, criterion, inputs, labels, epoch):\n",
    "    \n",
    "    inp = Variable(inputs, requires_grad=True)\n",
    "    outputs = model.forward(inp)\n",
    "    loss = criterion(torch.squeeze(outputs), torch.squeeze(labels))\n",
    "\n",
    "    # (1) first-order gradient (wrt parameters)\n",
    "    first_order_grads = torch.autograd.grad(loss, model.parameters(), retain_graph=True, create_graph=True)\n",
    "\n",
    "    # (2) L2 norm of the gradient from (1)\n",
    "    grad_l2_norm = torch.norm(torch.cat([x.view(-1) for x in first_order_grads]), p=2)\n",
    "    grad_l1_norm = torch.norm(torch.cat([x.view(-1) for x in first_order_grads]), p=1)\n",
    "\n",
    "    # (3) Gradient (wrt inputs) of the L2 norm of the gradient from (2)\n",
    "    sensitivity_vec = torch.autograd.grad(grad_l2_norm, inp, retain_graph=True, create_graph=True)[0]\n",
    "    sensitivity_vec1 = torch.autograd.grad(grad_l1_norm, inp, retain_graph=True, create_graph=True)[0]\n",
    "\n",
    "    \n",
    "    # (4) L2 norm of (3) - \"immediate sensitivity\"\n",
    "    s1 = [torch.norm(v, p=1).detach().numpy().item() for v in sensitivity_vec1]\n",
    "    s2 = [torch.norm(v, p=2).detach().numpy().item() for v in sensitivity_vec]\n",
    "    \n",
    "    '''\n",
    "    if epoch > 5:\n",
    "        print(f\"inputs: \",inp)\n",
    "        print(f\"outputs: \", outputs)\n",
    "        print(f\"loss: \", loss)\n",
    "        print(f\"first_order_grads: \", first_order_grads)\n",
    "        print(f\"grad_l2_norm:: \", grad_l2_norm)\n",
    "        print(f\"sensitivity_vec: \", sensitivity_vec)\n",
    "        print(f\"sensitivies: \", s)\n",
    "    '''\n",
    "    \n",
    "    norm_tensor = torch.norm(sensitivity_vec1, p=1, dim=1)\n",
    "    # we can pick any of the sensitivities because their derivatives are all the same\n",
    "    idx = 0\n",
    "    is_prime = torch.autograd.grad(norm_tensor[idx], inp, retain_graph=True)[0]\n",
    "    beta = torch.norm(is_prime[idx], p=1).detach().numpy().item()\n",
    "    \n",
    "    loss.backward()\n",
    "    return loss, s1, s2, beta"
   ]
  },
  {
   "cell_type": "code",
   "execution_count": 189,
   "metadata": {},
   "outputs": [],
   "source": [
    "def plot_decision_boundary(X, y, model, loss, steps=1000, cmap='Paired', title=None):\n",
    "    cmap = plt.get_cmap(cmap)\n",
    "    #torch.abs(torch.flatten(output) - labels) < 0.5\n",
    "\n",
    "    xmin, xmax = 0, 30\n",
    "    ymin, ymax = 0, 20\n",
    "    # Define region of interest by data limits\n",
    "#     xmin, xmax = X[:,0].min() - 1, X[:,0].max() + 1\n",
    "#     ymin, ymax = X[:,1].min() - 1, X[:,1].max() + 1\n",
    "    x_span = np.linspace(xmin, xmax, steps)\n",
    "    y_span = np.linspace(ymin, ymax, steps)\n",
    "    xx, yy = np.meshgrid(x_span, y_span)\n",
    "\n",
    "    # Make predictions across region of interest\n",
    "    mesh_examples = torch.from_numpy(np.c_[xx.ravel(), yy.ravel()]).float()\n",
    "    labels = model.forward(mesh_examples) < 0.5\n",
    "\n",
    "    # Plot decision boundary in region of interest\n",
    "    z = labels.reshape(xx.shape).detach().numpy()\n",
    "\n",
    "    fig, ax = plt.subplots()\n",
    "    ax.contourf(xx, yy, z, cmap=cmap, alpha=0.5)\n",
    "\n",
    "    # get sensitivities of the data\n",
    "    _, sensitivities = grad_immediate_sensitivity(model, \n",
    "                                                  loss, \n",
    "                                                  torch.from_numpy(X).float(), \n",
    "                                                  torch.from_numpy(y).float(), \n",
    "                                                  None)\n",
    "    \n",
    "    # Get predicted labels on training data and plot\n",
    "    train_labels = model.forward(torch.from_numpy(X).float())\n",
    "    #ax.scatter(X[:,0], X[:,1], c=y, cmap=cmap, lw=0)\n",
    "    ax.scatter(X[:,0], X[:,1], s=5*(np.array(sensitivities)-10), c=sensitivities, cmap='binary', lw=0)\n",
    "\n",
    "    if title != None:\n",
    "        plt.title(title)\n",
    "    \n",
    "    return fig, ax"
   ]
  },
  {
   "cell_type": "code",
   "execution_count": 269,
   "metadata": {},
   "outputs": [],
   "source": [
    "def run_experiment(epsilon):\n",
    "    # reset the model\n",
    "    model = Classifier(n_features=n_features)\n",
    "    model_criterion = nn.BCELoss()\n",
    "    model_optimizer = optim.Adam(model.parameters(),lr=0.001)\n",
    "\n",
    "    # number of epochs and iterations\n",
    "    epochs = 20\n",
    "    iters = epochs * BATCH_SIZE\n",
    "\n",
    "    # parameters for Renyi differential privacy\n",
    "    alpha = 25\n",
    "    epsilon_iter = epsilon / epochs\n",
    "    \n",
    "    # plotting criteria\n",
    "    train_losses = []\n",
    "    max_sensitivities = []\n",
    "    mean_sensitivities = []\n",
    "    mean_l1 = []\n",
    "    max_l1 = []\n",
    "    max_sigmas = []\n",
    "    mean_sigmas = []\n",
    "    test_accs = []\n",
    "    all_batch_mean_sensitivities = []\n",
    "    all_batch_max_sensitivities = []\n",
    "    all_batch_mean_l1 = []\n",
    "    all_batch_max_l1 = []\n",
    "\n",
    "    for epoch in range(epochs):\n",
    "#         print('Start of epoch %d' % (epoch,))\n",
    "        all_sensitivities = []\n",
    "        all_l1 = []\n",
    "        sigmas = []\n",
    "\n",
    "        for x_batch_train, y_batch_train in train_loader:\n",
    "            model_optimizer.zero_grad()\n",
    "            loss, l1, l2, beta = grad_immediate_sensitivity(model, model_criterion, x_batch_train, y_batch_train,epoch)\n",
    "            train_losses.append(loss)\n",
    "            \n",
    "            batch_sensitivity = np.max(l2)# / BATCH_SIZE\n",
    "            all_sensitivities.extend(l2)\n",
    "            all_batch_mean_sensitivities.append(np.mean(l2) / BATCH_SIZE)\n",
    "            all_batch_max_sensitivities.append(np.max(l2) / BATCH_SIZE)\n",
    "            \n",
    "            batch_l1 = np.max(l1) + beta # / BATCH_SIZE\n",
    "            #print('batch sensitivity', batch_l1)\n",
    "            #print('batch beta', beta)\n",
    "            all_l1.extend(l1)\n",
    "            all_batch_mean_l1.append(np.mean(l1) / BATCH_SIZE)\n",
    "            all_batch_max_l1.append(np.max(l1) / BATCH_SIZE)\n",
    "\n",
    "            # this is the scale of the Gaussian noise to be added to the batch gradient\n",
    "            sigma = np.sqrt((batch_sensitivity**2 * alpha) / (2 * epsilon_iter))\n",
    "\n",
    "            sigmas.append(sigma)\n",
    "            \n",
    "            # smooth upper bound\n",
    "            t = 0.1\n",
    "            smoothed = np.max([(batch_l1 + k*beta)*np.exp(-t * k) for k in range(len(x_batch_train))])\n",
    "            #print('smoothed sens', smoothed)\n",
    "\n",
    "            # For RDP and smooth sensitivity\n",
    "            # calculating renyi divergence directly\n",
    "            t = beta\n",
    "            gamma = alpha * (np.exp(t) - 1) + 1\n",
    "            sigma_sq = 2*gamma**2 * smoothed**2 / (4* epsilon_iter * gamma**2 - alpha * t**2)\n",
    "            sigma = np.sqrt(sigma_sq)\n",
    "\n",
    "            #print('Smooth:', sigma)\n",
    "\n",
    "            # Assuming IS is a bound on GS (no smooth sensitivity)\n",
    "            #sigma = np.sqrt(((smoothed)**2 * alpha) / (2 * epsilon_iter))\n",
    "\n",
    "            #print('Global:', sigma)\n",
    "            \n",
    "            with torch.no_grad():\n",
    "                for p in model.parameters():\n",
    "                    p.grad += (sigma * torch.randn(tuple(p.shape)).float())\n",
    "\n",
    "            model_optimizer.step()\n",
    "\n",
    "        max_sensitivities.append(np.max(all_sensitivities))\n",
    "        mean_sensitivities.append(np.mean(all_sensitivities))\n",
    "        max_l1.append(np.max(all_l1))\n",
    "        mean_l1.append(np.mean(all_l1))\n",
    "        max_sigmas.append(np.max(sigmas))        \n",
    "        mean_sigmas.append(np.mean(sigmas))\n",
    "        test_accs.append(accuracy(model, test_loader))\n",
    "        \n",
    "        #plot_decision_boundary(X, y, model, nn.BCELoss(), steps=100, title=f'Epoch {epoch}')\n",
    "        \n",
    "#         print(\"Max batch sensitivity for the epoch:\", max_sensitivities[-1])\n",
    "#         print(\"Mean batch sensitivity for the epoch:\", mean_sensitivities[-1])\n",
    "#         print(\"Max sigma for the epoch:\", max_sigmas[-1])\n",
    "#         print(\"Mean sigma for the epoch:\", mean_sigmas[-1])\n",
    "\n",
    "#         print(\"Accuracy:\", test_accs[-1])\n",
    "    return accuracy(model, test_loader), (train_losses, max_sensitivities, mean_sensitivities, max_l1, mean_l1, max_sigmas, \n",
    "                                          mean_sigmas, test_accs,\n",
    "                                          all_batch_mean_sensitivities, all_batch_max_sensitivities, \n",
    "                                          all_batch_mean_l1, all_batch_max_l1), model"
   ]
  },
  {
   "cell_type": "code",
   "execution_count": 272,
   "metadata": {},
   "outputs": [
    {
     "name": "stdout",
     "output_type": "stream",
     "text": [
      "Final accuracy: 0.96\n"
     ]
    }
   ],
   "source": [
    "final_acc, info_tuple, model = run_experiment(2.0)\n",
    "print(\"Final accuracy:\", final_acc)"
   ]
  },
  {
   "cell_type": "code",
   "execution_count": 273,
   "metadata": {},
   "outputs": [
    {
     "name": "stdout",
     "output_type": "stream",
     "text": [
      "0.96\n",
      "0.93\n",
      "0.555\n",
      "0.715\n",
      "0.485\n",
      "0.96\n",
      "0.905\n",
      "0.935\n",
      "0.96\n",
      "0.96\n"
     ]
    }
   ],
   "source": [
    "accs = []\n",
    "for _ in range(10):\n",
    "    final_acc, info_tuple, model = run_experiment(2.0)\n",
    "    print(final_acc)\n",
    "    accs.append(final_acc)\n"
   ]
  },
  {
   "cell_type": "code",
   "execution_count": 274,
   "metadata": {},
   "outputs": [
    {
     "data": {
      "text/plain": [
       "0.8365"
      ]
     },
     "execution_count": 274,
     "metadata": {},
     "output_type": "execute_result"
    }
   ],
   "source": [
    "np.mean(accs)"
   ]
  },
  {
   "cell_type": "code",
   "execution_count": 275,
   "metadata": {},
   "outputs": [],
   "source": [
    "def get_eps(epsilon, alpha, delta):\n",
    "    ed_eps = epsilon + np.log(1/delta)/(alpha - 1)\n",
    "    print(f'Total epsilon = {ed_eps}, delta = {delta}')\n",
    "    return ed_eps"
   ]
  },
  {
   "cell_type": "code",
   "execution_count": 276,
   "metadata": {},
   "outputs": [
    {
     "name": "stdout",
     "output_type": "stream",
     "text": [
      "Total epsilon = 2.605943445524749, delta = 1e-05\n"
     ]
    },
    {
     "data": {
      "text/plain": [
       "2.605943445524749"
      ]
     },
     "execution_count": 276,
     "metadata": {},
     "output_type": "execute_result"
    }
   ],
   "source": [
    "get_eps(2.0, 20, 1e-5)"
   ]
  },
  {
   "cell_type": "code",
   "execution_count": 238,
   "metadata": {},
   "outputs": [],
   "source": [
    "max_l2, mean_l2, max_l1, mean_l1 = info_tuple[1:5]"
   ]
  },
  {
   "cell_type": "code",
   "execution_count": 115,
   "metadata": {},
   "outputs": [],
   "source": [
    "xs = list(range(len(max_l1)))"
   ]
  },
  {
   "cell_type": "code",
   "execution_count": 116,
   "metadata": {},
   "outputs": [
    {
     "data": {
      "text/plain": [
       "<matplotlib.legend.Legend at 0x7f8b712e9e10>"
      ]
     },
     "execution_count": 116,
     "metadata": {},
     "output_type": "execute_result"
    },
    {
     "data": {
      "image/png": "[encoded data removed]",
      "text/plain": [
       "<Figure size 432x288 with 1 Axes>"
      ]
     },
     "metadata": {
      "needs_background": "light"
     },
     "output_type": "display_data"
    }
   ],
   "source": [
    "plt.plot(xs, max_l1, label='l1')\n",
    "plt.plot(xs, max_l2, label='l2')\n",
    "plt.title('Max sensitivity per epoch')\n",
    "plt.xlabel('epoch')\n",
    "plt.ylabel('immediate sensitivity')\n",
    "plt.legend()"
   ]
  },
  {
   "cell_type": "code",
   "execution_count": 33,
   "metadata": {},
   "outputs": [],
   "source": [
    "ratio = [l1/l2 for l1, l2 in zip(max_l1, max_l2)]"
   ]
  },
  {
   "cell_type": "code",
   "execution_count": 34,
   "metadata": {},
   "outputs": [
    {
     "data": {
      "text/plain": [
       "[<matplotlib.lines.Line2D at 0x7f8d2ea21850>]"
      ]
     },
     "execution_count": 34,
     "metadata": {},
     "output_type": "execute_result"
    },
    {
     "data": {
      "image/png": "[encoded data removed]",
      "text/plain": [
       "<Figure size 432x288 with 1 Axes>"
      ]
     },
     "metadata": {
      "needs_background": "light"
     },
     "output_type": "display_data"
    }
   ],
   "source": [
    "plt.plot(xs, ratio)"
   ]
  },
  {
   "cell_type": "code",
   "execution_count": 58,
   "metadata": {},
   "outputs": [
    {
     "name": "stdout",
     "output_type": "stream",
     "text": [
      "test 2\n"
     ]
    }
   ],
   "source": [
    "features = pickle.load(open(\"../../inputs/texas_100_features.p\", 'rb')).astype(np.float32)\n",
    "labels = pickle.load(open(\"../../inputs/texas_100_labels.p\", 'rb'))\n",
    "\n",
    "\n",
    "ds = list(zip(features, labels))\n",
    "_, ds = train_test_split(ds, shuffle=True, random_state=7)\n",
    "\n",
    "texas_train, texas_test = train_test_split(ds, test_size=.3, shuffle=True, random_state=7)\n",
    "\n",
    "print(\"test 2\")\n",
    "\n",
    "class Texas_Classifier(nn.Module):\n",
    "    def __init__(self, w):\n",
    "        super(Texas_Classifier, self).__init__()\n",
    "        self.fc1 = nn.Linear(6169, w)\n",
    "        self.fc2 = nn.Linear(w, w)\n",
    "        self.fc3 = nn.Linear(w, 100)\n",
    "\n",
    "    def forward(self, x):\n",
    "        x = self.fc1(x)\n",
    "        x = nn.ReLU()(x)\n",
    "        x = self.fc2(x)\n",
    "        x = nn.ReLU()(x)\n",
    "        x = self.fc3(x)\n",
    "        return torch.log_softmax(x,dim=1)"
   ]
  },
  {
   "cell_type": "code",
   "execution_count": 68,
   "metadata": {},
   "outputs": [],
   "source": [
    "BATCH_SIZE = 64\n",
    "\n",
    "train_loader = DataLoader(texas_train, batch_size=BATCH_SIZE, shuffle=True, drop_last=True)\n",
    "\n",
    "test_loader = DataLoader(texas_test, batch_size=BATCH_SIZE, shuffle=True, drop_last=True)"
   ]
  },
  {
   "cell_type": "code",
   "execution_count": 73,
   "metadata": {},
   "outputs": [],
   "source": [
    "def loader_accuracy(model, test_loader, lf=nn.NLLLoss()):\n",
    "    lossies = []\n",
    "    accs = []\n",
    "    #grab a batch from the test loader\n",
    "    with torch.no_grad():\n",
    "        for examples, labels in test_loader:\n",
    "            outputs = model.forward(examples)\n",
    "            lossies.append(lf(torch.squeeze(outputs), torch.squeeze(labels)).item())\n",
    "            \n",
    "            #for each output in the batch, check if the label is correct\n",
    "            preds = np.argmax(outputs.detach().numpy(), axis=1)\n",
    "            labels = labels.detach().numpy()\n",
    "            accuracy = (preds == labels).mean()\n",
    "            accs.append(accuracy)\n",
    "\n",
    "    loss = sum(lossies)/len(lossies)\n",
    "    acc = sum(accs)/len(accs)\n",
    "    \n",
    "    return acc, loss"
   ]
  },
  {
   "cell_type": "code",
   "execution_count": 77,
   "metadata": {},
   "outputs": [],
   "source": [
    "def run_experiment(epsilon):\n",
    "    # reset the model\n",
    "    model = Texas_Classifier(256)\n",
    "    model_criterion = nn.NLLLoss()\n",
    "    model_optimizer = optim.Adam(model.parameters(),lr=0.001)\n",
    "\n",
    "    # number of epochs and iterations\n",
    "    epochs = 20\n",
    "    iters = epochs * BATCH_SIZE\n",
    "\n",
    "    # parameters for Renyi differential privacy\n",
    "    alpha = 25\n",
    "    epsilon_iter = epsilon / iters\n",
    "    \n",
    "    # plotting criteria\n",
    "    train_losses = []\n",
    "    max_sensitivities = []\n",
    "    mean_sensitivities = []\n",
    "    mean_l1 = []\n",
    "    max_l1 = []\n",
    "    max_sigmas = []\n",
    "    mean_sigmas = []\n",
    "    test_accs = []\n",
    "    all_batch_mean_sensitivities = []\n",
    "    all_batch_max_sensitivities = []\n",
    "    all_batch_mean_l1 = []\n",
    "    all_batch_max_l1 = []\n",
    "\n",
    "    for epoch in range(epochs):\n",
    "        print('Start of epoch %d' % (epoch,))\n",
    "        all_sensitivities = []\n",
    "        all_l1 = []\n",
    "        sigmas = []\n",
    "\n",
    "        for x_batch_train, y_batch_train in train_loader:\n",
    "            model_optimizer.zero_grad()\n",
    "            loss, l1, l2 = grad_immediate_sensitivity(model, model_criterion, x_batch_train, y_batch_train,epoch)\n",
    "            train_losses.append(loss)\n",
    "            \n",
    "            batch_sensitivity = np.max(l2) / BATCH_SIZE\n",
    "            all_sensitivities.extend(l2)\n",
    "            all_batch_mean_sensitivities.append(np.mean(l2) / BATCH_SIZE)\n",
    "            all_batch_max_sensitivities.append(np.max(l2) / BATCH_SIZE)\n",
    "            \n",
    "            batch_l1 = np.max(l1) / BATCH_SIZE\n",
    "            all_l1.extend(l1)\n",
    "            all_batch_mean_l1.append(np.mean(l1) / BATCH_SIZE)\n",
    "            all_batch_max_l1.append(np.max(l1) / BATCH_SIZE)\n",
    "\n",
    "            # this is the scale of the Gaussian noise to be added to the batch gradient\n",
    "            sigma = np.sqrt((batch_sensitivity**2 * alpha) / (2 * epsilon_iter))\n",
    "\n",
    "            sigmas.append(sigma)\n",
    "\n",
    "#             with torch.no_grad():\n",
    "#                 for p in model.parameters():\n",
    "#                     p.grad += (sigma * torch.randn(1).float())\n",
    "\n",
    "            model_optimizer.step()\n",
    "\n",
    "        max_sensitivities.append(np.max(all_sensitivities))\n",
    "        mean_sensitivities.append(np.mean(all_sensitivities))\n",
    "        max_l1.append(np.max(all_l1))\n",
    "        mean_l1.append(np.mean(all_l1))\n",
    "        max_sigmas.append(np.max(sigmas))        \n",
    "        mean_sigmas.append(np.mean(sigmas))\n",
    "        test_accs.append(loader_accuracy(model, test_loader))\n",
    "        \n",
    "        #plot_decision_boundary(X, y, model, nn.BCELoss(), steps=100, title=f'Epoch {epoch}')\n",
    "        \n",
    "#         print(\"Max batch sensitivity for the epoch:\", max_sensitivities[-1])\n",
    "#         print(\"Mean batch sensitivity for the epoch:\", mean_sensitivities[-1])\n",
    "#         print(\"Max sigma for the epoch:\", max_sigmas[-1])\n",
    "#         print(\"Mean sigma for the epoch:\", mean_sigmas[-1])\n",
    "\n",
    "#         print(\"Accuracy:\", test_accs[-1])\n",
    "    return loader_accuracy(model, test_loader), (train_losses, max_sensitivities, mean_sensitivities, max_l1, mean_l1, max_sigmas, \n",
    "                                          mean_sigmas, test_accs,\n",
    "                                          all_batch_mean_sensitivities, all_batch_max_sensitivities, \n",
    "                                          all_batch_mean_l1, all_batch_max_l1), model"
   ]
  },
  {
   "cell_type": "code",
   "execution_count": 78,
   "metadata": {},
   "outputs": [
    {
     "name": "stdout",
     "output_type": "stream",
     "text": [
      "Start of epoch 0\n",
      "Start of epoch 1\n",
      "Start of epoch 2\n",
      "Start of epoch 3\n",
      "Start of epoch 4\n",
      "Start of epoch 5\n",
      "Start of epoch 6\n",
      "Start of epoch 7\n",
      "Start of epoch 8\n",
      "Start of epoch 9\n",
      "Start of epoch 10\n",
      "Start of epoch 11\n",
      "Start of epoch 12\n",
      "Start of epoch 13\n",
      "Start of epoch 14\n",
      "Start of epoch 15\n",
      "Start of epoch 16\n",
      "Start of epoch 17\n",
      "Start of epoch 18\n",
      "Start of epoch 19\n"
     ]
    }
   ],
   "source": [
    "final_acc, info_tuple, model = run_experiment(10.1)"
   ]
  },
  {
   "cell_type": "code",
   "execution_count": 84,
   "metadata": {},
   "outputs": [],
   "source": [
    "mean_l2, max_l2, mean_l1, max_l1 = info_tuple[-4:]"
   ]
  },
  {
   "cell_type": "code",
   "execution_count": 85,
   "metadata": {},
   "outputs": [],
   "source": [
    "xs = list(range(len(max_l1)))"
   ]
  },
  {
   "cell_type": "code",
   "execution_count": 86,
   "metadata": {},
   "outputs": [
    {
     "data": {
      "text/plain": [
       "[<matplotlib.lines.Line2D at 0x7f8d2cca8b90>]"
      ]
     },
     "execution_count": 86,
     "metadata": {},
     "output_type": "execute_result"
    },
    {
     "data": {
      "image/png": "[encoded data removed]",
      "text/plain": [
       "<Figure size 432x288 with 1 Axes>"
      ]
     },
     "metadata": {
      "needs_background": "light"
     },
     "output_type": "display_data"
    }
   ],
   "source": [
    "plt.plot(xs, max_l1)\n",
    "plt.plot(xs, max_l2)"
   ]
  },
  {
   "cell_type": "code",
   "execution_count": 87,
   "metadata": {},
   "outputs": [
    {
     "data": {
      "text/plain": [
       "[<matplotlib.lines.Line2D at 0x7f8b70f98390>]"
      ]
     },
     "execution_count": 87,
     "metadata": {},
     "output_type": "execute_result"
    },
    {
     "data": {
      "image/png": "[encoded data removed]",
      "text/plain": [
       "<Figure size 432x288 with 1 Axes>"
      ]
     },
     "metadata": {
      "needs_background": "light"
     },
     "output_type": "display_data"
    }
   ],
   "source": [
    "ratio = [l1/l2 for l1, l2 in zip(max_l1, max_l2)]\n",
    "plt.plot(xs, ratio)"
   ]
  },
  {
   "cell_type": "code",
   "execution_count": null,
   "metadata": {},
   "outputs": [],
   "source": []
  }
 ],
 "metadata": {
  "kernelspec": {
   "display_name": "Python 3 (ipykernel)",
   "language": "python",
   "name": "python3"
  },
  "language_info": {
   "codemirror_mode": {
    "name": "ipython",
    "version": 3
   },
   "file_extension": ".py",
   "mimetype": "text/x-python",
   "name": "python",
   "nbconvert_exporter": "python",
   "pygments_lexer": "ipython3",
   "version": "3.9.7"
  }
 },
 "nbformat": 4,
 "nbformat_minor": 4
}
