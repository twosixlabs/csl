{
 "cells": [
  {
   "cell_type": "code",
   "execution_count": 227,
   "id": "1b0944fe",
   "metadata": {},
   "outputs": [],
   "source": [
    "import torch\n",
    "from torchvision import datasets, transforms\n",
    "import numpy as np\n",
    "from opacus import PrivacyEngine\n",
    "from tqdm import tqdm"
   ]
  },
  {
   "cell_type": "code",
   "execution_count": 299,
   "id": "bfef4f02",
   "metadata": {},
   "outputs": [],
   "source": [
    "train_loader = torch.utils.data.DataLoader(datasets.MNIST('../mnist',\n",
    "               train=True, download=True,\n",
    "               transform=transforms.Compose([transforms.ToTensor(),\n",
    "               transforms.Normalize((0.1307,), (0.3081,)),]),),\n",
    "               batch_size=256, shuffle=True, num_workers=1,\n",
    "               pin_memory=True)\n",
    "\n",
    "test_loader = torch.utils.data.DataLoader(datasets.MNIST('../mnist',\n",
    "              train=False,\n",
    "              transform=transforms.Compose([transforms.ToTensor(),\n",
    "              transforms.Normalize((0.1307,), (0.3081,)),]),),\n",
    "              batch_size=1024, shuffle=True, num_workers=1,\n",
    "              pin_memory=True)"
   ]
  },
  {
   "cell_type": "code",
   "execution_count": 300,
   "id": "19dd13a9",
   "metadata": {},
   "outputs": [],
   "source": [
    "model = torch.nn.Sequential(torch.nn.Conv2d(1, 16, 8, 2, padding=3),\n",
    "                            torch.nn.ReLU(),\n",
    "                            torch.nn.MaxPool2d(2, 1), \n",
    "                            torch.nn.Conv2d(16, 32, 4, 2), \n",
    "                            torch.nn.ReLU(), \n",
    "                            torch.nn.MaxPool2d(2, 1), \n",
    "                            torch.nn.Flatten(), \n",
    "                            torch.nn.Linear(32 * 4 * 4, 32), \n",
    "                            torch.nn.ReLU(), \n",
    "                            torch.nn.Linear(32, 10))\n",
    "\n",
    "optimizer = torch.optim.Adadelta(model.parameters())#, lr=0.05)"
   ]
  },
  {
   "cell_type": "code",
   "execution_count": 301,
   "id": "125ce07a",
   "metadata": {},
   "outputs": [],
   "source": [
    "UPSTREAM_GRAD_BOUND = 0.001\n",
    "INPUT_BOUND = 2."
   ]
  },
  {
   "cell_type": "code",
   "execution_count": 302,
   "id": "bff8f480",
   "metadata": {},
   "outputs": [],
   "source": [
    "def clamp_grad(self, grad_input, grad_output):\n",
    "#     if grad_input[0] != None:\n",
    "#         print('BACKWARD max:', grad_input[0].abs().max().item(), \n",
    "#               'mean:', grad_input[0].abs().mean().item(), \n",
    "#               'shape:', grad_input[0].shape)\n",
    "\n",
    "    return tuple([None if x == None else x.clamp(-UPSTREAM_GRAD_BOUND, UPSTREAM_GRAD_BOUND) for x in grad_input])"
   ]
  },
  {
   "cell_type": "code",
   "execution_count": 303,
   "id": "616cada3",
   "metadata": {},
   "outputs": [],
   "source": [
    "def clamp_input(self, input):\n",
    "#     print('FORWARD max:', input[0].abs().max().item(), \n",
    "#           'mean:', input[0].abs().mean().item(), \n",
    "#           'shape:', input[0].shape)\n",
    "    return tuple([x.clamp(-INPUT_BOUND, INPUT_BOUND) for x in input])"
   ]
  },
  {
   "cell_type": "code",
   "execution_count": 304,
   "id": "61fcc22b",
   "metadata": {},
   "outputs": [],
   "source": [
    "for x in model:\n",
    "    x.register_backward_hook(clamp_grad)\n",
    "    x.register_forward_pre_hook(clamp_input)"
   ]
  },
  {
   "cell_type": "code",
   "execution_count": 305,
   "id": "c1c7d57c",
   "metadata": {},
   "outputs": [
    {
     "name": "stderr",
     "output_type": "stream",
     "text": [
      "/anaconda3/envs/torch/lib/python3.8/site-packages/opacus/privacy_engine.py:638: UserWarning: The sample rate will be defined from ``batch_size`` and ``sample_size``.The returned privacy budget will be incorrect.\n",
      "  warnings.warn(\n",
      "/anaconda3/envs/torch/lib/python3.8/site-packages/opacus/privacy_engine.py:229: UserWarning: Secure RNG turned off. This is perfectly fine for experimentation as it allows for much faster training performance, but remember to turn it on and retrain one last time before production with ``secure_rng`` turned on.\n",
      "  warnings.warn(\n"
     ]
    }
   ],
   "source": [
    "privacy_engine = PrivacyEngine(model, \n",
    "                               batch_size=256, \n",
    "                               sample_size=60000,  \n",
    "                               alphas=range(2,32), \n",
    "                               noise_multiplier=1.0, \n",
    "                               max_grad_norm=0.1,)\n",
    "\n",
    "privacy_engine.attach(optimizer)"
   ]
  },
  {
   "cell_type": "code",
   "execution_count": null,
   "id": "78af9e85",
   "metadata": {},
   "outputs": [],
   "source": []
  },
  {
   "cell_type": "code",
   "execution_count": 306,
   "id": "ea8d778a",
   "metadata": {},
   "outputs": [
    {
     "name": "stderr",
     "output_type": "stream",
     "text": [
      "100%|████████████████████████████████████████████████████████████████████████████████████████████████████████████████████████████████████████████████████████████████████████████████████████████████████| 235/235 [00:41<00:00,  5.73it/s]\n"
     ]
    },
    {
     "name": "stdout",
     "output_type": "stream",
     "text": [
      "Train Epoch: 1 \tLoss: 1.940043 (ε = 0.96, δ = 1e-05) for α = 10.0\n"
     ]
    },
    {
     "name": "stderr",
     "output_type": "stream",
     "text": [
      "100%|████████████████████████████████████████████████████████████████████████████████████████████████████████████████████████████████████████████████████████████████████████████████████████████████████| 235/235 [00:39<00:00,  5.93it/s]\n"
     ]
    },
    {
     "name": "stdout",
     "output_type": "stream",
     "text": [
      "Train Epoch: 2 \tLoss: 1.137796 (ε = 1.01, δ = 1e-05) for α = 10.0\n"
     ]
    },
    {
     "name": "stderr",
     "output_type": "stream",
     "text": [
      "100%|████████████████████████████████████████████████████████████████████████████████████████████████████████████████████████████████████████████████████████████████████████████████████████████████████| 235/235 [00:40<00:00,  5.74it/s]\n"
     ]
    },
    {
     "name": "stdout",
     "output_type": "stream",
     "text": [
      "Train Epoch: 3 \tLoss: 0.729281 (ε = 1.05, δ = 1e-05) for α = 10.0\n"
     ]
    },
    {
     "name": "stderr",
     "output_type": "stream",
     "text": [
      "100%|████████████████████████████████████████████████████████████████████████████████████████████████████████████████████████████████████████████████████████████████████████████████████████████████████| 235/235 [00:41<00:00,  5.72it/s]\n"
     ]
    },
    {
     "name": "stdout",
     "output_type": "stream",
     "text": [
      "Train Epoch: 4 \tLoss: 0.500352 (ε = 1.09, δ = 1e-05) for α = 10.0\n"
     ]
    },
    {
     "name": "stderr",
     "output_type": "stream",
     "text": [
      "100%|████████████████████████████████████████████████████████████████████████████████████████████████████████████████████████████████████████████████████████████████████████████████████████████████████| 235/235 [00:43<00:00,  5.39it/s]\n"
     ]
    },
    {
     "name": "stdout",
     "output_type": "stream",
     "text": [
      "Train Epoch: 5 \tLoss: 0.371720 (ε = 1.14, δ = 1e-05) for α = 10.0\n"
     ]
    },
    {
     "name": "stderr",
     "output_type": "stream",
     "text": [
      "100%|████████████████████████████████████████████████████████████████████████████████████████████████████████████████████████████████████████████████████████████████████████████████████████████████████| 235/235 [00:44<00:00,  5.30it/s]\n"
     ]
    },
    {
     "name": "stdout",
     "output_type": "stream",
     "text": [
      "Train Epoch: 6 \tLoss: 0.296815 (ε = 1.18, δ = 1e-05) for α = 10.0\n"
     ]
    },
    {
     "name": "stderr",
     "output_type": "stream",
     "text": [
      "100%|████████████████████████████████████████████████████████████████████████████████████████████████████████████████████████████████████████████████████████████████████████████████████████████████████| 235/235 [00:43<00:00,  5.38it/s]\n"
     ]
    },
    {
     "name": "stdout",
     "output_type": "stream",
     "text": [
      "Train Epoch: 7 \tLoss: 0.254165 (ε = 1.22, δ = 1e-05) for α = 10.0\n"
     ]
    },
    {
     "name": "stderr",
     "output_type": "stream",
     "text": [
      "100%|████████████████████████████████████████████████████████████████████████████████████████████████████████████████████████████████████████████████████████████████████████████████████████████████████| 235/235 [00:39<00:00,  5.92it/s]\n"
     ]
    },
    {
     "name": "stdout",
     "output_type": "stream",
     "text": [
      "Train Epoch: 8 \tLoss: 0.226614 (ε = 1.27, δ = 1e-05) for α = 10.0\n"
     ]
    },
    {
     "name": "stderr",
     "output_type": "stream",
     "text": [
      "100%|████████████████████████████████████████████████████████████████████████████████████████████████████████████████████████████████████████████████████████████████████████████████████████████████████| 235/235 [00:41<00:00,  5.72it/s]\n"
     ]
    },
    {
     "name": "stdout",
     "output_type": "stream",
     "text": [
      "Train Epoch: 9 \tLoss: 0.212854 (ε = 1.31, δ = 1e-05) for α = 10.0\n"
     ]
    },
    {
     "name": "stderr",
     "output_type": "stream",
     "text": [
      "100%|████████████████████████████████████████████████████████████████████████████████████████████████████████████████████████████████████████████████████████████████████████████████████████████████████| 235/235 [00:42<00:00,  5.48it/s]"
     ]
    },
    {
     "name": "stdout",
     "output_type": "stream",
     "text": [
      "Train Epoch: 10 \tLoss: 0.202363 (ε = 1.35, δ = 1e-05) for α = 10.0\n"
     ]
    },
    {
     "name": "stderr",
     "output_type": "stream",
     "text": [
      "\n"
     ]
    }
   ],
   "source": [
    "def train(model, train_loader, optimizer, epoch, device, delta):\n",
    "    model.train()\n",
    "    criterion = torch.nn.CrossEntropyLoss()\n",
    "    losses = []\n",
    "    for _batch_idx, (data, target) in enumerate(tqdm(train_loader)):\n",
    "        data, target = data.to(device), target.to(device)\n",
    "        optimizer.zero_grad()\n",
    "        output = model(data)\n",
    "        loss = criterion(output, target)\n",
    "        loss.backward()\n",
    "        optimizer.step()\n",
    "        losses.append(loss.item())\n",
    "    \n",
    "    epsilon, best_alpha = optimizer.privacy_engine.get_privacy_spent(delta)\n",
    "        \n",
    "    print(\n",
    "        f\"Train Epoch: {epoch} \\t\"\n",
    "        f\"Loss: {np.mean(losses):.6f} \"\n",
    "        f\"(ε = {epsilon:.2f}, δ = {delta}) for α = {best_alpha}\")\n",
    "    \n",
    "for epoch in range(1, 11):\n",
    "    train(model, train_loader, optimizer, epoch, device=\"cpu\", delta=1e-5)"
   ]
  },
  {
   "cell_type": "code",
   "execution_count": 307,
   "id": "97084e9f",
   "metadata": {},
   "outputs": [],
   "source": [
    "def test(model, test_loader):\n",
    "    model.eval()\n",
    "    test_loss = 0\n",
    "    correct = 0\n",
    "    with torch.no_grad():\n",
    "        for data, target in test_loader:\n",
    "            data, target = data, target\n",
    "            output = model(data)\n",
    "            pred = output.argmax(dim=1, keepdim=True)  # get the index of the max log-probability\n",
    "            correct += pred.eq(target.view_as(pred)).sum().item()\n",
    "\n",
    "    print('\\nTest set: Accuracy: {}/{} ({:.0f}%)\\n'.format(\n",
    "        correct, len(test_loader.dataset),\n",
    "        100. * correct / len(test_loader.dataset)))"
   ]
  },
  {
   "cell_type": "code",
   "execution_count": 308,
   "id": "d1540fce",
   "metadata": {},
   "outputs": [
    {
     "name": "stdout",
     "output_type": "stream",
     "text": [
      "\n",
      "Test set: Accuracy: 9479/10000 (95%)\n",
      "\n"
     ]
    }
   ],
   "source": [
    "test(model, test_loader)"
   ]
  },
  {
   "cell_type": "code",
   "execution_count": null,
   "id": "073056d1",
   "metadata": {},
   "outputs": [],
   "source": []
  }
 ],
 "metadata": {
  "kernelspec": {
   "display_name": "Python 3 (ipykernel)",
   "language": "python",
   "name": "python3"
  },
  "language_info": {
   "codemirror_mode": {
    "name": "ipython",
    "version": 3
   },
   "file_extension": ".py",
   "mimetype": "text/x-python",
   "name": "python",
   "nbconvert_exporter": "python",
   "pygments_lexer": "ipython3",
   "version": "3.8.12"
  }
 },
 "nbformat": 4,
 "nbformat_minor": 5
}
